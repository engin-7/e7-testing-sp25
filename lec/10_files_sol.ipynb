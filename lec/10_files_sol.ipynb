{
 "cells": [
  {
   "cell_type": "markdown",
   "id": "fa1d1764",
   "metadata": {},
   "source": [
    "# Introduction to Computer Programming and Numerical Methods\n",
    "\n",
    "> **Edited by S. Makiharju** Associate Professor, UC Berkeley <br>\n",
    "> **Mohamad M. Hallal, PhD** <br> Teaching Professor, UC Berkeley\n",
    "\n",
    "[![License](https://img.shields.io/badge/license-CC%20BY--NC--ND%204.0-blue)](https://creativecommons.org/licenses/by-nc-nd/4.0/)\n",
    "***"
   ]
  },
  {
   "cell_type": "markdown",
   "id": "87237015",
   "metadata": {},
   "source": [
    "# File Input and Output Operations\n",
    "\n",
    "1. [**TXT Files**](#s1)\n",
    "2. [**CSV Files**](#s2)\n",
    "3. [**Additional Reading**](#s3)\n",
    "\n",
    "***"
   ]
  },
  {
   "cell_type": "markdown",
   "id": "f44f4c77",
   "metadata": {},
   "source": [
    "# 0. Motivation\n",
    "\n",
    "While a program is running, its data is stored in random access memory (RAM). RAM is fast, but it is also volatile, meaning data disappear when the program ends or the computer shuts down. To preserve data for future use, share it with collaborators, or interact with external resources, we have to store it as a **file**. A file is a structured block of data stored within the file system of the computer's operating system. For instance, this lecture notebook itself is a file. In this section, we will learn how to use Python to read and write data in several common file formats.\n",
    "\n",
    "**Learning objectives:**\n",
    "\n",
    "* Read and write TXT files using built-in methods and NumPy\n",
    "* Read and write CSV files using built-in methods and NumPy"
   ]
  },
  {
   "cell_type": "markdown",
   "id": "6d7e521e",
   "metadata": {},
   "source": [
    "# 1. TXT Files <a id=\"s1\"></a>\n",
    "\n",
    "A **text** file, often with a **.txt** extension, is a file containing plain text without any special formatting like bold text, fonts, or font sizes. Despite their simplicity, text files serve as the foundation for storing and sharing information in a wide range of applications. Even though these files contain plain text, programs usually expect a file to follow a specific structure or format; that is, the data are organized in a specific way. \n",
    "\n",
    "In general, working with text files in Python involves three fundamental steps:\n",
    "\n",
    "1. Opening the file\n",
    "2. Performing any operations (reading, writing, or modifying)\n",
    "3. Closing the file\n",
    "\n",
    "## 1.1. Opening TXT Files\n",
    "\n",
    "To use a file, we must open it first. When opening the file, we must decide whether we want to read data from the file or write data to it. This can be achieved with the `open()` function, which is most commonly used with two arguments as shown in the following syntax:\n",
    "\n",
    "```python\n",
    "open(filename, mode)\n",
    "```\n",
    "\n",
    "where:\n",
    "* `filename`: a string including the file name or the path and name of the file, such as `'example.txt'`\n",
    "* `mode`: a string defining the way in which the file will be used. See the table below for examples.\n",
    "\n",
    "<div class=\"alert alert-block alert-warning\"> <b>NOTE!</b> Both <code>filename</code> and <code>mode</code> are strings, so both should be between quotes.</div>\n",
    "\n",
    "| `mode` | Use and description                                                                                          |\n",
    "| :----- | :----------------------------------------------------------------------------------------------------------- |\n",
    "| `'r'`  | **Read** (default mode) – Opens the file for reading. Raises a `FileNotFoundError` exception if file does not exist.  |\n",
    "| `'w'`  | **Write** – Opens the file for writing. Creates the file if it does not exist. Overwrites (erases) the file if it already exists. |\n",
    "| `'a'`  | **Append** – Opens the file for appending. Creates the file if it does not exist. Appends to the end of the file if it already exists. |\n",
    "| `'x'`  | **Create** – Creates the file. Raises an error if it already exists. |\n",
    "\n",
    "The `mode` argument is optional; the default `r` will be assumed if it's omitted. There are other modes besides `r`, `w`, `a`, and `x` that we will discuss later.\n",
    "\n",
    "<div class=\"alert alert-block alert-info\"> <b>TRY IT!</b> Try to open a file using <code>open('resources/example.txt')</code>. This will raise an error because 'example.txt' does not exist in your directory.</div>"
   ]
  },
  {
   "cell_type": "code",
   "execution_count": 1,
   "id": "bf84491b",
   "metadata": {},
   "outputs": [
    {
     "ename": "FileNotFoundError",
     "evalue": "[Errno 2] No such file or directory: 'resources/example.txt'",
     "output_type": "error",
     "traceback": [
      "\u001b[1;31m---------------------------------------------------------------------------\u001b[0m",
      "\u001b[1;31mFileNotFoundError\u001b[0m                         Traceback (most recent call last)",
      "Cell \u001b[1;32mIn[1], line 1\u001b[0m\n\u001b[1;32m----> 1\u001b[0m \u001b[38;5;28mopen\u001b[39m(\u001b[38;5;124m'\u001b[39m\u001b[38;5;124mresources/example.txt\u001b[39m\u001b[38;5;124m'\u001b[39m)\n",
      "File \u001b[1;32m~\\anaconda3\\Lib\\site-packages\\IPython\\core\\interactiveshell.py:324\u001b[0m, in \u001b[0;36m_modified_open\u001b[1;34m(file, *args, **kwargs)\u001b[0m\n\u001b[0;32m    317\u001b[0m \u001b[38;5;28;01mif\u001b[39;00m file \u001b[38;5;129;01min\u001b[39;00m {\u001b[38;5;241m0\u001b[39m, \u001b[38;5;241m1\u001b[39m, \u001b[38;5;241m2\u001b[39m}:\n\u001b[0;32m    318\u001b[0m     \u001b[38;5;28;01mraise\u001b[39;00m \u001b[38;5;167;01mValueError\u001b[39;00m(\n\u001b[0;32m    319\u001b[0m         \u001b[38;5;124mf\u001b[39m\u001b[38;5;124m\"\u001b[39m\u001b[38;5;124mIPython won\u001b[39m\u001b[38;5;124m'\u001b[39m\u001b[38;5;124mt let you open fd=\u001b[39m\u001b[38;5;132;01m{\u001b[39;00mfile\u001b[38;5;132;01m}\u001b[39;00m\u001b[38;5;124m by default \u001b[39m\u001b[38;5;124m\"\u001b[39m\n\u001b[0;32m    320\u001b[0m         \u001b[38;5;124m\"\u001b[39m\u001b[38;5;124mas it is likely to crash IPython. If you know what you are doing, \u001b[39m\u001b[38;5;124m\"\u001b[39m\n\u001b[0;32m    321\u001b[0m         \u001b[38;5;124m\"\u001b[39m\u001b[38;5;124myou can use builtins\u001b[39m\u001b[38;5;124m'\u001b[39m\u001b[38;5;124m open.\u001b[39m\u001b[38;5;124m\"\u001b[39m\n\u001b[0;32m    322\u001b[0m     )\n\u001b[1;32m--> 324\u001b[0m \u001b[38;5;28;01mreturn\u001b[39;00m io_open(file, \u001b[38;5;241m*\u001b[39margs, \u001b[38;5;241m*\u001b[39m\u001b[38;5;241m*\u001b[39mkwargs)\n",
      "\u001b[1;31mFileNotFoundError\u001b[0m: [Errno 2] No such file or directory: 'resources/example.txt'"
     ]
    }
   ],
   "source": [
    "open('resources/example.txt')"
   ]
  },
  {
   "cell_type": "markdown",
   "id": "2981b9d6",
   "metadata": {},
   "source": [
    "<div class=\"alert alert-block alert-info\"> <b>TRY IT!</b> Try to write a file using <code>open('resources/example.txt', 'w')</code>. This will not raise an error because this mode creates the file if it does not exist.</div>"
   ]
  },
  {
   "cell_type": "code",
   "execution_count": 3,
   "id": "d5d36340",
   "metadata": {},
   "outputs": [
    {
     "data": {
      "text/plain": [
       "<_io.TextIOWrapper name='resources/example.txt' mode='w' encoding='cp1252'>"
      ]
     },
     "execution_count": 3,
     "metadata": {},
     "output_type": "execute_result"
    }
   ],
   "source": [
    "open('resources/example.txt', 'w')"
   ]
  },
  {
   "cell_type": "markdown",
   "id": "024b78e3",
   "metadata": {},
   "source": [
    "<div class=\"alert alert-block alert-warning\"> <b>NOTE!</b> If you look at your directory, you will see that a file named 'example.txt' has been created. If you click on it, you will see that it is empty – we just opened it for writing but we haven't written anything to it yet. We will later see how to write to a file. </div>\n",
    "\n",
    "Opening a file using the `open()` function requires explicitly closing the file using the `close()` method. Closing the file is essential to ensure that all resources are released and any written data is saved.\n",
    "\n",
    "```python\n",
    "f = open(filename, mode)\n",
    "# perform any operations\n",
    "f.close()\n",
    "```\n",
    "\n",
    "This can introduce errors if not handled properly. Alternatively, another common way to work with files in Python is using the `with` statement, which ensures that the file is properly managed (i.e., opened and closed). Here's the syntax:\n",
    "\n",
    "```python\n",
    "with open(filename, mode) as f:\n",
    "    # perform any operations\n",
    "```\n",
    "where `f` is a variable name that represents the file object returned by the `open()` function\n",
    "\n",
    "It's important to note the indentation, as all operations involving the file must be properly nested within the `with` block.\n",
    "\n",
    "Using the `with` statement to open files is the preferred method in Python as it ensures the file is automatically closed once operations are completed, reducing the risk of resource leaks and potential data loss. For clean, readable, and reliable file handling, always use the `with` statement.\n",
    "\n",
    "Although there are other way to open files in Python (see [Additional Reading](#s3)), we will use the recommended method based on the `with` statement in conjunction with the `open()` function."
   ]
  },
  {
   "cell_type": "markdown",
   "id": "973f7c8b",
   "metadata": {},
   "source": [
    "\n",
    "## 1.2. Reading TXT Files\n",
    "\n",
    "After we open a file in reading mode, we can retrieve its contents in various ways. One approach is to use the `.read()` method after the file object, which returns the **entire** contents of the file as a **single string**:\n",
    "\n",
    "```python\n",
    "variable_name = f.read()\n",
    "```\n",
    "\n",
    "<div class=\"alert alert-block alert-warning\"> <b>NOTE!</b> If we used <code>with open(filename) as myfile:</code> to open the file, we would use <code>myfile.read()</code> to read it. The <code>open()</code> function returns a file object that we assigned to the variable after <code>as</code>. This object can be used to work with files and directories.</div>\n",
    "\n",
    "Let's demonstrate this by reading the contents of `zen_of_python.txt` and storing them in a variable. This file is located in a folder called `resources`.\n",
    "\n",
    "<div class=\"alert alert-block alert-info\"> <b>TRY IT!</b> Open the existing file <code>'resources/zen_of_python.txt'</code> in reading mode and then store all the contents in the file to variable <code>zen</code>. Print <code>zen</code> as well as the last character of it. Note that the file was imported to your directory when you loaded this notebook.</div>"
   ]
  },
  {
   "cell_type": "code",
   "execution_count": 1,
   "id": "47aaf50c",
   "metadata": {},
   "outputs": [
    {
     "name": "stdout",
     "output_type": "stream",
     "text": [
      "The Zen of Python, by Tim Peters\n",
      "\n",
      "Beautiful is better than ugly.\n",
      "Explicit is better than implicit.\n",
      "Simple is better than complex.\n",
      "Complex is better than complicated.\n",
      "Flat is better than nested.\n",
      "Sparse is better than dense.\n",
      "Readability counts.\n",
      "Special cases aren't special enough to break the rules.\n",
      "Although practicality beats purity.\n",
      "Errors should never pass silently.\n",
      "Unless explicitly silenced.\n",
      "In the face of ambiguity, refuse the temptation to guess.\n",
      "There should be one-- and preferably only one --obvious way to do it.\n",
      "Although that way may not be obvious at first unless you're Dutch.\n",
      "Now is better than never.\n",
      "Although never is often better than *right* now.\n",
      "If the implementation is hard to explain, it's a bad idea.\n",
      "If the implementation is easy to explain, it may be a good idea.\n",
      "Namespaces are one honking great idea -- let's do more of those!\n",
      "Last character: !\n"
     ]
    }
   ],
   "source": [
    "# open the file\n",
    "# equivalent to open(..., mode = 'r')\n",
    "with open('resources/zen_of_python.txt') as f:\n",
    "    \n",
    "    # read it using .read() method\n",
    "    zen = f.read()\n",
    "\n",
    "# print the file data\n",
    "print(zen)\n",
    "\n",
    "# print the last character\n",
    "print(f'Last character: {zen[-1]}')"
   ]
  },
  {
   "cell_type": "markdown",
   "id": "d0783021",
   "metadata": {},
   "source": [
    "As mentioned earlier, the `.read()` method returns the entire contents of the file as a single string. This may not be ideal for large files. Alternatively, to read the entire contents but save each line as a separate string in a list, we can use the `.readlines()` method.\n",
    "\n",
    "<div class=\"alert alert-block alert-info\"> <b>TRY IT!</b> Open the existing file <code>'resources/zen_of_python.txt'</code> in reading mode. Save each line in a list named <code>zen</code>. Print <code>zen</code> as well as the last element of it. Check the type of <code>zen</code>.</div>"
   ]
  },
  {
   "cell_type": "code",
   "execution_count": 3,
   "id": "40b99291",
   "metadata": {},
   "outputs": [
    {
     "name": "stdout",
     "output_type": "stream",
     "text": [
      "['The Zen of Python, by Tim Peters\\n', '\\n', 'Beautiful is better than ugly.\\n', 'Explicit is better than implicit.\\n', 'Simple is better than complex.\\n', 'Complex is better than complicated.\\n', 'Flat is better than nested.\\n', 'Sparse is better than dense.\\n', 'Readability counts.\\n', \"Special cases aren't special enough to break the rules.\\n\", 'Although practicality beats purity.\\n', 'Errors should never pass silently.\\n', 'Unless explicitly silenced.\\n', 'In the face of ambiguity, refuse the temptation to guess.\\n', 'There should be one-- and preferably only one --obvious way to do it.\\n', \"Although that way may not be obvious at first unless you're Dutch.\\n\", 'Now is better than never.\\n', 'Although never is often better than *right* now.\\n', \"If the implementation is hard to explain, it's a bad idea.\\n\", 'If the implementation is easy to explain, it may be a good idea.\\n', \"Namespaces are one honking great idea -- let's do more of those!\"]\n",
      "Last element: Namespaces are one honking great idea -- let's do more of those!\n",
      "<class 'list'>\n"
     ]
    }
   ],
   "source": [
    "# open the file\n",
    "# equivalent to open(..., mode = 'r')\n",
    "with open('resources/zen_of_python.txt') as f:\n",
    "    \n",
    "    # read it using .readlines() method\n",
    "    zen = f.readlines()\n",
    "\n",
    "# print the file data\n",
    "print(zen)\n",
    "\n",
    "# print the last element\n",
    "print(f'Last element: {zen[-1]}')\n",
    "\n",
    "# check its type\n",
    "print(type(zen))"
   ]
  },
  {
   "cell_type": "markdown",
   "id": "57711de9",
   "metadata": {},
   "source": [
    "<div class=\"alert alert-block alert-success\"> <b>TIP!</b> The <code>\\n</code> character stands for new line. If you see it in a string, that means that the current line ends at that point and a new line starts right after it.</div>\n",
    "\n",
    "<div class=\"alert alert-block alert-warning\"> <b>NOTE!</b> There is another similar method, <code>.readline()</code> (without s), which returns one line of the file at a time. Each time you call <code>.readline()</code>, it returns the <strong>next line</strong>. So the first time you call it, it returns the first line. The second time, it returns the second line, and so on. Calls made to <code>.readline()</code> after reaching the end of the file will return an empty string (' ').</div>\n",
    "\n",
    "Another approach to reading a file line by line is using a `for` loop. The object returned by `open()` is iterable, meaning, we can iterate over its contents like this:\n",
    "\n",
    "```python\n",
    "with open(filename, mode) as f:\n",
    "\n",
    "    for line in f:\n",
    "        print(line)\n",
    "```\n",
    "\n",
    "<div class=\"alert alert-block alert-info\"> <b>TRY IT!</b> Open the existing file <code>'resources/zen_of_python.txt'</code> in reading mode and then iterate over its contents and print each line.</div>"
   ]
  },
  {
   "cell_type": "code",
   "execution_count": 5,
   "id": "e8587861",
   "metadata": {},
   "outputs": [
    {
     "name": "stdout",
     "output_type": "stream",
     "text": [
      "The Zen of Python, by Tim Peters\n",
      "\n",
      "\n",
      "\n",
      "Beautiful is better than ugly.\n",
      "\n",
      "Explicit is better than implicit.\n",
      "\n",
      "Simple is better than complex.\n",
      "\n",
      "Complex is better than complicated.\n",
      "\n",
      "Flat is better than nested.\n",
      "\n",
      "Sparse is better than dense.\n",
      "\n",
      "Readability counts.\n",
      "\n",
      "Special cases aren't special enough to break the rules.\n",
      "\n",
      "Although practicality beats purity.\n",
      "\n",
      "Errors should never pass silently.\n",
      "\n",
      "Unless explicitly silenced.\n",
      "\n",
      "In the face of ambiguity, refuse the temptation to guess.\n",
      "\n",
      "There should be one-- and preferably only one --obvious way to do it.\n",
      "\n",
      "Although that way may not be obvious at first unless you're Dutch.\n",
      "\n",
      "Now is better than never.\n",
      "\n",
      "Although never is often better than *right* now.\n",
      "\n",
      "If the implementation is hard to explain, it's a bad idea.\n",
      "\n",
      "If the implementation is easy to explain, it may be a good idea.\n",
      "\n",
      "Namespaces are one honking great idea -- let's do more of those!\n"
     ]
    }
   ],
   "source": [
    "# open the file\n",
    "# equivalent to open(..., mode = 'r')\n",
    "with open('resources/zen_of_python.txt') as f:\n",
    "\n",
    "    # iterate over its contents and print each line\n",
    "    for line in f:\n",
    "        print(line)"
   ]
  },
  {
   "cell_type": "markdown",
   "id": "190e5d7d",
   "metadata": {},
   "source": [
    "## 1.3. Writing TXT Files\n",
    "\n",
    "When writing data to a file, you have to decide whether to start a new version of the file or append data to the end of what's already there. If you choose `mode='w'`, any existing data in the file will be overwritten (erased). If you choose `mode='a'`, data will be appended (added) to the end of any existing data in the file. Let's discuss `mode='w'` first and then `mode='a'`.\n",
    "\n",
    "When using `mode='w'`, remember:\n",
    "1. If the file doesn't exist, a new file is created.\n",
    "2. If the file already exists, its contents are erased, and new content is added.\n",
    "\n",
    "\n",
    "After we open a file in writing mode, we can write a string to the file using the `.write()` method after the file object:\n",
    "\n",
    "```python\n",
    "f.write('some text')\n",
    "```\n",
    "\n",
    "<div class=\"alert alert-block alert-warning\"> <b>NOTE!</b> The <code>write()</code> argument must be of type <code>str</code>. So if you have numeric values, use string formatting to store them in a text file.</div>\n",
    "\n",
    "<div class=\"alert alert-block alert-info\"> <b>TRY IT!</b> Open the file <code>'resources/example.txt'</code> in writing mode and write five lines, where each line should have: 'This is line #', and replace # with the line number, starting from 0.</div>"
   ]
  },
  {
   "cell_type": "code",
   "execution_count": 7,
   "id": "1c6bfb7f",
   "metadata": {},
   "outputs": [],
   "source": [
    "# open the file\n",
    "with open('resources/example.txt', 'w') as f:\n",
    "\n",
    "    # write the data\n",
    "    for i in range(5):\n",
    "        f.write(f'This is line {i}')"
   ]
  },
  {
   "cell_type": "markdown",
   "id": "bc98c446",
   "metadata": {},
   "source": [
    "If you check the file `resources/example.txt`, you will see that the data are all on the same line. Python will **not** automatically write each string to a new line. To write each string to a new line, use `\\n` at the end of each string.\n",
    "\n",
    "<div class=\"alert alert-block alert-info\"> <b>TRY IT!</b> Open the file <code>'resources/example.txt'</code> in writing mode and write five lines, where each line should have: 'This is line #', and replace # with the line number, starting from 0. Each statement should appear on a single line.</div>"
   ]
  },
  {
   "cell_type": "code",
   "execution_count": 9,
   "id": "6b8847df",
   "metadata": {},
   "outputs": [],
   "source": [
    "# open the file\n",
    "with open('resources/example.txt', 'w') as f:\n",
    "    \n",
    "    # write the data, each on a new line\n",
    "    for i in range(5):\n",
    "        f.write(f'This is line {i}\\n')"
   ]
  },
  {
   "cell_type": "markdown",
   "id": "30658482",
   "metadata": {},
   "source": [
    "As mentioned earlier, if you open an existing file in writing mode, its contents will be erased, and any new content will replace what was there previously.\n",
    "\n",
    "<div class=\"alert alert-block alert-info\"> <b>TRY IT!</b> Open the existing file <code>'resources/example.txt'</code> in writing mode and write: 'This is another line'.</div>"
   ]
  },
  {
   "cell_type": "code",
   "execution_count": 11,
   "id": "a1dd2c7a",
   "metadata": {},
   "outputs": [],
   "source": [
    "# open the file\n",
    "with open('resources/example.txt', 'w') as f:\n",
    "    \n",
    "    # write additional data\n",
    "    f.write('This is another line')"
   ]
  },
  {
   "cell_type": "markdown",
   "id": "d90d1b37",
   "metadata": {},
   "source": [
    "If you check the file `resources/example.txt`, you will see that all the previous data were erased and were overwritten by the new string. To avoid overwriting data, we can append to the file.\n",
    "\n",
    "## 1.4. Appending TXT Files\n",
    "\n",
    "When using `mode = 'a'`, data are appended (added) to the end of any previously existing data in the file. If the file does not already exist, a new file is created, similar to `mode='w'`. The `.write()` method is used in the same way for appending as it is for writing.\n",
    "\n",
    "<div class=\"alert alert-block alert-info\"> <b>TRY IT!</b> Open the file <code>'resources/example.txt'</code> in writing mode and write five lines, where each line should have: 'This is line #', and replace # with the line number, starting from 0. Each statement should appear on a single line. Close the file and check it. Then, open the file again in appending mode and append: 'This is another line'.</div>"
   ]
  },
  {
   "cell_type": "code",
   "execution_count": 13,
   "id": "65734c6d",
   "metadata": {},
   "outputs": [],
   "source": [
    "# open the file\n",
    "with open('resources/example.txt', 'w') as f:\n",
    "\n",
    "    # write the data, each on a new line\n",
    "    for i in range(5):\n",
    "        f.write(f\"This is line {i}\\n\")"
   ]
  },
  {
   "cell_type": "code",
   "execution_count": 15,
   "id": "4b663183",
   "metadata": {},
   "outputs": [],
   "source": [
    "# open the file\n",
    "with open('resources/example.txt', 'a') as f:\n",
    "\n",
    "    # write additional data\n",
    "    f.write('This is another line')"
   ]
  },
  {
   "cell_type": "markdown",
   "id": "1249b4ab",
   "metadata": {},
   "source": [
    "If you check the file `resources/example.txt`, you will see that now the previous data were not erased. Instead, the new string was appended to the end of the file."
   ]
  },
  {
   "cell_type": "markdown",
   "id": "6619eb36",
   "metadata": {},
   "source": [
    "## 1.5. Other Modes\n",
    "\n",
    "In addition to the reading, writing, and appending modes we've discussed, there are other modes available for opening files in Python. These modes offer more flexibility and control over how files are accessed and manipulated.\n",
    "\n",
    "One common scenario is when we need to perform multiple operations on the same file, such as reading from it and then writing to it. However, attempting to perform incompatible operations on a file opened in a specific mode can lead to errors.\n",
    "\n",
    "<div class=\"alert alert-block alert-info\"> <b>TRY IT!</b> Open the file <code>'resources/example.txt'</code> in appending mode and try to read all its contents as a single string using <code>.read()</code>.</div>\n",
    "\n",
    "This will result in an error because the file was opened in appending mode, which restricts operations to appending data to the file and does not allow reading its contents."
   ]
  },
  {
   "cell_type": "code",
   "execution_count": 17,
   "id": "c3cb9cc4",
   "metadata": {},
   "outputs": [
    {
     "ename": "UnsupportedOperation",
     "evalue": "not readable",
     "output_type": "error",
     "traceback": [
      "\u001b[1;31m---------------------------------------------------------------------------\u001b[0m",
      "\u001b[1;31mUnsupportedOperation\u001b[0m                      Traceback (most recent call last)",
      "Cell \u001b[1;32mIn[17], line 3\u001b[0m\n\u001b[0;32m      1\u001b[0m \u001b[38;5;66;03m# open a file in appending mode then try to read it using read() method\u001b[39;00m\n\u001b[0;32m      2\u001b[0m \u001b[38;5;28;01mwith\u001b[39;00m \u001b[38;5;28mopen\u001b[39m(\u001b[38;5;124m'\u001b[39m\u001b[38;5;124mresources/example.txt\u001b[39m\u001b[38;5;124m'\u001b[39m, \u001b[38;5;124m'\u001b[39m\u001b[38;5;124ma\u001b[39m\u001b[38;5;124m'\u001b[39m) \u001b[38;5;28;01mas\u001b[39;00m f:\n\u001b[1;32m----> 3\u001b[0m     zen \u001b[38;5;241m=\u001b[39m f\u001b[38;5;241m.\u001b[39mread()\n",
      "\u001b[1;31mUnsupportedOperation\u001b[0m: not readable"
     ]
    }
   ],
   "source": [
    "# open a file in appending mode then try to read it using read() method\n",
    "with open('resources/example.txt', 'a') as f:\n",
    "    zen = f.read()"
   ]
  },
  {
   "cell_type": "markdown",
   "id": "d3734f14",
   "metadata": {},
   "source": [
    "To perform multiple operations on a file, there are other modes that could be used, as shown in the table below.\n",
    "\n",
    "| `mode` | Use and description                                                                                          |\n",
    "| :----- | :----------------------------------------------------------------------------------------------------------- |\n",
    "| `'r+'` | Opens the file for reading and writing. Raises an exception if file does not exist. If you read first then write, it appends to the end of the file. Otherwise, it overwrites the file.|\n",
    "| `'a+'` | Opens the file for reading and appending. Creates the file if it does not exist. Appends to the end of the file when writing. |\n",
    "| `'w+'` | Opens the file for reading and writing. Creates the file if it does not exist. Overwrites (erases) the file if it already exists. |\n",
    "\n",
    "See the diagram below for differences between these modes.\n",
    "\n",
    "<br>\n",
    "\n",
    "<center><figure>\n",
    "  <img src=\"https://d20p74l5mne5au.cloudfront.net/ExWNT-white-bg.png\" style=\"width:75%\">\n",
    "  <figcaption style=\"text-align:center\"><strong> <br> Mode options for opening files: </strong> <a href=\"https://stackoverflow.com/questions/1466000/\">https://stackoverflow.com/</a></figcaption>  \n",
    "</figure></center>\n",
    "\n",
    "<br>\n",
    "\n",
    "In the diagram above, truncate is equivalent to overwrite or erase.\n",
    "\n",
    "## 1.7. Using NumPy Package\n",
    "\n",
    "When reading and writing data in the above examples, we had to work with strings. Thus, when working with numerical data, dealing with text files can be cumbersome as it often requires converting data between strings and numeric values. Alternatively, we can leverage the NumPy package, which provides convenient functions for reading and writing numerical data directly from and to arrays.\n",
    "\n",
    "To save an array to a text file using NumPy, we can use the `numpy.savetxt()` function, which has the following syntax:\n",
    "\n",
    "```python\n",
    "numpy.savetxt(filename, array, fmt='%.3f', header='', ...)\n",
    "```\n",
    "\n",
    "where:\n",
    "* `filename`: a string specifying the file name or the path and name of the file enclosed in quotes: `'example.txt'`.\n",
    "* `array`: an array containing the data we want to write to the file. Most frequently, the input will be an `ndarray`. However, technically, `np.savetxt()` will accept any \"array-like\" object, such as Python list.\n",
    "* `fmt`: a string specifying the format for the saved data. This parameter is optional and has default value `'%.3f'`, which indicates that the output numbers should be formatted with three decimal places. Other options include `'%i'` for integer format. Custom format specifications can also be provided. For more information about format specification, read [the official documentation](https://docs.python.org/3/library/string.html#format-specification-mini-language).\n",
    "* `header`: an optional string that will be written at the beginning of the file, allowing to add labels or comments.\n",
    "* `...`: additional optional arguments. See [the official documentation](https://numpy.org/doc/stable/reference/generated/numpy.savetxt.html) for more details.\n",
    "\n",
    "Note that `numpy.savetxt()` creates the file if it does not exist and it overwrites (erases) the file if it already exists. \n",
    "\n",
    "Let's use $y = \\begin{pmatrix} 1.2 & 2.2 & 3 \\\\ 4.14 & 5.65 & 7.42 \\\\ \\end{pmatrix}$ as an example.\n",
    "\n",
    "<div class=\"alert alert-block alert-info\"> <b>TRY IT!</b> Create a 2-D list for <code>y</code> then save it as a file <code>'resources/array_y.txt'</code> with 2 decimal points. Add a header that says 'Col1 Col2 Col3'.</div> "
   ]
  },
  {
   "cell_type": "code",
   "execution_count": 19,
   "id": "5404ac45",
   "metadata": {},
   "outputs": [],
   "source": [
    "import numpy as np\n",
    "\n",
    "# create list of lists y\n",
    "y = [[1.2, 2.2, 3], [4.14, 5.65, 7.42]]\n",
    "\n",
    "# save y\n",
    "np.savetxt('resources/array_y.txt', y, fmt='%.2f', header='Col1 Col2 Col3')"
   ]
  },
  {
   "cell_type": "markdown",
   "id": "51fc2841",
   "metadata": {},
   "source": [
    "Notice that we were able to save the data without changing it to `str`.\n",
    "\n",
    "To read numerical data from a text file into an array, we can utilize the `numpy.loadtxt()` function. This function has the following syntax:\n",
    "\n",
    "```python\n",
    "numpy.loadtxt(filename, ...)\n",
    "```\n",
    "\n",
    "where:\n",
    "* `filename`: a string specifying the file name or the path and name of the file enclosed in quotes: `'example.txt'`.\n",
    "* `...`: additional optional arguments. For example, you can skip a number of rows or read specific columns, among others. See [the official documentation](https://numpy.org/doc/stable/reference/generated/numpy.loadtxt.html) for more details.\n",
    "\n",
    "If the specified file does not exist, `numpy.loadtxt()` will raise an error. Additionally, the data within the text file must be numeric; otherwise, an error will occur during the loading process.\n",
    "\n",
    "<div class=\"alert alert-block alert-info\"> <b>TRY IT!</b> Read the file <code>'resources/array_y.txt'</code> then assign its contents to variable <code>z</code> and print it.</div> "
   ]
  },
  {
   "cell_type": "code",
   "execution_count": 23,
   "id": "bf236d00",
   "metadata": {},
   "outputs": [
    {
     "name": "stdout",
     "output_type": "stream",
     "text": [
      "[[1.2  2.2  3.  ]\n",
      " [4.14 5.65 7.42]]\n",
      "<class 'numpy.ndarray'>\n"
     ]
    }
   ],
   "source": [
    "z = np.loadtxt('resources/array_y.txt')\n",
    "print(z)\n",
    "print(type(z))"
   ]
  },
  {
   "cell_type": "markdown",
   "id": "84e1483b",
   "metadata": {},
   "source": [
    "When using `numpy.loadtxt()`, the contents of the text file are automatically converted to numeric data. It's worth noting that this function also handles headers by default. If the first row of the text file starts with the `#` sign, which is commonly used to denote headers, `numpy.loadtxt()` will skip this row when loading the data. This behavior simplifies the process of reading data files with headers, ensuring that only the numeric data is loaded into the array.\n",
    "\n",
    "# 2. CSV Files <a id=\"s2\"></a>\n",
    "\n",
    "One of the most simple and common files to store scientific data are **Comma-Separated Values** (CSV) files, which have a **.csv** file extension. A CSV file is very useful to store large tabular data, which can include both numbers and text. If you open the text file `resources/array_y.txt`, you can see that by default, values on the same row are separated by a white space. In CSV files, the elements are separated by a comma `,`, and hence the name comma-separated values. The character that separates values in a file is known as a **delimiter**.\n",
    "\n",
    "Let's look at the file `resources/FAOSTAT.csv`. When opened, you'll notice the header row followed by the data rows. Each value is delimited by a comma. You can also open this file (and any CSV file) using Microsoft Excel to visualize the rows and columns.\n",
    "\n",
    "> The FAOSTAT Temperature change on land domain disseminates statistics of mean surface temperature change by country, with annual updates. This dissemination covers the period 1961–2022. Statistics are available for monthly temperature anomalies (among others), i.e., temperature change with respect to a baseline climatology, corresponding to the period 1951–1980. Data are based on the publicly available Global Surface Temperature Change data distributed by the National Aeronautics and Space Administration Goddard Institute for Space Studies (NASA-GISS). Source: Food and Agriculture Organization of the United Nations [(FAO)](https://www.fao.org/faostat/en/#data/ET).\n",
    "\n",
    "## 2.1. Using `csv` Module\n",
    "\n",
    "Python provides a built-in `csv` module that could handle reading and writing CSV files – you can see its details in [this documentation](https://docs.python.org/3/library/csv.html). To utilize this module, start by importing it:\n",
    "\n",
    "```python\n",
    "import csv\n",
    "```\n",
    " \n",
    "To work with a CSV file using the `csv` module, you have to open the file using `open()` and specify `mode` (read, write, append), then perform any operations, and finally close the file, similar to TXT files. \n",
    "\n",
    "To read a CSV file, we can use the following syntax:\n",
    "\n",
    "```python\n",
    "with open(filename, mode) as f:\n",
    "    variable_name = csv.reader(f) # if opening in 'r' mode\n",
    "    for line in f: # iterating over each element in f\n",
    "        print(line)\n",
    "```\n",
    "        \n",
    "<div class=\"alert alert-block alert-danger\"> <b>TRY IT!</b> Read the file <code>'resources/FAOSTAT.csv'</code> then print its first 10 rows.</div>  "
   ]
  },
  {
   "cell_type": "code",
   "execution_count": 25,
   "id": "50109902",
   "metadata": {},
   "outputs": [
    {
     "name": "stdout",
     "output_type": "stream",
     "text": [
      "['Area', 'Year', 'Temperature change (celsius)']\n",
      "['Afghanistan', '1961', '-0.113']\n",
      "['Afghanistan', '1962', '-0.164']\n",
      "['Afghanistan', '1963', '0.847']\n",
      "['Afghanistan', '1964', '-0.764']\n",
      "['Afghanistan', '1965', '-0.244']\n",
      "['Afghanistan', '1966', '0.226']\n",
      "['Afghanistan', '1967', '-0.371']\n",
      "['Afghanistan', '1968', '-0.423']\n",
      "['Afghanistan', '1969', '-0.539']\n"
     ]
    }
   ],
   "source": [
    "import csv\n",
    "\n",
    "with open('resources/FAOSTAT.csv') as f:\n",
    "    data = csv.reader(f) \n",
    "    for index, line in zip(range(10), data):\n",
    "        print(line)"
   ]
  },
  {
   "cell_type": "markdown",
   "id": "39e29819",
   "metadata": {},
   "source": [
    "The `csv` module has other functions for writing CSV files, such as `csv.writer()`. \n",
    "\n",
    "While the `csv` module provides basic functionality for working with CSV files, it interprets all elements as strings. For more flexibility and convenience, we can leverage other packages such as NumPy and Pandas.\n",
    "\n",
    "## 2.2. Using NumPy Package\n",
    "\n",
    "When working with CSV files that only contain numeric data (no text), we can use the same functions that we used for reading and writing TXT files. However, we need to specify `delimiter = ','` to indicate that the file is in CSV format, as shown in the syntax below:\n",
    "\n",
    "```python\n",
    "array = np.loadtxt(filename, delimiter=',', ...) # read a csv file and save it as an array\n",
    "np.savetxt(filename, array, fmt='%.3f', header='', delimiter=',', ...) # save a variable array as a csv file\n",
    "```\n",
    "\n",
    "<div class=\"alert alert-block alert-warning\"> <b>NOTE!</b> The extension for <code>filename</code> should be <code>.csv</code>.</div>\n",
    "\n",
    "If we attempt to use `np.loadtxt('resources/FAOSTAT.csv', delimiter=',')`, it will raise a `ValueError` error because the file includes text (area names), which cannot be converted to float. If the file contains text, we can use additional arguments to skip rows and/or columns that include text and only read the numeric data. Specifically:\n",
    "\n",
    "```python\n",
    "array = np.loadtxt(filename, delimiter=',', skiprows=0, usecols=None, ...)\n",
    "```\n",
    "\n",
    "where:\n",
    "* `skiprows`: Skip a certain number of rows. For example, `skiprows = 2` will skip the first two rows. The default, 0, results in no rows being skipped.\n",
    "* `usecols`: Specify which column(s) to read, with 0 being the first. For example, `usecols = (1,4)` will extract the 2nd and 5th columns. The default, None, results in all columns being read.\n",
    "\n",
    "The above function takes several optional arguments, which you can read about in the [function's documentation](https://numpy.org/doc/stable/reference/generated/numpy.loadtxt.html).\n",
    "\n",
    "<div class=\"alert alert-block alert-info\"> <b>TRY IT!</b> Read the last two columns of the file <code>'resources/FAOSTAT.csv'</code> using <code>np.loadtxt()</code>. You will have to skip the first row, which includes the header. Save the data as an array <code>data</code> then print its values.</div>  "
   ]
  },
  {
   "cell_type": "code",
   "execution_count": 37,
   "id": "11a7de3b",
   "metadata": {},
   "outputs": [
    {
     "name": "stdout",
     "output_type": "stream",
     "text": [
      "[[ 1.961e+03 -1.130e-01]\n",
      " [ 1.962e+03 -1.640e-01]\n",
      " [ 1.963e+03  8.470e-01]\n",
      " ...\n",
      " [ 2.020e+03  3.890e-01]\n",
      " [ 2.021e+03 -1.250e-01]\n",
      " [ 2.022e+03 -4.900e-01]]\n"
     ]
    }
   ],
   "source": [
    "import numpy as np\n",
    "\n",
    "data = np.loadtxt('resources/FAOSTAT.csv', skiprows = 1, usecols=(1, 2), delimiter = ',')\n",
    "print(data)"
   ]
  },
  {
   "cell_type": "markdown",
   "id": "27d0a2d0",
   "metadata": {},
   "source": [
    "<div class=\"alert alert-block alert-warning\"> <b>NOTE!</b> Be careful when using <code>np.loadtxt()</code>. If, for example, an area has the following name: <code>China, Hong Kong SAR</code>, then the <code>,</code> will be interpreted as a column separator and will create problems.</div>\n",
    "\n",
    "Similarly, we can save a NumPy array as a csv file using `np.savetxt(filename, array, fmt='%.3f', header='', delimiter=',', ...)`. \n",
    "\n",
    "Let's use $y = \\begin{pmatrix} 1.2 & 2.2 & 3 \\\\ 4.14 & 5.65 & 7.42 \\\\ \\end{pmatrix}$ as an example.\n",
    "\n",
    "<div class=\"alert alert-block alert-info\"> <b>TRY IT!</b> Create a new array for <code>y</code> then save it as a file <code>'resources/array_y.csv'</code> with 2 decimal points. Add a header that says 'Col1 Col2 Col3'.</div> "
   ]
  },
  {
   "cell_type": "code",
   "execution_count": 39,
   "id": "f398d54b",
   "metadata": {},
   "outputs": [],
   "source": [
    "y = [[1.2, 2.2, 3], [4.14, 5.65, 7.42]]\n",
    "np.savetxt('resources/array_y.csv', y, delimiter=',', fmt='%.2f', header='Col1,Col2,Col3')"
   ]
  },
  {
   "cell_type": "markdown",
   "id": "50ad612c",
   "metadata": {},
   "source": [
    "# 3. Additional Reading <a id=\"s3\"></a>\n",
    "\n",
    "## 3.1. Opening and Closing Files\n",
    "\n",
    "When working with TXT and CSV files in Python, it's crucial to open and close files properly to ensure data integrity and avoid resource leaks. There are two primary methods to open files: using the `with` statement and using the `open()` function directly.\n",
    "\n",
    "In all of the previous examples, we opened files using the following syntax:\n",
    "\n",
    "```python\n",
    "with open(filename, mode) as f:\n",
    "    # perform any operations\n",
    "```\n",
    "\n",
    "This is the preferred method to open files in Python, as it ensures that the file is automatically closed once all operations within the block are completed, even if an error occurs during file processing.\n",
    "\n",
    "Alternatively, files can be opened using the `open()` function directly (without using `with`). However, this method requires explicitly closing the file using the `close()` method. Closing the file is essential to ensure that all resources are released and any written data is saved.\n",
    "\n",
    "```python\n",
    "f = open(filename, mode)\n",
    "# perform any operations\n",
    "f.close()\n",
    "```\n",
    "\n",
    "Using the `with` statement to open files is the preferred method in Python as it ensures the file is automatically closed once operations are completed, reducing the risk of resource leaks and potential data loss. The alternative approach of using the `open()` function directly requires explicit file closure, which can introduce bugs if not handled properly. For clean, readable, and reliable file handling, always use the `with` statement.\n",
    "\n",
    "\n",
    "## 3.2. CSV Files Using Pandas Package\n",
    "\n",
    "While NumPy is convenient for handling CSV files containing only numeric data, another powerful tool for working with CSV files, especially those with mixed data types, is the Pandas package. Pandas is a widely used data science library in Python for data manipulation and analysis. To use Pandas, we need to import it first, typically using the alias `pd`: `import pandas as pd`.\n",
    "\n",
    "One advantage of using Pandas is its ability to handle data of any type, including strings, floats, integers, etc. To read a CSV file using Pandas, you can use the `pd.read_csv()` function:\n",
    "\n",
    "```python\n",
    "df = pd.read_csv(filename)\n",
    "```\n",
    "\n",
    "The `pd.read_csv()` function reads a CSV file named `filename` (which should be a string including the file extension, e.g., `'example.csv'`) and assigns it to a Pandas DataFrame `df`.\n",
    "\n",
    "<div class=\"alert alert-block alert-danger\"> <b>TRY IT!</b> Read the file <code>'resources/FAOSTAT.csv'</code> using <code>pd.read_csv()</code> and save it as <code>df</code>. Show the first few rows of <code>df</code> using <code>df.head()</code>.</div>  "
   ]
  },
  {
   "cell_type": "code",
   "execution_count": null,
   "id": "e96a5964",
   "metadata": {},
   "outputs": [],
   "source": [
    "import pandas as pd\n",
    "\n",
    "df = pd.read_csv('resources/FAOSTAT.csv')\n",
    "\n",
    "df.head()"
   ]
  },
  {
   "cell_type": "markdown",
   "id": "8dc7f297",
   "metadata": {},
   "source": [
    "To write a CSV file using Pandas, we can use the `df.to_csv()` function:\n",
    "\n",
    "```python\n",
    "df.to_csv(filename)\n",
    "```\n",
    "\n",
    "where:\n",
    "* `df`: variable name containing the Pandas DataFrame\n",
    "* `filename`: a string specifying the file name or the path and name of the file to be saved enclosed in quotes: `'example.csv'`\n",
    "\n",
    "The `to_csv()` function also accepts several optional arguments, which you can explore further in the [function's documentation](https://pandas.pydata.org/pandas-docs/stable/reference/api/pandas.DataFrame.to_csv.html).\n",
    "\n",
    "<div class=\"alert alert-block alert-danger\"> <b>TRY IT!</b> Create a list that includes in each row the name of a person and their favorite number. Then, convert it to a dataframe using <code>pd.DataFrame()</code>. Finally, save it as a csv file called <code>'fav_num.csv'</code> using <code>.to_csv()</code>.</div> "
   ]
  },
  {
   "cell_type": "code",
   "execution_count": null,
   "id": "5bd5ecc8",
   "metadata": {},
   "outputs": [],
   "source": [
    "# initialize list of lists\n",
    "data = [['John', 5], ['Doe', 15]]\n",
    "\n",
    "# creating a data frame\n",
    "df = pd.DataFrame(data, columns = ['Name', 'Number'])\n",
    "\n",
    "# writing data frame to a CSV file\n",
    "df.to_csv('resources/fav_num.csv')"
   ]
  },
  {
   "cell_type": "markdown",
   "id": "5689bb7a",
   "metadata": {},
   "source": [
    "## 3.3. Pickle Files\n",
    "\n",
    "So far we have discussed how to store data using text and csv files. In some cases, we want to store data while preserving their data type (tuples, lists, dictionaries, etc.) to use them later or send them to colleagues. In thick case, we can use **pickle** files, which serialize objects so that they can be saved into a file and loaded again later. Pickle files usually have **.pickle** or **.pkl** extension, and they are specific to Python.\n",
    "\n",
    "In order to use pickle, we need to import it first: `import pickle`.\n",
    "\n",
    "In general, to work with pickle files, you have to open the file using `open()` and specify `mode`, then perform any operations, and finally close the file. Alternatively, you can use a `with` statement, which closes the file automatically.\n",
    "\n",
    "### 3.3.1. Writing Pickle Files\n",
    "\n",
    "To write a pickle file, we can use the `pickle.dump()` function, which has the following syntax:\n",
    "\n",
    "```python\n",
    "with open(filename, mode='wb') as f:\n",
    "    pickle.dump(data, f)\n",
    "```\n",
    "\n",
    "where:\n",
    "* `filename`: a string including the file name or the path and name of the file to be saved between quotes: `'example.pickle'`\n",
    "* `data`: object(s) that you want to save. If you have multiple objects, then `data` should be a list or tuple that includes the objects you want to save.\n",
    "\n",
    "<div class=\"alert alert-block alert-danger\"> <b>TRY IT!</b> Save the DataFrame <code>df</code> as a pickle file <code>'resources/fav_num.pickle'</code>. </div>  "
   ]
  },
  {
   "cell_type": "code",
   "execution_count": null,
   "id": "43241cfd",
   "metadata": {},
   "outputs": [],
   "source": [
    "import pickle\n",
    "\n",
    "with open('resources/fav_num.pickle', mode='wb') as f:\n",
    "    pickle.dump(df, f)"
   ]
  },
  {
   "cell_type": "markdown",
   "id": "e0a15902",
   "metadata": {},
   "source": [
    "### 3.3.2. Reading Pickle Files\n",
    "\n",
    "To read a pickle file, we can use the `pickle.load()` function, which has the following syntax:\n",
    "\n",
    "```python\n",
    "with open(filename, mode='rb') as f:\n",
    "    data = pickle.load(f)\n",
    "```\n",
    "\n",
    "<div class=\"alert alert-block alert-danger\"> <b>TRY IT!</b> Load the pickle file you saved above.</div>  "
   ]
  },
  {
   "cell_type": "code",
   "execution_count": null,
   "id": "344372ff",
   "metadata": {},
   "outputs": [],
   "source": [
    "with open('resources/fav_num.pickle', mode='rb') as f:\n",
    "    data = pickle.load(f)\n",
    "    print(data.head())\n",
    "    print(type(data))"
   ]
  },
  {
   "cell_type": "markdown",
   "id": "7057687e",
   "metadata": {},
   "source": [
    "Pickle files are specially designed for Python, and therefore, cannot be easily read by other programming languages. On the contrary, text and csv files could be easily shared and opened in other programming languages (R, MATLAB, Java and so on).\n",
    "\n",
    "<div class=\"alert alert-block alert-warning\"> <b>NOTE!</b> The <code>pickle</code> module is not secure against erroneous or maliciously constructed data. Never unpickle data received from an untrusted or unauthenticated source.</div>\n",
    "\n",
    "### 3.4. JSON Files\n",
    "\n",
    "**JSON** is another file format, which stands for **JavaScript Object Notation**. A JSON file usually ends with extension **.json**. Unlike pickle, which is Python dependent, JSON is a language-independent data format, which makes it attractive to use. Besides, it usually takes less space on the disk and the manipulation is faster than pickle. Therefore, it is a good option to store your data using JSON. If you are interested in reading more about JSON file, refer to the [textbook](https://pythonnumericalmethods.berkeley.edu/notebooks/chapter11.04-JSON-Files.html). "
   ]
  }
 ],
 "metadata": {
  "kernelspec": {
   "display_name": "Python 3 (ipykernel)",
   "language": "python",
   "name": "python3"
  },
  "language_info": {
   "codemirror_mode": {
    "name": "ipython",
    "version": 3
   },
   "file_extension": ".py",
   "mimetype": "text/x-python",
   "name": "python",
   "nbconvert_exporter": "python",
   "pygments_lexer": "ipython3",
   "version": "3.11.11"
  }
 },
 "nbformat": 4,
 "nbformat_minor": 5
}
