{
 "cells": [
  {
   "cell_type": "code",
   "execution_count": null,
   "id": "86d3fd69",
   "metadata": {
    "deletable": false,
    "editable": false
   },
   "outputs": [],
   "source": [
    "# Initialize Otter\n",
    "import otter\n",
    "grader = otter.Notebook(\"lab10.ipynb\")"
   ]
  },
  {
   "cell_type": "markdown",
   "id": "2e4a4ccd",
   "metadata": {},
   "source": [
    "# E7: Lab Assignment 10 - Differentiation & Integration\n",
    "\n",
    "You must submit the lab to Gradescope by the due date. You will submit the zip file produced by running the final cell of the assignment.\n",
    "\n",
    "## Instructions\n",
    "\n",
    "**Run the first cell, Initialize Otter**, to import the autograder and submission exporter.\n",
    "\n",
    "Throughout the assignment, replace `...` with your answers. We use `...` as a placeholder and these should be deleted and replaced with your answers.\n",
    "\n",
    "Any part listed as a \"<font color='red'>**Question**</font>\" should be answered to receive credit.\n",
    "\n",
    "**Please save your work after every question!**\n",
    "\n",
    "To read the documentation on a Python function, you can type `help()` and add the function name between parentheses.\n",
    "\n",
    "## Score Breakdown\n",
    "Question  | Points\n",
    ":---      | --:\n",
    "1.0 – 1.4 | 8\n",
    "2.0 – 2.2 | 5\n",
    "3.0 – 3.3 | 5\n",
    "4.0 – 4.3 | 7\n",
    "Total     | 25\n",
    "\n",
    "**Run the cell below**, to import the required modules."
   ]
  },
  {
   "cell_type": "code",
   "execution_count": null,
   "id": "bf2cd14f",
   "metadata": {},
   "outputs": [],
   "source": [
    "# Please run this cell, and do not modify the contents\n",
    "import numpy as np\n",
    "import math\n",
    "import matplotlib.pyplot as plt\n",
    "np.seterr(all='ignore');"
   ]
  },
  {
   "cell_type": "code",
   "execution_count": null,
   "id": "e60997fe-a403-46b3-a66c-8854c5718fe0",
   "metadata": {},
   "outputs": [],
   "source": [
    "import hashlib\n",
    "def get_hash(num):\n",
    "    \"\"\"Helper function for assessing correctness\"\"\"\n",
    "    return hashlib.md5(str(num).encode()).hexdigest()"
   ]
  },
  {
   "cell_type": "code",
   "execution_count": null,
   "id": "ffca5fc4-81bd-47f8-94bd-0cf7cb1797b8",
   "metadata": {},
   "outputs": [],
   "source": [
    "import scipy\n",
    "from scipy.optimize import fsolve"
   ]
  },
  {
   "cell_type": "markdown",
   "id": "876552ba",
   "metadata": {},
   "source": [
    "## Question 1: Helicopter Speed Check\n",
    "\n",
    "A helicopter pilot is flying above a road and monitors the cars traveling below. The pilot records the positions of the cars at regular intervals. The speed and acceleration can then be computed using finite difference formulas. Recall the approximations we discussed in the lecture for an evenly spaced grid where $x_{i+1}-x_{i} = h$ for all $i$:\n",
    "\n",
    "- Forward Difference\n",
    "$$\\frac{df}{dx}\\Big\\rvert_{x_i} \\approx \\frac{f(x_{i+1})-f(x_i)}{h}$$\n",
    "\n",
    "- Backward Difference\n",
    "$$\\frac{df}{dx}\\Big\\rvert_{x_i} \\approx \\frac{f(x_{i})-f(x_{i-1})}{h}$$\n",
    "\n",
    "- Central Difference\n",
    "$$\\frac{df}{dx}\\Big\\rvert_{x_i} \\approx \\frac{f(x_{i+1})-f(x_{i-1})}{2h}$$\n",
    "\n",
    "- Second-order Central Difference\n",
    "$$\\frac{d^2f}{dx^2}\\Big\\rvert_{x_i} \\approx  \\frac{f(x_{i+1})-2f(x_i)+f(x_{i-1})}{h^2}$$\n",
    "\n",
    "A visual representation of the first-order derivative approximations is shown in Figure 1 below.\n",
    "\n",
    "<center><img src=\"https://docs.google.com/drawings/d/e/2PACX-1vSZ5kN1WZPnLn0MZ9uQ16mE-Gets1ot2JuLEYSvlW20QpAkBZXatQvgdYBLZP_dxUlVpJaYBi7Yn2fU/pub?w=1152&h=432\n",
    "\" style=\"width:100%\">\n",
    "<figcaption style=\"text-align:center\"> Figure 1. Finite difference methods. </figcaption></center>"
   ]
  },
  {
   "cell_type": "markdown",
   "id": "18f32bed",
   "metadata": {
    "deletable": false,
    "editable": false
   },
   "source": [
    "### Question 1.0: Forward Difference\n",
    "\n",
    "Write a function `forward_diff(x,t)` where `x` and `t` are `numpy` arrays which contain the car coordinates and measurement times, respectively, i.e. the car was in position `x[i]` at time `t[i]`. You may assume that the time measurements in `t` are evenly spaced. The function should compute the velocity of the car using the forward difference method at the points in `t` for which it can be applied. Your function should return `numpy` arrays of the velocity and their corresponding times (in this order).\n",
    "\n",
    "Test your `forward_diff(x,t)` function for the example below and make sure it produces the correct output. Assign the result to `q1_0`.\n",
    " \n",
    "```PYTHON\n",
    "Examples: \n",
    "    \n",
    ">>> x = np.linspace(0,10,8)**4/4\n",
    ">>> t = np.linspace(0,42,8)\n",
    ">>> forward_diff(x, t)\n",
    "(array([1.73538803e-01, 2.60308205e+00, 1.12800222e+01, 3.03692906e+01,\n",
    "        6.40358184e+01, 1.16444537e+02, 1.91760378e+02]),\n",
    " array([ 0.,  6., 12., 18., 24., 30., 36.]))\n",
    "```"
   ]
  },
  {
   "cell_type": "code",
   "execution_count": null,
   "id": "38fd06aa",
   "metadata": {
    "tags": [
     "otter_answer_cell"
    ]
   },
   "outputs": [],
   "source": [
    "# ANSWER CELL\n",
    "..."
   ]
  },
  {
   "cell_type": "code",
   "execution_count": null,
   "id": "4c94c5ba",
   "metadata": {
    "tags": [
     "otter_answer_cell"
    ]
   },
   "outputs": [],
   "source": [
    "# TEST YOUR FUNCTION HERE\n",
    "q1_0 = ...\n",
    "\n",
    "print(f'Velocity: {q1_0[0]} ft/s')\n",
    "print(f'Times:    {q1_0[1]} s')"
   ]
  },
  {
   "cell_type": "code",
   "execution_count": null,
   "id": "1ff5ef28",
   "metadata": {
    "deletable": false,
    "editable": false
   },
   "outputs": [],
   "source": [
    "grader.check(\"q1.0\")"
   ]
  },
  {
   "cell_type": "markdown",
   "id": "3c5e4e0f",
   "metadata": {
    "deletable": false,
    "editable": false
   },
   "source": [
    "### Question 1.1: Backward Difference\n",
    "\n",
    "Write a function `backward_diff(x,t)` where `x` and `t` are `numpy` arrays which contain the car coordinates and measurement times, respectively, i.e. the car was in position `x[i]` at time `t[i]`. You may assume that the time measurements in `t` are evenly spaced. The function should compute the velocity of the car using the backward difference method at the points in `t` for which it can be applied. Your function should return `numpy` arrays of the velocity and their corresponding times (in this order).\n",
    "\n",
    "Test your `backward_diff(x,t)` function for the example below and make sure it produces the correct output. Assign the result to `q1_1`.\n",
    "\n",
    "```PYTHON\n",
    "Examples: \n",
    "    \n",
    ">>> x = np.linspace(0,10,8)**4/4 \n",
    ">>> t = np.linspace(0,42,8)\n",
    ">>> backward_diff(x, t)\n",
    "(array([1.73538803e-01, 2.60308205e+00, 1.12800222e+01, 3.03692906e+01,\n",
    "        6.40358184e+01, 1.16444537e+02, 1.91760378e+02]),\n",
    " array([ 6., 12., 18., 24., 30., 36., 42.]))\n",
    "```"
   ]
  },
  {
   "cell_type": "code",
   "execution_count": null,
   "id": "7715263e",
   "metadata": {
    "tags": [
     "otter_answer_cell"
    ]
   },
   "outputs": [],
   "source": [
    "# ANSWER CELL\n",
    "..."
   ]
  },
  {
   "cell_type": "code",
   "execution_count": null,
   "id": "1bfc39ad",
   "metadata": {
    "tags": [
     "otter_answer_cell"
    ]
   },
   "outputs": [],
   "source": [
    "# TEST YOUR FUNCTION HERE\n",
    "q1_1 = ...\n",
    "\n",
    "print(f'Velocity: {q1_1[0]} ft/s')\n",
    "print(f'Times:    {q1_1[1]} s')"
   ]
  },
  {
   "cell_type": "code",
   "execution_count": null,
   "id": "a1071c3d",
   "metadata": {
    "deletable": false,
    "editable": false
   },
   "outputs": [],
   "source": [
    "grader.check(\"q1.1\")"
   ]
  },
  {
   "cell_type": "markdown",
   "id": "41c350c0",
   "metadata": {
    "deletable": false,
    "editable": false
   },
   "source": [
    "### Question 1.2: Central Difference\n",
    "\n",
    "Write a function `central_diff(x,t)` where `x` and `t` are `numpy` arrays which contain the car coordinates and measurement times, respectively, i.e. the car was in position `x[i]` at time `t[i]`. You may assume that the time measurements in `t` are evenly spaced. The function should compute the velocity of the car using the central difference method at the points in `t` for which it can be applied. Your function should return `numpy` arrays of the velocity and their corresponding times (in this order).\n",
    "\n",
    "Test your `central_diff(x,t)` function for the example below and make sure it produces the correct output. Assign the result to `q1_2`.\n",
    " \n",
    "```PYTHON\n",
    "Examples: \n",
    "    \n",
    ">>> x = np.linspace(0,10,8)**4/4 \n",
    ">>> t = np.linspace(0,42,8)\n",
    ">>> central_diff(x, t)\n",
    "(array([  1.38831043,   6.94155213,  20.82465639,  47.20255449,\n",
    "         90.2401777 , 154.10245731]),\n",
    " array([ 6., 12., 18., 24., 30., 36.]))\n",
    "```"
   ]
  },
  {
   "cell_type": "code",
   "execution_count": null,
   "id": "ddf135ba",
   "metadata": {
    "tags": [
     "otter_answer_cell"
    ]
   },
   "outputs": [],
   "source": [
    "# ANSWER CELL\n",
    "..."
   ]
  },
  {
   "cell_type": "code",
   "execution_count": null,
   "id": "403436e2",
   "metadata": {
    "tags": [
     "otter_answer_cell"
    ]
   },
   "outputs": [],
   "source": [
    "# TEST YOUR FUNCTION HERE\n",
    "q1_2 = ...\n",
    "\n",
    "print(f'Velocity: {q1_2[0]} ft/s')\n",
    "print(f'Times:    {q1_2[1]} s')"
   ]
  },
  {
   "cell_type": "code",
   "execution_count": null,
   "id": "406ba3ae",
   "metadata": {
    "deletable": false,
    "editable": false
   },
   "outputs": [],
   "source": [
    "grader.check(\"q1.2\")"
   ]
  },
  {
   "cell_type": "markdown",
   "id": "f2e61541",
   "metadata": {
    "deletable": false,
    "editable": false
   },
   "source": [
    "### Question 1.3: Higher Order Derivatives\n",
    "\n",
    "Write a function `second_central_diff(x,t)` where `x` and `t` are `numpy` arrays which contain the car coordinates and measurement times, respectively, i.e. the car was in position `x[i]` at time `t[i]`. You may assume that the time measurements in `t` are evenly spaced. The function should compute the acceleration of the car using the second-order central difference method at the points in `t` for which it can be applied. Your function should return `numpy` arrays of the velocity and their corresponding times (in this order).\n",
    "\n",
    "Test your `second_central_diff(x,t)` function for the example below and make sure it produces the correct output. Assign the result to `q1_3`.\n",
    " \n",
    "```PYTHON\n",
    "Examples: \n",
    "    \n",
    ">>> x = np.linspace(0,10,8)**4/4 \n",
    ">>> t = np.linspace(0,42,8)\n",
    ">>> second_central_diff(x,t)\n",
    "(array([ 0.40492387,  1.44615669,  3.18154473,  5.61108797,  8.73478643,\n",
    "        12.5526401 ]),\n",
    " array([ 6., 12., 18., 24., 30., 36.]))\n",
    "```"
   ]
  },
  {
   "cell_type": "code",
   "execution_count": null,
   "id": "ebeba1b2",
   "metadata": {
    "tags": [
     "otter_answer_cell"
    ]
   },
   "outputs": [],
   "source": [
    "# ANSWER CELL\n",
    "..."
   ]
  },
  {
   "cell_type": "code",
   "execution_count": null,
   "id": "27219984",
   "metadata": {
    "tags": [
     "otter_answer_cell"
    ]
   },
   "outputs": [],
   "source": [
    "# TEST YOUR FUNCTION HERE\n",
    "q1_3 = ...\n",
    "\n",
    "print(f'Acceleration: {q1_3[0]} ft/s^2')\n",
    "print(f'Times:        {q1_3[1]} s')"
   ]
  },
  {
   "cell_type": "code",
   "execution_count": null,
   "id": "ad373d06",
   "metadata": {
    "deletable": false,
    "editable": false
   },
   "outputs": [],
   "source": [
    "grader.check(\"q1.3\")"
   ]
  },
  {
   "cell_type": "markdown",
   "id": "d1797098",
   "metadata": {
    "deletable": false,
    "editable": false
   },
   "source": [
    "### Question 1.4\n",
    "\n",
    "Let us now plot the first derivative approximation and compare them.\n",
    "\n",
    "Define a function `plot_finite_difference(x,t)` which returns a `matplotlib.pyplot` figure of the velocity computed using the three finite difference methods.\n",
    "\n",
    "The function should create the figure as follows:\n",
    "* Line plot (1) time vs. velocity as computed by the forward difference method at the points where it is valid\n",
    "* Line plot (2) time vs. velocity as computed by the backward difference method at the points where it is valid\n",
    "* Line plot (3) time vs. velocity as computed by the central difference method at the points where it is valid\n",
    "* A legend with labels 'Forward difference','Backward difference' and 'Central difference' for line plots 1,2 and 3, respectively\n",
    "* X axis label which reads 'Time, s'\n",
    "* Y axis label which reads 'Velocity, ft/s'\n",
    "* X-axis limits $[0,45]$\n",
    "* Y-axis limits $[0,200]$\n",
    "* Title label which reads 'Finite difference approximations'\n",
    "\n",
    "Test your function for `x = np.linspace(0,10,8)**4/4` and `t = np.linspace(0,42,8)`. Assign the result to `q1_4`. Your output figure should look like Figure 2 shown below. Feel free to experiment with other inputs as well as any plotting options that are not explicitly specified.\n",
    "\n",
    "<center><img src=\"resources/lab10_q1.png\" style=\"width:500px;\"/>\n",
    "<figcaption style=\"text-align:center\"> Figure 2. Finite difference approximations of the velocity. </figcaption><center> "
   ]
  },
  {
   "cell_type": "code",
   "execution_count": null,
   "id": "ee9ff1dd",
   "metadata": {
    "tags": [
     "otter_answer_cell"
    ]
   },
   "outputs": [],
   "source": [
    "# ANSWER CELL\n",
    "\n",
    "# Do not modify this line\n",
    "import matplotlib.pyplot as plt\n",
    "\n",
    "..."
   ]
  },
  {
   "cell_type": "code",
   "execution_count": null,
   "id": "3e1c2b56",
   "metadata": {
    "tags": [
     "otter_answer_cell"
    ]
   },
   "outputs": [],
   "source": [
    "# TEST YOUR FUNCTION HERE\n",
    "fig = ..."
   ]
  },
  {
   "cell_type": "code",
   "execution_count": null,
   "id": "7828ff7f",
   "metadata": {
    "deletable": false,
    "editable": false
   },
   "outputs": [],
   "source": [
    "grader.check(\"q1.4\")"
   ]
  },
  {
   "cell_type": "markdown",
   "id": "49bd8318",
   "metadata": {
    "deletable": false,
    "editable": false
   },
   "source": [
    "## Question 2: Ant on a Wire\n",
    "\n",
    "A camera records the position of an ant as it walks on a wire. The ant generally moves forward (direction of increasing $x$ in the figure), but sometimes briefly turns around when it bumps into an oncoming ant. A researcher has processed the video and extracted a sequence of positions with their respective time stamps. In this question, we will analyze this data to estimate the speed of the ant and count the number of times that it moves backwards. \n",
    "\n",
    "<br>\n",
    "<center><img src=\"resources/ants.png\" style=\"width:750px;\"/>\n",
    "<figcaption style=\"text-align:center\"> Figure 3. Ant walking on a wire. </figcaption></center> \n",
    "\n",
    "### Question 2.0: Reading Ant Data\n",
    "\n",
    "The `resources/ants_data.csv` file contains the times and corresponding positions of the ant. The first row has the column labels as strings ('time(s)' and 'position(mm')). The first column includes the time data in seconds and the second column includes the position data in millimeters. \n",
    "\n",
    "The columns are ordered as listed above. Read the data file using [`np.loadtxt`](https://numpy.org/doc/stable/reference/generated/numpy.loadtxt.html) and assign the time column to the variable `ant_t` and the position column to the variable `ant_x`. Make sure to specify the `delimiter` argument which is the character used to separate the values in the file. Also, `np.loadtxt` requires the data be numeric, but the first row has column labels as strings. You can specify which rows to skip (refer top previous lecture notes).\n",
    "\n",
    "Plot the position of the ant (y-axis) versus time (x-axis). This plot is not graded but it should help you get a better idea of the data."
   ]
  },
  {
   "cell_type": "code",
   "execution_count": null,
   "id": "92fa8e91",
   "metadata": {
    "tags": [
     "otter_answer_cell"
    ]
   },
   "outputs": [],
   "source": [
    "# ANSWER CELL\n",
    "\n",
    "# Read data\n",
    "ant_t = ...\n",
    "ant_x = ...\n",
    "\n",
    "# Display part of the data\n",
    "print(f'Time:     {ant_t[:8]} ... s')\n",
    "print(f'Position: {ant_x[:8]} ... mm')\n",
    "\n",
    "# Plot data"
   ]
  },
  {
   "cell_type": "code",
   "execution_count": null,
   "id": "72ce8fd7",
   "metadata": {
    "deletable": false,
    "editable": false
   },
   "outputs": [],
   "source": [
    "grader.check(\"q2.0\")"
   ]
  },
  {
   "cell_type": "markdown",
   "id": "dfa11ed7",
   "metadata": {
    "deletable": false,
    "editable": false
   },
   "source": [
    "### Question 2.1: Plotting And Velocity\n",
    "\n",
    "Let us now plot the velocity approximations and compare them.\n",
    "\n",
    "Define a function `plot_ant_vel(x,t)` which returns a `matplotlib.pyplot` figure of the velocity computed using the three finite difference methods.\n",
    "\n",
    "The function should create the figure as follows (you should be able to copy your plotting function from above and make minor modifications to the axes labels and limits):\n",
    "* Line plot (1) time vs. velocity as computed by the forward difference method at the points where it is valid\n",
    "* Line plot (2) time vs. velocity as computed by the backward difference method at the points where it is valid\n",
    "* Line plot (3) time vs. velocity as computed by the central difference method at the points where it is valid\n",
    "* A legend with labels 'Forward difference','Backward difference' and 'Central difference' for line plots 1,2 and 3, respectively\n",
    "* X axis label which reads 'Time, s'\n",
    "* Y axis label which reads 'Velocity, mm/s'\n",
    "* X-axis limits $[10,100]$ s\n",
    "* Y-axis limits $[-20,100]$ mm/s\n",
    "* Title label which reads 'Velocity approximations'\n",
    "\n",
    "Test your function for `x = ant_x` and `t = ant_t`. Assign the result to `q2_1`. Your output figure should look like Figure 3 shown below.\n",
    "\n",
    "<center><img src=\"resources/lab10_q2.png\" style=\"width:750px;\"/>\n",
    "<figcaption style=\"text-align:center\"> Figure 3. Finite difference approximations of the velocity. </figcaption><center> "
   ]
  },
  {
   "cell_type": "code",
   "execution_count": null,
   "id": "4c5d1b1c",
   "metadata": {
    "tags": [
     "otter_answer_cell"
    ]
   },
   "outputs": [],
   "source": [
    "# ANSWER CELL\n",
    "\n",
    "# Do not modify this line\n",
    "import matplotlib.pyplot as plt\n",
    "\n",
    "..."
   ]
  },
  {
   "cell_type": "code",
   "execution_count": null,
   "id": "a87e50d7",
   "metadata": {
    "tags": [
     "otter_answer_cell"
    ]
   },
   "outputs": [],
   "source": [
    "# TEST YOUR FUNCTION HERE\n",
    "fig = ..."
   ]
  },
  {
   "cell_type": "code",
   "execution_count": null,
   "id": "2ffd5bfc",
   "metadata": {
    "deletable": false,
    "editable": false
   },
   "outputs": [],
   "source": [
    "grader.check(\"q2.1\")"
   ]
  },
  {
   "cell_type": "markdown",
   "id": "e5edd657",
   "metadata": {
    "deletable": false,
    "editable": false
   },
   "source": [
    "### Question 2.2: Counting Velocity Reversals\n",
    "\n",
    "Finally, we need to count the number of times that the ant goes from moving forward (positive velocity) to moving backward (negative velocity).\n",
    "\n",
    "Define a function `count_turn_back(vel)` which takes as input an array of the velocity and returns the number of times that the velocity goes from a positive value to a negative value. \n",
    "\n",
    "Defining this as a lambda function will earn you the full mark. If you are unable to define it as a lambda function, define it as a regular function for partial credit\n",
    ". \n",
    "Test your function for the ant velocity (all methods should give the same count). Assign the result to `q2_2`. "
   ]
  },
  {
   "cell_type": "code",
   "execution_count": null,
   "id": "68f74fef",
   "metadata": {
    "tags": [
     "otter_answer_cell"
    ]
   },
   "outputs": [],
   "source": [
    "# ANSWER CELL\n",
    "\n",
    "..."
   ]
  },
  {
   "cell_type": "code",
   "execution_count": null,
   "id": "fa496ea6",
   "metadata": {
    "tags": [
     "otter_answer_cell"
    ]
   },
   "outputs": [],
   "source": [
    "# TEST YOUR FUNCTION HERE\n",
    "q2_2 = ...\n",
    "\n",
    "print(f'The number of time that the ant goes from moving forward to moving backward is {q2_2}')"
   ]
  },
  {
   "cell_type": "code",
   "execution_count": null,
   "id": "9f52c055",
   "metadata": {
    "deletable": false,
    "editable": false
   },
   "outputs": [],
   "source": [
    "grader.check(\"q2.2\")"
   ]
  },
  {
   "cell_type": "markdown",
   "id": "6774c4f1-946d-439d-8ded-9e266561c04e",
   "metadata": {},
   "source": [
    "<div class=\"alert alert-block alert-warning\"> <b>NOTE!</b> The rest of the lab focuses on numerical integration. If we haven't covered this topic yet and you have no prior experience with it, please wait until after the next lecture to continue the assignment. </div>"
   ]
  },
  {
   "cell_type": "markdown",
   "id": "4a553dc3",
   "metadata": {},
   "source": [
    "## Question 3:  Gaussian Integral\n",
    "\n",
    "In statistics, the normal or Gaussian distribution plays an important role and is widely used in the natural and social sciences. The density $f$ of the zero-mean, one-standard deviation Gaussian distribution (also known as the *standard Gaussian distribution*) shown in Figure 4 is given by:\n",
    "\n",
    "$$f(x) = \\frac{1}{\\sqrt{2\\pi}}e^{-\\frac{x^2}{2}}$$\n",
    "\n",
    "<center><img src=\"resources/lab10_q3.png\" style=\"width:400px;\"/>\n",
    "<figcaption style=\"text-align:center\"> Figure 4. Standard Gaussian distribution. </figcaption><center> \n",
    "\n",
    "<br>\n",
    "\n",
    "In many applications, such as computing the probability that $a < x < b$, this function must be integrated as follows:\n",
    "\n",
    "$$P(a < x < b)= I = \\int^a_{b}{\\dfrac{1}{\\sqrt{2\\pi}}e^{-\\frac{x^2}{2}} dx}$$\n",
    "\n",
    "Although the normal distribution is the most commonly used distribution, the above integral is impossible to solve analytically, necessitating the use of numerical integration. \n",
    "\n",
    "In this problem, you'll explore numerical integration methods to compute $I$."
   ]
  },
  {
   "cell_type": "markdown",
   "id": "2fade3f1",
   "metadata": {
    "deletable": false,
    "editable": false
   },
   "source": [
    "### Question 3.0: Probability Density\n",
    "\n",
    "Write a function `prob_density(x)` which computes and returns the value of the probability density $f(x)$ of the standard Gaussian distributon at each point in `x`. The output should be of the same type and size as `x` which may be a scalar float or a `numpy.array` of floats.\n",
    "\n",
    "Test your new `prob_density(x)` function for the examples below and make sure it produces the correct output. Assign the result to `q3_0`.\n",
    "\n",
    "```PYTHON\n",
    "Examples:\n",
    "\n",
    ">>> prob_density(0.)\n",
    "0.3989422804014327\n",
    "\n",
    ">>>  prob_density(1.)\n",
    "0.24197072451914337\n",
    "\n",
    ">>> prob_density(np.linspace(-3,3,3))\n",
    "array([0.00443185, 0.39894228, 0.00443185])\n",
    "```"
   ]
  },
  {
   "cell_type": "code",
   "execution_count": null,
   "id": "f989df3a",
   "metadata": {
    "tags": [
     "otter_answer_cell"
    ]
   },
   "outputs": [],
   "source": [
    "# ANSWER CELL\n",
    "..."
   ]
  },
  {
   "cell_type": "code",
   "execution_count": null,
   "id": "e020269f",
   "metadata": {
    "tags": [
     "otter_answer_cell"
    ]
   },
   "outputs": [],
   "source": [
    "# TEST YOUR FUNCTION HERE\n",
    "q3_0 = ...\n",
    "\n",
    "print(f'f(x) = {q3_0}')"
   ]
  },
  {
   "cell_type": "code",
   "execution_count": null,
   "id": "8e067e67",
   "metadata": {
    "deletable": false,
    "editable": false
   },
   "outputs": [],
   "source": [
    "grader.check(\"q3.0\")"
   ]
  },
  {
   "cell_type": "markdown",
   "id": "5e39225f",
   "metadata": {
    "deletable": false,
    "editable": false
   },
   "source": [
    "### Question 3.1:  Left Riemann Integral\n",
    "\n",
    "Write a function `left_riemann(a,b,n)` which approximates the integral $I$ where `a`, `b` are the constants described above and `n` is a positive integer representing the number of subintervals. Specifically, the interval $[a,b]$ should be divided into `n` equal parts such that the interval endpoints are $x_0, x_1, x_2, \\dots, x_{n-1}, x_{n}$. Your function should then numerically integrate $f(x)$, the density function of the standard normal distribution, between $a$ and $b$ using the left Riemann integral method.\n",
    "\n",
    "Test your new `left_riemann(a,b,n)` function for the example below and make sure it produces the correct output. Note that there could be some very minor differences from the results below depending on how you calculate the area. However, these differences should not be significant and should still pass the autograder. Assign the result to `q3_1`.\n",
    "\n",
    "```PYTHON\n",
    "Examples:\n",
    "\n",
    ">>> left_riemann(-1,1,4)\n",
    "0.6725218292245875\n",
    "\n",
    ">>> left_riemann(-1,1,16)\n",
    "0.6820590314814196\n",
    "\n",
    ">>> left_riemann(1,2,10)\n",
    "0.14541584950162642\n",
    "```"
   ]
  },
  {
   "cell_type": "code",
   "execution_count": null,
   "id": "e55822b4",
   "metadata": {
    "tags": [
     "otter_answer_cell"
    ]
   },
   "outputs": [],
   "source": [
    "# ANSWER CELL\n",
    "..."
   ]
  },
  {
   "cell_type": "code",
   "execution_count": null,
   "id": "dcaa8054",
   "metadata": {
    "tags": [
     "otter_answer_cell"
    ]
   },
   "outputs": [],
   "source": [
    "# TEST YOUR FUNCTION HERE\n",
    "q3_1 = ...\n",
    "\n",
    "print(f'P(a < x < b) ~ {q3_1}')"
   ]
  },
  {
   "cell_type": "code",
   "execution_count": null,
   "id": "cc1e3eda",
   "metadata": {
    "deletable": false,
    "editable": false
   },
   "outputs": [],
   "source": [
    "grader.check(\"q3.1\")"
   ]
  },
  {
   "cell_type": "markdown",
   "id": "7842a25f",
   "metadata": {
    "deletable": false,
    "editable": false
   },
   "source": [
    "### Question 3.2:  Right Riemann Integral\n",
    "\n",
    "Write a function `right_riemann(a,b,n)` which approximates the integral $I$ where `a`, `b` are the constants described above and `n` is a positive integer representing the number of subintervals. Specifically, the interval $[a,b]$ should be divided into `n` equal parts , similar to the previous part. Your function should then numerically integrate $f(x)$, the density function of the standard normal distribution, between $a$ and $b$ using the right Riemann integral method.\n",
    "\n",
    "Test your new `right_riemann(a,b,n)` function for the example below and make sure it produces the correct output. Note that there could be some very minor differences from the results below depending on how you calculate the area. However, these differences should not be significant and should still pass the autograder. Assign the result to `q3_2`.\n",
    "\n",
    "```PYTHON\n",
    "Examples:\n",
    "\n",
    ">>> right_riemann(-1,1,4)\n",
    "0.6725218292245875\n",
    "\n",
    ">>> right_riemann(-1,1,16)\n",
    "0.6820590314814196\n",
    "\n",
    ">>> right_riemann(1,2,10)\n",
    "0.1266178737010309\n",
    "```"
   ]
  },
  {
   "cell_type": "code",
   "execution_count": null,
   "id": "981ed4fb",
   "metadata": {
    "tags": [
     "otter_answer_cell"
    ]
   },
   "outputs": [],
   "source": [
    "# ANSWER CELL\n",
    "..."
   ]
  },
  {
   "cell_type": "code",
   "execution_count": null,
   "id": "3256ced6",
   "metadata": {
    "tags": [
     "otter_answer_cell"
    ]
   },
   "outputs": [],
   "source": [
    "# TEST YOUR FUNCTION HERE\n",
    "q3_2 = ...\n",
    "\n",
    "print(f'P(a < x < b) ~ {q3_2}')"
   ]
  },
  {
   "cell_type": "code",
   "execution_count": null,
   "id": "dd33fef5",
   "metadata": {
    "deletable": false,
    "editable": false
   },
   "outputs": [],
   "source": [
    "grader.check(\"q3.2\")"
   ]
  },
  {
   "cell_type": "markdown",
   "id": "7395e96b",
   "metadata": {
    "deletable": false,
    "editable": false
   },
   "source": [
    "### Question 3.3:  Midpoint Rule\n",
    "\n",
    "Write a function `midpoint(a,b,n)` which approximates the integral $I$ where `a`, `b` are the constants described above and `n` is a positive integer representing the number of subintervals. Specifically, the interval $[a,b]$ should be divided into `n` equal parts, similar to the previous part. Your function should then numerically integrate $f(x)$, the density function of the standard normal distribution, between $a$ and $b$ using the midpoint rule.\n",
    "\n",
    "Test your new `midpoint(a,b,n)` function for the example below and make sure it produces the correct output. Note that there could be some very minor differences from the results below depending on how you calculate the area. However, these differences should not be significant and should still pass the autograder. Assign the result to `q3_3`.\n",
    "\n",
    "```PYTHON\n",
    "Examples:\n",
    "\n",
    ">>> midpoint(-1,1,4)\n",
    "0.6878055489576537\n",
    "\n",
    ">>> midpoint(-1,1,16)\n",
    "0.6830048457095261\n",
    "\n",
    ">>> midpoint(1,2,10)\n",
    "0.13584922130730184\n",
    "```"
   ]
  },
  {
   "cell_type": "code",
   "execution_count": null,
   "id": "87cae7fe",
   "metadata": {
    "tags": [
     "otter_answer_cell"
    ]
   },
   "outputs": [],
   "source": [
    "# ANSWER CELL\n",
    "..."
   ]
  },
  {
   "cell_type": "code",
   "execution_count": null,
   "id": "478ce5e4",
   "metadata": {
    "tags": [
     "otter_answer_cell"
    ]
   },
   "outputs": [],
   "source": [
    "# TEST YOUR FUNCTION HERE\n",
    "q3_3 = ...\n",
    "\n",
    "print(f'P(a < x < b) ~ {q3_3}')"
   ]
  },
  {
   "cell_type": "code",
   "execution_count": null,
   "id": "6d055851",
   "metadata": {
    "deletable": false,
    "editable": false
   },
   "outputs": [],
   "source": [
    "grader.check(\"q3.3\")"
   ]
  },
  {
   "cell_type": "markdown",
   "id": "b3b1d088",
   "metadata": {},
   "source": [
    "## Question 4: Corrugated Sheets\n",
    "\n",
    "Corrugated roofing is produced by pressing a flat sheet of aluminum into a sheet whose cross section resembles the shape of a sine wave (see Figure 5).\n",
    "\n",
    "<center><img src=\"resources/sheet_profile.jpg\" style=\"width: 300px;\"/><center> \n",
    "    \n",
    "<center><img src=\"resources/corrugated_sheet.jpg\" style=\"width: 400px;\"/><figcaption> Figure 6: Corrugated sheet profile. </figcaption><center>\n",
    "\n",
    "<br>\n",
    "\n",
    "Consider a corrugated sheet that is $L_C$ inches long, with a wave height of $H$ inches from the center line, and a wavelength of $P$ inches. To manufacture such a sheet, we need to determine the required length $L_F$ of the initial flat sheet. To compute $L_F$, we determine the arc length of the wave, where the wave is given by:\n",
    "    \n",
    "$$f(x) = H \\sin\\left(\\dfrac{2\\pi}{P} x\\right)$$    \n",
    "    \n",
    "Thus, we can compute the arc length $L_F$ using the equation\n",
    "\n",
    "$$L_F = \\int_0^{L_C}\\sqrt{1+(f'(x))^2}dx$$\n",
    "\n",
    "Where $f'(x)$ is given by:\n",
    "\n",
    "$$f'(x) = \\frac{2\\pi H}{P}\\cos\\left(\\frac{2\\pi}{P}x\\right)$$\n",
    "\n",
    "In this problem, you'll explore numerical integration methods to compute $L_F$."
   ]
  },
  {
   "cell_type": "markdown",
   "id": "406434e4",
   "metadata": {
    "deletable": false,
    "editable": false
   },
   "source": [
    "### Question 4.0: Arc Length\n",
    "\n",
    "Write a function `arc_length(x,H,P)` which computes and returns the value of the infinitesimal arc length $\\sqrt{1+(f'(x))^2}$, i.e. the integrand in the arc length function, for the given parameters `H` and `P`, which are the wave height and wavelength, respectively (as given in the equations above). The output should be of the same type and size as `x` which may be a scalar float or a `numpy.array` of floats.\n",
    "\n",
    "Test your new `arc_length(x,H,P)` function for the examples below and make sure it produces the correct output. Assign the result to `q4_0`.\n",
    "\n",
    "```PYTHON\n",
    "Examples:\n",
    "\n",
    ">>> arc_length(1.0,2,10)\n",
    "1.42602888859332\n",
    "\n",
    ">>>  arc_length(np.linspace(0,4,5),2,10)\n",
    "array([1.60596909, 1.42602889, 1.07275073, 1.07275073, 1.42602889])\n",
    "```"
   ]
  },
  {
   "cell_type": "code",
   "execution_count": null,
   "id": "4a2f833c",
   "metadata": {
    "tags": [
     "otter_answer_cell"
    ]
   },
   "outputs": [],
   "source": [
    "# ANSWER CELL\n",
    "..."
   ]
  },
  {
   "cell_type": "code",
   "execution_count": null,
   "id": "c46d0bb0",
   "metadata": {
    "tags": [
     "otter_answer_cell"
    ]
   },
   "outputs": [],
   "source": [
    "# TEST YOUR FUNCTION HERE\n",
    "q4_0 = ...\n",
    "\n",
    "print(f'Integrand = {q4_0}')"
   ]
  },
  {
   "cell_type": "code",
   "execution_count": null,
   "id": "b5b80333",
   "metadata": {
    "deletable": false,
    "editable": false
   },
   "outputs": [],
   "source": [
    "grader.check(\"q4.0\")"
   ]
  },
  {
   "cell_type": "markdown",
   "id": "dbce8480",
   "metadata": {
    "deletable": false,
    "editable": false
   },
   "source": [
    "### Question 4.1: Trapezoid Rule\n",
    "\n",
    "Write a function `trapezoid(L_C,H,P,n)` where `n` is the number of equal intervals, and `L_C`, `H`, and `P` are the corrugated length, wave height, and wavelength, respectively (as given in the equations above). Your function should compute an approximation of $L_F$ using the trapezoid rule.\n",
    "\n",
    "Do not use any built-in integration functions. \n",
    "\n",
    "Test your new `trapezoid(L_C,H,P,n)` function for the example below and make sure it produces the correct output. Note that there could be some very minor differences from the results below depending on how you calculate the area. However, these differences should not be significant and should still pass the autograder. Assign the result to `q4_1`.\n",
    "\n",
    "```PYTHON\n",
    "Examples:\n",
    "    \n",
    ">>> trapezoid(72,1.5,2*np.pi,50)\n",
    "102.89489835685144\n",
    "\n",
    ">>> trapezoid(108,2,10,20)\n",
    "140.68412785784827\n",
    "\n",
    " >>> trapezoid(90,2,8,30)\n",
    "131.6522213593178\n",
    "```"
   ]
  },
  {
   "cell_type": "code",
   "execution_count": null,
   "id": "0d2d6c96",
   "metadata": {
    "tags": [
     "otter_answer_cell"
    ]
   },
   "outputs": [],
   "source": [
    "# ANSWER CELL\n",
    "..."
   ]
  },
  {
   "cell_type": "code",
   "execution_count": null,
   "id": "2716cd8b",
   "metadata": {
    "tags": [
     "otter_answer_cell"
    ]
   },
   "outputs": [],
   "source": [
    "# TEST YOUR FUNCTION HERE\n",
    "q4_1 = ...\n",
    "\n",
    "print(f'Arc Length ~ {q4_1}')"
   ]
  },
  {
   "cell_type": "code",
   "execution_count": null,
   "id": "add76100",
   "metadata": {
    "deletable": false,
    "editable": false
   },
   "outputs": [],
   "source": [
    "grader.check(\"q4.1\")"
   ]
  },
  {
   "cell_type": "markdown",
   "id": "0411e1c3",
   "metadata": {
    "deletable": false,
    "editable": false
   },
   "source": [
    "### Question 4.2: Simpson's Rule\n",
    "\n",
    "Write a function `simpson(L_C,H,P,n)` where `n` is the number of equal intervals, and `L_C`, `H`, and `P` are the corrugated length, wave height, and wavelength, respectively (as given in the equations above). Your function should compute an approximation of $L_F$ using Simpson's rule.\n",
    "\n",
    "Note that to use Simpson’s rule, you must have an odd number of grid points and, therefore, an even number of intervals. If the specified number of intervals `n` is odd, return the message \"Number of intervals must be even.\"\n",
    "\n",
    "Do not use any built-in integration functions. \n",
    "\n",
    "Test your new `simpson(L_C,H,P,n)` function for the example below and make sure it produces the correct output. Note that there could be some very minor differences from the results below depending on how you calculate the area. However, these differences should not be significant and should still pass the autograder. Assign the result to `q4_2`.\n",
    "\n",
    "```PYTHON\n",
    "Examples:\n",
    "    \n",
    ">>> simpson(72,1.5,2*np.pi,50)\n",
    "102.53506374537602\n",
    "\n",
    ">>> simpson(108,2,10,20)\n",
    "140.6332805053372\n",
    "\n",
    ">>> simpson(90,2,8,30)\n",
    "132.60485680897827\n",
    "\n",
    ">>> simpson(90,2,8,31)\n",
    "'Number of intervals must be even.'\n",
    "```"
   ]
  },
  {
   "cell_type": "code",
   "execution_count": null,
   "id": "cfce27a5",
   "metadata": {
    "tags": [
     "otter_answer_cell"
    ]
   },
   "outputs": [],
   "source": [
    "# ANSWER CELL\n",
    "..."
   ]
  },
  {
   "cell_type": "code",
   "execution_count": null,
   "id": "1ba376ec",
   "metadata": {
    "tags": [
     "otter_answer_cell"
    ]
   },
   "outputs": [],
   "source": [
    "# TEST YOUR FUNCTION HERE\n",
    "q4_2 = ...\n",
    "\n",
    "print(f'Arc Length ~ {q4_2}')"
   ]
  },
  {
   "cell_type": "code",
   "execution_count": null,
   "id": "7ff91793",
   "metadata": {
    "deletable": false,
    "editable": false
   },
   "outputs": [],
   "source": [
    "grader.check(\"q4.2\")"
   ]
  },
  {
   "cell_type": "markdown",
   "id": "cee0804c",
   "metadata": {
    "deletable": false,
    "editable": false
   },
   "source": [
    "### Question 4.3: Adaptive Quadrature\n",
    "\n",
    "Write a function `quad(L_C,H,P)` where `L_C`, `H`, and `P` are the corrugated length, wave height, and wavelength, respectively (as given in the equations above). Your function should compute and return an approximation of $L_F$ using the built-in `scipy.integrate.quad` function which uses a more advanced method known as adaptive quadrature to compute integrals up to arbitrary precision. Refer to the documentation [here](https://docs.scipy.org/doc/scipy/reference/generated/scipy.integrate.quad.html#scipy.integrate.quad). The required arguments are a function object which defines the function to be integrated as well as the lower and upper limits of integration. If the function has additional arguments, as is the case with `arc_length(x,H,P)`, they need to be passed to `scipy.integrate.quad` with the optional `args` argument. Use the default values for the remaining optional parameters. `scipy.integrate.quad` will return the value of the integral as well as an estimate of the absolute error. Your function should only return the value of the integral.\n",
    "\n",
    "Test your new `quad(L_C,H,P)` function for the example below and make sure it produces the correct output. Assign the result to `q4_3`.\n",
    "\n",
    "```PYTHON\n",
    "Examples:\n",
    "    \n",
    ">>> quad(72,1.5,2*np.pi)\n",
    "102.8880486715\n",
    "\n",
    ">>> quad(108,2,10)\n",
    "142.48321818018536\n",
    "\n",
    ">>> quad(90,2,8)\n",
    "131.73259251722146\n",
    "```"
   ]
  },
  {
   "cell_type": "code",
   "execution_count": null,
   "id": "5cf3c0bf",
   "metadata": {
    "tags": [
     "otter_answer_cell"
    ]
   },
   "outputs": [],
   "source": [
    "# ANSWER CELL\n",
    "# Do not modify this line\n",
    "import scipy\n",
    "\n",
    "..."
   ]
  },
  {
   "cell_type": "code",
   "execution_count": null,
   "id": "50a39d80",
   "metadata": {
    "tags": [
     "otter_answer_cell"
    ]
   },
   "outputs": [],
   "source": [
    "# TEST YOUR FUNCTION HERE\n",
    "q4_3 = ...\n",
    "\n",
    "print(f'Arc Length ~ {q4_3}')"
   ]
  },
  {
   "cell_type": "code",
   "execution_count": null,
   "id": "44b01565",
   "metadata": {
    "deletable": false,
    "editable": false
   },
   "outputs": [],
   "source": [
    "grader.check(\"q4.3\")"
   ]
  },
  {
   "cell_type": "markdown",
   "id": "8f89cc0d",
   "metadata": {},
   "source": [
    "### You're done with this Lab!\n",
    "\n",
    "**Important submission information:** After completing the assignment, click on the Save icon from the Tool Bar &nbsp;<i class=\"fa fa-save\" style=\"font-size:16px;\"></i>&nbsp;. After saving your notebook, **run the cell with** `grader.check_all()` and confirm that you pass the same tests as in the notebook. Then, **run the final cell** `grader.export()` and click the link to download the zip file. Then, go to Gradescope and submit the zip file to the corresponding assignment. \n",
    "\n",
    "**Once you have submitted, stay on the Gradescope page to confirm that you pass the same tests as in the notebook.**"
   ]
  },
  {
   "cell_type": "code",
   "execution_count": null,
   "id": "774da086",
   "metadata": {},
   "outputs": [],
   "source": [
    "import matplotlib.image as mpimg\n",
    "img = mpimg.imread('resources/animal.jpg')\n",
    "imgplot = plt.imshow(img)\n",
    "imgplot.axes.get_xaxis().set_visible(False)\n",
    "imgplot.axes.get_yaxis().set_visible(False)\n",
    "print(\"Congrats on finishing this lab\")\n",
    "plt.show()"
   ]
  },
  {
   "cell_type": "markdown",
   "id": "75928489",
   "metadata": {
    "deletable": false,
    "editable": false
   },
   "source": [
    "---\n",
    "\n",
    "To double-check your work, the cell below will rerun all of the autograder tests."
   ]
  },
  {
   "cell_type": "code",
   "execution_count": null,
   "id": "8d2385c6",
   "metadata": {
    "deletable": false,
    "editable": false
   },
   "outputs": [],
   "source": [
    "grader.check_all()"
   ]
  },
  {
   "cell_type": "markdown",
   "id": "0afe3feb",
   "metadata": {
    "deletable": false,
    "editable": false
   },
   "source": [
    "## Submission\n",
    "\n",
    "Make sure you have run all cells in your notebook in order before running the cell below, so that all images/graphs appear in the output. The cell below will generate a zip file for you to submit. **Please save before exporting!**\n",
    "\n",
    "Make sure you submit the .zip file to Gradescope."
   ]
  },
  {
   "cell_type": "code",
   "execution_count": null,
   "id": "c18f049b",
   "metadata": {
    "deletable": false,
    "editable": false
   },
   "outputs": [],
   "source": [
    "# Save your notebook first, then run this cell to export your submission.\n",
    "grader.export(pdf=False)"
   ]
  },
  {
   "cell_type": "markdown",
   "id": "b470663c",
   "metadata": {},
   "source": [
    " "
   ]
  }
 ],
 "metadata": {
  "kernelspec": {
   "display_name": "Python 3 (ipykernel)",
   "language": "python",
   "name": "python3"
  },
  "language_info": {
   "codemirror_mode": {
    "name": "ipython",
    "version": 3
   },
   "file_extension": ".py",
   "mimetype": "text/x-python",
   "name": "python",
   "nbconvert_exporter": "python",
   "pygments_lexer": "ipython3",
   "version": "3.11.11"
  },
  "otter": {
   "OK_FORMAT": true,
   "assignment_name": "lab10",
   "tests": {
    "q1.0": {
     "name": "q1.0",
     "points": 1.5,
     "suites": [
      {
       "cases": [
        {
         "code": ">>> assert get_hash(type(q1_0)) != '14e736438b115821cbb9b7ac0ba79034'\n",
         "failure_message": "Make sure to test your function!",
         "hidden": false,
         "locked": false,
         "points": 0.2
        },
        {
         "code": ">>> x = np.linspace(0, 10, 8) ** 4 / 4\n>>> t = np.linspace(0, 42, 8)\n>>> fd, t = forward_diff(x, t)\n>>> assert get_hash(len(t)) == '8f14e45fceea167a5a36dedd4bea2543'\n>>> assert get_hash(np.round(np.sum(t), decimals=10)) == '178a6d937373f4343f511ee76ace65b0'\n",
         "failure_message": "Check output array of times t.",
         "hidden": false,
         "locked": false,
         "points": 0.4
        },
        {
         "code": ">>> x = np.linspace(0, 10, 8) ** 4 / 4\n>>> t = np.linspace(0, 42, 8)\n>>> fd, t = forward_diff(x, t)\n>>> assert get_hash(len(fd)) == '8f14e45fceea167a5a36dedd4bea2543'\n>>> assert get_hash(np.round(np.sum(fd), decimals=10)) == '6db8caba1bdd7181a7c3b4687e118eea'\n",
         "failure_message": "Check output array of derivatives.",
         "hidden": false,
         "locked": false,
         "points": 0.4
        },
        {
         "code": ">>> t = np.linspace(0, 50, 9)\n>>> x = np.sin(t) * np.linspace(0, 1600, 9)\n>>> fd, t = forward_diff(x, t)\n>>> assert get_hash(len(fd)) == 'c9f0f895fb98ab9159f51fd0297e236d'\n>>> assert get_hash(np.round(np.sum(fd), decimals=10)) == '055595b5b0fc91c6d15d456ed9105fe8'\n>>> assert get_hash(len(t)) == 'c9f0f895fb98ab9159f51fd0297e236d'\n>>> assert get_hash(np.round(np.sum(t), decimals=10)) == '740ac294e64275dedc766369887de09f'\n",
         "hidden": false,
         "locked": false
        }
       ],
       "scored": true,
       "setup": "",
       "teardown": "",
       "type": "doctest"
      }
     ]
    },
    "q1.1": {
     "name": "q1.1",
     "points": 1.5,
     "suites": [
      {
       "cases": [
        {
         "code": ">>> assert get_hash(type(q1_1)) != '14e736438b115821cbb9b7ac0ba79034'\n",
         "failure_message": "Make sure to test your function!",
         "hidden": false,
         "locked": false,
         "points": 0.2
        },
        {
         "code": ">>> x = np.linspace(0, 10, 8) ** 4 / 4\n>>> t = np.linspace(0, 42, 8)\n>>> fd, t = backward_diff(x, t)\n>>> assert get_hash(len(t)) == '8f14e45fceea167a5a36dedd4bea2543'\n>>> assert get_hash(np.round(np.sum(t), decimals=10)) == 'c5f65ca2e1e8a6f25865540afab313b1'\n",
         "failure_message": "Check output array of times t.",
         "hidden": false,
         "locked": false,
         "points": 0.4
        },
        {
         "code": ">>> x = np.linspace(0, 10, 8) ** 4 / 4\n>>> t = np.linspace(0, 42, 8)\n>>> fd, t = backward_diff(x, t)\n>>> assert get_hash(len(fd)) == '8f14e45fceea167a5a36dedd4bea2543'\n>>> assert get_hash(np.round(np.sum(fd), decimals=10)) == '6db8caba1bdd7181a7c3b4687e118eea'\n",
         "failure_message": "Check output array of derivatives.",
         "hidden": false,
         "locked": false,
         "points": 0.4
        },
        {
         "code": ">>> t = np.linspace(0, 50, 9)\n>>> x = np.sin(t) * np.linspace(0, 1600, 9)\n>>> fd, t = backward_diff(x, t)\n>>> assert get_hash(len(fd)) == 'c9f0f895fb98ab9159f51fd0297e236d'\n>>> assert get_hash(np.round(np.sum(fd), decimals=10)) == '055595b5b0fc91c6d15d456ed9105fe8'\n>>> assert get_hash(len(t)) == 'c9f0f895fb98ab9159f51fd0297e236d'\n>>> assert get_hash(np.round(np.sum(t), decimals=10)) == 'c042f0232a75771cef34438527aceea0'\n",
         "hidden": false,
         "locked": false
        }
       ],
       "scored": true,
       "setup": "",
       "teardown": "",
       "type": "doctest"
      }
     ]
    },
    "q1.2": {
     "name": "q1.2",
     "points": 1.5,
     "suites": [
      {
       "cases": [
        {
         "code": ">>> assert get_hash(type(q1_2)) != '14e736438b115821cbb9b7ac0ba79034'\n",
         "failure_message": "Make sure to test your function!",
         "hidden": false,
         "locked": false,
         "points": 0.2
        },
        {
         "code": ">>> x = np.linspace(0, 10, 8) ** 4 / 4\n>>> t = np.linspace(0, 42, 8)\n>>> fd, t = central_diff(x, t)\n>>> assert get_hash(len(t)) == '1679091c5a880faf6fb5e6087eb1b2dc'\n>>> assert get_hash(np.round(np.sum(t), decimals=10)) == '178a6d937373f4343f511ee76ace65b0'\n",
         "failure_message": "Check output array of times t.",
         "hidden": false,
         "locked": false,
         "points": 0.4
        },
        {
         "code": ">>> x = np.linspace(0, 10, 8) ** 4 / 4\n>>> t = np.linspace(0, 42, 8)\n>>> fd, t = central_diff(x, t)\n>>> assert get_hash(len(fd)) == '1679091c5a880faf6fb5e6087eb1b2dc'\n>>> assert get_hash(np.round(np.sum(fd), decimals=10)) == '78d355d0b104e307f254d29880e7aae1'\n",
         "failure_message": "Check output array of derivatives.",
         "hidden": false,
         "locked": false,
         "points": 0.4
        },
        {
         "code": ">>> t = np.linspace(0, 50, 9)\n>>> x = np.sin(t) * np.linspace(0, 1600, 9)\n>>> fd, t = central_diff(x, t)\n>>> assert get_hash(len(fd)) == '8f14e45fceea167a5a36dedd4bea2543'\n>>> assert get_hash(np.round(np.sum(fd), decimals=10)) == 'c47b900e0ce6f5ace326bc13ecb78d13'\n>>> assert get_hash(len(t)) == '8f14e45fceea167a5a36dedd4bea2543'\n>>> assert get_hash(np.round(np.sum(t), decimals=10)) == '740ac294e64275dedc766369887de09f'\n",
         "hidden": false,
         "locked": false
        }
       ],
       "scored": true,
       "setup": "",
       "teardown": "",
       "type": "doctest"
      }
     ]
    },
    "q1.3": {
     "name": "q1.3",
     "points": 1.5,
     "suites": [
      {
       "cases": [
        {
         "code": ">>> assert get_hash(type(q1_3)) != '14e736438b115821cbb9b7ac0ba79034'\n",
         "failure_message": "Make sure to test your function!",
         "hidden": false,
         "locked": false,
         "points": 0.2
        },
        {
         "code": ">>> x = np.linspace(0, 10, 8) ** 4 / 4\n>>> t = np.linspace(0, 42, 8)\n>>> fd, t = second_central_diff(x, t)\n>>> assert get_hash(len(t)) == '1679091c5a880faf6fb5e6087eb1b2dc'\n>>> assert get_hash(np.round(np.sum(t), decimals=10)) == '178a6d937373f4343f511ee76ace65b0'\n",
         "failure_message": "Check output array of times t.",
         "hidden": false,
         "locked": false,
         "points": 0.4
        },
        {
         "code": ">>> x = np.linspace(0, 10, 8) ** 4 / 4\n>>> t = np.linspace(0, 42, 8)\n>>> fd, t = second_central_diff(x, t)\n>>> assert get_hash(len(fd)) == '1679091c5a880faf6fb5e6087eb1b2dc'\n>>> assert get_hash(np.round(np.sum(fd), decimals=10)) == '788d08507cc9e1090ef43e3d012d1eaf'\n",
         "failure_message": "Check output array of derivatives.",
         "hidden": false,
         "locked": false,
         "points": 0.4
        },
        {
         "code": ">>> t = np.linspace(0, 50, 9)\n>>> x = np.sin(t) * np.linspace(0, 1600, 9)\n>>> fd, t = second_central_diff(x, t)\n>>> assert get_hash(len(fd)) == '8f14e45fceea167a5a36dedd4bea2543'\n>>> assert get_hash(np.round(np.sum(fd), decimals=10)) == 'c17fff3e6d2799be199547f9c21904fd'\n>>> assert get_hash(len(t)) == '8f14e45fceea167a5a36dedd4bea2543'\n>>> assert get_hash(np.round(np.sum(t), decimals=10)) == '740ac294e64275dedc766369887de09f'\n",
         "hidden": false,
         "locked": false
        }
       ],
       "scored": true,
       "setup": "",
       "teardown": "",
       "type": "doctest"
      }
     ]
    },
    "q1.4": {
     "name": "q1.4",
     "points": 2,
     "suites": [
      {
       "cases": [
        {
         "code": ">>> assert get_hash(type(fig)) != '14e736438b115821cbb9b7ac0ba79034'\n",
         "failure_message": "Make sure to test your function!",
         "hidden": false,
         "locked": false,
         "points": 0.2
        },
        {
         "code": ">>> import matplotlib.pyplot as plt\n>>> x = np.linspace(0, 10, 8) ** 4 / 4\n>>> t = np.linspace(0, 42, 8)\n>>> fig = plot_finite_difference(x, t)\n>>> plt.close()\n>>> fd, t1 = forward_diff(x, t)\n>>> bd, t2 = backward_diff(x, t)\n>>> cd, t3 = central_diff(x, t)\n>>> assert np.allclose(fig.axes[0].get_lines()[0].get_xdata(), t1)\n>>> assert np.allclose(fig.axes[0].get_lines()[0].get_ydata(), fd)\n>>> assert np.allclose(fig.axes[0].get_lines()[1].get_xdata(), t2)\n>>> assert np.allclose(fig.axes[0].get_lines()[1].get_ydata(), bd)\n>>> assert np.allclose(fig.axes[0].get_lines()[2].get_xdata(), t3)\n>>> assert np.allclose(fig.axes[0].get_lines()[2].get_ydata(), cd)\n",
         "failure_message": "Check plot data.",
         "hidden": false,
         "locked": false
        },
        {
         "code": ">>> import matplotlib.pyplot as plt\n>>> x = np.linspace(0, 10, 8) ** 4 / 4\n>>> t = np.linspace(0, 42, 8)\n>>> fig = plot_finite_difference(x, t)\n>>> plt.close()\n>>> assert 'FORWARD' in fig.axes[0].get_lines()[0].get_label().upper(), 'Check the line labels.'\n>>> assert 'BACKWARD' in fig.axes[0].get_lines()[1].get_label().upper(), 'Check the line labels.'\n>>> assert 'CENTRAL' in fig.axes[0].get_lines()[2].get_label().upper(), 'Check the line labels.'\n",
         "failure_message": "Check line labels.",
         "hidden": false,
         "locked": false
        },
        {
         "code": ">>> import matplotlib.pyplot as plt\n>>> x = np.linspace(0, 10, 8) ** 4 / 4\n>>> t = np.linspace(0, 42, 8)\n>>> fig = plot_finite_difference(x, t)\n>>> plt.close()\n>>> assert 'TIME' in fig.axes[0].get_xlabel().upper(), 'Check the x-axis label.'\n>>> assert 'S' in fig.axes[0].get_xlabel().upper(), 'Check the x-axis label.'\n>>> assert 'VELOCITY' in fig.axes[0].get_ylabel().upper(), 'Check the y-axis label.'\n>>> assert 'FT' in fig.axes[0].get_ylabel().upper(), 'Check the y-axis label.'\n>>> assert 'FINITE' in fig.axes[0].get_title().upper(), 'Check the title label.'\n>>> assert 'DIFFERENCE' in fig.axes[0].get_title().upper(), 'Check the title label.'\n",
         "failure_message": "Check title and axis labels.",
         "hidden": false,
         "locked": false
        },
        {
         "code": ">>> import matplotlib.pyplot as plt\n>>> x = np.linspace(0, 10, 8) ** 4 / 4\n>>> t = np.linspace(0, 42, 8)\n>>> fig = plot_finite_difference(x, t)\n>>> plt.close()\n>>> assert type(fig.axes[0].get_legend()) != type(None), 'Make sure to add a legend.'\n>>> assert fig.axes[0].get_xlim() == (0, 45), 'Check the x-axis limits.'\n>>> assert fig.axes[0].get_ylim() == (0, 200), 'Check the y-axis limits.'\n",
         "failure_message": "Check legend and axis limits.",
         "hidden": false,
         "locked": false
        }
       ],
       "scored": true,
       "setup": "",
       "teardown": "",
       "type": "doctest"
      }
     ]
    },
    "q2.0": {
     "name": "q2.0",
     "points": 1,
     "suites": [
      {
       "cases": [
        {
         "code": ">>> assert get_hash(len(ant_t)) == '3644a684f98ea8fe223c713b77189a77'\n>>> assert get_hash(round(sum(ant_t), 10)) == '6afee53fff721cd3a9cb842db805c21d'\n",
         "failure_message": "Check ant_time",
         "hidden": false,
         "locked": false
        },
        {
         "code": ">>> assert get_hash(len(ant_x)) == '3644a684f98ea8fe223c713b77189a77'\n>>> assert get_hash(round(sum(ant_x), 10)) == '7e849871d7ba4a42baa29eff17313f97'\n",
         "failure_message": "Check ant_time",
         "hidden": false,
         "locked": false
        }
       ],
       "scored": true,
       "setup": "",
       "teardown": "",
       "type": "doctest"
      }
     ]
    },
    "q2.1": {
     "name": "q2.1",
     "points": 2,
     "suites": [
      {
       "cases": [
        {
         "code": ">>> assert get_hash(type(fig)) != '14e736438b115821cbb9b7ac0ba79034'\n",
         "failure_message": "Make sure to test your function!",
         "hidden": false,
         "locked": false,
         "points": 0.2
        },
        {
         "code": ">>> import matplotlib.pyplot as plt\n>>> fig = plot_ant_vel(ant_x, ant_t)\n>>> plt.close()\n>>> fd, t1 = forward_diff(ant_x, ant_t)\n>>> bd, t2 = backward_diff(ant_x, ant_t)\n>>> cd, t3 = central_diff(ant_x, ant_t)\n>>> assert np.allclose(fig.axes[0].get_lines()[0].get_xdata(), t1)\n>>> assert np.allclose(fig.axes[0].get_lines()[0].get_ydata(), fd)\n>>> assert np.allclose(fig.axes[0].get_lines()[1].get_xdata(), t2)\n>>> assert np.allclose(fig.axes[0].get_lines()[1].get_ydata(), bd)\n>>> assert np.allclose(fig.axes[0].get_lines()[2].get_xdata(), t3)\n>>> assert np.allclose(fig.axes[0].get_lines()[2].get_ydata(), cd)\n",
         "failure_message": "Check plot data.",
         "hidden": false,
         "locked": false
        },
        {
         "code": ">>> import matplotlib.pyplot as plt\n>>> fig = plot_ant_vel(ant_x, ant_t)\n>>> plt.close()\n>>> assert 'FORWARD' in fig.axes[0].get_lines()[0].get_label().upper(), 'Check the line labels.'\n>>> assert 'BACKWARD' in fig.axes[0].get_lines()[1].get_label().upper(), 'Check the line labels.'\n>>> assert 'CENTRAL' in fig.axes[0].get_lines()[2].get_label().upper(), 'Check the line labels.'\n",
         "failure_message": "Check line labels.",
         "hidden": false,
         "locked": false
        },
        {
         "code": ">>> import matplotlib.pyplot as plt\n>>> fig = plot_ant_vel(ant_x, ant_t)\n>>> plt.close()\n>>> assert 'TIME' in fig.axes[0].get_xlabel().upper(), 'Check the x-axis label.'\n>>> assert 'S' in fig.axes[0].get_xlabel().upper(), 'Check the x-axis label.'\n>>> assert 'VELOCITY' in fig.axes[0].get_ylabel().upper(), 'Check the y-axis label.'\n>>> assert 'MM' in fig.axes[0].get_ylabel().upper(), 'Check the y-axis label.'\n>>> assert 'VELOCITY' in fig.axes[0].get_title().upper(), 'Check the title label.'\n",
         "failure_message": "Check title and axis labels.",
         "hidden": false,
         "locked": false
        },
        {
         "code": ">>> import matplotlib.pyplot as plt\n>>> fig = plot_ant_vel(ant_x, ant_t)\n>>> plt.close()\n>>> assert type(fig.axes[0].get_legend()) != type(None), 'Make sure to add a legend.'\n>>> assert fig.axes[0].get_xlim() == (0, 100), 'Check the x-axis limits.'\n>>> assert fig.axes[0].get_ylim() == (-20, 100), 'Check the y-axis limits.'\n",
         "failure_message": "Check legend and axis limits.",
         "hidden": false,
         "locked": false
        }
       ],
       "scored": true,
       "setup": "",
       "teardown": "",
       "type": "doctest"
      }
     ]
    },
    "q2.2": {
     "name": "q2.2",
     "points": 2,
     "suites": [
      {
       "cases": [
        {
         "code": ">>> assert get_hash(type(q2_2)) != '14e736438b115821cbb9b7ac0ba79034'\n",
         "failure_message": "Make sure to test your function!",
         "hidden": false,
         "locked": false,
         "points": 0
        },
        {
         "code": ">>> assert get_hash(count_turn_back(np.array([1, 2, -1, -2, 3, -4, 5, -6]))) == 'eccbc87e4b5ce2fe28308fd9f2a7baf3'\n>>> assert get_hash(count_turn_back(np.array([1, -2, -1, 1, -2, 1, -3, 2, -6]))) == 'a87ff679a2f3e71d9181a67b7542122c'\n>>> assert get_hash(count_turn_back(np.array([-1, -1, 1, -2, 1, -3, 2, -6, 2]))) == 'eccbc87e4b5ce2fe28308fd9f2a7baf3'\n>>> assert get_hash(count_turn_back(np.array([1, -1, 1, -2, -2, 1, 1, -3, 2, -6, 1, -2, 4, -8, 2, -2, -2, 2]))) == '8f14e45fceea167a5a36dedd4bea2543'\n",
         "failure_message": "Incorrect answer.",
         "hidden": false,
         "locked": false,
         "points": 1
        },
        {
         "code": ">>> assert get_hash(count_turn_back(np.array([1, 2, -1, -2, 3, -4, 5, -6]))) == 'eccbc87e4b5ce2fe28308fd9f2a7baf3'\n>>> assert get_hash(count_turn_back(np.array([1, -2, -1, 1, -2, 1, -3, 2, -6]))) == 'a87ff679a2f3e71d9181a67b7542122c'\n>>> assert get_hash(count_turn_back(np.array([-1, -1, 1, -2, 1, -3, 2, -6, 2]))) == 'eccbc87e4b5ce2fe28308fd9f2a7baf3'\n>>> assert get_hash(count_turn_back(np.array([1, -1, 1, -2, -2, 1, 1, -3, 2, -6, 1, -2, 4, -8, 2, -2, -2, 2]))) == '8f14e45fceea167a5a36dedd4bea2543'\n>>> assert callable(count_turn_back) and count_turn_back.__name__ == '<lambda>'\n",
         "failure_message": "You need to write it as a lambda function for full credit.",
         "hidden": false,
         "locked": false,
         "points": 1
        }
       ],
       "scored": true,
       "setup": "",
       "teardown": "",
       "type": "doctest"
      }
     ]
    },
    "q3.0": {
     "name": "q3.0",
     "points": 0.5,
     "suites": [
      {
       "cases": [
        {
         "code": ">>> assert get_hash(type(q3_0)) != '14e736438b115821cbb9b7ac0ba79034'\n",
         "failure_message": "Make sure to test your function!",
         "hidden": false,
         "locked": false,
         "points": 0
        },
        {
         "code": ">>> assert get_hash(np.round(prob_density(0.0), decimals=10)) == '8b34af8fdef3efe96bb92c7e5c94c1a9'\n>>> assert get_hash(np.round(prob_density(1.0), decimals=10)) == 'ce9b517f150e250c0714b0c2f1706794'\n>>> assert get_hash(len(prob_density(np.linspace(-3, 3, 3)))) == 'eccbc87e4b5ce2fe28308fd9f2a7baf3'\n>>> assert get_hash(np.round(np.sum(prob_density(np.linspace(-3, 3, 3))), decimals=10)) == 'ff66233ef232fb604807dc368a2418e5'\n",
         "failure_message": "Check given examples.",
         "hidden": false,
         "locked": false
        },
        {
         "code": ">>> assert get_hash(np.round(prob_density(3.0), decimals=10)) == '7a4119a30cf776af10c5d15d4a88d1f6'\n",
         "hidden": false,
         "locked": false
        },
        {
         "code": ">>> assert get_hash(np.round(prob_density(-2.0), decimals=10)) == '0b7ab1ceb5af4c0bf02becc62a6db1f1'\n",
         "hidden": false,
         "locked": false
        },
        {
         "code": ">>> assert get_hash(len(prob_density(np.linspace(-4, 4)))) == 'c0c7c76d30bd3dcaefc96f40275bdc0a'\n>>> assert get_hash(np.round(np.sum(prob_density(np.linspace(-4, 4))), decimals=10)) == '7b52acb2d8c96f99ab3055413c17e8d7'\n",
         "hidden": false,
         "locked": false
        }
       ],
       "scored": true,
       "setup": "",
       "teardown": "",
       "type": "doctest"
      }
     ]
    },
    "q3.1": {
     "name": "q3.1",
     "points": 1.5,
     "suites": [
      {
       "cases": [
        {
         "code": ">>> assert get_hash(type(q3_1)) != '14e736438b115821cbb9b7ac0ba79034'\n",
         "failure_message": "Make sure to test your function!",
         "hidden": false,
         "locked": false,
         "points": 0.2
        },
        {
         "code": ">>> assert get_hash(np.round(left_riemann(-1, 1, 4), decimals=10)) == 'ad2d82776c936896c7f64c4dff6bb951'\n>>> assert get_hash(np.round(left_riemann(-1, 1, 16), decimals=10)) == '1b754edc46166d9b90edcd24b2112b60'\n>>> assert get_hash(np.round(left_riemann(1, 2, 10), decimals=10)) == 'd38ab5c6c1b4fc61cc19508e23f718bd'\n",
         "failure_message": "Check given examples.",
         "hidden": false,
         "locked": false
        },
        {
         "code": ">>> assert get_hash(np.round(left_riemann(-1.5, -0.5, 8), decimals=10)) == 'f7bf5801475b6d45ae3b4c69ca782639'\n",
         "hidden": false,
         "locked": false
        },
        {
         "code": ">>> assert get_hash(np.round(left_riemann(-4, 4, 20), decimals=10)) == '6797f80da99d42f847e6932fbd055dc6'\n",
         "hidden": false,
         "locked": false
        }
       ],
       "scored": true,
       "setup": "",
       "teardown": "",
       "type": "doctest"
      }
     ]
    },
    "q3.2": {
     "name": "q3.2",
     "points": 1.5,
     "suites": [
      {
       "cases": [
        {
         "code": ">>> assert get_hash(type(q3_2)) != '14e736438b115821cbb9b7ac0ba79034'\n",
         "failure_message": "Make sure to test your function!",
         "hidden": false,
         "locked": false,
         "points": 0.2
        },
        {
         "code": ">>> assert get_hash(np.round(right_riemann(-1, 1, 4), decimals=10)) == 'ad2d82776c936896c7f64c4dff6bb951'\n>>> assert get_hash(np.round(right_riemann(-1, 1, 16), decimals=10)) == '1b754edc46166d9b90edcd24b2112b60'\n>>> assert get_hash(np.round(right_riemann(1, 2, 10), decimals=10)) == '27236cfdd41b40528e62f1514118f87d'\n",
         "failure_message": "Check given examples.",
         "hidden": false,
         "locked": false
        },
        {
         "code": ">>> assert get_hash(np.round(right_riemann(-1.5, -0.5, 8), decimals=10)) == 'ec642eef16100a258f3c54f143290414'\n",
         "hidden": false,
         "locked": false
        },
        {
         "code": ">>> assert get_hash(np.round(right_riemann(-4, 4, 20), decimals=10)) == '6797f80da99d42f847e6932fbd055dc6'\n",
         "hidden": false,
         "locked": false
        }
       ],
       "scored": true,
       "setup": "",
       "teardown": "",
       "type": "doctest"
      }
     ]
    },
    "q3.3": {
     "name": "q3.3",
     "points": 1.5,
     "suites": [
      {
       "cases": [
        {
         "code": ">>> assert get_hash(type(q3_3)) != '14e736438b115821cbb9b7ac0ba79034'\n",
         "failure_message": "Make sure to test your function!",
         "hidden": false,
         "locked": false,
         "points": 0.2
        },
        {
         "code": ">>> assert get_hash(np.round(midpoint(-1, 1, 4), decimals=10)) == '4c9288729f4e8d6c06e16f93ca4a0291'\n>>> assert get_hash(np.round(midpoint(-1, 1, 16), decimals=10)) == 'b10a89f5b1130c329c745c38636a4e85'\n>>> assert get_hash(np.round(midpoint(1, 2, 10), decimals=10)) == 'ba41a1fc23a4f74d56dbbedbe623b303'\n",
         "failure_message": "Check given examples.",
         "hidden": false,
         "locked": false
        },
        {
         "code": ">>> assert get_hash(np.round(midpoint(-1.5, -0.5, 8), decimals=10)) == '53c7a1139243821727e7777d3726f56a'\n",
         "hidden": false,
         "locked": false
        },
        {
         "code": ">>> assert get_hash(np.round(midpoint(-4, 4, 20), decimals=10)) == '3c139a5c1cd6e13e1a3d4ad5e3527e09'\n",
         "hidden": false,
         "locked": false
        }
       ],
       "scored": true,
       "setup": "",
       "teardown": "",
       "type": "doctest"
      }
     ]
    },
    "q4.0": {
     "name": "q4.0",
     "points": 0.5,
     "suites": [
      {
       "cases": [
        {
         "code": ">>> assert get_hash(type(q4_0)) != '14e736438b115821cbb9b7ac0ba79034'\n",
         "failure_message": "Make sure to test your function!",
         "hidden": false,
         "locked": false,
         "points": 0
        },
        {
         "code": ">>> assert get_hash(np.round(arc_length(1.0, 2, 10), decimals=10)) == 'd0d34c32b571ab1fc2ea25a9ca390f0b'\n>>> assert get_hash(len(arc_length(np.linspace(0, 4, 5), 2, 10))) == 'e4da3b7fbbce2345d7772b0674a318d5'\n>>> assert get_hash(np.round(np.sum(arc_length(np.linspace(0, 4, 5), 2, 10)), decimals=10)) == '639440cf796ea06c52824c1e42f343e4'\n",
         "failure_message": "Check given examples.",
         "hidden": false,
         "locked": false
        },
        {
         "code": ">>> assert get_hash(np.round(arc_length(3, 3, 8), decimals=10)) == '52990045c97c8ca4e1f966bc87652929'\n",
         "hidden": false,
         "locked": false
        },
        {
         "code": ">>> assert get_hash(len(arc_length(np.linspace(0, 10), 2, 10))) == 'c0c7c76d30bd3dcaefc96f40275bdc0a'\n",
         "hidden": false,
         "locked": false
        },
        {
         "code": ">>> assert get_hash(np.round(np.sum(arc_length(np.linspace(0, 4, 5), 2, 10)), decimals=10)) == '639440cf796ea06c52824c1e42f343e4'\n",
         "hidden": false,
         "locked": false
        }
       ],
       "scored": true,
       "setup": "",
       "teardown": "",
       "type": "doctest"
      }
     ]
    },
    "q4.1": {
     "name": "q4.1",
     "points": 1.5,
     "suites": [
      {
       "cases": [
        {
         "code": ">>> assert get_hash(type(q4_1)) != '14e736438b115821cbb9b7ac0ba79034'\n",
         "failure_message": "Make sure to test your function!",
         "hidden": false,
         "locked": false,
         "points": 0.2
        },
        {
         "code": ">>> assert get_hash(np.round(trapezoid(72, 1.5, 2 * np.pi, 50), decimals=10)) == '42a7a136a6bbbef36cfd80db70b9bd08'\n>>> assert get_hash(np.round(trapezoid(108, 2, 10, 20), decimals=10)) == '46ee9026714da49e3bbae76956e490d6'\n>>> assert get_hash(np.round(trapezoid(90, 2, 8, 30), decimals=10)) == '7686253236806613db4ec7675ff508fd'\n",
         "failure_message": "Check given examples.",
         "hidden": false,
         "locked": false
        },
        {
         "code": ">>> assert get_hash(np.round(trapezoid(70, 1, 2.5 * np.pi, 40), decimals=10)) == '9947f9ab48a52d3a4a0fbf0d289ce5de'\n",
         "hidden": false,
         "locked": false
        },
        {
         "code": ">>> assert get_hash(np.round(trapezoid(104, 1.5, 6, 18), decimals=10)) == '25dbefa67086af7d844dcbcc4b93791d'\n",
         "hidden": false,
         "locked": false
        },
        {
         "code": ">>> assert get_hash(np.round(trapezoid(80, 3, 4, 25), decimals=10)) == '6e2aadd1c7a6cc810c611a400ab7b05c'\n",
         "hidden": false,
         "locked": false
        },
        {
         "code": ">>> assert get_hash(np.round(trapezoid(95, 4, 3, 30), decimals=10)) == 'aca22c5172f8041ae1b69abd3f8cfe1d'\n",
         "hidden": false,
         "locked": false
        }
       ],
       "scored": true,
       "setup": "",
       "teardown": "",
       "type": "doctest"
      }
     ]
    },
    "q4.2": {
     "name": "q4.2",
     "points": 3,
     "suites": [
      {
       "cases": [
        {
         "code": ">>> assert get_hash(type(q4_2)) != '14e736438b115821cbb9b7ac0ba79034'\n",
         "failure_message": "Make sure to test your function!",
         "hidden": false,
         "locked": false,
         "points": 0.2
        },
        {
         "code": ">>> assert get_hash(np.round(simpson(72, 1.5, 2 * np.pi, 50), decimals=10)) == 'ef9a02a994ddda85199530de13b307fb'\n>>> assert get_hash(np.round(simpson(108, 2, 10, 20), decimals=10)) == 'c8b0c8b0923bc98d754d89a26fbe6516'\n>>> assert get_hash(np.round(simpson(90, 2, 8, 30), decimals=10)) == '5011a5c8411e94373f98674ff9a3a697'\n>>> assert 'EVEN' in simpson(90, 2, 8, 31).upper(), 'What if n is odd?'\n",
         "failure_message": "Check given examples.",
         "hidden": false,
         "locked": false
        },
        {
         "code": ">>> assert get_hash(np.round(simpson(70, 1, 2.5 * np.pi, 40), decimals=10)) == 'eef40182ece9a4820bef551a6a0e9de1'\n",
         "hidden": false,
         "locked": false
        },
        {
         "code": ">>> assert get_hash(np.round(simpson(104, 1.5, 6, 18), decimals=10)) == '46dff30acef75fd487f695296a540347'\n",
         "hidden": false,
         "locked": false
        },
        {
         "code": ">>> assert 'EVEN' in simpson(80, 3, 4, 25).upper(), 'What if n is odd?'\n",
         "hidden": false,
         "locked": false
        },
        {
         "code": ">>> assert get_hash(np.round(simpson(95, 4, 3, 30), decimals=8)) == '7fc96de2390b282a233d95d1de72e6f3'\n",
         "hidden": false,
         "locked": false
        }
       ],
       "scored": true,
       "setup": "",
       "teardown": "",
       "type": "doctest"
      }
     ]
    },
    "q4.3": {
     "name": "q4.3",
     "points": 2,
     "suites": [
      {
       "cases": [
        {
         "code": ">>> import scipy\n>>> assert get_hash(type(q4_3)) != '14e736438b115821cbb9b7ac0ba79034'\n",
         "failure_message": "Make sure to test your function!",
         "hidden": false,
         "locked": false,
         "points": 0.2
        },
        {
         "code": ">>> import scipy\n>>> assert get_hash(np.round(quad(72, 1.5, 2 * np.pi), decimals=10)) == 'f8e153d2b8a8b43dffd2cdcac134034d'\n>>> assert get_hash(np.round(quad(108, 2, 10), decimals=10)) == '5b57094531e509e038eca980fb5eeda5'\n>>> assert get_hash(np.round(quad(90, 2, 8), decimals=10)) == 'cbf0055f331942bcaffb7e1ec532f273'\n",
         "failure_message": "Check given examples.",
         "hidden": false,
         "locked": false
        },
        {
         "code": ">>> import scipy\n>>> assert get_hash(np.round(quad(70, 1, 2.5 * np.pi), decimals=10)) == '6f0f32faba0632dccd715186aa42876b'\n",
         "hidden": false,
         "locked": false
        },
        {
         "code": ">>> import scipy\n>>> assert get_hash(np.round(quad(60, 1.5, 6), decimals=10)) == '183d04f158b4af6c7f4bfd1702becbc6'\n",
         "hidden": false,
         "locked": false
        },
        {
         "code": ">>> import scipy\n>>> assert get_hash(np.round(quad(30, 3, 4), decimals=10)) == '13a57b2f2e698f2a5f9c25362f7ef504'\n",
         "hidden": false,
         "locked": false
        },
        {
         "code": ">>> import scipy\n>>> assert get_hash(np.round(quad(27, 3, 5), decimals=10)) == 'a863fe878857f903a16f57180102b505'\n",
         "hidden": false,
         "locked": false
        }
       ],
       "scored": true,
       "setup": "",
       "teardown": "",
       "type": "doctest"
      }
     ]
    }
   }
  }
 },
 "nbformat": 4,
 "nbformat_minor": 5
}
