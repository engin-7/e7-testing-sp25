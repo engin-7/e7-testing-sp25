{
 "cells": [
  {
   "cell_type": "raw",
   "metadata": {},
   "source": [
    "# ASSIGNMENT CONFIG\n",
    "solutions_pdf: false\n",
    "name: lab03\n",
    "files:\n",
    "    - resources\n",
    "generate:\n",
    "    pdf: false\n",
    "    filtering: true\n",
    "    pagebreaks: true\n",
    "check_all_cell: true\n",
    "export_cell: \n",
    "    instructions: \"Make sure you submit the .zip file to Gradescope.\"\n",
    "    run_tests: false\n",
    "    no_xecjk: true\n",
    "    pdf: false"
   ]
  },
  {
   "cell_type": "markdown",
   "metadata": {},
   "source": [
    "# E7: Lab Assignment 03 - Functions & Conditional Statements\n",
    "\n",
    "You must submit the lab to Gradescope by the due date. You will submit the zip file produced by running the final cell of the assignment.\n",
    "\n",
    "## Instructions\n",
    "\n",
    "**Run the first cell, Initialize Otter**, to import the autograder and submission exporter.\n",
    "\n",
    "Throughout the assignment, replace `...` with your answers. We use `...` as a placeholder and these should be deleted and replaced with your answers.\n",
    "\n",
    "Any part listed as a \"<font color='red'>**Question**</font>\" should be answered to receive credit.\n",
    "\n",
    "**Please save your work after every question!**\n",
    "\n",
    "To read the documentation on a Python function, you can type `help()` and add the function name between parentheses.\n",
    "\n",
    "## Score Breakdown\n",
    "Question   | Points\n",
    ":---       | --:\n",
    "1          | 2\n",
    "2.0 – 2.3  | 4\n",
    "3.0 – 3.3  | 5\n",
    "4.0 – 4.3  | 7\n",
    "5          | 4\n",
    "6          | 3\n",
    "Total      | 25\n",
    "\n",
    "**Run the cell below**, to import the required modules."
   ]
  },
  {
   "cell_type": "code",
   "execution_count": 1,
   "metadata": {
    "tags": []
   },
   "outputs": [],
   "source": [
    "# Please run this cell, and do not modify the contets\n",
    "import math\n",
    "import numpy as np\n",
    "import matplotlib.pyplot as plt\n",
    "\n",
    "import hashlib\n",
    "def get_hash(num):\n",
    "    \"\"\"Helper function for assessing correctness\"\"\"\n",
    "    return hashlib.md5(str(num).encode()).hexdigest()"
   ]
  },
  {
   "cell_type": "raw",
   "metadata": {},
   "source": [
    "# BEGIN QUESTION\n",
    "name: q1\n",
    "points: 2"
   ]
  },
  {
   "cell_type": "markdown",
   "metadata": {},
   "source": [
    "## Question 1: Roots\n",
    "\n",
    "Write a Python function that calculates the roots of a quadratic equation $ax^2+bx+\n",
    "c = 0$ of unknown $x$, using the quadratic formula below. \n",
    "\n",
    "$$x = \\frac{-b\\pm \\sqrt{b^2-4ac}}{2a}$$\n",
    "\n",
    "The function output should be a two element tuple. The first element, `elem_1`, should be the root computed by setting the $\\pm$ to $+$, and the second element, `elem_2`, should be the root computed by setting the $\\pm$ to $-$.\n",
    "\n",
    "The discriminant is $b^2 - 4ac$. You may assume $b^2 - 4ac \\ge 0$.\n",
    "\n",
    "Test your `solve_quadratic()` function to calculate the roots of the following equation: $6x^2-17x+12 = 0$ and assign the output to `q1`. "
   ]
  },
  {
   "cell_type": "raw",
   "metadata": {},
   "source": [
    "# BEGIN SOLUTION"
   ]
  },
  {
   "cell_type": "code",
   "execution_count": 2,
   "metadata": {
    "tags": []
   },
   "outputs": [],
   "source": [
    "# ANSWER CELL\n",
    "def solve_quadratic(a, b, c):\n",
    "    \"\"\"\n",
    "    Arguments\n",
    "    ---------\n",
    "    a : coefficient of x**2\n",
    "    b : coefficient of x\n",
    "    c : constant\n",
    "    \n",
    "    Returns\n",
    "    -------\n",
    "    elem_1 : larger root of quadratic equation\n",
    "    elem_2 : smaller root of quadratic equation\n",
    "    \"\"\"\n",
    "    discriminant = math.sqrt(b*b-4*a*c) # SOLUTION\n",
    "    elem_1 = (-b+discriminant)/(2*a) # SOLUTION\n",
    "    elem_2 = (-b-discriminant)/(2*a) # SOLUTION\n",
    "    return elem_1, elem_2 "
   ]
  },
  {
   "cell_type": "code",
   "execution_count": 3,
   "metadata": {},
   "outputs": [
    {
     "name": "stdout",
     "output_type": "stream",
     "text": [
      "Roots: (1.5, 1.3333333333333333)\n"
     ]
    }
   ],
   "source": [
    "# TEST YOUR FUNCTION HERE\n",
    "q1 = solve_quadratic(6,-17,12) # SOLUTION\n",
    "\n",
    "print(f'Roots: {q1}')"
   ]
  },
  {
   "cell_type": "raw",
   "metadata": {
    "tags": []
   },
   "source": [
    "# END SOLUTION"
   ]
  },
  {
   "cell_type": "raw",
   "metadata": {},
   "source": [
    "# BEGIN TESTS"
   ]
  },
  {
   "cell_type": "code",
   "execution_count": 4,
   "metadata": {},
   "outputs": [],
   "source": [
    "\"\"\" # BEGIN TEST CONFIG\n",
    "points: 0.25\n",
    "failure_message: Make sure to test your function!\n",
    "\"\"\" # END TEST CONFIG\n",
    "\n",
    "# Check function was tested\n",
    "assert get_hash(type(q1)) != '14e736438b115821cbb9b7ac0ba79034'"
   ]
  },
  {
   "cell_type": "code",
   "execution_count": 5,
   "metadata": {
    "tags": []
   },
   "outputs": [],
   "source": [
    "assert get_hash(np.round(solve_quadratic(5, -23, 2), 10)) == 'a5a94596c93b869b93e19acd21a6e879'\n",
    "assert get_hash(np.round(solve_quadratic(1, 2, 1), 10)) == 'd98a89a61bd4adbd223683d56069916e'\n",
    "assert get_hash(np.round(solve_quadratic(5.2, 3.5, -2.1), 10)) == '0c326748f52f4ce9452543ae27ac8698'"
   ]
  },
  {
   "cell_type": "raw",
   "metadata": {},
   "source": [
    "# END TESTS"
   ]
  },
  {
   "cell_type": "raw",
   "metadata": {},
   "source": [
    "# END QUESTION"
   ]
  },
  {
   "cell_type": "raw",
   "metadata": {},
   "source": [
    "# BEGIN QUESTION\n",
    "name: q2.0\n",
    "points: 1"
   ]
  },
  {
   "cell_type": "markdown",
   "metadata": {},
   "source": [
    "## Question 2\n",
    "\n",
    "Carbon dating is a method for determining the age of an object containing the radioisotope carbon-14. Since carbon-14 is subject to radioactive decay, the number of carbon-14 atoms in a sample will decay over time according to the following exponential decay law:\n",
    "\n",
    "$$ N(t) = N_0 e^{-\\lambda t} $$\n",
    "\n",
    "where $N_0$ is the number of atoms of the isotope in the original sample at time 0, $N(t)$ is the remaining number of atoms after a time $t$, $\\lambda$ is the exponential decay constant and $t$ is the time.\n",
    "\n",
    "### Question 2.0\n",
    "\n",
    "Write a function that calculates and returns the remaining fraction of carbon-14 in a sample after a certain amount of time (in years). The remaining fraction is defined as the ratio of the number of atoms at the present time ($N(t)$) to the initial number of atoms ($N_0$). You can re-arrange the decay formula above to find an expression for this ratio.\n",
    "\n",
    "Assume $\\lambda = 0.00012097 \\: \\text{years}^{-1}$.\n",
    "\n",
    "Test your new `c14_dating()` function for `time = 1000` years and assign the output to `q2_0`. Feel free to try it for other inputs."
   ]
  },
  {
   "cell_type": "raw",
   "metadata": {},
   "source": [
    "# BEGIN SOLUTION"
   ]
  },
  {
   "cell_type": "code",
   "execution_count": 6,
   "metadata": {
    "tags": []
   },
   "outputs": [],
   "source": [
    "# ANSWER CELL\n",
    "def c14_dating(time):\n",
    "    ratio = math.e**(-time*0.00012097) # SOLUTION\n",
    "    return ratio"
   ]
  },
  {
   "cell_type": "code",
   "execution_count": 7,
   "metadata": {},
   "outputs": [
    {
     "name": "stdout",
     "output_type": "stream",
     "text": [
      "The remaining fraction is: 0.8860605410103827\n"
     ]
    }
   ],
   "source": [
    "# TEST YOUR FUNCTION HERE\n",
    "q2_0 = c14_dating(1000) # SOLUTION\n",
    "\n",
    "print(f'The remaining fraction is: {q2_0}')"
   ]
  },
  {
   "cell_type": "raw",
   "metadata": {
    "tags": []
   },
   "source": [
    "# END SOLUTION"
   ]
  },
  {
   "cell_type": "raw",
   "metadata": {},
   "source": [
    "# BEGIN TESTS"
   ]
  },
  {
   "cell_type": "code",
   "execution_count": 8,
   "metadata": {},
   "outputs": [],
   "source": [
    "\"\"\" # BEGIN TEST CONFIG\n",
    "points: 0.25\n",
    "failure_message: Make sure to test your function!\n",
    "\"\"\" # END TEST CONFIG\n",
    "\n",
    "# Check function was tested\n",
    "assert get_hash(type(q2_0)) != '14e736438b115821cbb9b7ac0ba79034'"
   ]
  },
  {
   "cell_type": "code",
   "execution_count": 9,
   "metadata": {
    "tags": []
   },
   "outputs": [],
   "source": [
    "assert get_hash(round(c14_dating(5730),4)) == 'd310cb367d993fb6fb584b198a2fd72c'\n",
    "assert get_hash(round(c14_dating(0.956),4)) == '94eab0ef89d927c724320fec6169d935'\n",
    "assert get_hash(round(c14_dating(14023),4)) == 'adc61c91420dc18855e1b8f869d62f02'"
   ]
  },
  {
   "cell_type": "raw",
   "metadata": {},
   "source": [
    "# END TESTS"
   ]
  },
  {
   "cell_type": "raw",
   "metadata": {},
   "source": [
    "# END QUESTION"
   ]
  },
  {
   "cell_type": "raw",
   "metadata": {},
   "source": [
    "# BEGIN QUESTION\n",
    "name: q2.1\n",
    "points: 1"
   ]
  },
  {
   "cell_type": "markdown",
   "metadata": {},
   "source": [
    "### Question 2.1\n",
    "\n",
    "Create a simpler version of Q2.0 by writing a lambda function called `lambda_c14_dating`. Your lambda function should perform the same calculation as Q2.0 with `time` as the input and fraction remaining as the output. Keep the decay constant as $\\lambda = 0.00012097 \\: \\text{years}^{-1}$\n",
    "\n",
    "Test your new `lambda_c14_dating` function for `time = 1000` years and assign the output to `q2_1`. Feel free to try it for other inputs."
   ]
  },
  {
   "cell_type": "raw",
   "metadata": {},
   "source": [
    "# BEGIN SOLUTION"
   ]
  },
  {
   "cell_type": "code",
   "execution_count": 10,
   "metadata": {
    "tags": []
   },
   "outputs": [],
   "source": [
    "# ANSWER CELL\n",
    "lambda_c14_dating = lambda time : math.e**(-time*0.00012097) # SOLUTION"
   ]
  },
  {
   "cell_type": "code",
   "execution_count": 11,
   "metadata": {},
   "outputs": [
    {
     "name": "stdout",
     "output_type": "stream",
     "text": [
      "The remaining fraction is: 0.9998790373165755\n"
     ]
    }
   ],
   "source": [
    "# TEST YOUR FUNCTION HERE\n",
    "q2_1 = lambda_c14_dating(1) # SOLUTION\n",
    "\n",
    "print(f'The remaining fraction is: {q2_1}')"
   ]
  },
  {
   "cell_type": "raw",
   "metadata": {
    "tags": []
   },
   "source": [
    "# END SOLUTION"
   ]
  },
  {
   "cell_type": "raw",
   "metadata": {},
   "source": [
    "# BEGIN TESTS"
   ]
  },
  {
   "cell_type": "code",
   "execution_count": 12,
   "metadata": {},
   "outputs": [],
   "source": [
    "\"\"\" # BEGIN TEST CONFIG\n",
    "points: 0.1\n",
    "failure_message: Make sure it is a lambda function!\n",
    "\"\"\" # END TEST CONFIG\n",
    "\n",
    "assert callable(lambda_c14_dating) and lambda_c14_dating.__name__ == \"<lambda>\""
   ]
  },
  {
   "cell_type": "code",
   "execution_count": 13,
   "metadata": {},
   "outputs": [],
   "source": [
    "\"\"\" # BEGIN TEST CONFIG\n",
    "points: 0.1\n",
    "failure_message: Make sure to test your function!\n",
    "\"\"\" # END TEST CONFIG\n",
    "\n",
    "# Check function was tested\n",
    "assert get_hash(type(q2_1)) != '14e736438b115821cbb9b7ac0ba79034'\n",
    "assert callable(lambda_c14_dating) and lambda_c14_dating.__name__ == \"<lambda>\""
   ]
  },
  {
   "cell_type": "code",
   "execution_count": 14,
   "metadata": {
    "tags": []
   },
   "outputs": [],
   "source": [
    "assert get_hash(round(lambda_c14_dating(5730),4)) == 'd310cb367d993fb6fb584b198a2fd72c'\n",
    "assert get_hash(round(lambda_c14_dating(0.956),4)) == '94eab0ef89d927c724320fec6169d935'\n",
    "assert get_hash(round(lambda_c14_dating(14023),4)) == 'adc61c91420dc18855e1b8f869d62f02'\n",
    "assert callable(lambda_c14_dating) and lambda_c14_dating.__name__ == \"<lambda>\""
   ]
  },
  {
   "cell_type": "raw",
   "metadata": {},
   "source": [
    "# END TESTS"
   ]
  },
  {
   "cell_type": "raw",
   "metadata": {},
   "source": [
    "# END QUESTION"
   ]
  },
  {
   "cell_type": "raw",
   "metadata": {},
   "source": [
    "# BEGIN QUESTION\n",
    "name: q2.2\n",
    "points: 1"
   ]
  },
  {
   "cell_type": "markdown",
   "metadata": {},
   "source": [
    "### Question 2.2\n",
    "\n",
    "Now create a more general version of the function in Q2.0 and name the new function `exp_decay()`. This new function will perform the same calculation as `c14_dating()` but will include two input arguments: `time` for $t$ and `decay_constant` for $\\lambda$, the exponential decay constant. Call the argument for $\\lambda$ `decay_constant`. Set the default value for `decay_constant` equal to the exponential decay constant for c-14, which is 0.00012097.\n",
    "\n",
    "Create your function such that it accepts a NumPy array for `time`, not just scalar values. Note that many functions within the `math` module only accept scalar values as input.\n",
    "\n",
    "Test your new `exp_decay()` function for `time = 1000` years and `decay_constant = 0.001` assign the output to `q2_2`. Feel free to try it for other inputs."
   ]
  },
  {
   "cell_type": "raw",
   "metadata": {},
   "source": [
    "# BEGIN SOLUTION"
   ]
  },
  {
   "cell_type": "code",
   "execution_count": 15,
   "metadata": {
    "tags": []
   },
   "outputs": [],
   "source": [
    "# ANSWER CELL\n",
    "# BEGIN SOLUTION\n",
    "def exp_decay(time,decay_constant=0.00012097):\n",
    "    ratio = math.e**(-time*decay_constant)\n",
    "    return ratio\n",
    "# END SOLUTION"
   ]
  },
  {
   "cell_type": "code",
   "execution_count": 16,
   "metadata": {},
   "outputs": [
    {
     "name": "stdout",
     "output_type": "stream",
     "text": [
      "The remaining fraction is: 0.36787944117144233\n"
     ]
    }
   ],
   "source": [
    "# TEST YOUR FUNCTION HERE\n",
    "q2_2 = exp_decay(1000, 0.001) # SOLUTION\n",
    "\n",
    "print(f'The remaining fraction is: {q2_2}')"
   ]
  },
  {
   "cell_type": "raw",
   "metadata": {
    "tags": []
   },
   "source": [
    "# END SOLUTION"
   ]
  },
  {
   "cell_type": "raw",
   "metadata": {},
   "source": [
    "# BEGIN TESTS"
   ]
  },
  {
   "cell_type": "code",
   "execution_count": 17,
   "metadata": {},
   "outputs": [],
   "source": [
    "\"\"\" # BEGIN TEST CONFIG\n",
    "failure_message: Make sure to test your function!\n",
    "\"\"\" # END TEST CONFIG\n",
    "\n",
    "# Check function was tested\n",
    "assert get_hash(type(q2_2)) != '14e736438b115821cbb9b7ac0ba79034'"
   ]
  },
  {
   "cell_type": "code",
   "execution_count": 18,
   "metadata": {},
   "outputs": [],
   "source": [
    "\"\"\" # BEGIN TEST CONFIG\n",
    "failure_message: Check default argument.\n",
    "\"\"\" # END TEST CONFIG\n",
    "\n",
    "assert get_hash(round(exp_decay(6000),4)) == '65f9014d65dbcfbfa19c0f7fa6ab4da8'"
   ]
  },
  {
   "cell_type": "code",
   "execution_count": 19,
   "metadata": {
    "tags": []
   },
   "outputs": [],
   "source": [
    "assert get_hash(round(exp_decay(10000,decay_constant=0.005),4)) == '30565a8911a6bb487e3745c0ea3c8224'\n",
    "assert get_hash(round(exp_decay(5700,decay_constant=0.0005),4)) == 'f7c0bea0f6b8b0afb21183bd1fba47b5'\n",
    "assert get_hash(round(exp_decay(1,decay_constant=0.5),4)) == '8a52647f06947d3d26632ec454dd25d7'\n",
    "assert get_hash(round(exp_decay(106.34,decay_constant=0.0034),4)) == '58374b5008429c8708b89e0ff3cef80a'\n",
    "assert get_hash(round(exp_decay(1456),4)) == 'ae9975b561135ecc09b35e7d203f41b3'"
   ]
  },
  {
   "cell_type": "code",
   "execution_count": 20,
   "metadata": {},
   "outputs": [],
   "source": [
    "\"\"\" # BEGIN TEST CONFIG\n",
    "failure_message: Make sure your function can accept a NumPy array for time.\n",
    "\"\"\" # END TEST CONFIG\n",
    "\n",
    "assert get_hash(np.round(exp_decay(np.array([5000, 6000])),10)) == '70c9b0267e9ba5e55ab35a8d64dac3b8'"
   ]
  },
  {
   "cell_type": "raw",
   "metadata": {},
   "source": [
    "# END TESTS"
   ]
  },
  {
   "cell_type": "raw",
   "metadata": {},
   "source": [
    "# END QUESTION"
   ]
  },
  {
   "cell_type": "raw",
   "metadata": {},
   "source": [
    "# BEGIN QUESTION\n",
    "name: q2.3\n",
    "points: 1"
   ]
  },
  {
   "cell_type": "markdown",
   "metadata": {},
   "source": [
    "### Question 2.3\n",
    "\n",
    "Create a NumPy array that includes time between 0 and 10,000, inclusive, with increments of 100: [0, 100, 200, .., 9800, 9900, 10000]. Save the array as `time_array`.\n",
    "\n",
    "Then, use your `exp_decay()` function to compute the remaining fraction of carbon-14 over this range of time. Use the default value for `decay_constant`. Assign the values of the fraction of carbon-14 remaining to `c14frac_array`."
   ]
  },
  {
   "cell_type": "raw",
   "metadata": {},
   "source": [
    "# BEGIN SOLUTION"
   ]
  },
  {
   "cell_type": "code",
   "execution_count": 21,
   "metadata": {},
   "outputs": [],
   "source": [
    "# ANSWER CELL\n",
    "time_array = np.arange(0,10001,100) # SOLUTION\n",
    "c14frac_array = exp_decay(time_array) # SOLUTION"
   ]
  },
  {
   "cell_type": "raw",
   "metadata": {
    "tags": []
   },
   "source": [
    "# END SOLUTION"
   ]
  },
  {
   "cell_type": "code",
   "execution_count": 22,
   "metadata": {},
   "outputs": [
    {
     "name": "stdout",
     "output_type": "stream",
     "text": [
      "[    0   100   200   300   400   500   600   700   800   900  1000  1100\n",
      "  1200  1300  1400  1500  1600  1700  1800  1900  2000  2100  2200  2300\n",
      "  2400  2500  2600  2700  2800  2900  3000  3100  3200  3300  3400  3500\n",
      "  3600  3700  3800  3900  4000  4100  4200  4300  4400  4500  4600  4700\n",
      "  4800  4900  5000  5100  5200  5300  5400  5500  5600  5700  5800  5900\n",
      "  6000  6100  6200  6300  6400  6500  6600  6700  6800  6900  7000  7100\n",
      "  7200  7300  7400  7500  7600  7700  7800  7900  8000  8100  8200  8300\n",
      "  8400  8500  8600  8700  8800  8900  9000  9100  9200  9300  9400  9500\n",
      "  9600  9700  9800  9900 10000]\n",
      "[1.         0.98797587 0.97609633 0.96435962 0.95276404 0.94130789\n",
      " 0.92998948 0.91880717 0.90775932 0.89684431 0.88606054 0.87540644\n",
      " 0.86488044 0.85448101 0.84420662 0.83405578 0.82402699 0.81411878\n",
      " 0.80432972 0.79465835 0.78510328 0.7756631  0.76633643 0.75712191\n",
      " 0.74801818 0.73902391 0.7301378  0.72135853 0.71268482 0.70411541\n",
      " 0.69564904 0.68728447 0.67902047 0.67085585 0.66278939 0.65481993\n",
      " 0.64694629 0.63916733 0.6314819  0.62388888 0.61638716 0.60897565\n",
      " 0.60165325 0.59441889 0.58727153 0.5802101  0.57323358 0.56634095\n",
      " 0.55953119 0.55280332 0.54615634 0.53958929 0.5331012  0.52669113\n",
      " 0.52035813 0.51410127 0.50791966 0.50181237 0.49577851 0.48981721\n",
      " 0.48392759 0.47810878 0.47235994 0.46668022 0.4610688  0.45552485\n",
      " 0.45004757 0.44463614 0.43928978 0.4340077  0.42878914 0.42363332\n",
      " 0.4185395  0.41350693 0.40853487 0.4036226  0.39876939 0.39397454\n",
      " 0.38923734 0.3845571  0.37993314 0.37536477 0.37085134 0.36639218\n",
      " 0.36198663 0.35763406 0.35333382 0.34908529 0.34488785 0.34074087\n",
      " 0.33664376 0.33259591 0.32859674 0.32464565 0.32074207 0.31688543\n",
      " 0.31307516 0.3093107  0.30559151 0.30191704 0.29828675]\n"
     ]
    }
   ],
   "source": [
    "# Run this cell to print the results\n",
    "print(time_array) \n",
    "print(c14frac_array) "
   ]
  },
  {
   "cell_type": "raw",
   "metadata": {},
   "source": [
    "# BEGIN TESTS"
   ]
  },
  {
   "cell_type": "code",
   "execution_count": 23,
   "metadata": {},
   "outputs": [],
   "source": [
    "\"\"\" # BEGIN TEST CONFIG\n",
    "failure_message: Check start value of time_array.\n",
    "\"\"\" # END TEST CONFIG\n",
    "\n",
    "assert get_hash(time_array[0]) == 'cfcd208495d565ef66e7dff9f98764da' "
   ]
  },
  {
   "cell_type": "code",
   "execution_count": 24,
   "metadata": {},
   "outputs": [],
   "source": [
    "\"\"\" # BEGIN TEST CONFIG\n",
    "failure_message: Check final value of time_array.\n",
    "\"\"\" # END TEST CONFIG\n",
    "\n",
    "assert get_hash(time_array[-1]) == 'b7a782741f667201b54880c925faec4b'"
   ]
  },
  {
   "cell_type": "code",
   "execution_count": 25,
   "metadata": {
    "tags": []
   },
   "outputs": [],
   "source": [
    "\"\"\" # BEGIN TEST CONFIG\n",
    "failure_message: Check steps within time_array.\n",
    "\"\"\" # END TEST CONFIG\n",
    "\n",
    "assert get_hash(np.sum(time_array)) == '39d9d6852c0ddbf22d973f6d3c72deae'"
   ]
  },
  {
   "cell_type": "code",
   "execution_count": 26,
   "metadata": {},
   "outputs": [],
   "source": [
    "\"\"\" # BEGIN TEST CONFIG\n",
    "failure_message: Check c14frac_array.\n",
    "\"\"\" # END TEST CONFIG\n",
    "\n",
    "assert get_hash(round(c14frac_array[1],4)) =='ccf8e6e10af7c853137169f67a523087'\n",
    "assert get_hash(round(c14frac_array[-1],4)) == 'e152a2147de532f22e5acd4d4b252c84'\n",
    "assert get_hash(round(np.sum(c14frac_array),4)) == 'f82762b52fbe1dde5c5a5100ad7d2775'\n",
    "assert get_hash(len(c14frac_array)) == '38b3eff8baf56627478ec76a704e9b52'"
   ]
  },
  {
   "cell_type": "raw",
   "metadata": {},
   "source": [
    "# END TESTS"
   ]
  },
  {
   "cell_type": "raw",
   "metadata": {},
   "source": [
    "# END QUESTION"
   ]
  },
  {
   "cell_type": "markdown",
   "metadata": {},
   "source": [
    "## Question 3\n",
    "\n",
    "A ball is launched in the air at an angle $\\theta$ (expressed in degrees) from the x-axis and with initial velocity $v_o$ from an initial position of coordinates $(x_0, y_0)$ as illustrated below: \n",
    "\n",
    "<center> <img src=\"resources/ball.jpg\" style=\"width: 300px;\"/> </center>\n",
    "<center> Figure 1: Ball launching at angle $\\theta$ from the x-axis with initial velocity $v_0$ </center>\n",
    "\n",
    "The equations describing the motion (i.e. the position of the ball $(x, y)$ as a function of time $t$) are:\n",
    "\n",
    "$$ x(t) = x_0 + v_0 t \\cos(\\theta) \\\\ $$\n",
    "$$ y(t) = y_0 + v_0 t \\sin(\\theta) - \\dfrac{1}{2}gt^2 $$\n",
    "\n",
    "where $g$ is the gravitational acceleration ($g = 9.81\\,\\text{m}/\\text{s}^2$)"
   ]
  },
  {
   "cell_type": "raw",
   "metadata": {},
   "source": [
    "# BEGIN QUESTION\n",
    "name: q3.0\n",
    "points: 2"
   ]
  },
  {
   "cell_type": "markdown",
   "metadata": {},
   "source": [
    "### Question 3.0\n",
    "\n",
    "Write a function named `proj_time()` that calculates and returns the time at which the ball reaches the ground. This function has the following input arguments (use the same argument names):\n",
    "* `y0`, which is the initial $y$ position (scalar)\n",
    "* `v0`, which is the initial velocity (scalar)\n",
    "* `theta`, which is the launching angle in degrees (scalar)\n",
    "\n",
    "Note that when the ball hits the ground, $y = 0$. So, to find the time at which the ball reaches the ground, you have to solve the quadratic equation: \n",
    "\n",
    "$$ - \\frac{1}{2}gt^2 + v_0 t \\sin(\\theta)  + y_0 = 0 $$ \n",
    "\n",
    "You should have already defined a function that solves a quadratic equation (function `solve_quadratic()`, refer to Question 1).\n",
    "\n",
    "Inside `proj_time()`, call the function `solve_quadratic()` with the correct inputs based on the quadratic equation above.  Recall that `solve_quadratic()` returns two elements. The correct solution for the time at which the ball reaches the ground is the second element, `elem_2`, for which the root is computed by setting the $\\pm$ to $-$. Your function `proj_time()` should only return one solution, the correct one.\n",
    "\n",
    "Use your new `proj_time()` function for `y0 = 0` meters, `v0 = 15` m/s, `theta = 40` degrees and assign the output to `q3_0`. Feel free to try it for other input values. \n",
    "\n",
    "\n",
    "Note that trigonometric functions such as `math.cos()` and `math.sin()` assume that the angle is in **radians**. However, `theta` is given in degrees. You can convert the angle to radians using `math.radians()`, which takes as input an angle in degrees and converts it to radians."
   ]
  },
  {
   "cell_type": "code",
   "execution_count": 27,
   "metadata": {
    "tags": []
   },
   "outputs": [],
   "source": [
    "# run this cell to create a global variable g, but make sure you don't have any other global variables also named g\n",
    "g = 9.81"
   ]
  },
  {
   "cell_type": "raw",
   "metadata": {},
   "source": [
    "# BEGIN SOLUTION"
   ]
  },
  {
   "cell_type": "code",
   "execution_count": 28,
   "metadata": {
    "tags": []
   },
   "outputs": [],
   "source": [
    "# ANSWER CELL\n",
    "# BEGIN SOLUTION\n",
    "def proj_time(y0, v0, theta):\n",
    "    b = v0 * math.sin(math.radians(theta))\n",
    "    _ , time = solve_quadratic(-1/2*g,b,y0)\n",
    "    return time\n",
    "# END SOLUTION"
   ]
  },
  {
   "cell_type": "code",
   "execution_count": 29,
   "metadata": {},
   "outputs": [
    {
     "name": "stdout",
     "output_type": "stream",
     "text": [
      "The time at which the ball reaches the ground is: 1.9657113446071535 s\n"
     ]
    }
   ],
   "source": [
    "# TEST YOUR FUNCTION HERE\n",
    "q3_0 = proj_time(0, 15, 40) # SOLUTION\n",
    "\n",
    "print(f'The time at which the ball reaches the ground is: {q3_0} s')"
   ]
  },
  {
   "cell_type": "raw",
   "metadata": {},
   "source": [
    "# END SOLUTION"
   ]
  },
  {
   "cell_type": "raw",
   "metadata": {},
   "source": [
    "# BEGIN TESTS"
   ]
  },
  {
   "cell_type": "code",
   "execution_count": 30,
   "metadata": {},
   "outputs": [],
   "source": [
    "\"\"\" # BEGIN TEST CONFIG\n",
    "points: 0.2\n",
    "failure_message: Make sure to test your function!\n",
    "\"\"\" # END TEST CONFIG\n",
    "\n",
    "# Check function was tested\n",
    "assert get_hash(type(q3_0)) != '14e736438b115821cbb9b7ac0ba79034'"
   ]
  },
  {
   "cell_type": "code",
   "execution_count": 31,
   "metadata": {
    "tags": []
   },
   "outputs": [],
   "source": [
    "g = 9.81\n",
    "assert get_hash(round(proj_time(y0=0, v0=15, theta=40),10)) == '33eba82cf23c93006c1babc59f2fcdc4'\n",
    "assert get_hash(round(proj_time(y0=10, v0=0, theta=45),10)) == '356cb36b68a27f68796f03a299d65bc3'"
   ]
  },
  {
   "cell_type": "raw",
   "metadata": {},
   "source": [
    "# END TESTS"
   ]
  },
  {
   "cell_type": "raw",
   "metadata": {
    "collapsed": true,
    "jupyter": {
     "outputs_hidden": true
    }
   },
   "source": [
    "# END QUESTION"
   ]
  },
  {
   "cell_type": "raw",
   "metadata": {},
   "source": [
    "# BEGIN QUESTION\n",
    "name: q3.1\n",
    "points: 2"
   ]
  },
  {
   "cell_type": "markdown",
   "metadata": {},
   "source": [
    "### Question 3.1 \n",
    "\n",
    "Write a function named `proj_distance()` that calculates and returns the horizontal distance of the ball when it reaches the ground. This function has the following input arguments (use the same argument names):\n",
    "* `x0`, which is the initial $x$ position (scalar)\n",
    "* `y0`, which is the initial $y$ position (scalar)\n",
    "* `v0`, which is the initial velocity (scalar)\n",
    "* `theta`, which is the launching angle in degrees (scalar)\n",
    "\n",
    "You can first solve for the time when the ball hits the ground using the function above, `proj_time()`, and then use this time in the following equation to get the horizontal distance traveled: $$ x(t) = x_0 + v_0 t \\cos(\\theta) $$\n",
    "\n",
    "Set the default value of `x0` equal to 0.\n",
    "\n",
    "Test your new `proj_distance()` function for `x0 = 0` meters, `y0 = 0` meters, `v0 = 15` m/s, `theta = 40` degrees and assign the output to `q3_1`. Feel free to try it for other input values. "
   ]
  },
  {
   "cell_type": "raw",
   "metadata": {},
   "source": [
    "# BEGIN SOLUTION"
   ]
  },
  {
   "cell_type": "code",
   "execution_count": 32,
   "metadata": {
    "tags": []
   },
   "outputs": [],
   "source": [
    "# ANSWER CELL\n",
    "# BEGIN SOLUTION\n",
    "def proj_distance(y0, v0, theta, x0=0):\n",
    "    time = proj_time(y0, v0, theta)\n",
    "    dist = x0 + v0 * time * math.cos(math.radians(theta))\n",
    "    return dist\n",
    "# END SOLUTION"
   ]
  },
  {
   "cell_type": "code",
   "execution_count": 33,
   "metadata": {},
   "outputs": [
    {
     "name": "stdout",
     "output_type": "stream",
     "text": [
      "The horizontal distance of the ball when it reaches the ground is: 22.587333784683665 m\n"
     ]
    }
   ],
   "source": [
    "# TEST YOUR FUNCTION HERE\n",
    "q3_1 = proj_distance(0, 15, 40) # SOLUTION\n",
    "\n",
    "print(f'The horizontal distance of the ball when it reaches the ground is: {q3_1} m')"
   ]
  },
  {
   "cell_type": "raw",
   "metadata": {},
   "source": [
    "# END SOLUTION"
   ]
  },
  {
   "cell_type": "raw",
   "metadata": {},
   "source": [
    "# BEGIN TESTS"
   ]
  },
  {
   "cell_type": "code",
   "execution_count": 34,
   "metadata": {},
   "outputs": [],
   "source": [
    "\"\"\" # BEGIN TEST CONFIG\n",
    "points: 0.2\n",
    "failure_message: Make sure to test your function!\n",
    "\"\"\" # END TEST CONFIG\n",
    "\n",
    "# Check function was tested\n",
    "assert get_hash(type(q3_1)) != '14e736438b115821cbb9b7ac0ba79034'"
   ]
  },
  {
   "cell_type": "code",
   "execution_count": 35,
   "metadata": {
    "tags": []
   },
   "outputs": [],
   "source": [
    "g = 9.81\n",
    "assert get_hash(round(proj_distance(y0=0, v0=15, theta=40, x0=0),10)) == '473b4bccae9c0c4ee657741957329094'\n",
    "assert get_hash(round(proj_distance(y0=10,v0=0, theta=45, x0=0),10)) == '30565a8911a6bb487e3745c0ea3c8224'"
   ]
  },
  {
   "cell_type": "code",
   "execution_count": 36,
   "metadata": {},
   "outputs": [],
   "source": [
    "\"\"\" # BEGIN TEST CONFIG\n",
    "points: 0.5\n",
    "failure_message: Check the default argument x0!\n",
    "\"\"\" # END TEST CONFIG\n",
    "\n",
    "assert get_hash(round(proj_distance(y0=0, v0=15, theta=40),10)) == '473b4bccae9c0c4ee657741957329094'\n",
    "assert get_hash(round(proj_distance(y0=10,v0=0, theta=45),10)) == '30565a8911a6bb487e3745c0ea3c8224'\n",
    "assert get_hash(round(proj_distance(y0=0, v0=15, theta=40, x0=2),10)) == 'cd863763b92481f1096331c9d79b5883'\n",
    "assert get_hash(round(proj_distance(y0=10,v0=0, theta=45, x0=3),10)) == '55c82b601deae028c1c5e87fd820923d'"
   ]
  },
  {
   "cell_type": "raw",
   "metadata": {},
   "source": [
    "# END TESTS"
   ]
  },
  {
   "cell_type": "raw",
   "metadata": {},
   "source": [
    "# END QUESTION"
   ]
  },
  {
   "cell_type": "raw",
   "metadata": {},
   "source": [
    "# BEGIN QUESTION\n",
    "name: q3.2\n",
    "points: 0.5"
   ]
  },
  {
   "cell_type": "markdown",
   "metadata": {},
   "source": [
    "### Question 3.2\n",
    "\n",
    "Calculate the horizontal distance traveled by a ball starting at $5\\,\\text{m}$ above the ground, with a velocity of $1\\,\\text{m}/\\text{s}$ at an angle of 30 degrees above horizontal. Store the value as `q3_2`."
   ]
  },
  {
   "cell_type": "raw",
   "metadata": {},
   "source": [
    "# BEGIN SOLUTION"
   ]
  },
  {
   "cell_type": "code",
   "execution_count": 37,
   "metadata": {
    "tags": []
   },
   "outputs": [
    {
     "name": "stdout",
     "output_type": "stream",
     "text": [
      "The horizontal distance traveled by the ball is: 0.9196251241440149 m\n"
     ]
    }
   ],
   "source": [
    "# ANSWER CELL\n",
    "g = 9.81 # SOLUTION NO PROMPT\n",
    "q3_2 = proj_distance(5, 1, 30) # SOLUTION\n",
    "\n",
    "print(f'The horizontal distance traveled by the ball is: {q3_2} m')"
   ]
  },
  {
   "cell_type": "raw",
   "metadata": {},
   "source": [
    "# END SOLUTION"
   ]
  },
  {
   "cell_type": "raw",
   "metadata": {},
   "source": [
    "# BEGIN TESTS"
   ]
  },
  {
   "cell_type": "code",
   "execution_count": 38,
   "metadata": {
    "tags": []
   },
   "outputs": [],
   "source": [
    "assert get_hash(np.round(q3_2,10)) == 'de6747c71e18073a7a000b1ca5e047a0'"
   ]
  },
  {
   "cell_type": "raw",
   "metadata": {},
   "source": [
    "# END TESTS"
   ]
  },
  {
   "cell_type": "raw",
   "metadata": {},
   "source": [
    "# END QUESTION"
   ]
  },
  {
   "cell_type": "raw",
   "metadata": {},
   "source": [
    "# BEGIN QUESTION\n",
    "name: q3.3\n",
    "points: 0.5"
   ]
  },
  {
   "cell_type": "markdown",
   "metadata": {},
   "source": [
    "### Question 3.3\n",
    "\n",
    "Reassign the gravitational acceleration variable, `g`, to $32.2\\,\\text{ft}/\\text{s}^2$. Then calculate the horizontal distance traveled by a ball starting at $5\\,\\text{ft}$ above the ground, with a velocity of $1\\,\\text{ft}/\\text{s}$ at an angle of 30 degrees above horizontal. Store the value as `q3_3`."
   ]
  },
  {
   "cell_type": "raw",
   "metadata": {},
   "source": [
    "# BEGIN SOLUTION"
   ]
  },
  {
   "cell_type": "code",
   "execution_count": 39,
   "metadata": {
    "tags": []
   },
   "outputs": [
    {
     "data": {
      "text/plain": [
       "0.4962520035072661"
      ]
     },
     "execution_count": 39,
     "metadata": {},
     "output_type": "execute_result"
    }
   ],
   "source": [
    "# ANSWER CELL\n",
    "# BEGIN SOLUTION\n",
    "g = 32.2\n",
    "q3_3 = proj_distance(5, 1, 30) \n",
    "q3_3\n",
    "# END SOLUTION"
   ]
  },
  {
   "cell_type": "raw",
   "metadata": {},
   "source": [
    "# END SOLUTION"
   ]
  },
  {
   "cell_type": "raw",
   "metadata": {},
   "source": [
    "# BEGIN TESTS"
   ]
  },
  {
   "cell_type": "code",
   "execution_count": 40,
   "metadata": {
    "tags": []
   },
   "outputs": [],
   "source": [
    "assert get_hash(np.round(q3_3,10)) == '595c8e8a2c9c672204d6fa1e270139ea'"
   ]
  },
  {
   "cell_type": "raw",
   "metadata": {},
   "source": [
    "# END TESTS"
   ]
  },
  {
   "cell_type": "code",
   "execution_count": 41,
   "metadata": {
    "tags": []
   },
   "outputs": [],
   "source": [
    "# Do not edit this cell. Run it to reassign g to 9.81 m/s^2.\n",
    "g = 9.81"
   ]
  },
  {
   "cell_type": "raw",
   "metadata": {},
   "source": [
    "# END QUESTION"
   ]
  },
  {
   "cell_type": "markdown",
   "metadata": {},
   "source": [
    "<div class=\"alert alert-block alert-warning\"> <b>NOTE!</b> The rest of the lab involves working with conditional statements. If we haven't covered this topic yet and you have no prior experience with it, please wait until after the next lecture to continue the assignment. </div>"
   ]
  },
  {
   "cell_type": "markdown",
   "metadata": {},
   "source": [
    "## Question 4: Box on a Slope\n",
    "\n",
    "A box with mass $m$ is sitting on a sloped surface is influenced by gravity in a way that pulls the box down the slope. Friction resists this effect, with the frictional force being proportional to the normal force between the box and the slope.\n",
    "\n",
    "<center> <img src=\"https://stickmanphysics.com/wp-content/uploads/2023/12/Incline-FBD-Box.jpg\" style=\"width: 500px;\"/> </center>\n",
    "<center> <br> Figure 2: Free body diagram of a box on an inclined surface </center>\n",
    "\n",
    "where:\n",
    "* $F_w$ is the weight (force due to gravity), where $F_w = mg$\n",
    "* $F_N$ is the normal force, where $F_N = \\cos({\\theta}) \\ mg$\n",
    "* $F_f$ is the frictional force\n",
    "\n",
    "The frictional force is proportional to the normal force according to the friction coefficient $f$:\n",
    "\n",
    "$$F_f = f F_N = f \\cos({\\theta}) \\ mg$$\n",
    "\n",
    "As the slope gets steeper, eventually the frictional force will not be sufficient to keep the box in place and it will slide down the slope. If you know the friction coefficient $f$, you can solve for the critical value of the slope that will cause the box to slide:\n",
    "\n",
    "$$\\theta_{cri} = \\arctan(f)$$"
   ]
  },
  {
   "cell_type": "raw",
   "metadata": {},
   "source": [
    "# BEGIN QUESTION\n",
    "name: q4.0\n",
    "points: 1"
   ]
  },
  {
   "cell_type": "markdown",
   "metadata": {},
   "source": [
    "### Question 4.0\n",
    "\n",
    "Write a function named `cri_angle()` that calculates and returns the critical angle that will cause the box to slide. This function has the following input argument (use the same argument name):\n",
    "* `f`, which is the friction coefficient (scalar)\n",
    "\n",
    "The returned critical angle should be in **degrees**.\n",
    "\n",
    "Note that trigonometric functions usually assume that the angle is in radians. You can convert the angle to degrees using `math.degrees()`.\n",
    "\n",
    "Test your new `cri_angle()` function for `f = 0.5` and assign the output to `q4_0`. Feel free to try it for other input values. "
   ]
  },
  {
   "cell_type": "raw",
   "metadata": {},
   "source": [
    "# BEGIN SOLUTION"
   ]
  },
  {
   "cell_type": "code",
   "execution_count": 42,
   "metadata": {
    "tags": []
   },
   "outputs": [],
   "source": [
    "# ANSWER CELL\n",
    "# BEGIN SOLUTION\n",
    "def cri_angle(f):\n",
    "    return math.degrees(math.atan(f))\n",
    "# END SOLUTION"
   ]
  },
  {
   "cell_type": "code",
   "execution_count": 43,
   "metadata": {},
   "outputs": [
    {
     "name": "stdout",
     "output_type": "stream",
     "text": [
      "The angle that will cause the box to start sliding is: 26.56505117707799 degrees\n"
     ]
    }
   ],
   "source": [
    "# TEST YOUR FUNCTION HERE\n",
    "q4_0 = cri_angle(0.5) # SOLUTION\n",
    "\n",
    "print(f'The angle that will cause the box to start sliding is: {q4_0} degrees')"
   ]
  },
  {
   "cell_type": "raw",
   "metadata": {},
   "source": [
    "# END SOLUTION"
   ]
  },
  {
   "cell_type": "raw",
   "metadata": {},
   "source": [
    "# BEGIN TESTS"
   ]
  },
  {
   "cell_type": "code",
   "execution_count": 44,
   "metadata": {},
   "outputs": [],
   "source": [
    "\"\"\" # BEGIN TEST CONFIG\n",
    "points: 0.25\n",
    "failure_message: Make sure to test your function!\n",
    "\"\"\" # END TEST CONFIG\n",
    "\n",
    "# Check function was tested\n",
    "assert get_hash(type(q4_0)) != '14e736438b115821cbb9b7ac0ba79034'"
   ]
  },
  {
   "cell_type": "code",
   "execution_count": 45,
   "metadata": {
    "tags": []
   },
   "outputs": [],
   "source": [
    "assert get_hash(round(cri_angle(f=0.1),10)) == 'f43499525a70aced5fcbc427e53ac783'\n",
    "assert get_hash(round(cri_angle(f=0.2),10)) == '076e5dc4e59f4aedd83c15fff6bc737c'\n",
    "assert get_hash(round(cri_angle(f=0.5),10)) == '1956b616e36ff8a16d6e7c6a24737aea'\n",
    "assert get_hash(round(cri_angle(f=0.75),10)) == '701bf08357973b0d6a2ab8ee6f68908b'"
   ]
  },
  {
   "cell_type": "raw",
   "metadata": {},
   "source": [
    "# END TESTS"
   ]
  },
  {
   "cell_type": "raw",
   "metadata": {
    "collapsed": true,
    "jupyter": {
     "outputs_hidden": true
    }
   },
   "source": [
    "# END QUESTION"
   ]
  },
  {
   "cell_type": "raw",
   "metadata": {},
   "source": [
    "# BEGIN QUESTION\n",
    "name: q4.1\n",
    "points: 2"
   ]
  },
  {
   "cell_type": "markdown",
   "metadata": {},
   "source": [
    "### Question 4.1\n",
    "\n",
    "The box will begin to slide when the actual angle of the slope is equal or greater than the critical angle.\n",
    "\n",
    "Write a function named `box_pred()` that predicts whether or not a box will slide. This function has the following input arguments (use the same argument names):\n",
    "* `f`, which is the friction coefficient (scalar)\n",
    "* `theta`, which is the actual angle of the slope in degrees (scalar)\n",
    "\n",
    "Your function should make a prediction and should return one of the following strings:\n",
    "\n",
    "'The box will slide.' or 'The box will not slide.'\n",
    "\n",
    "Note that your function should return the string, not print it.\n",
    "\n",
    "Test your new `box_pred()` function for `f = 0.5` and `theta = 30` and assign the output to `q4_1`. Feel free to try it for other input values. "
   ]
  },
  {
   "cell_type": "raw",
   "metadata": {},
   "source": [
    "# BEGIN SOLUTION"
   ]
  },
  {
   "cell_type": "code",
   "execution_count": 46,
   "metadata": {
    "tags": []
   },
   "outputs": [],
   "source": [
    "# ANSWER CELL\n",
    "# BEGIN SOLUTION\n",
    "def box_pred(f, theta):\n",
    "    if theta >= cri_angle(f):\n",
    "        return 'The box will slide.'\n",
    "    else:\n",
    "        return 'The box will not slide.'\n",
    "# END SOLUTION"
   ]
  },
  {
   "cell_type": "code",
   "execution_count": 47,
   "metadata": {},
   "outputs": [
    {
     "name": "stdout",
     "output_type": "stream",
     "text": [
      "The box will slide.\n"
     ]
    }
   ],
   "source": [
    "# TEST YOUR FUNCTION HERE\n",
    "q4_1 = box_pred(f=0.5, theta=30) # SOLUTION\n",
    "\n",
    "print(q4_1)"
   ]
  },
  {
   "cell_type": "raw",
   "metadata": {},
   "source": [
    "# END SOLUTION"
   ]
  },
  {
   "cell_type": "raw",
   "metadata": {},
   "source": [
    "# BEGIN TESTS"
   ]
  },
  {
   "cell_type": "code",
   "execution_count": 48,
   "metadata": {},
   "outputs": [],
   "source": [
    "\"\"\" # BEGIN TEST CONFIG\n",
    "points: 0.25\n",
    "failure_message: Make sure to test your function!\n",
    "\"\"\" # END TEST CONFIG\n",
    "\n",
    "# Check function was tested\n",
    "assert get_hash(type(q4_1)) != '14e736438b115821cbb9b7ac0ba79034'"
   ]
  },
  {
   "cell_type": "code",
   "execution_count": 49,
   "metadata": {},
   "outputs": [],
   "source": [
    "\"\"\" # BEGIN TEST CONFIG\n",
    "points: 0.25\n",
    "failure_message: Make sure your function returns a string!\n",
    "\"\"\" # END TEST CONFIG\n",
    "\n",
    "# Check function returns a string\n",
    "assert get_hash(type(q4_1)) == '9a86641cdf2fdb47f786dc955264738d'"
   ]
  },
  {
   "cell_type": "code",
   "execution_count": 50,
   "metadata": {},
   "outputs": [],
   "source": [
    "\"\"\" # BEGIN TEST CONFIG\n",
    "points: 0.25\n",
    "failure_message: What should happen if the actual angle is exactly equal to the critical angle?\n",
    "\"\"\" # END TEST CONFIG\n",
    "assert get_hash(box_pred(f=math.tan(math.radians(32)), theta=32.0)) == '7ea6c91dd27fef86440ca1c8636fb828'"
   ]
  },
  {
   "cell_type": "code",
   "execution_count": 51,
   "metadata": {
    "tags": []
   },
   "outputs": [],
   "source": [
    "assert get_hash(box_pred(f=0.5, theta=30)) == '7ea6c91dd27fef86440ca1c8636fb828'\n",
    "assert get_hash(box_pred(f=0.25, theta=10)) == '29a5a9cb0cfe9b668420c0b73345aa7a'\n",
    "assert get_hash(box_pred(f=0.75, theta=30)) == '29a5a9cb0cfe9b668420c0b73345aa7a'\n",
    "assert get_hash(box_pred(f=0.35, theta=25)) == '7ea6c91dd27fef86440ca1c8636fb828'\n",
    "assert get_hash(box_pred(f=1/math.sqrt(3), theta=29.999)) == '29a5a9cb0cfe9b668420c0b73345aa7a'\n",
    "assert get_hash(box_pred(f=1/math.sqrt(3), theta=30.001)) == '7ea6c91dd27fef86440ca1c8636fb828'"
   ]
  },
  {
   "cell_type": "raw",
   "metadata": {},
   "source": [
    "# END TESTS"
   ]
  },
  {
   "cell_type": "raw",
   "metadata": {
    "collapsed": true,
    "jupyter": {
     "outputs_hidden": true
    }
   },
   "source": [
    "# END QUESTION"
   ]
  },
  {
   "cell_type": "raw",
   "metadata": {},
   "source": [
    "# BEGIN QUESTION\n",
    "name: q4.2\n",
    "points: 1"
   ]
  },
  {
   "cell_type": "markdown",
   "metadata": {},
   "source": [
    "### Question 4.2\n",
    "\n",
    "Create a simpler version of Q4.1 by writing a lambda function called `lambda_box_pred`. Your lambda function should return the same string as Q4.1 with `f` and `theta` as inputs.\n",
    "\n",
    "Note that to be able to implement this as a lambda function, you may want to use ternary operators. Refer to the lecture notes for more details.\n",
    "\n",
    "Test your new `lambda_box_pred` function for `f = 0.5` and `theta = 30` and assign the output to `q4_2`. Feel free to try it for other input values. "
   ]
  },
  {
   "cell_type": "raw",
   "metadata": {},
   "source": [
    "# BEGIN SOLUTION"
   ]
  },
  {
   "cell_type": "code",
   "execution_count": 52,
   "metadata": {
    "tags": []
   },
   "outputs": [],
   "source": [
    "# ANSWER CELL\n",
    "# BEGIN SOLUTION\n",
    "lambda_box_pred = lambda f, theta: 'The box will slide.' if theta >= cri_angle(f) else  'The box will not slide.'\n",
    "# END SOLUTION"
   ]
  },
  {
   "cell_type": "code",
   "execution_count": 53,
   "metadata": {},
   "outputs": [
    {
     "name": "stdout",
     "output_type": "stream",
     "text": [
      "The box will slide.\n"
     ]
    }
   ],
   "source": [
    "# TEST YOUR FUNCTION HERE\n",
    "q4_2 = lambda_box_pred(f=0.5, theta=30) # SOLUTION\n",
    "\n",
    "print(q4_2)"
   ]
  },
  {
   "cell_type": "raw",
   "metadata": {},
   "source": [
    "# END SOLUTION"
   ]
  },
  {
   "cell_type": "raw",
   "metadata": {},
   "source": [
    "# BEGIN TESTS"
   ]
  },
  {
   "cell_type": "code",
   "execution_count": 54,
   "metadata": {},
   "outputs": [],
   "source": [
    "\"\"\" # BEGIN TEST CONFIG\n",
    "points: 0\n",
    "failure_message: Make sure to test your function!\n",
    "\"\"\" # END TEST CONFIG\n",
    "\n",
    "# Check function was tested\n",
    "assert get_hash(type(q4_2)) != '14e736438b115821cbb9b7ac0ba79034'"
   ]
  },
  {
   "cell_type": "code",
   "execution_count": 55,
   "metadata": {},
   "outputs": [],
   "source": [
    "\"\"\" # BEGIN TEST CONFIG\n",
    "points: 0\n",
    "failure_message: Make sure your function returns a string!\n",
    "\"\"\" # END TEST CONFIG\n",
    "\n",
    "# Check function returns a string\n",
    "assert get_hash(type(q4_2)) == '9a86641cdf2fdb47f786dc955264738d'"
   ]
  },
  {
   "cell_type": "code",
   "execution_count": 56,
   "metadata": {},
   "outputs": [],
   "source": [
    "\"\"\" # BEGIN TEST CONFIG\n",
    "points: 0.5\n",
    "failure_message: Make sure it is a lambda function!\n",
    "\"\"\" # END TEST CONFIG\n",
    "\n",
    "assert callable(lambda_box_pred) and lambda_box_pred.__name__ == \"<lambda>\""
   ]
  },
  {
   "cell_type": "code",
   "execution_count": 57,
   "metadata": {},
   "outputs": [],
   "source": [
    "\"\"\" # BEGIN TEST CONFIG\n",
    "points: 0.25\n",
    "failure_message: What should happen if the actual angle is exactly equal to the critical angle?\n",
    "\"\"\" # END TEST CONFIG\n",
    "assert get_hash(lambda_box_pred(f=math.tan(math.radians(32)), theta=32.0)) == '7ea6c91dd27fef86440ca1c8636fb828'\n",
    "assert callable(lambda_box_pred) and lambda_box_pred.__name__ == \"<lambda>\""
   ]
  },
  {
   "cell_type": "code",
   "execution_count": 58,
   "metadata": {
    "tags": []
   },
   "outputs": [],
   "source": [
    "\"\"\" # BEGIN TEST CONFIG\n",
    "points: 0.25\n",
    "\"\"\" # END TEST CONFIG\n",
    "assert get_hash(lambda_box_pred(f=0.5, theta=30)) == '7ea6c91dd27fef86440ca1c8636fb828'\n",
    "assert get_hash(lambda_box_pred(f=0.25, theta=10)) == '29a5a9cb0cfe9b668420c0b73345aa7a'\n",
    "assert get_hash(lambda_box_pred(f=0.75, theta=30)) == '29a5a9cb0cfe9b668420c0b73345aa7a'\n",
    "assert get_hash(lambda_box_pred(f=0.35, theta=25)) == '7ea6c91dd27fef86440ca1c8636fb828'\n",
    "assert get_hash(lambda_box_pred(f=1/math.sqrt(3), theta=29.999)) == '29a5a9cb0cfe9b668420c0b73345aa7a'\n",
    "assert get_hash(lambda_box_pred(f=1/math.sqrt(3), theta=30.001)) == '7ea6c91dd27fef86440ca1c8636fb828'\n",
    "assert callable(lambda_box_pred) and lambda_box_pred.__name__ == \"<lambda>\""
   ]
  },
  {
   "cell_type": "raw",
   "metadata": {},
   "source": [
    "# END TESTS"
   ]
  },
  {
   "cell_type": "raw",
   "metadata": {
    "collapsed": true,
    "jupyter": {
     "outputs_hidden": true
    }
   },
   "source": [
    "# END QUESTION"
   ]
  },
  {
   "cell_type": "raw",
   "metadata": {},
   "source": [
    "# BEGIN QUESTION\n",
    "name: q4.3\n",
    "points: 3"
   ]
  },
  {
   "cell_type": "markdown",
   "metadata": {},
   "source": [
    "### Question 4.3\n",
    "\n",
    "Instead of calculating the critical angle beyond which the slope will slide, we can calculate the critical friction coefficient below which the box will slide. \n",
    "\n",
    "As the friction coefficient decreases, eventually the frictional force will not be sufficient to keep the box in place and it will slide down the slope. If you know the angle of the slope $\\theta$, you can solve for the critical value of the friction coefficient that will cause the box to slide:\n",
    "\n",
    "$$f_{cri} = \\tan(\\theta)$$\n",
    "\n",
    "Next, you will write a more general function that will either return $f_{cri}$ or $\\theta_{cri}$ or return whether the box will slide or not.\n",
    "\n",
    "Write a function named `box_pred_any()`, which has the following input arguments (use the same argument names):\n",
    "* `f`, which is either a string `'?'` or a scalar of the actual friction coefficient\n",
    "* `theta`, which is either a string `'?'` or a scalar of the actual slope in degrees\n",
    "\n",
    "Your function should return one of the following strings:\n",
    "1. If `f = '?'`, it should solve for $f_{cri}$ based on the slope angle and return: \n",
    "> 'If f is less than [value], the box will slide.'\n",
    "> \n",
    "> where [value] should be replaced by $f_{cri}$. Round $f_{cri}$ to three digits after the decimal point.\n",
    "2. If `theta = '?'`, it should solve for $\\theta_{cri}$ based on the friction coefficient and return: \n",
    "> 'If theta is greater than [value] degrees, the box will slide.'\n",
    ">\n",
    "> where [value] should be replaced by $\\theta_{cri}$ in **degrees**. Round $\\theta_{cri}$ to three digits after the decimal point.\n",
    "3. If both `f` and `theta` have actual values (i.e., none are equal to `'?'`), your function should make a prediction and should return either:\n",
    "> 'The box will slide.' or 'The box will not slide.'\n",
    "4. If both `f` and `theta` are equal to `'?'`, your function should return:\n",
    "> 'Either f or theta should have a numeric value.'\n",
    "\n",
    "Note that your function should return the string, not print it.\n",
    "\n",
    "Test your new `box_pred_any()` function for `f = 0.5` and `theta = '?'` and assign the output to `q4_3`. Feel free to try it for other input values. "
   ]
  },
  {
   "cell_type": "raw",
   "metadata": {},
   "source": [
    "# BEGIN SOLUTION"
   ]
  },
  {
   "cell_type": "code",
   "execution_count": 59,
   "metadata": {
    "tags": []
   },
   "outputs": [],
   "source": [
    "# ANSWER CELL\n",
    "# BEGIN SOLUTION\n",
    "def box_pred_any(f, theta):\n",
    "    if f=='?' and theta!='?':\n",
    "        return f'If f is less than {round(math.tan(math.radians(theta)),3)}, the box will slide.'\n",
    "    elif f!='?' and theta=='?':\n",
    "        return f'If theta is greater than {round(cri_angle(f),3)} degrees, the box will slide.'\n",
    "    elif f!='?' and theta!='?':\n",
    "        return box_pred(f, theta)\n",
    "    else:\n",
    "        return 'Either f or theta should have a numeric value.'\n",
    "# END SOLUTION"
   ]
  },
  {
   "cell_type": "code",
   "execution_count": 60,
   "metadata": {},
   "outputs": [
    {
     "name": "stdout",
     "output_type": "stream",
     "text": [
      "If theta is greater than 26.565 degrees, the box will slide.\n"
     ]
    }
   ],
   "source": [
    "# TEST YOUR FUNCTION HERE\n",
    "q4_3 = box_pred_any(f=0.5, theta='?') # SOLUTION\n",
    "\n",
    "print(q4_3)"
   ]
  },
  {
   "cell_type": "raw",
   "metadata": {},
   "source": [
    "# END SOLUTION"
   ]
  },
  {
   "cell_type": "raw",
   "metadata": {},
   "source": [
    "# BEGIN TESTS"
   ]
  },
  {
   "cell_type": "code",
   "execution_count": 61,
   "metadata": {},
   "outputs": [],
   "source": [
    "\"\"\" # BEGIN TEST CONFIG\n",
    "points: 0\n",
    "failure_message: Make sure to test your function!\n",
    "\"\"\" # END TEST CONFIG\n",
    "\n",
    "# Check function was tested\n",
    "assert get_hash(type(q4_3)) != '14e736438b115821cbb9b7ac0ba79034'"
   ]
  },
  {
   "cell_type": "code",
   "execution_count": 62,
   "metadata": {},
   "outputs": [],
   "source": [
    "\"\"\" # BEGIN TEST CONFIG\n",
    "points: 0\n",
    "failure_message: Make sure your function returns a string!\n",
    "\"\"\" # END TEST CONFIG\n",
    "\n",
    "# Check function returns a string\n",
    "assert get_hash(type(q4_3)) == '9a86641cdf2fdb47f786dc955264738d'"
   ]
  },
  {
   "cell_type": "code",
   "execution_count": 63,
   "metadata": {
    "tags": []
   },
   "outputs": [],
   "source": [
    "\"\"\" # BEGIN TEST CONFIG\n",
    "points: 0.5\n",
    "failure_message: Function is incorrect when both f and theta have numeric values!\n",
    "\"\"\" # END TEST CONFIG\n",
    "assert get_hash(box_pred_any(f=0.5, theta=30)) == '7ea6c91dd27fef86440ca1c8636fb828'\n",
    "assert get_hash(box_pred_any(f=0.25, theta=10)) == '29a5a9cb0cfe9b668420c0b73345aa7a'\n",
    "assert get_hash(box_pred_any(f=0.75, theta=30)) == '29a5a9cb0cfe9b668420c0b73345aa7a'\n",
    "assert get_hash(box_pred_any(f=0.35, theta=25)) == '7ea6c91dd27fef86440ca1c8636fb828'\n",
    "assert get_hash(box_pred_any(f=1/math.sqrt(3), theta=29.999)) == '29a5a9cb0cfe9b668420c0b73345aa7a'\n",
    "assert get_hash(box_pred_any(f=1/math.sqrt(3), theta=30.001)) == '7ea6c91dd27fef86440ca1c8636fb828'"
   ]
  },
  {
   "cell_type": "code",
   "execution_count": 64,
   "metadata": {},
   "outputs": [],
   "source": [
    "\"\"\" # BEGIN TEST CONFIG\n",
    "points: 0.5\n",
    "failure_message: Function is incorrect when both f and theta are '?'!\n",
    "\"\"\" # END TEST CONFIG\n",
    "\n",
    "keywords = ['EITHER', 'F', 'OR', 'THETA', 'SHOULD', 'NUMERIC']\n",
    "assert all(word in box_pred_any(f='?', theta='?').upper() for word in keywords)"
   ]
  },
  {
   "cell_type": "code",
   "execution_count": 65,
   "metadata": {},
   "outputs": [],
   "source": [
    "\"\"\" # BEGIN TEST CONFIG\n",
    "points: 0.5\n",
    "failure_message: Function is incorrect when f is '?'! Check the wording of the output.\n",
    "\"\"\" # END TEST CONFIG\n",
    "\n",
    "keywords = ['IF', 'F', 'LESS', 'BOX', 'WILL', 'SLIDE']\n",
    "assert all(word in box_pred_any(f='?', theta=10).upper() for word in keywords)"
   ]
  },
  {
   "cell_type": "code",
   "execution_count": 66,
   "metadata": {},
   "outputs": [],
   "source": [
    "\"\"\" # BEGIN TEST CONFIG\n",
    "points: 0.5\n",
    "failure_message: Function is incorrect when f is '?'! Make sure you rounding the critical value to three digits after the decimal point.\n",
    "\"\"\" # END TEST CONFIG\n",
    "f_cri = ['0.176', '0.466', '1.036', '3.732']\n",
    "theta = [10, 25, 46, 75]\n",
    "assert all(f_cri[i] in box_pred_any(f='?', theta=theta[i]) for i in range(len(theta)))"
   ]
  },
  {
   "cell_type": "code",
   "execution_count": 67,
   "metadata": {},
   "outputs": [],
   "source": [
    "\"\"\" # BEGIN TEST CONFIG\n",
    "points: 0.5\n",
    "failure_message: Function is incorrect when theta is '?'! Check the wording of the output.\n",
    "\"\"\" # END TEST CONFIG\n",
    "\n",
    "keywords = ['IF', 'THETA', 'GREATER', 'DEGREES', 'BOX', 'WILL', 'SLIDE']\n",
    "assert all(word in box_pred_any(f=0.2, theta='?').upper() for word in keywords)"
   ]
  },
  {
   "cell_type": "code",
   "execution_count": 68,
   "metadata": {},
   "outputs": [],
   "source": [
    "\"\"\" # BEGIN TEST CONFIG\n",
    "points: 0.5\n",
    "failure_message: Function is incorrect when theta is '?'! Make sure you rounding the critical value to three digits after the decimal point.\n",
    "\"\"\" # END TEST CONFIG\n",
    "f = [0.176, 0.466, 1.036, 3.733]\n",
    "theta_cri = ['9.982', '24.986', '46.013', '75.004']\n",
    "assert all(theta_cri[i] in box_pred_any(f=f[i], theta='?') for i in range(len(f)))"
   ]
  },
  {
   "cell_type": "raw",
   "metadata": {},
   "source": [
    "# END TESTS"
   ]
  },
  {
   "cell_type": "raw",
   "metadata": {
    "collapsed": true,
    "jupyter": {
     "outputs_hidden": true
    }
   },
   "source": [
    "# END QUESTION"
   ]
  },
  {
   "cell_type": "raw",
   "metadata": {},
   "source": [
    "# BEGIN QUESTION\n",
    "name: q5\n",
    "points: 4"
   ]
  },
  {
   "cell_type": "markdown",
   "metadata": {},
   "source": [
    "## Question 5: Best Electricity Plan\n",
    "\n",
    "Many electric companies offer different pricing plans, allowing users to choose the plan that best suits their usage patterns to reduce their electricity bills.\n",
    "\n",
    "Consider the following three different plans where the price of electricity varies by the time of day. The goal is to find the cheapest plan for a given usage pattern.\n",
    "\n",
    "**Plan 1:**\n",
    "This is a flat rate plan with price $\\$1.25$ per kilowatt-hour.\n",
    "\n",
    "**Plan 2:**\n",
    "This is a tiered rate plan with the following pricing: $\\begin{cases} \\$0.50 \\text{ per kilowatt-hour,} & \\text{12 am} \\leq t < \\text{8 am} \\\\ \\$2.00 \\text{ per kilowatt-hour,} & \\text{8 am} \\leq t < \\text{6 pm} \\\\ \\$0.50 \\text{ per kilowatt-hour,} & \\text{6 pm} \\leq t < \\text{12 am}\\end{cases}$\n",
    "\n",
    "**Plan 3:**\n",
    "This is another tiered rate plan with the following pricing: $\\begin{cases} \\$0.25 \\text{ per kilowatt-hour,} & \\text{12 am} \\leq t < \\text{4 am} \\\\ \\$0.75 \\text{ per kilowatt-hour,} & \\text{4 am} \\leq t < \\text{7 am} \\\\ \\$1.50 \\text{ per kilowatt-hour,} & \\text{7 am} \\leq t < \\text{7 pm} \\\\ \\$0.75 \\text{ per kilowatt-hour,} & \\text{7 pm} \\leq t < \\text{10 pm} \\\\ \\$0.25 \\text{ per kilowatt-hour,} & \\text{10 pm} \\leq t < \\text{12 am}\\end{cases}$\n",
    "\n",
    "Write a function named `best_plan()` that calculates the total cost for each plan and identifies the cheapest one. The function has the following input argument (use the same argument names):\n",
    "* `usage`, which is a NumPy array of shape (24,) representing the electricity usage in kilowatt-hours for each hour of the day\n",
    "    * `usage[0]` corresponds to the usage between 12 am and 1 am\n",
    "    * `usage[1]` corresponds to the usage between 1 am and 2 am\n",
    "    * $\\dots$\n",
    "    * `usage[23]` (or `usage[-1]`) corresponds to the usage between 11 pm and 12 am\n",
    "\n",
    "Your function should return a tuple with the following (in this order):\n",
    "1. `best_price`: The total cost of electricity usage for the cheapest plan\n",
    "2. `best_plan`: A string indicating the name of the cheapest plan (`'Plan 1'`, `'Plan 2'`, or `'Plan 3'`)\n",
    "\n",
    "If two plans result in the same total cost, choose the simpler plan (i.e., 1 is preferred over 2 which is preferred over 3).\n",
    "\n",
    "Test your `best_plan()` function for `usage = np.ones((24))` and assign the output to `q5`. Feel free to try it for other input values. "
   ]
  },
  {
   "cell_type": "raw",
   "metadata": {},
   "source": [
    "# BEGIN SOLUTION"
   ]
  },
  {
   "cell_type": "code",
   "execution_count": 69,
   "metadata": {
    "tags": []
   },
   "outputs": [],
   "source": [
    "# ANSWER CELL\n",
    "# BEGIN SOLUTION\n",
    "def best_plan(usage):\n",
    "    # Calculate the total cost for Plan 1\n",
    "    plan1_cost = np.sum(usage) * 1.25\n",
    "    \n",
    "    # Calculate the total cost for Plan 2\n",
    "    plan2_cost = (np.sum(usage[0:8]) * 0.50 +\n",
    "                  np.sum(usage[8:18]) * 2.00 +\n",
    "                  np.sum(usage[18:24]) * 0.50)\n",
    "    \n",
    "    # Calculate the total cost for Plan 3\n",
    "    plan3_cost = (np.sum(usage[0:4]) * 0.25 +\n",
    "                  np.sum(usage[4:7]) * 0.75 +\n",
    "                  np.sum(usage[7:19]) * 1.50 +\n",
    "                  np.sum(usage[19:22]) * 0.75 +\n",
    "                  np.sum(usage[22:24]) * 0.25)\n",
    "    \n",
    "    # Determine the cheapest plan\n",
    "    if min(plan1_cost, plan2_cost, plan3_cost) == plan1_cost:\n",
    "        return plan1_cost, 'Plan 1'\n",
    "    elif min(plan1_cost, plan2_cost, plan3_cost) == plan2_cost:\n",
    "        return plan2_cost, 'Plan 2'\n",
    "    else:\n",
    "        return plan3_cost, 'Plan 3'\n",
    "# END SOLUTION"
   ]
  },
  {
   "cell_type": "code",
   "execution_count": 70,
   "metadata": {},
   "outputs": [
    {
     "name": "stdout",
     "output_type": "stream",
     "text": [
      "Best price: $24.0, Best plan: Plan 3\n"
     ]
    }
   ],
   "source": [
    "# TEST YOUR FUNCTION HERE\n",
    "usage = np.ones((24))\n",
    "q5 = best_plan(usage) # SOLUTION\n",
    "\n",
    "print(f\"Best price: ${q5[0]}, Best plan: {q5[1]}\")"
   ]
  },
  {
   "cell_type": "raw",
   "metadata": {},
   "source": [
    "# END SOLUTION"
   ]
  },
  {
   "cell_type": "raw",
   "metadata": {},
   "source": [
    "# BEGIN TESTS"
   ]
  },
  {
   "cell_type": "code",
   "execution_count": 71,
   "metadata": {},
   "outputs": [],
   "source": [
    "\"\"\" # BEGIN TEST CONFIG\n",
    "points: 0.25\n",
    "failure_message: Make sure to test your function!\n",
    "\"\"\" # END TEST CONFIG\n",
    "\n",
    "# Check function was tested\n",
    "assert get_hash(type(q5)) != '14e736438b115821cbb9b7ac0ba79034'"
   ]
  },
  {
   "cell_type": "code",
   "execution_count": 72,
   "metadata": {},
   "outputs": [],
   "source": [
    "\"\"\" # BEGIN TEST CONFIG\n",
    "points: 0.25\n",
    "failure_message: Make sure your function returns a tuple!\n",
    "\"\"\" # END TEST CONFIG\n",
    "\n",
    "# Check function returns a tuple\n",
    "assert get_hash(type(q5)) == '22b3afce62075c7012f8e5041adfee16'"
   ]
  },
  {
   "cell_type": "code",
   "execution_count": 73,
   "metadata": {},
   "outputs": [],
   "source": [
    "\"\"\" # BEGIN TEST CONFIG\n",
    "points: 0.25\n",
    "failure_message: Make sure the first returned value is the price (numeric)!\n",
    "\"\"\" # END TEST CONFIG\n",
    "\n",
    "assert isinstance(q5[0], (int, float))"
   ]
  },
  {
   "cell_type": "code",
   "execution_count": 74,
   "metadata": {},
   "outputs": [],
   "source": [
    "\"\"\" # BEGIN TEST CONFIG\n",
    "points: 0.25\n",
    "failure_message: Make sure the second returned value is a string!\n",
    "\"\"\" # END TEST CONFIG\n",
    "\n",
    "assert isinstance(q5[1], str)"
   ]
  },
  {
   "cell_type": "code",
   "execution_count": 75,
   "metadata": {},
   "outputs": [],
   "source": [
    "\"\"\" # BEGIN TEST CONFIG\n",
    "points: 1\n",
    "failure_message: Check that your function calculates the cost of plan 1 correctly and chooses it as the best plan when it is the cheapest!\n",
    "\"\"\" # END TEST CONFIG\n",
    "\n",
    "usage = np.array([1, 1, 1, 1, 1, 1, 1, 10, 10, 10, 10, 10, 10, 10, 10, 10, 10, 10, 10, 10, 1, 1, 1, 1])\n",
    "assert get_hash(round(best_plan(usage)[0], 4)) == '14dcbe1e1a4061a612e0a0cd5b00ac56'\n",
    "assert get_hash(best_plan(usage)[1].upper()) == '105c61ad6b32ad3880685760d9b6b9aa'\n",
    "usage = np.array([3.8, 2.4, 2.3, 1, 1, 1, 1, 7.5, 7.7, 7.9, 8, 8.8, 9, 9.5, 10, 10, 8.8, 7.6, 6.4, 5, 2.5, 4.2, 3.3, 3.4])\n",
    "assert get_hash(round(best_plan(usage)[0], 4)) == 'be592cba6974b3373d6fb295c41f2f1f'\n",
    "assert get_hash(best_plan(usage)[1].upper()) == '105c61ad6b32ad3880685760d9b6b9aa'\n",
    "usage = np.array([1, 1, 1.2, 1.8, 8.9, 8.2, 8.7, 5.8, 10.7, 10.9, 15, 15.8, 16, 15.5, 6, 6, 5.8, 4.6, 53.4, 4.5, 4.5, 4.2, 1.3, 1.4])\n",
    "assert get_hash(round(best_plan(usage)[0], 4)) == 'f2b2e05e843fde6473771dde0cd4c87d'\n",
    "assert get_hash(best_plan(usage)[1].upper()) == '105c61ad6b32ad3880685760d9b6b9aa'"
   ]
  },
  {
   "cell_type": "code",
   "execution_count": 76,
   "metadata": {},
   "outputs": [],
   "source": [
    "\"\"\" # BEGIN TEST CONFIG\n",
    "points: 1\n",
    "failure_message: Check that your function calculates the cost of plan 2 correctly and chooses it as the best plan when it is the cheapest!\n",
    "\"\"\" # END TEST CONFIG\n",
    "\n",
    "usage = np.array([1.8, 1.4, 2.3, 1.8, 10.9, 10.2, 10.7, 7.8, 7.7, 5.9, 5, 5.8, 6, 5.5, 6, 6, 5.8, 4.6, 13.4, 4.5, 4.5, 4.2, 1.3, 1.4])\n",
    "assert get_hash(round(best_plan(usage)[0], 4)) == '13c40bba2995447063766ff3c66d3954'\n",
    "assert get_hash(best_plan(usage)[1].upper()) == '753eb952bf2c7b40a232a08095245b0d'\n",
    "usage = np.array([1.8, 1.4, 0.3, 0.8, 0.9, 0.2, 0.7, 0.8, 0.7, 15.9, 15, 10.4, 6, 5.5, 6, 6, 5.8, 4.6, 53.4, 4.5, 4.5, 4.2, 1.3, 1.4])\n",
    "assert get_hash(round(best_plan(usage)[0], 4)) == '17848d4edca9ae698fa25ff6cbab33e4'\n",
    "assert get_hash(best_plan(usage)[1].upper()) == '753eb952bf2c7b40a232a08095245b0d'"
   ]
  },
  {
   "cell_type": "code",
   "execution_count": 77,
   "metadata": {},
   "outputs": [],
   "source": [
    "\"\"\" # BEGIN TEST CONFIG\n",
    "points: 1\n",
    "failure_message: Check that your function calculates the cost of plan 3 correctly and chooses it as the best plan when it is the cheapest!\n",
    "\"\"\" # END TEST CONFIG\n",
    "\n",
    "assert get_hash(round(best_plan(np.ones(24))[0], 4)) == 'e237633a8b413a04dd5028207f03c1c2'\n",
    "assert get_hash(best_plan(np.ones(24))[1].upper()) == '35123f1448e59b7193db3c7d210589b3'\n",
    "assert get_hash(round(best_plan(1.2*np.ones(24))[0], 4)) == '45dad2e50665b75b89b9c5e0697544ad'\n",
    "assert get_hash(best_plan(1.2*np.ones(24))[1].upper()) == '35123f1448e59b7193db3c7d210589b3'\n",
    "usage = np.array([5, 5, 5, 5, 1, 1, 1, 2, 2, 2, 2, 2, 2, 2, 2, 2, 2, 1, 1, 1, 3, 3, 5, 5])\n",
    "assert get_hash(round(best_plan(usage)[0], 4)) == 'ddd2e8c220072a5951b37078518ba809'\n",
    "assert get_hash(best_plan(usage)[1].upper()) == '35123f1448e59b7193db3c7d210589b3'\n",
    "usage = np.array([4, 3.5, 4.2, 5.6, 1, 1.2, 1.3, 2.2, 2.1, 2.5, 2, 2, 2, 2.8, 2, 2, 2, 1.1, 1.3, 1.4, 3.3, 3.2, 5.5, 5])\n",
    "assert get_hash(round(best_plan(usage)[0], 4)) == '2a438ea6455149339336050fb8661259'\n",
    "assert get_hash(best_plan(usage)[1].upper()) == '35123f1448e59b7193db3c7d210589b3'"
   ]
  },
  {
   "cell_type": "raw",
   "metadata": {},
   "source": [
    "# END TESTS"
   ]
  },
  {
   "cell_type": "raw",
   "metadata": {
    "collapsed": true,
    "jupyter": {
     "outputs_hidden": true
    }
   },
   "source": [
    "# END QUESTION"
   ]
  },
  {
   "cell_type": "raw",
   "metadata": {},
   "source": [
    "# BEGIN QUESTION\n",
    "name: q6\n",
    "points: 3"
   ]
  },
  {
   "cell_type": "markdown",
   "metadata": {},
   "source": [
    "## Question 6: Drive, Walk, or Day Off \n",
    "\n",
    "You need to create a function that helps decide the best way to commute to work based on two factors: whether it is raining and the temperature. The function will evaluate whether to work from home, walk, or drive to work based on the weather conditions.\n",
    "\n",
    "Write a function named `decide_commute()` that returns the decision. The function has the following input arguments (use the same argument names):\n",
    "* `rain`, which is a boolean indicating if it is raining (`True`) or not (`False`)\n",
    "* `temperature`, which is an integer representing the temperature in degrees Fahrenheit\n",
    "    \n",
    "Your function should return a string based on the following:\n",
    "1. `'Work from Home'`: If it is raining and the temperature is below 40°F or if the temperature is above 100°F regardless of rain conditions\n",
    "2. `'Walk'`: If it is not raining and the temperature is between 70°F and 80°F (inclusive)\n",
    "3. `'Drive'`: For all other conditions\n",
    "\n",
    "Test your `decide_commute()` function for `rain = False` and `temperature = 71` and assign the output to `q6`. Feel free to try it for other input values. "
   ]
  },
  {
   "cell_type": "raw",
   "metadata": {},
   "source": [
    "# BEGIN SOLUTION"
   ]
  },
  {
   "cell_type": "code",
   "execution_count": 78,
   "metadata": {
    "tags": []
   },
   "outputs": [],
   "source": [
    "# ANSWER CELL\n",
    "# BEGIN SOLUTION\n",
    "def decide_commute(rain, temperature):\n",
    "    if temperature > 100:\n",
    "        return 'Work from Home'\n",
    "    elif rain and temperature < 40:\n",
    "        return 'Work from Home'\n",
    "    elif not rain and 70 <= temperature <= 80:\n",
    "        return 'Walk'\n",
    "    else:\n",
    "        return 'Drive'\n",
    "# END SOLUTION"
   ]
  },
  {
   "cell_type": "code",
   "execution_count": 79,
   "metadata": {},
   "outputs": [
    {
     "name": "stdout",
     "output_type": "stream",
     "text": [
      "Walk\n"
     ]
    }
   ],
   "source": [
    "# TEST YOUR FUNCTION HERE\n",
    "q6 = decide_commute(False, 71) # SOLUTION\n",
    "\n",
    "print(q6)"
   ]
  },
  {
   "cell_type": "raw",
   "metadata": {},
   "source": [
    "# END SOLUTION"
   ]
  },
  {
   "cell_type": "raw",
   "metadata": {},
   "source": [
    "# BEGIN TESTS"
   ]
  },
  {
   "cell_type": "code",
   "execution_count": 80,
   "metadata": {},
   "outputs": [],
   "source": [
    "\"\"\" # BEGIN TEST CONFIG\n",
    "points: 0.25\n",
    "failure_message: Make sure to test your function!\n",
    "\"\"\" # END TEST CONFIG\n",
    "\n",
    "# Check function was tested\n",
    "assert get_hash(type(q6)) != '14e736438b115821cbb9b7ac0ba79034'"
   ]
  },
  {
   "cell_type": "code",
   "execution_count": 81,
   "metadata": {},
   "outputs": [],
   "source": [
    "\"\"\" # BEGIN TEST CONFIG\n",
    "points: 0.25\n",
    "failure_message: Make sure your function returns a string!\n",
    "\"\"\" # END TEST CONFIG\n",
    "\n",
    "# Check function returns a string\n",
    "assert get_hash(type(decide_commute(rain=False, temperature=71))) == '9a86641cdf2fdb47f786dc955264738d'"
   ]
  },
  {
   "cell_type": "code",
   "execution_count": 82,
   "metadata": {},
   "outputs": [],
   "source": [
    "\"\"\" # BEGIN TEST CONFIG\n",
    "points: 1\n",
    "failure_message: Check that your function works correctly for Work from Home\n",
    "\"\"\" # END TEST CONFIG\n",
    "\n",
    "keywords = ['WORK', 'FROM', 'HOME']\n",
    "r = [True, True, False]\n",
    "t = [39, 105, 101]\n",
    "assert all(word in decide_commute(r[i], t[i]).upper() for i in range(len(t)) for word in keywords)\n",
    "\n",
    "not_keywords = ['WALK', 'DRIVE']\n",
    "assert all(word not in decide_commute(r[i], t[i]).upper() for i in range(len(t)) for word in not_keywords)"
   ]
  },
  {
   "cell_type": "code",
   "execution_count": 83,
   "metadata": {},
   "outputs": [],
   "source": [
    "\"\"\" # BEGIN TEST CONFIG\n",
    "points: 0.5\n",
    "failure_message: Check that your function works correctly for Walk\n",
    "\"\"\" # END TEST CONFIG\n",
    "\n",
    "keywords = ['WALK']\n",
    "r = [False]*4\n",
    "t = [70, 72, 78, 80]\n",
    "assert all(word in decide_commute(r[i], t[i]).upper() for i in range(len(t)) for word in keywords)\n",
    "\n",
    "not_keywords = ['WORK', 'FROM', 'HOME', 'DRIVE']\n",
    "assert all(word not in decide_commute(r[i], t[i]).upper() for i in range(len(t)) for word in not_keywords)"
   ]
  },
  {
   "cell_type": "code",
   "execution_count": 84,
   "metadata": {},
   "outputs": [],
   "source": [
    "\"\"\" # BEGIN TEST CONFIG\n",
    "points: 1\n",
    "failure_message: Check that your function works correctly for Drive\n",
    "\"\"\" # END TEST CONFIG\n",
    "\n",
    "keywords = ['DRIVE']\n",
    "r = [True, False, False, True, True, True, True, False]\n",
    "t = [40, 39, 41, 69, 70, 75, 80, 82]\n",
    "assert all(word in decide_commute(r[i], t[i]).upper() for i in range(len(t)) for word in keywords)\n",
    "\n",
    "not_keywords = ['WORK', 'FROM', 'HOME', 'WALK']\n",
    "assert all(word not in decide_commute(r[i], t[i]).upper() for i in range(len(t)) for word in not_keywords)"
   ]
  },
  {
   "cell_type": "raw",
   "metadata": {},
   "source": [
    "# END TESTS"
   ]
  },
  {
   "cell_type": "raw",
   "metadata": {
    "collapsed": true,
    "jupyter": {
     "outputs_hidden": true
    }
   },
   "source": [
    "# END QUESTION"
   ]
  },
  {
   "cell_type": "markdown",
   "metadata": {},
   "source": [
    "### You're done with this Lab!\n",
    "\n",
    "**Important submission information:** After completing the assignment, click on the Save icon from the Tool Bar &nbsp;<i class=\"fa fa-save\" style=\"font-size:16px;\"></i>&nbsp;. After saving your notebook, **run the cell with** `grader.check_all()` and confirm that you pass the same tests as in the notebook. Then, **run the final cell** `grader.export()` and click the link to download the zip file. Then, go to Gradescope and submit the zip file to the corresponding assignment. \n",
    "\n",
    "**Once you have submitted, stay on the Gradescope page to confirm that you pass the same tests as in the notebook.**"
   ]
  },
  {
   "cell_type": "code",
   "execution_count": 85,
   "metadata": {
    "tags": []
   },
   "outputs": [
    {
     "name": "stdout",
     "output_type": "stream",
     "text": [
      "Congrats on finishing this lab!\n"
     ]
    },
    {
     "data": {
      "image/png": "[encoded data removed]",
      "text/plain": [
       "<Figure size 640x480 with 1 Axes>"
      ]
     },
     "metadata": {},
     "output_type": "display_data"
    }
   ],
   "source": [
    "import matplotlib.image as mpimg\n",
    "img = mpimg.imread('resources/animal.png')\n",
    "imgplot = plt.imshow(img)\n",
    "imgplot.axes.get_xaxis().set_visible(False)\n",
    "imgplot.axes.get_yaxis().set_visible(False)\n",
    "print(\"Congrats on finishing this lab!\")\n",
    "plt.show()"
   ]
  },
  {
   "cell_type": "code",
   "execution_count": null,
   "metadata": {},
   "outputs": [],
   "source": []
  }
 ],
 "metadata": {
  "anaconda-cloud": {},
  "kernelspec": {
   "display_name": "Python 3 (ipykernel)",
   "language": "python",
   "name": "python3"
  },
  "language_info": {
   "codemirror_mode": {
    "name": "ipython",
    "version": 3
   },
   "file_extension": ".py",
   "mimetype": "text/x-python",
   "name": "python",
   "nbconvert_exporter": "python",
   "pygments_lexer": "ipython3",
   "version": "3.11.11"
  }
 },
 "nbformat": 4,
 "nbformat_minor": 4
}
