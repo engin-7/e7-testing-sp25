{
 "cells": [
  {
   "cell_type": "code",
   "execution_count": 1,
   "metadata": {
    "deletable": false,
    "editable": false
   },
   "outputs": [],
   "source": [
    "# Initialize Otter\n",
    "import otter\n",
    "grader = otter.Notebook(\"lab01.ipynb\")"
   ]
  },
  {
   "cell_type": "markdown",
   "metadata": {},
   "source": [
    "# E7: Lab Assignment 01 - Course Logistics & Python Basics\n",
    "\n",
    "You must submit the lab to Gradescope by the due date. You will submit the zip file produced by running the final cell of the assignment.\n",
    "\n",
    "## Instructions \n",
    "\n",
    "**Watch [this tutorial](https://drive.google.com/file/d/19Ovhmzv58XAC77EIoGEkCBJjw8MG6tqH/view?usp=drive_link) before you start the assignment. This step by step tutorial will show you how to work on the lab assignment and correctly submit your work to Gradescope.**\n",
    "\n",
    "**Run the first cell, Initialize Otter**, to import the autograder and submission exporter.\n",
    "\n",
    "Throughout the assignment, replace `...` with your answers. We use `...` as a placeholder and these should be deleted and replaced with your answers.\n",
    "\n",
    "Any part listed as a \"<font color='red'>**Question**</font>\" should be answered to receive credit.\n",
    "\n",
    "**Please save your work after every question!**\n",
    "\n",
    "To read the documentation on a Python function, you can type `help()` and add the function name between parentheses.\n",
    "\n",
    "## Score Breakdown\n",
    "|Question     | Points |\n",
    "| :--------   | -----: |\n",
    "| 1           | 3      |\n",
    "| 2.0 – 2.9   | 5      |\n",
    "| 3.0 – 3.8   | 9      |\n",
    "| 4.0 – 4.10  | 8      |\n",
    "| Total       | 25     |\n",
    "\n",
    "**Run the cell below**, to import the required modules."
   ]
  },
  {
   "cell_type": "code",
   "execution_count": 2,
   "metadata": {
    "tags": []
   },
   "outputs": [],
   "source": [
    "# Please run this cell, and do not modify the contents\n",
    "import math\n",
    "import numpy as np\n",
    "import cmath\n",
    "import re\n",
    "import matplotlib.pyplot as plt\n",
    "import matplotlib.image as mpimg\n",
    "import hashlib\n",
    "import ipywidgets as widgets\n",
    "from ipywidgets import FileUpload\n",
    "from IPython.display import display\n",
    "from PIL import Image\n",
    "import os\n",
    "import resources# BEGIN SOLUTION\n",
    "\n",
    "def get_hash(num):\n",
    "    \"\"\"Helper function for assessing correctness\"\"\"\n",
    "    return hashlib.md5(str(num).encode()).hexdigest()"
   ]
  },
  {
   "cell_type": "markdown",
   "metadata": {},
   "source": [
    "## Autograding and Gradescope\n",
    "\n",
    "We will be using an automatic grader for lab assignments. Each question in a lab assignment will have an **Answer Cell** followed by a **Testing Cell**. You will put gradable code into the **Answer Cell** as instructed in the lab, and then test your code by executing the **Testing Cell**. The output of the testing cell will let you know whether you have a mistake in the graded cell."
   ]
  },
  {
   "cell_type": "markdown",
   "metadata": {},
   "source": [
    "### Example Question\n",
    "\n",
    "Given two variables, `m=1` and `n=2`, compute their sum and assign it to variable `o`. \n",
    "\n",
    "+ The correct solution to this exercise is to replace the `...` below with `m + n`.  Try that out, and confirm that the testing cell marks your answer as correct. \n",
    "+ Also try an *incorrect* answer, by replacing the `...` with `-2`. Notice what happens when you run the testing cell.\n",
    "\n",
    "It is important that you save your work regularly, preferably after answering each question. You can save your work by clicking on the Save icon from the Tool Bar &nbsp;<i class=\"fa fa-save\" style=\"font-size:16px;\"></i>&nbsp;. Failing to save your work may result in incomplete submissions and loss of points.\n",
    "\n",
    "#### Answer Cell:"
   ]
  },
  {
   "cell_type": "code",
   "execution_count": 3,
   "metadata": {
    "tags": [
     "otter_assign_solution_cell"
    ]
   },
   "outputs": [],
   "source": [
    "m = 1\n",
    "n = 2\n",
    "o = m + n #SOLUTION"
   ]
  },
  {
   "cell_type": "markdown",
   "metadata": {},
   "source": [
    "#### Testing Cell:"
   ]
  },
  {
   "cell_type": "code",
   "execution_count": 4,
   "metadata": {
    "deletable": false,
    "editable": false
   },
   "outputs": [
    {
     "data": {
      "text/html": [
       "<p><strong><pre style='display: inline;'>q0</pre></strong> passed! 🙌</p>"
      ],
      "text/plain": [
       "q0 results: All test cases passed!"
      ]
     },
     "execution_count": 4,
     "metadata": {},
     "output_type": "execute_result"
    }
   ],
   "source": [
    "grader.check(\"q0\")"
   ]
  },
  {
   "cell_type": "markdown",
   "metadata": {},
   "source": [
    "## Question 1: Mandatory Prerequisites Form\n",
    "\n",
    "Complete [this form](https://docs.google.com/forms/d/e/1FAIpQLSeEx8kVljAg1t6xZPxX4zM3ICgwRVbKX-L1N8Yb_NWuGON6NQ/viewform?usp=header) before proceeding with the lab. Please use your Berkeley email to access the form. At the end of the form, there will be a secret word, which you must enter in the box below. Be sure to enclose the secret word in quotation marks (e.g., 'hello'), as this indicates it is a String type.\n",
    "\n",
    "Submitting an answer without completing the form will be considered academic misconduct. Therefore, please fill out the form and do not attempt to acquire the secret word without doing so."
   ]
  },
  {
   "cell_type": "code",
   "execution_count": 5,
   "metadata": {
    "tags": [
     "otter_assign_solution_cell"
    ]
   },
   "outputs": [],
   "source": [
    "# ANSWER CELL\n",
    "secret_word = 'Oski' #SOLUTION"
   ]
  },
  {
   "cell_type": "code",
   "execution_count": 6,
   "metadata": {
    "deletable": false,
    "editable": false
   },
   "outputs": [
    {
     "data": {
      "text/html": [
       "<p><strong><pre style='display: inline;'>q1.0</pre></strong> passed! ✨</p>"
      ],
      "text/plain": [
       "q1.0 results: All test cases passed!"
      ]
     },
     "execution_count": 6,
     "metadata": {},
     "output_type": "execute_result"
    }
   ],
   "source": [
    "grader.check(\"q1.0\")"
   ]
  },
  {
   "cell_type": "markdown",
   "metadata": {},
   "source": [
    "## Question 2: Course Policies\n",
    "\n",
    "The questions below are related to course policies on assignment submission, grading, Ed, etc. All information can be found in the syllabus on bCourses. \n",
    "\n",
    "Reading the syllabus will save you time!\n",
    "\n",
    "These questions are graded and you must answer them correctly to receive credit."
   ]
  },
  {
   "cell_type": "markdown",
   "metadata": {},
   "source": [
    "### Question 2.0\n",
    "\n",
    "You have a general question regarding a lab assignment. Who do you contact?\n",
    "\n",
    "A. Email the instructor \\\n",
    "B. Post a question on Ed  \\\n",
    "C. Email your lab GSI  \\\n",
    "D. engin7@berkeley.edu \\\n",
    "E. Go to office hours\n",
    "\n",
    "Answer in the next cell. Add each selected choice as a string and separate each two answer choices by a comma. For example, if you want to select `\"A\"` and `\"B\"`, your answer should be `\"A\", \"B\"`.\\\n",
    "Assign your answer to the given variable `q2_0`.\n",
    "Remember to put quotes around each answer choice."
   ]
  },
  {
   "cell_type": "code",
   "execution_count": 7,
   "metadata": {
    "tags": [
     "otter_assign_solution_cell"
    ]
   },
   "outputs": [
    {
     "data": {
      "text/plain": [
       "('B', 'E')"
      ]
     },
     "execution_count": 7,
     "metadata": {},
     "output_type": "execute_result"
    }
   ],
   "source": [
    "# ANSWER CELL\n",
    "q2_0 = 'B', 'E' #SOLUTION\n",
    "q2_0"
   ]
  },
  {
   "cell_type": "code",
   "execution_count": 8,
   "metadata": {
    "deletable": false,
    "editable": false
   },
   "outputs": [
    {
     "data": {
      "text/html": [
       "<p><strong><pre style='display: inline;'>q2.0</pre></strong> passed! 🚀</p><p><strong><pre style='display: inline;'>q2.0 - 1</pre> message:</strong> Correct answer format.</p>"
      ],
      "text/plain": [
       "q2.0 results: All test cases passed!\n",
       "q2.0 - 1 message: Correct answer format."
      ]
     },
     "execution_count": 8,
     "metadata": {},
     "output_type": "execute_result"
    }
   ],
   "source": [
    "grader.check(\"q2.0\")"
   ]
  },
  {
   "cell_type": "markdown",
   "metadata": {},
   "source": [
    "### Question 2.1\n",
    "\n",
    "Lab assignments are due by Fridays, 11:59 PM. Which of the following is true about late lab submissions?\n",
    "\n",
    "A. No late submissions are allowed \\\n",
    "B. Lab assignments will be accepted for 48 hours after the deadline but you have to submit an extension request \\\n",
    "C. Lab assignments will be accepted for 48 hours after the deadline without the need to request an extension \\\n",
    "D. Late lab assignments can be requested by emailing the teaching assistant\n",
    "\n",
    "Answer in the next cell. Your answer should be a string, e.g., `\"A\"`, `\"B\"`, etc. Assign your answer to the variable `q2_1` as a string."
   ]
  },
  {
   "cell_type": "code",
   "execution_count": 9,
   "metadata": {
    "tags": [
     "otter_assign_solution_cell"
    ]
   },
   "outputs": [
    {
     "data": {
      "text/plain": [
       "'C'"
      ]
     },
     "execution_count": 9,
     "metadata": {},
     "output_type": "execute_result"
    }
   ],
   "source": [
    "# ANSWER CELL\n",
    "q2_1 = 'C' #SOLUTION\n",
    "q2_1"
   ]
  },
  {
   "cell_type": "code",
   "execution_count": 10,
   "metadata": {
    "deletable": false,
    "editable": false
   },
   "outputs": [
    {
     "data": {
      "text/html": [
       "<p><strong><pre style='display: inline;'>q2.1</pre></strong> passed! ✨</p><p><strong><pre style='display: inline;'>q2.1 - 1</pre> message:</strong> Correct! Please do not email us to request short lab extensions, as 48 hours are granted by default.</p>"
      ],
      "text/plain": [
       "q2.1 results: All test cases passed!\n",
       "q2.1 - 1 message: Correct! Please do not email us to request short lab extensions, as 48 hours are granted by default."
      ]
     },
     "execution_count": 10,
     "metadata": {},
     "output_type": "execute_result"
    }
   ],
   "source": [
    "grader.check(\"q2.1\")"
   ]
  },
  {
   "cell_type": "markdown",
   "metadata": {},
   "source": [
    "### Question 2.2\n",
    "\n",
    "Attending discussion sections is mandatory and will count toward your grade. If you must miss a discussion section, what should you do?\n",
    "\n",
    "A. Email the teaching staff to let them know \\\n",
    "B. Nothing because I can miss up to 3 discussions and still earn a perfect score. So, I can handle this without needing to email anyone. \\\n",
    "C. Join over Zoom\n",
    "\n",
    "Answer in the next cell. Your answer should be a string, e.g., `\"A\"`, `\"B\"`, etc. Assign your answer to the variable `q2_2` as a string."
   ]
  },
  {
   "cell_type": "code",
   "execution_count": 11,
   "metadata": {
    "tags": [
     "otter_assign_solution_cell"
    ]
   },
   "outputs": [
    {
     "data": {
      "text/plain": [
       "'B'"
      ]
     },
     "execution_count": 11,
     "metadata": {},
     "output_type": "execute_result"
    }
   ],
   "source": [
    "# ANSWER CELL\n",
    "q2_2 = 'B' #SOLUTION\n",
    "q2_2"
   ]
  },
  {
   "cell_type": "code",
   "execution_count": 12,
   "metadata": {
    "deletable": false,
    "editable": false
   },
   "outputs": [
    {
     "data": {
      "text/html": [
       "<p><strong><pre style='display: inline;'>q2.2</pre></strong> passed! ✨</p><p><strong><pre style='display: inline;'>q2.2 - 1</pre> message:</strong> Correct! Plan to use your 3 discussion drops for true emergencies only. No exceptions will be made to this policy.</p>"
      ],
      "text/plain": [
       "q2.2 results: All test cases passed!\n",
       "q2.2 - 1 message: Correct! Plan to use your 3 discussion drops for true emergencies only. No exceptions will be made to this policy."
      ]
     },
     "execution_count": 12,
     "metadata": {},
     "output_type": "execute_result"
    }
   ],
   "source": [
    "grader.check(\"q2.2\")"
   ]
  },
  {
   "cell_type": "markdown",
   "metadata": {},
   "source": [
    "### Question 2.3\n",
    "\n",
    "Attending labs is mandatory and will count toward your grade. If you must miss a lab section, what should you do?\n",
    "\n",
    "A. Email the teaching staff to let them know \\\n",
    "B. Nothing because I can miss up to 2 labs and still earn a perfect score. So, I can handle this without needing to email anyone. \\\n",
    "C. Join over Zoom\n",
    "\n",
    "Answer in the next cell. Your answer should be a string, e.g., `\"A\"`, `\"B\"`, etc. Assign your answer to the variable `q2_3` as a string."
   ]
  },
  {
   "cell_type": "code",
   "execution_count": 13,
   "metadata": {
    "tags": [
     "otter_assign_solution_cell"
    ]
   },
   "outputs": [
    {
     "data": {
      "text/plain": [
       "'B'"
      ]
     },
     "execution_count": 13,
     "metadata": {},
     "output_type": "execute_result"
    }
   ],
   "source": [
    "# ANSWER CELL\n",
    "q2_3 = 'B' #SOLUTION\n",
    "q2_3"
   ]
  },
  {
   "cell_type": "code",
   "execution_count": 14,
   "metadata": {
    "deletable": false,
    "editable": false
   },
   "outputs": [
    {
     "data": {
      "text/html": [
       "<p><strong><pre style='display: inline;'>q2.3</pre></strong> passed! ✨</p><p><strong><pre style='display: inline;'>q2.3 - 1</pre> message:</strong> Correct! Plan to use your 2 lab drops for true emergencies only. No exceptions will be made to this policy.</p>"
      ],
      "text/plain": [
       "q2.3 results: All test cases passed!\n",
       "q2.3 - 1 message: Correct! Plan to use your 2 lab drops for true emergencies only. No exceptions will be made to this policy."
      ]
     },
     "execution_count": 14,
     "metadata": {},
     "output_type": "execute_result"
    }
   ],
   "source": [
    "grader.check(\"q2.3\")"
   ]
  },
  {
   "cell_type": "markdown",
   "metadata": {},
   "source": [
    "### Question 2.4\n",
    "\n",
    "If you attended a discussion but are missing its grade, what should you do?\n",
    "\n",
    "A. Email the teaching staff anytime \\\n",
    "B. Email the teaching staff within 1 week of grade posting\n",
    "\n",
    "Answer in the next cell. Your answer should be a string, e.g., `\"A\"`, `\"B\"`, etc. Assign your answer to the variable `q2_4` as a string."
   ]
  },
  {
   "cell_type": "code",
   "execution_count": 15,
   "metadata": {
    "tags": [
     "otter_assign_solution_cell"
    ]
   },
   "outputs": [
    {
     "data": {
      "text/plain": [
       "'B'"
      ]
     },
     "execution_count": 15,
     "metadata": {},
     "output_type": "execute_result"
    }
   ],
   "source": [
    "# ANSWER CELL\n",
    "q2_4 = 'B' #SOLUTION\n",
    "q2_4"
   ]
  },
  {
   "cell_type": "code",
   "execution_count": 16,
   "metadata": {
    "deletable": false,
    "editable": false
   },
   "outputs": [
    {
     "data": {
      "text/html": [
       "<p><strong><pre style='display: inline;'>q2.4</pre></strong> passed! 🌈</p>"
      ],
      "text/plain": [
       "q2.4 results: All test cases passed!"
      ]
     },
     "execution_count": 16,
     "metadata": {},
     "output_type": "execute_result"
    }
   ],
   "source": [
    "grader.check(\"q2.4\")"
   ]
  },
  {
   "cell_type": "markdown",
   "metadata": {},
   "source": [
    "### Question 2.5\n",
    "\n",
    "Which of the following is(are) true regarding academic misconduct?\n",
    "\n",
    "A. The penalty for assignment misconduct is $-$25 on that assignment for all involved, and which cannot be dropped \\\n",
    "B. A repeat offense on lab assignments will result in an F in the course \\\n",
    "C. Anyone involved in misconduct on any exam will receive an F in the course \\\n",
    "D. Any misconduct incident could be reported to the Center for Student Conduct \\\n",
    "E. If I need help, I can go to office hours, post on Ed, and benefit from the course support. I do not need to cheat! \\\n",
    "F. When I receive assistance on an assignment, I should cite that assistance in my code using the `@source` tag in a comment \\\n",
    "G. All of the above\n",
    "\n",
    "Answer in the next cell. Your answer should be a string, e.g., `\"A\"`, `\"B\"`, etc. Assign your answer to the variable `q2_5` as a string."
   ]
  },
  {
   "cell_type": "code",
   "execution_count": 17,
   "metadata": {
    "tags": [
     "otter_assign_solution_cell"
    ]
   },
   "outputs": [
    {
     "data": {
      "text/plain": [
       "'G'"
      ]
     },
     "execution_count": 17,
     "metadata": {},
     "output_type": "execute_result"
    }
   ],
   "source": [
    "# ANSWER CELL\n",
    "q2_5 = 'G' #SOLUTION\n",
    "q2_5"
   ]
  },
  {
   "cell_type": "code",
   "execution_count": 18,
   "metadata": {
    "deletable": false,
    "editable": false
   },
   "outputs": [
    {
     "data": {
      "text/html": [
       "<p><strong><pre style='display: inline;'>q2.5</pre></strong> passed! 🌟</p><p><strong><pre style='display: inline;'>q2.5 - 1</pre> message:</strong> Correct! Deadlines can be stressful. If you feel that you need to engage in academic misconduct to meet a deadline, please reach out to us. We care that you learn the material and we are here to support you.</p>"
      ],
      "text/plain": [
       "q2.5 results: All test cases passed!\n",
       "q2.5 - 1 message: Correct! Deadlines can be stressful. If you feel that you need to engage in academic misconduct to meet a deadline, please reach out to us. We care that you learn the material and we are here to support you."
      ]
     },
     "execution_count": 18,
     "metadata": {},
     "output_type": "execute_result"
    }
   ],
   "source": [
    "grader.check(\"q2.5\")"
   ]
  },
  {
   "cell_type": "markdown",
   "metadata": {},
   "source": [
    "### Question 2.6\n",
    "\n",
    "Which of the following are acceptable forms of academic collaboration?\n",
    "\n",
    "A. Sending lab assignment code to classmates \\\n",
    "B. Copying someone else's code or parts of it \\\n",
    "C. Copying code from generative AI tools, including but not limited to ChatGPT \\\n",
    "D. Copying code from online sources, including but not limited to Stack Overflow, GitHub, etc. \\\n",
    "E. Discussing different approaches to problems with other students and using available resources but submitting my own work\n",
    "\n",
    "Answer in the next cell. Your answer should be a string, e.g., `\"A\"`, `\"B\"`, etc. Assign your answer to the variable `q2_6` as a string."
   ]
  },
  {
   "cell_type": "code",
   "execution_count": 19,
   "metadata": {
    "tags": [
     "otter_assign_solution_cell"
    ]
   },
   "outputs": [
    {
     "data": {
      "text/plain": [
       "'E'"
      ]
     },
     "execution_count": 19,
     "metadata": {},
     "output_type": "execute_result"
    }
   ],
   "source": [
    "# ANSWER CELL\n",
    "q2_6 = 'E' #SOLUTION\n",
    "q2_6"
   ]
  },
  {
   "cell_type": "code",
   "execution_count": 20,
   "metadata": {
    "deletable": false,
    "editable": false
   },
   "outputs": [
    {
     "data": {
      "text/html": [
       "<p><strong><pre style='display: inline;'>q2.6</pre></strong> passed! 💯</p><p><strong><pre style='display: inline;'>q2.6 - 1</pre> message:</strong> Correct! Collaboration is important and we encourage you to study together. However, it is important to keep in mind the limits to collaboration. Any work you turn in must be 100% your own.</p>"
      ],
      "text/plain": [
       "q2.6 results: All test cases passed!\n",
       "q2.6 - 1 message: Correct! Collaboration is important and we encourage you to study together. However, it is important to keep in mind the limits to collaboration. Any work you turn in must be 100% your own."
      ]
     },
     "execution_count": 20,
     "metadata": {},
     "output_type": "execute_result"
    }
   ],
   "source": [
    "grader.check(\"q2.6\")"
   ]
  },
  {
   "cell_type": "markdown",
   "metadata": {},
   "source": [
    "### Question 2.7\n",
    "\n",
    "What should you do to get credit for a lab assignment?\n",
    "\n",
    "A. Run the last cell in the notebook, and everything will submit automatically \\\n",
    "B. Run the last cell in the notebook, and then upload the zip file to Gradescope under the correct assignment \\\n",
    "C. Save my notebook, run the last cell in the notebook, and then upload the zip file to Gradescope under the correct assignment\n",
    "\n",
    "Answer in the next cell. Your answer should be a string, e.g., `\"A\"`, `\"B\"`, etc. Assign your answer to the variable `q2_7` as a string."
   ]
  },
  {
   "cell_type": "code",
   "execution_count": 21,
   "metadata": {
    "tags": [
     "otter_assign_solution_cell"
    ]
   },
   "outputs": [
    {
     "data": {
      "text/plain": [
       "'C'"
      ]
     },
     "execution_count": 21,
     "metadata": {},
     "output_type": "execute_result"
    }
   ],
   "source": [
    "# ANSWER CELL\n",
    "q2_7 = 'C' #SOLUTION\n",
    "q2_7"
   ]
  },
  {
   "cell_type": "code",
   "execution_count": 22,
   "metadata": {
    "deletable": false,
    "editable": false
   },
   "outputs": [
    {
     "data": {
      "text/html": [
       "<p><strong><pre style='display: inline;'>q2.7</pre></strong> passed! 🙌</p><p><strong><pre style='display: inline;'>q2.7 - 1</pre> message:</strong> Correct! If you do not save your notebook before running the last cell, your submission might be missing any code that was recently added and you will not receive any credit for the missing parts.</p>"
      ],
      "text/plain": [
       "q2.7 results: All test cases passed!\n",
       "q2.7 - 1 message: Correct! If you do not save your notebook before running the last cell, your submission might be missing any code that was recently added and you will not receive any credit for the missing parts."
      ]
     },
     "execution_count": 22,
     "metadata": {},
     "output_type": "execute_result"
    }
   ],
   "source": [
    "grader.check(\"q2.7\")"
   ]
  },
  {
   "cell_type": "markdown",
   "metadata": {},
   "source": [
    "### Question 2.8\n",
    "\n",
    "Which of the following is(are) true regarding iClicker questions?\n",
    "\n",
    "A. iClicker questions are incorporated into each lecture and count toward the grade \\\n",
    "B. These questions are graded for completeness, not correctness \\\n",
    "C. If I miss a lecture or have issues accessing iClicker, I can complete a short online quiz on bCourses, due one day after the lecture \\\n",
    "D. If I respond to both the iClicker questions and the bCourses quiz, my highest score for that lecture will be kept \\\n",
    "E. To earn a perfect iClicker score, I need a total of 50 points. Any points beyond 50 will count as bonus points, up to +15. \\\n",
    "F. There will be no makeups for iClicker questions, but bonus points can be earned for answering questions correctly \\\n",
    "G. All of the above\n",
    "\n",
    "Answer in the next cell. Your answer should be a string, e.g., `\"A\"`, `\"B\"`, etc. Assign your answer to the variable `q2_8` as a string."
   ]
  },
  {
   "cell_type": "code",
   "execution_count": 23,
   "metadata": {
    "tags": [
     "otter_assign_solution_cell"
    ]
   },
   "outputs": [
    {
     "data": {
      "text/plain": [
       "'G'"
      ]
     },
     "execution_count": 23,
     "metadata": {},
     "output_type": "execute_result"
    }
   ],
   "source": [
    "# ANSWER CELL\n",
    "q2_8 = 'G' #SOLUTION\n",
    "q2_8"
   ]
  },
  {
   "cell_type": "code",
   "execution_count": 24,
   "metadata": {
    "deletable": false,
    "editable": false
   },
   "outputs": [
    {
     "data": {
      "text/html": [
       "<p><strong><pre style='display: inline;'>q2.8</pre></strong> passed! 🍀</p><p><strong><pre style='display: inline;'>q2.8 - 1</pre> message:</strong> Correct! Please do not email if you miss a lecture or are have issues accessing iClicker in class. You can take the online quiz instead. If you are unable to take the online quiz, you can earn bonus points to make up for the missed lecture by answering questions correctly.</p>"
      ],
      "text/plain": [
       "q2.8 results: All test cases passed!\n",
       "q2.8 - 1 message: Correct! Please do not email if you miss a lecture or are have issues accessing iClicker in class. You can take the online quiz instead. If you are unable to take the online quiz, you can earn bonus points to make up for the missed lecture by answering questions correctly."
      ]
     },
     "execution_count": 24,
     "metadata": {},
     "output_type": "execute_result"
    }
   ],
   "source": [
    "grader.check(\"q2.8\")"
   ]
  },
  {
   "cell_type": "markdown",
   "metadata": {},
   "source": [
    "### Question 2.9\n",
    "\n",
    "Prior to each midterm and the final exam, you will be required to complete an online quiz to help you prepare. Which of the following is(are) true regarding these quizzes?\n",
    "\n",
    "A. I can retake the quizzes multiple times, and my highest score will be recorded \\\n",
    "B. The lowest quiz score will be dropped \\\n",
    "C. Late submissions will be accepted \\\n",
    "D. All of the above\n",
    "\n",
    "Answer in the next cell. Your answer should be a string, e.g., `\"A\"`, `\"B\"`, etc. Assign your answer to the variable `q2_9` as a string."
   ]
  },
  {
   "cell_type": "code",
   "execution_count": 25,
   "metadata": {
    "tags": [
     "otter_assign_solution_cell"
    ]
   },
   "outputs": [
    {
     "data": {
      "text/plain": [
       "'A'"
      ]
     },
     "execution_count": 25,
     "metadata": {},
     "output_type": "execute_result"
    }
   ],
   "source": [
    "# ANSWER CELL\n",
    "q2_9 = 'A' #SOLUTION\n",
    "q2_9"
   ]
  },
  {
   "cell_type": "code",
   "execution_count": 26,
   "metadata": {
    "deletable": false,
    "editable": false
   },
   "outputs": [
    {
     "data": {
      "text/html": [
       "<p><strong><pre style='display: inline;'>q2.9</pre></strong> passed! ✨</p>"
      ],
      "text/plain": [
       "q2.9 results: All test cases passed!"
      ]
     },
     "execution_count": 26,
     "metadata": {},
     "output_type": "execute_result"
    }
   ],
   "source": [
    "grader.check(\"q2.9\")"
   ]
  },
  {
   "cell_type": "markdown",
   "metadata": {},
   "source": [
    "<div class=\"alert alert-block alert-warning\"> <b>NOTE!</b> The rest of the lab requires a basic understanding of Python. If we haven't covered Python basics yet and you have no prior experience, please wait until after the next lecture to continue the assignment. </div>"
   ]
  },
  {
   "cell_type": "markdown",
   "metadata": {},
   "source": [
    "## Question 3: Using Python as a calculator\n",
    "\n",
    "In this question, we will be exploring how we can use Python as a calculator."
   ]
  },
  {
   "cell_type": "markdown",
   "metadata": {},
   "source": [
    "### Question 3.0\n",
    "\n",
    "Define variables $a = 3, b = -6, c = 4$, and $x = 2$"
   ]
  },
  {
   "cell_type": "code",
   "execution_count": 27,
   "metadata": {
    "tags": [
     "otter_assign_solution_cell"
    ]
   },
   "outputs": [
    {
     "name": "stdout",
     "output_type": "stream",
     "text": [
      "3 -6 4 2\n"
     ]
    }
   ],
   "source": [
    "# ANSWER CELL\n",
    "a = 3 # SOLUTION\n",
    "b = -6 # SOLUTION\n",
    "c = 4 # SOLUTION\n",
    "x = 2 # SOLUTION\n",
    "print(a,b,c,x)"
   ]
  },
  {
   "cell_type": "code",
   "execution_count": 28,
   "metadata": {
    "deletable": false,
    "editable": false
   },
   "outputs": [
    {
     "data": {
      "text/html": [
       "<p><strong><pre style='display: inline;'>q3.0</pre></strong> passed! ✨</p>"
      ],
      "text/plain": [
       "q3.0 results: All test cases passed!"
      ]
     },
     "execution_count": 28,
     "metadata": {},
     "output_type": "execute_result"
    }
   ],
   "source": [
    "grader.check(\"q3.0\")"
   ]
  },
  {
   "cell_type": "markdown",
   "metadata": {},
   "source": [
    "For each of the following mathematical expressions, construct a one-line Python expression that computes the value and assigns it to the provided variable. Your Python expressions should give appropriate values regardless of the values of $a, b, c$, and $x$ (i.e. you should use the variable names instead of their numerical values)."
   ]
  },
  {
   "cell_type": "markdown",
   "metadata": {},
   "source": [
    "### Question 3.1\n",
    "\n",
    "$$\\sqrt{a^2+b^2+c^2}$$\n",
    "\n",
    "*Hint:* Take a look at `math`'s `sqrt` function [here](https://docs.python.org/3/library/math.html#power-and-logarithmic-functions)."
   ]
  },
  {
   "cell_type": "code",
   "execution_count": 29,
   "metadata": {
    "tags": [
     "otter_assign_solution_cell"
    ]
   },
   "outputs": [
    {
     "data": {
      "text/plain": [
       "7.810249675906654"
      ]
     },
     "execution_count": 29,
     "metadata": {},
     "output_type": "execute_result"
    }
   ],
   "source": [
    "# ANSWER CELL\n",
    "q3_1 = math.sqrt(a*a+b*b+c*c) # SOLUTION\n",
    "q3_1"
   ]
  },
  {
   "cell_type": "code",
   "execution_count": 30,
   "metadata": {
    "deletable": false,
    "editable": false
   },
   "outputs": [
    {
     "data": {
      "text/html": [
       "<p><strong><pre style='display: inline;'>q3.1</pre></strong> passed! 🙌</p>"
      ],
      "text/plain": [
       "q3.1 results: All test cases passed!"
      ]
     },
     "execution_count": 30,
     "metadata": {},
     "output_type": "execute_result"
    }
   ],
   "source": [
    "grader.check(\"q3.1\")"
   ]
  },
  {
   "cell_type": "markdown",
   "metadata": {},
   "source": [
    "### Question 3.2\n",
    "\n",
    "$$\\frac{-b-\\sqrt{b^2-4ac}}{2a}$$\n",
    "\n",
    "Note that `math.sqrt()` does not support complex numbers. If you try to use  `math.sqrt()`, it will raise a `ValueError`.\n",
    "\n",
    "*Hint:* Take a look at `cmath`'s `sqrt` function that supports complex numbers [here](https://docs.python.org/3/library/cmath.html)."
   ]
  },
  {
   "cell_type": "code",
   "execution_count": 31,
   "metadata": {
    "tags": [
     "otter_assign_solution_cell"
    ]
   },
   "outputs": [
    {
     "data": {
      "text/plain": [
       "(1-0.5773502691896257j)"
      ]
     },
     "execution_count": 31,
     "metadata": {},
     "output_type": "execute_result"
    }
   ],
   "source": [
    "# ANSWER CELL\n",
    "q3_2 = (-b-cmath.sqrt(b*b-4*a*c))/(2*a) # SOLUTION\n",
    "q3_2"
   ]
  },
  {
   "cell_type": "code",
   "execution_count": 32,
   "metadata": {
    "deletable": false,
    "editable": false
   },
   "outputs": [
    {
     "data": {
      "text/html": [
       "<p><strong><pre style='display: inline;'>q3.2</pre></strong> passed! 🍀</p>"
      ],
      "text/plain": [
       "q3.2 results: All test cases passed!"
      ]
     },
     "execution_count": 32,
     "metadata": {},
     "output_type": "execute_result"
    }
   ],
   "source": [
    "grader.check(\"q3.2\")"
   ]
  },
  {
   "cell_type": "markdown",
   "metadata": {},
   "source": [
    "### Question 3.3\n",
    "\n",
    "$$\\log_{10} \\left(3 \\left|x\\right|+\\frac{a}{5}\\right)$$\n",
    "\n",
    "*Hint:* Take a look at `math`'s logarithmic documentation [here](https://docs.python.org/3/library/math.html#power-and-logarithmic-functions)."
   ]
  },
  {
   "cell_type": "code",
   "execution_count": 33,
   "metadata": {
    "tags": [
     "otter_assign_solution_cell"
    ]
   },
   "outputs": [
    {
     "data": {
      "text/plain": [
       "0.8195439355418686"
      ]
     },
     "execution_count": 33,
     "metadata": {},
     "output_type": "execute_result"
    }
   ],
   "source": [
    "# ANSWER CELL\n",
    "q3_3 = math.log(3*abs(x)+a/5,10) # SOLUTION\n",
    "q3_3"
   ]
  },
  {
   "cell_type": "code",
   "execution_count": 34,
   "metadata": {
    "deletable": false,
    "editable": false
   },
   "outputs": [
    {
     "data": {
      "text/html": [
       "<p><strong><pre style='display: inline;'>q3.3</pre></strong> passed! 🚀</p>"
      ],
      "text/plain": [
       "q3.3 results: All test cases passed!"
      ]
     },
     "execution_count": 34,
     "metadata": {},
     "output_type": "execute_result"
    }
   ],
   "source": [
    "grader.check(\"q3.3\")"
   ]
  },
  {
   "cell_type": "markdown",
   "metadata": {},
   "source": [
    "### Question 3.4\n",
    "\n",
    "$$\\left(ax+\\frac{ab}{c}\\right)^{1/4}$$\n",
    "\n",
    "*Hint:* Take a look at `math`'s `pow` documentation [here](https://docs.python.org/3/library/math.html#power-and-logarithmic-functions) or use a built-in function."
   ]
  },
  {
   "cell_type": "code",
   "execution_count": 35,
   "metadata": {
    "tags": [
     "otter_assign_solution_cell"
    ]
   },
   "outputs": [
    {
     "data": {
      "text/plain": [
       "1.1066819197003215"
      ]
     },
     "execution_count": 35,
     "metadata": {},
     "output_type": "execute_result"
    }
   ],
   "source": [
    "# ANSWER CELL\n",
    "q3_4 = math.pow(a*x+a*b/c,1/4) # SOLUTION\n",
    "q3_4"
   ]
  },
  {
   "cell_type": "code",
   "execution_count": 36,
   "metadata": {
    "deletable": false,
    "editable": false
   },
   "outputs": [
    {
     "data": {
      "text/html": [
       "<p><strong><pre style='display: inline;'>q3.4</pre></strong> passed! 🌟</p>"
      ],
      "text/plain": [
       "q3.4 results: All test cases passed!"
      ]
     },
     "execution_count": 36,
     "metadata": {},
     "output_type": "execute_result"
    }
   ],
   "source": [
    "grader.check(\"q3.4\")"
   ]
  },
  {
   "cell_type": "markdown",
   "metadata": {},
   "source": [
    "### Question 3.5\n",
    "\n",
    "$$\\left(\\cos\\left(\\frac{\\sqrt{a}}{3}\\pi\\right)\\right)^2+\\cos\\left(\\left(\\frac{\\sqrt{c}}{3}\\pi\\right)^2\\right)$$\n",
    "\n",
    "*Hint:* Take a look at the `math` module's helpful functions and constants [here](https://docs.python.org/3/library/math.html)."
   ]
  },
  {
   "cell_type": "code",
   "execution_count": 37,
   "metadata": {
    "tags": [
     "otter_assign_solution_cell"
    ]
   },
   "outputs": [
    {
     "data": {
      "text/plain": [
       "-0.2622625061456525"
      ]
     },
     "execution_count": 37,
     "metadata": {},
     "output_type": "execute_result"
    }
   ],
   "source": [
    "# ANSWER CELL\n",
    "q3_5 = math.cos(math.sqrt(a)/3*math.pi)**2 + math.cos((math.sqrt(c)/3*math.pi)**2) # SOLUTION\n",
    "q3_5"
   ]
  },
  {
   "cell_type": "code",
   "execution_count": 38,
   "metadata": {
    "deletable": false,
    "editable": false
   },
   "outputs": [
    {
     "data": {
      "text/html": [
       "<p><strong><pre style='display: inline;'>q3.5</pre></strong> passed! 🚀</p>"
      ],
      "text/plain": [
       "q3.5 results: All test cases passed!"
      ]
     },
     "execution_count": 38,
     "metadata": {},
     "output_type": "execute_result"
    }
   ],
   "source": [
    "grader.check(\"q3.5\")"
   ]
  },
  {
   "cell_type": "markdown",
   "metadata": {},
   "source": [
    "### Question 3.6\n",
    "\n",
    "$$i+e^{i\\pi}$$\n",
    "\n",
    "*Hint:* The `cmath` module has some helpful functions to deal with complex numbers. Check them out [here](https://docs.python.org/3/library/math.html).\n",
    "\n",
    "*Hint:* In Python, put the letter `j` after a number to make the number complex."
   ]
  },
  {
   "cell_type": "code",
   "execution_count": 39,
   "metadata": {
    "tags": [
     "otter_assign_solution_cell"
    ]
   },
   "outputs": [
    {
     "data": {
      "text/plain": [
       "(-1+1.0000000000000002j)"
      ]
     },
     "execution_count": 39,
     "metadata": {},
     "output_type": "execute_result"
    }
   ],
   "source": [
    "# ANSWER CELL\n",
    "q3_6 = complex(0,1) + cmath.exp(cmath.pi*cmath.sqrt(-1)) # SOLUTION\n",
    "q3_6"
   ]
  },
  {
   "cell_type": "code",
   "execution_count": 40,
   "metadata": {
    "deletable": false,
    "editable": false
   },
   "outputs": [
    {
     "data": {
      "text/html": [
       "<p><strong><pre style='display: inline;'>q3.6</pre></strong> passed! ✨</p>"
      ],
      "text/plain": [
       "q3.6 results: All test cases passed!"
      ]
     },
     "execution_count": 40,
     "metadata": {},
     "output_type": "execute_result"
    }
   ],
   "source": [
    "grader.check(\"q3.6\")"
   ]
  },
  {
   "cell_type": "markdown",
   "metadata": {},
   "source": [
    "### Question 3.7\n",
    "\n",
    "$$\\arcsin(\\cos(\\ln(x)))$$\n",
    "\n",
    "*Hint:* Python naming conventions for functions may not match with typical handwritten conventions."
   ]
  },
  {
   "cell_type": "code",
   "execution_count": 41,
   "metadata": {
    "tags": [
     "otter_assign_solution_cell"
    ]
   },
   "outputs": [
    {
     "data": {
      "text/plain": [
       "0.8776491462349513"
      ]
     },
     "execution_count": 41,
     "metadata": {},
     "output_type": "execute_result"
    }
   ],
   "source": [
    "# ANSWER CELL\n",
    "q3_7 = math.asin(math.cos(math.log(x))) # SOLUTION\n",
    "q3_7"
   ]
  },
  {
   "cell_type": "code",
   "execution_count": 42,
   "metadata": {
    "deletable": false,
    "editable": false
   },
   "outputs": [
    {
     "data": {
      "text/html": [
       "<p><strong><pre style='display: inline;'>q3.7</pre></strong> passed! ✨</p>"
      ],
      "text/plain": [
       "q3.7 results: All test cases passed!"
      ]
     },
     "execution_count": 42,
     "metadata": {},
     "output_type": "execute_result"
    }
   ],
   "source": [
    "grader.check(\"q3.7\")"
   ]
  },
  {
   "cell_type": "markdown",
   "metadata": {},
   "source": [
    "### Question 3.8\n",
    "\n",
    "$$\\frac{a+2c}{\\sin\\left(\\dfrac{b+2c}{\\sqrt{a^2+b^2+c^2}}\\right)}$$"
   ]
  },
  {
   "cell_type": "code",
   "execution_count": 43,
   "metadata": {
    "tags": [
     "otter_assign_solution_cell"
    ]
   },
   "outputs": [
    {
     "data": {
      "text/plain": [
       "43.42945834082076"
      ]
     },
     "execution_count": 43,
     "metadata": {},
     "output_type": "execute_result"
    }
   ],
   "source": [
    "# ANSWER CELL\n",
    "q3_8 = (a+2*c)/(math.sin((b+2*c)/math.sqrt(a**2+b**2+c**2))) # SOLUTION\n",
    "q3_8"
   ]
  },
  {
   "cell_type": "code",
   "execution_count": 44,
   "metadata": {
    "deletable": false,
    "editable": false
   },
   "outputs": [
    {
     "data": {
      "text/html": [
       "<p><strong><pre style='display: inline;'>q3.8</pre></strong> passed! 🍀</p>"
      ],
      "text/plain": [
       "q3.8 results: All test cases passed!"
      ]
     },
     "execution_count": 44,
     "metadata": {},
     "output_type": "execute_result"
    }
   ],
   "source": [
    "grader.check(\"q3.8\")"
   ]
  },
  {
   "cell_type": "markdown",
   "metadata": {},
   "source": [
    "## Question 4: Carbon Emissions\n",
    "\n",
    "In this question, you will look at the 2021 carbon dioxide emissions of China, Qatar, and the USA. The table below shows each country's population in millions of people and 2021 emissions of carbon dioxide in megatonnes of CO$_2$.\n",
    "\n",
    "| Country | Population (millions) | CO$_2$ Emissions (MtCO$_2$) |\n",
    "|---------|-----------------------|-----------------------------|\n",
    "| China   | 1412                  | 11472                       |\n",
    "| Qatar   |  2.7                  | 96                          |\n",
    "| USA     |  332                  | 5007                        |"
   ]
  },
  {
   "cell_type": "markdown",
   "metadata": {},
   "source": [
    "### Question 4.0\n",
    "\n",
    "To store the population and emissions of each country as separate variables, which naming convention is most appropriate to name our variables?\n",
    "\n",
    "Since you are comparing three countries, you will have a total of six variables. In the variable names, `pop` is an abbreviation of population.\n",
    "\n",
    "A. pop-China, CO2-China, pop-Qatar, CO2-Qatar, pop-USA, CO2-USA \\\n",
    "B. China_pop , China_CO2 , Qatar_pop, Qatar_CO2, USA_pop, USA_CO2 \\\n",
    "C. China_pop , CO2_China , QatarPop , CO2emissionQatar, UnitedStates_pop, UnitedStates_CO2\n",
    "\n",
    "Answer in the following cell. Your answer should be a string `\"A\"`, `\"B\"`, or `\"C\"`, not the full list of variable names. Assign your answer to the variable `q4_0`.\\\n",
    "Remember to put quotes around your answer choice."
   ]
  },
  {
   "cell_type": "code",
   "execution_count": 45,
   "metadata": {
    "tags": [
     "otter_assign_solution_cell"
    ]
   },
   "outputs": [
    {
     "data": {
      "text/plain": [
       "'B'"
      ]
     },
     "execution_count": 45,
     "metadata": {},
     "output_type": "execute_result"
    }
   ],
   "source": [
    "# ANSWER CELL\n",
    "q4_0 = \"B\" # SOLUTION\n",
    "q4_0"
   ]
  },
  {
   "cell_type": "code",
   "execution_count": 46,
   "metadata": {
    "deletable": false,
    "editable": false
   },
   "outputs": [
    {
     "data": {
      "text/html": [
       "<p><strong><pre style='display: inline;'>q4.0</pre></strong> passed! 🍀</p>"
      ],
      "text/plain": [
       "q4.0 results: All test cases passed!"
      ]
     },
     "execution_count": 46,
     "metadata": {},
     "output_type": "execute_result"
    }
   ],
   "source": [
    "grader.check(\"q4.0\")"
   ]
  },
  {
   "cell_type": "markdown",
   "metadata": {},
   "source": [
    "### Question 4.1\n",
    "\n",
    "Create the six population and emission variables using the naming convention from the previous question and the values from the table below. If the tabular value does not contain a decimal, do not include a decimal in the variable assignment.\n",
    "\n",
    "Keep the given units when assigning the variables. For example, use 1412 for China's population, not 1,412,000,000.\n",
    "\n",
    "| Country | Population (millions) | CO$_2$ Emissions (MtCO$_2$)|\n",
    "|---------|-----------------------|---------------------------|\n",
    "| China   | 1412                  | 11472                     |\n",
    "| Qatar   |  2.7                  | 96                        |\n",
    "| USA     | 332                   | 5007                      |\n"
   ]
  },
  {
   "cell_type": "code",
   "execution_count": 47,
   "metadata": {
    "tags": [
     "otter_assign_solution_cell"
    ]
   },
   "outputs": [],
   "source": [
    "# ANSWER CELL\n",
    "# BEGIN SOLUTION\n",
    "China_pop = 1412\n",
    "China_CO2 = 11472\n",
    "Qatar_pop = 2.7\n",
    "Qatar_CO2 = 96\n",
    "USA_pop = 332\n",
    "USA_CO2 = 5007\n",
    "# END SOLUTION"
   ]
  },
  {
   "cell_type": "code",
   "execution_count": 48,
   "metadata": {
    "deletable": false,
    "editable": false
   },
   "outputs": [
    {
     "data": {
      "text/html": [
       "<p><strong><pre style='display: inline;'>q4.1</pre></strong> passed! 🌈</p>"
      ],
      "text/plain": [
       "q4.1 results: All test cases passed!"
      ]
     },
     "execution_count": 48,
     "metadata": {},
     "output_type": "execute_result"
    }
   ],
   "source": [
    "grader.check(\"q4.1\")"
   ]
  },
  {
   "cell_type": "markdown",
   "metadata": {},
   "source": [
    "### Question 4.2 \n",
    "\n",
    "What is the data type of the variable that includes Qatar's CO$_2$ emissions? Assign the data type to `q4_2`. Use a function to determine the data type. Do not just type the answer."
   ]
  },
  {
   "cell_type": "code",
   "execution_count": 49,
   "metadata": {
    "tags": [
     "otter_assign_solution_cell"
    ]
   },
   "outputs": [
    {
     "data": {
      "text/plain": [
       "int"
      ]
     },
     "execution_count": 49,
     "metadata": {},
     "output_type": "execute_result"
    }
   ],
   "source": [
    "# ANSWER CELL\n",
    "q4_2 = type(Qatar_CO2) # SOLUTION\n",
    "q4_2"
   ]
  },
  {
   "cell_type": "code",
   "execution_count": 50,
   "metadata": {
    "deletable": false,
    "editable": false
   },
   "outputs": [
    {
     "data": {
      "text/html": [
       "<p><strong><pre style='display: inline;'>q4.2</pre></strong> passed! 🍀</p>"
      ],
      "text/plain": [
       "q4.2 results: All test cases passed!"
      ]
     },
     "execution_count": 50,
     "metadata": {},
     "output_type": "execute_result"
    }
   ],
   "source": [
    "grader.check(\"q4.2\")"
   ]
  },
  {
   "cell_type": "markdown",
   "metadata": {},
   "source": [
    "### Question 4.3 \n",
    "\n",
    "What is the value of the variable that includes Qatar's population if it is converted to an integer? Assign the new integer value to `q4_3`. Do not overwrite the data type of the original variable to integer; only `q4_3` should be an integer."
   ]
  },
  {
   "cell_type": "code",
   "execution_count": 51,
   "metadata": {
    "tags": [
     "otter_assign_solution_cell"
    ]
   },
   "outputs": [
    {
     "data": {
      "text/plain": [
       "2"
      ]
     },
     "execution_count": 51,
     "metadata": {},
     "output_type": "execute_result"
    }
   ],
   "source": [
    "# ANSWER CELL\n",
    "q4_3 = int(Qatar_pop) # SOLUTION\n",
    "q4_3"
   ]
  },
  {
   "cell_type": "code",
   "execution_count": 52,
   "metadata": {
    "deletable": false,
    "editable": false
   },
   "outputs": [
    {
     "data": {
      "text/html": [
       "<p><strong><pre style='display: inline;'>q4.3</pre></strong> passed! 🙌</p>"
      ],
      "text/plain": [
       "q4.3 results: All test cases passed!"
      ]
     },
     "execution_count": 52,
     "metadata": {},
     "output_type": "execute_result"
    }
   ],
   "source": [
    "grader.check(\"q4.3\")"
   ]
  },
  {
   "cell_type": "markdown",
   "metadata": {},
   "source": [
    "### Question 4.4 \n",
    "\n",
    "What is the value of the variable that includes Qatar's CO$_2$ emissions if it is converted to a float? Assign the new float value to `q4_4`. Do not overwrite the data type of the original variable to float; only `q4_4` should be a float."
   ]
  },
  {
   "cell_type": "code",
   "execution_count": 53,
   "metadata": {
    "tags": [
     "otter_assign_solution_cell"
    ]
   },
   "outputs": [
    {
     "data": {
      "text/plain": [
       "96.0"
      ]
     },
     "execution_count": 53,
     "metadata": {},
     "output_type": "execute_result"
    }
   ],
   "source": [
    "# ANSWER CELL\n",
    "q4_4 = float(Qatar_CO2) # SOLUTION\n",
    "q4_4"
   ]
  },
  {
   "cell_type": "code",
   "execution_count": 54,
   "metadata": {
    "deletable": false,
    "editable": false
   },
   "outputs": [
    {
     "data": {
      "text/html": [
       "<p><strong><pre style='display: inline;'>q4.4</pre></strong> passed! 🍀</p>"
      ],
      "text/plain": [
       "q4.4 results: All test cases passed!"
      ]
     },
     "execution_count": 54,
     "metadata": {},
     "output_type": "execute_result"
    }
   ],
   "source": [
    "grader.check(\"q4.4\")"
   ]
  },
  {
   "cell_type": "markdown",
   "metadata": {},
   "source": [
    "### Question 4.5\n",
    "\n",
    "Calculate the CO$_2$ emissions per capita for each country using the equation below and assign the values to the following variables: `USA_per_capita`, `China_per_capita`, `Qatar_per_capita`.\n",
    "\n",
    "$$\\text{per capita emissions } \\left[\\frac{\\text{tonne CO$_2$}}{\\text{person}}\\right] = \\frac{\\text{CO$_2$ emissions [MtCO$_2$]}}{\\text{population [millions]}}$$\n",
    "\n",
    "Do not perform any unit conversions. A megatonne is 10$^6$ tonnes and cancels out with millions (10$^6$) of people."
   ]
  },
  {
   "cell_type": "code",
   "execution_count": 55,
   "metadata": {
    "tags": [
     "otter_assign_solution_cell"
    ]
   },
   "outputs": [],
   "source": [
    "# ANSWER CELL\n",
    "# BEGIN SOLUTION\n",
    "USA_per_capita = USA_CO2 / USA_pop\n",
    "China_per_capita = China_CO2 / China_pop\n",
    "Qatar_per_capita = Qatar_CO2 / Qatar_pop\n",
    "# END SOLUTION"
   ]
  },
  {
   "cell_type": "code",
   "execution_count": 56,
   "metadata": {
    "deletable": false,
    "editable": false
   },
   "outputs": [
    {
     "data": {
      "text/html": [
       "<p><strong><pre style='display: inline;'>q4.5</pre></strong> passed! 🚀</p>"
      ],
      "text/plain": [
       "q4.5 results: All test cases passed!"
      ]
     },
     "execution_count": 56,
     "metadata": {},
     "output_type": "execute_result"
    }
   ],
   "source": [
    "grader.check(\"q4.5\")"
   ]
  },
  {
   "cell_type": "markdown",
   "metadata": {},
   "source": [
    "### Question 4.6\n",
    "\n",
    "Did the USA emit more carbon dioxide per capita than China in 2021?\n",
    "\n",
    "Construct a logical expression to answer this question and assign it to `q4_6`. Your answer should be a logical expression, and the outputs should be boolean values."
   ]
  },
  {
   "cell_type": "code",
   "execution_count": 57,
   "metadata": {
    "tags": [
     "otter_assign_solution_cell"
    ]
   },
   "outputs": [
    {
     "name": "stdout",
     "output_type": "stream",
     "text": [
      "The USA emitted more carbon dioxide per capita than China in 2021: True\n"
     ]
    }
   ],
   "source": [
    "# ANSWER CELL\n",
    "q4_6 = USA_per_capita > China_per_capita # SOLUTION\n",
    "\n",
    "print(f'The USA emitted more carbon dioxide per capita than China in 2021: {q4_6}')"
   ]
  },
  {
   "cell_type": "code",
   "execution_count": 58,
   "metadata": {
    "deletable": false,
    "editable": false
   },
   "outputs": [
    {
     "data": {
      "text/html": [
       "<p><strong><pre style='display: inline;'>q4.6</pre></strong> passed! 🌈</p>"
      ],
      "text/plain": [
       "q4.6 results: All test cases passed!"
      ]
     },
     "execution_count": 58,
     "metadata": {},
     "output_type": "execute_result"
    }
   ],
   "source": [
    "grader.check(\"q4.6\")"
   ]
  },
  {
   "cell_type": "markdown",
   "metadata": {},
   "source": [
    "### Question 4.7\n",
    "\n",
    "Did the USA emit more carbon dioxide per capita than either China or Qatar emitted in 2021?\n",
    "\n",
    "You should answer this by combining two logical expressions. The first expression, `q4_7a`, should compare China and the USA, and the second expression, `q4_7b`, should compare Qatar and the USA. The final answer should be stored in `q4_7`."
   ]
  },
  {
   "cell_type": "code",
   "execution_count": 59,
   "metadata": {
    "tags": [
     "otter_assign_solution_cell"
    ]
   },
   "outputs": [
    {
     "name": "stdout",
     "output_type": "stream",
     "text": [
      "The USA emitted more carbon dioxide per capita than either China or Qatar emitted in 2021: True\n"
     ]
    }
   ],
   "source": [
    "# ANSWER CELL\n",
    "q4_7a = USA_per_capita > China_per_capita # SOLUTION\n",
    "q4_7b = USA_per_capita > Qatar_per_capita # SOLUTION\n",
    "q4_7 = q4_7a or q4_7b # SOLUTION\n",
    "\n",
    "print(f'The USA emitted more carbon dioxide per capita than either China or Qatar emitted in 2021: {q4_7}')"
   ]
  },
  {
   "cell_type": "code",
   "execution_count": 60,
   "metadata": {
    "deletable": false,
    "editable": false
   },
   "outputs": [
    {
     "data": {
      "text/html": [
       "<p><strong><pre style='display: inline;'>q4.7</pre></strong> passed! 🚀</p>"
      ],
      "text/plain": [
       "q4.7 results: All test cases passed!"
      ]
     },
     "execution_count": 60,
     "metadata": {},
     "output_type": "execute_result"
    }
   ],
   "source": [
    "grader.check(\"q4.7\")"
   ]
  },
  {
   "cell_type": "markdown",
   "metadata": {},
   "source": [
    "### Question 4.8 \n",
    "\n",
    "For comparison, in 2021, the global average emissions per capita value was 4.7 tonnes CO$_2$. Do China, Qatar, and the USA all have per capita emissions higher than the global average?\n",
    "\n",
    "You should answer this by combining three logical expressions. The first expression, `q4_8a`, should compare China and the global average, the second expression, `q4_8b`, should compare Qatar and the global average, and the third expression `q4_8c`, should compare the USA and the global average. The final answer (do all three countries have above average emissions) should be stored in `q4_8`."
   ]
  },
  {
   "cell_type": "code",
   "execution_count": 61,
   "metadata": {
    "tags": [
     "otter_assign_solution_cell"
    ]
   },
   "outputs": [
    {
     "name": "stdout",
     "output_type": "stream",
     "text": [
      "China, Qatar, and the USA all had per capita emissions higher than the global average: True\n"
     ]
    }
   ],
   "source": [
    "# ANSWER CELL\n",
    "q4_8a = China_per_capita > 4.7 # SOLUTION\n",
    "q4_8b = Qatar_per_capita > 4.7 # SOLUTION\n",
    "q4_8c = USA_per_capita > 4.7 # SOLUTION\n",
    "q4_8 = q4_8a & q4_8b & q4_8c # SOLUTION\n",
    "\n",
    "print(f'China, Qatar, and the USA all had per capita emissions higher than the global average: {q4_8}')"
   ]
  },
  {
   "cell_type": "code",
   "execution_count": 62,
   "metadata": {
    "deletable": false,
    "editable": false
   },
   "outputs": [
    {
     "data": {
      "text/html": [
       "<p><strong><pre style='display: inline;'>q4.8</pre></strong> passed! ✨</p>"
      ],
      "text/plain": [
       "q4.8 results: All test cases passed!"
      ]
     },
     "execution_count": 62,
     "metadata": {},
     "output_type": "execute_result"
    }
   ],
   "source": [
    "grader.check(\"q4.8\")"
   ]
  },
  {
   "cell_type": "markdown",
   "metadata": {},
   "source": [
    "### Question 4.9\n",
    "\n",
    "In 2021, 7.5% of China's CO$_2$ emissions were due to cement production, while 1.7% of Qatar's CO$_2$ emissions were due to cement production. Do China and Qatar have equal per capita CO$_2$ emissions due to cement production?\n",
    "\n",
    "Calculate China's per capita CO$_2$ emissions due to cement production in `q4_9a`. \\\n",
    "Calculate Qatar's per capita CO$_2$ emissions due to cement production in `q4_9b`. \\\n",
    "Provide the final answer in `q4_9`."
   ]
  },
  {
   "cell_type": "code",
   "execution_count": 63,
   "metadata": {
    "tags": [
     "otter_assign_solution_cell"
    ]
   },
   "outputs": [
    {
     "name": "stdout",
     "output_type": "stream",
     "text": [
      "China and Qatar had equal per capita CO$_2$ emissions due to cement production: False\n"
     ]
    }
   ],
   "source": [
    "# ANSWER CELL\n",
    "q4_9a = China_per_capita*0.075 # SOLUTION\n",
    "q4_9b = Qatar_per_capita*0.017 # SOLUTION\n",
    "q4_9 =  q4_9a == q4_9b # SOLUTION\n",
    "\n",
    "print(f'China and Qatar had equal per capita CO$_2$ emissions due to cement production: {q4_9}')"
   ]
  },
  {
   "cell_type": "code",
   "execution_count": 64,
   "metadata": {
    "deletable": false,
    "editable": false
   },
   "outputs": [
    {
     "data": {
      "text/html": [
       "<p><strong><pre style='display: inline;'>q4.9</pre></strong> passed! ✨</p>"
      ],
      "text/plain": [
       "q4.9 results: All test cases passed!"
      ]
     },
     "execution_count": 64,
     "metadata": {},
     "output_type": "execute_result"
    }
   ],
   "source": [
    "grader.check(\"q4.9\")"
   ]
  },
  {
   "cell_type": "markdown",
   "metadata": {},
   "source": [
    "### Question 4.10 \n",
    "\n",
    "In 2021, 15% of China's CO$_2$ emissions were due to oil, while 45% of the USA's CO$_2$ emissions were due to oil. Does China have higher per capita CO$_2$ emissions due to oil than the USA?\n",
    "\n",
    "Construct a logical expression to answer this question and assign it to `q4_10`."
   ]
  },
  {
   "cell_type": "code",
   "execution_count": 65,
   "metadata": {
    "tags": [
     "otter_assign_solution_cell"
    ]
   },
   "outputs": [
    {
     "name": "stdout",
     "output_type": "stream",
     "text": [
      "China had higher per capita CO$_2$ emissions due to oil than the USA: False\n"
     ]
    }
   ],
   "source": [
    "# ANSWER CELL\n",
    "q4_10 = China_per_capita*0.15 > USA_per_capita*0.45 # SOLUTION\n",
    "\n",
    "print(f'China had higher per capita CO$_2$ emissions due to oil than the USA: {q4_10}')"
   ]
  },
  {
   "cell_type": "code",
   "execution_count": 66,
   "metadata": {
    "deletable": false,
    "editable": false
   },
   "outputs": [
    {
     "data": {
      "text/html": [
       "<p><strong><pre style='display: inline;'>q4.10</pre></strong> passed! 💯</p>"
      ],
      "text/plain": [
       "q4.10 results: All test cases passed!"
      ]
     },
     "execution_count": 66,
     "metadata": {},
     "output_type": "execute_result"
    }
   ],
   "source": [
    "grader.check(\"q4.10\")"
   ]
  },
  {
   "cell_type": "markdown",
   "metadata": {},
   "source": [
    "### You're done with this Lab!\n",
    "\n",
    "**Important submission information:** After completing the assignment, click on the Save icon from the Tool Bar &nbsp;<i class=\"fa fa-save\" style=\"font-size:16px;\"></i>&nbsp;. After saving your notebook, **run the cell with** `grader.check_all()` and confirm that you pass the same tests as in the notebook. Then, **run the final cell** `grader.export()` and click the link to download the zip file. Then, go to Gradescope and submit the zip file to the corresponding assignment. \n",
    "\n",
    "**Once you have submitted, stay on the Gradescope page to confirm that you pass the same tests as in the notebook.**"
   ]
  },
  {
   "cell_type": "code",
   "execution_count": 67,
   "metadata": {
    "tags": []
   },
   "outputs": [
    {
     "name": "stdout",
     "output_type": "stream",
     "text": [
      "Congratulations on finishing your first lab!\n"
     ]
    },
    {
     "data": {
      "image/png": "[encoded data removed]",
      "text/plain": [
       "<Figure size 640x480 with 1 Axes>"
      ]
     },
     "metadata": {},
     "output_type": "display_data"
    }
   ],
   "source": [
    "import matplotlib.image as mpimg\n",
    "img = mpimg.imread('resources/animal.jpg')\n",
    "imgplot = plt.imshow(img)\n",
    "imgplot.axes.get_xaxis().set_visible(False)\n",
    "imgplot.axes.get_yaxis().set_visible(False)\n",
    "print(\"Congratulations on finishing your first lab!\")\n",
    "plt.show()"
   ]
  },
  {
   "cell_type": "code",
   "execution_count": null,
   "metadata": {},
   "outputs": [],
   "source": []
  },
  {
   "cell_type": "markdown",
   "metadata": {
    "deletable": false,
    "editable": false
   },
   "source": [
    "---\n",
    "\n",
    "To double-check your work, the cell below will rerun all of the autograder tests."
   ]
  },
  {
   "cell_type": "code",
   "execution_count": 68,
   "metadata": {
    "deletable": false,
    "editable": false
   },
   "outputs": [
    {
     "data": {
      "text/plain": [
       "q0 results: All test cases passed!\n",
       "\n",
       "q1.0 results: All test cases passed!\n",
       "\n",
       "q2.0 results: All test cases passed!\n",
       "q2.0 - 1 message: Correct answer format.\n",
       "\n",
       "q2.1 results: All test cases passed!\n",
       "q2.1 - 1 message: Correct! Please do not email us to request short lab extensions, as 48 hours are granted by default.\n",
       "\n",
       "q2.2 results: All test cases passed!\n",
       "q2.2 - 1 message: Correct! Plan to use your 3 discussion drops for true emergencies only. No exceptions will be made to this policy.\n",
       "\n",
       "q2.3 results: All test cases passed!\n",
       "q2.3 - 1 message: Correct! Plan to use your 2 lab drops for true emergencies only. No exceptions will be made to this policy.\n",
       "\n",
       "q2.4 results: All test cases passed!\n",
       "\n",
       "q2.5 results: All test cases passed!\n",
       "q2.5 - 1 message: Correct! Deadlines can be stressful. If you feel that you need to engage in academic misconduct to meet a deadline, please reach out to us. We care that you learn the material and we are here to support you.\n",
       "\n",
       "q2.6 results: All test cases passed!\n",
       "q2.6 - 1 message: Correct! Collaboration is important and we encourage you to study together. However, it is important to keep in mind the limits to collaboration. Any work you turn in must be 100% your own.\n",
       "\n",
       "q2.7 results: All test cases passed!\n",
       "q2.7 - 1 message: Correct! If you do not save your notebook before running the last cell, your submission might be missing any code that was recently added and you will not receive any credit for the missing parts.\n",
       "\n",
       "q2.8 results: All test cases passed!\n",
       "q2.8 - 1 message: Correct! Please do not email if you miss a lecture or are have issues accessing iClicker in class. You can take the online quiz instead. If you are unable to take the online quiz, you can earn bonus points to make up for the missed lecture by answering questions correctly.\n",
       "\n",
       "q2.9 results: All test cases passed!\n",
       "\n",
       "q3.0 results: All test cases passed!\n",
       "\n",
       "q3.1 results: All test cases passed!\n",
       "\n",
       "q3.2 results: All test cases passed!\n",
       "\n",
       "q3.3 results: All test cases passed!\n",
       "\n",
       "q3.4 results: All test cases passed!\n",
       "\n",
       "q3.5 results: All test cases passed!\n",
       "\n",
       "q3.6 results: All test cases passed!\n",
       "\n",
       "q3.7 results: All test cases passed!\n",
       "\n",
       "q3.8 results: All test cases passed!\n",
       "\n",
       "q4.0 results: All test cases passed!\n",
       "\n",
       "q4.1 results: All test cases passed!\n",
       "\n",
       "q4.10 results: All test cases passed!\n",
       "\n",
       "q4.2 results: All test cases passed!\n",
       "\n",
       "q4.3 results: All test cases passed!\n",
       "\n",
       "q4.4 results: All test cases passed!\n",
       "\n",
       "q4.5 results: All test cases passed!\n",
       "\n",
       "q4.6 results: All test cases passed!\n",
       "\n",
       "q4.7 results: All test cases passed!\n",
       "\n",
       "q4.8 results: All test cases passed!\n",
       "\n",
       "q4.9 results: All test cases passed!"
      ]
     },
     "execution_count": 68,
     "metadata": {},
     "output_type": "execute_result"
    }
   ],
   "source": [
    "grader.check_all()"
   ]
  },
  {
   "cell_type": "markdown",
   "metadata": {
    "deletable": false,
    "editable": false
   },
   "source": [
    "## Submission\n",
    "\n",
    "Make sure you have run all cells in your notebook in order before running the cell below, so that all images/graphs appear in the output. The cell below will generate a zip file for you to submit. **Please save before exporting!**\n",
    "\n",
    "Make sure you submit the .zip file to Gradescope."
   ]
  },
  {
   "cell_type": "code",
   "execution_count": 69,
   "metadata": {
    "deletable": false,
    "editable": false
   },
   "outputs": [
    {
     "data": {
      "text/html": [
       "\n",
       "            <p>Your submission has been exported. Click <a href=\"lab01_2025_01_26T12_51_32_662522.zip\" download=\"lab01_2025_01_26T12_51_32_662522.zip\" target=\"_blank\">here</a>\n",
       "            to download the zip file.</p>\n",
       "            "
      ],
      "text/plain": [
       "<IPython.core.display.HTML object>"
      ]
     },
     "metadata": {},
     "output_type": "display_data"
    }
   ],
   "source": [
    "# Save your notebook first, then run this cell to export your submission.\n",
    "grader.export(pdf=False)"
   ]
  },
  {
   "cell_type": "markdown",
   "metadata": {},
   "source": [
    " "
   ]
  }
 ],
 "metadata": {
  "anaconda-cloud": {},
  "kernelspec": {
   "display_name": "Python 3 (ipykernel)",
   "language": "python",
   "name": "python3"
  },
  "language_info": {
   "codemirror_mode": {
    "name": "ipython",
    "version": 3
   },
   "file_extension": ".py",
   "mimetype": "text/x-python",
   "name": "python",
   "nbconvert_exporter": "python",
   "pygments_lexer": "ipython3",
   "version": "3.11.11"
  },
  "otter": {
   "OK_FORMAT": true,
   "assignment_name": "lab01",
   "tests": {
    "q0": {
     "name": "q0",
     "points": 0,
     "suites": [
      {
       "cases": [
        {
         "code": ">>> assert get_hash(o) == 'eccbc87e4b5ce2fe28308fd9f2a7baf3'\n",
         "hidden": false,
         "locked": false
        }
       ],
       "scored": true,
       "setup": "",
       "teardown": "",
       "type": "doctest"
      }
     ]
    },
    "q1.0": {
     "name": "q1.0",
     "points": 3,
     "suites": [
      {
       "cases": [
        {
         "code": ">>> assert get_hash(secret_word.upper()) == '522c9d67b76b88d9bfb9dd7c9326f217'\n",
         "hidden": false,
         "locked": false
        }
       ],
       "scored": true,
       "setup": "",
       "teardown": "",
       "type": "doctest"
      }
     ]
    },
    "q2.0": {
     "name": "q2.0",
     "points": 0.5,
     "suites": [
      {
       "cases": [
        {
         "code": ">>> \n>>> assert isinstance(q2_0, tuple)\n>>> assert all(isinstance(option, str) for option in q2_0)\n>>> assert all(len(option) == 1 for option in q2_0)\n",
         "failure_message": "Incorrect answer format. Make sure you only have the letter of your answer choice in quotes and answers are separated by commas.",
         "hidden": false,
         "locked": false,
         "points": 0,
         "success_message": "Correct answer format."
        },
        {
         "code": ">>> \n>>> assert any('9d5ed678fe57bcca610140957afab571' == get_hash(option.upper()) for option in q2_0)\n",
         "failure_message": "Correct! For most questions, Ed is the right place to ask them. If you send a general question through email, we will direct you to post it on Ed.",
         "hidden": false,
         "locked": false,
         "points": 0.2
        },
        {
         "code": ">>> \n>>> assert any('3a3ea00cfc35332cedf6e5e9a32e94da' == get_hash(option.upper()) for option in q2_0)\n",
         "failure_message": "Correct! There are several office hours throughout the week. Check bCourses for the schedule.",
         "hidden": false,
         "locked": false,
         "points": 0.2
        },
        {
         "code": ">>> \n>>> assert not any('7fc56270e7a70fa81a5935b72eacbe29' == get_hash(option.upper()) for option in q2_0)\n",
         "failure_message": "Incorrect answer. Emailing the instructor will generally lead to slower response.",
         "hidden": false,
         "locked": false,
         "points": 0.04
        },
        {
         "code": ">>> \n>>> assert not any('0d61f8370cad1d412f80b84d143e1257' == get_hash(option.upper()) for option in q2_0)\n",
         "failure_message": "Incorrect answer. Emailing the GSIs will generally lead to slower response.",
         "hidden": false,
         "locked": false,
         "points": 0.02
        },
        {
         "code": ">>> \n>>> assert not any('f623e75af30e62bbd73d6df5b50bb7b5' == get_hash(option.upper()) for option in q2_0)\n",
         "failure_message": "Incorrect answer. engin7@berkeley.edu should only be used for personal inquiries and not for general questions.",
         "hidden": false,
         "locked": false,
         "points": 0.04
        }
       ],
       "scored": true,
       "setup": "",
       "teardown": "",
       "type": "doctest"
      }
     ]
    },
    "q2.1": {
     "name": "q2.1",
     "points": 0.5,
     "suites": [
      {
       "cases": [
        {
         "code": ">>> \n>>> assert get_hash(q2_1.upper()) == '0d61f8370cad1d412f80b84d143e1257'\n",
         "hidden": false,
         "locked": false,
         "success_message": "Correct! Please do not email us to request short lab extensions, as 48 hours are granted by default."
        }
       ],
       "scored": true,
       "setup": "",
       "teardown": "",
       "type": "doctest"
      }
     ]
    },
    "q2.2": {
     "name": "q2.2",
     "points": 0.5,
     "suites": [
      {
       "cases": [
        {
         "code": ">>> \n>>> assert get_hash(q2_2.upper()) == '9d5ed678fe57bcca610140957afab571'\n",
         "hidden": false,
         "locked": false,
         "success_message": "Correct! Plan to use your 3 discussion drops for true emergencies only. No exceptions will be made to this policy."
        }
       ],
       "scored": true,
       "setup": "",
       "teardown": "",
       "type": "doctest"
      }
     ]
    },
    "q2.3": {
     "name": "q2.3",
     "points": 0.5,
     "suites": [
      {
       "cases": [
        {
         "code": ">>> \n>>> assert get_hash(q2_3.upper()) == '9d5ed678fe57bcca610140957afab571'\n",
         "hidden": false,
         "locked": false,
         "success_message": "Correct! Plan to use your 2 lab drops for true emergencies only. No exceptions will be made to this policy."
        }
       ],
       "scored": true,
       "setup": "",
       "teardown": "",
       "type": "doctest"
      }
     ]
    },
    "q2.4": {
     "name": "q2.4",
     "points": 0.5,
     "suites": [
      {
       "cases": [
        {
         "code": ">>> assert get_hash(q2_4.upper()) == '9d5ed678fe57bcca610140957afab571'\n",
         "hidden": false,
         "locked": false
        }
       ],
       "scored": true,
       "setup": "",
       "teardown": "",
       "type": "doctest"
      }
     ]
    },
    "q2.5": {
     "name": "q2.5",
     "points": 0.5,
     "suites": [
      {
       "cases": [
        {
         "code": ">>> \n>>> assert get_hash(q2_5.upper()) == 'dfcf28d0734569a6a693bc8194de62bf'\n",
         "hidden": false,
         "locked": false,
         "success_message": "Correct! Deadlines can be stressful. If you feel that you need to engage in academic misconduct to meet a deadline, please reach out to us. We care that you learn the material and we are here to support you."
        }
       ],
       "scored": true,
       "setup": "",
       "teardown": "",
       "type": "doctest"
      }
     ]
    },
    "q2.6": {
     "name": "q2.6",
     "points": 0.5,
     "suites": [
      {
       "cases": [
        {
         "code": ">>> \n>>> assert get_hash(q2_6.upper()) == '3a3ea00cfc35332cedf6e5e9a32e94da'\n",
         "hidden": false,
         "locked": false,
         "success_message": "Correct! Collaboration is important and we encourage you to study together. However, it is important to keep in mind the limits to collaboration. Any work you turn in must be 100% your own."
        }
       ],
       "scored": true,
       "setup": "",
       "teardown": "",
       "type": "doctest"
      }
     ]
    },
    "q2.7": {
     "name": "q2.7",
     "points": 0.5,
     "suites": [
      {
       "cases": [
        {
         "code": ">>> \n>>> assert get_hash(q2_7.upper()) == '0d61f8370cad1d412f80b84d143e1257'\n",
         "hidden": false,
         "locked": false,
         "success_message": "Correct! If you do not save your notebook before running the last cell, your submission might be missing any code that was recently added and you will not receive any credit for the missing parts."
        }
       ],
       "scored": true,
       "setup": "",
       "teardown": "",
       "type": "doctest"
      }
     ]
    },
    "q2.8": {
     "name": "q2.8",
     "points": 0.5,
     "suites": [
      {
       "cases": [
        {
         "code": ">>> \n>>> assert get_hash(q2_8.upper()) == 'dfcf28d0734569a6a693bc8194de62bf'\n",
         "hidden": false,
         "locked": false,
         "success_message": "Correct! Please do not email if you miss a lecture or are have issues accessing iClicker in class. You can take the online quiz instead. If you are unable to take the online quiz, you can earn bonus points to make up for the missed lecture by answering questions correctly."
        }
       ],
       "scored": true,
       "setup": "",
       "teardown": "",
       "type": "doctest"
      }
     ]
    },
    "q2.9": {
     "name": "q2.9",
     "points": 0.5,
     "suites": [
      {
       "cases": [
        {
         "code": ">>> assert get_hash(q2_9.upper()) == '7fc56270e7a70fa81a5935b72eacbe29'\n",
         "hidden": false,
         "locked": false
        }
       ],
       "scored": true,
       "setup": "",
       "teardown": "",
       "type": "doctest"
      }
     ]
    },
    "q3.0": {
     "name": "q3.0",
     "points": 1,
     "suites": [
      {
       "cases": [
        {
         "code": ">>> assert get_hash(a) == 'eccbc87e4b5ce2fe28308fd9f2a7baf3'\n",
         "failure_message": "a",
         "hidden": false,
         "locked": false
        },
        {
         "code": ">>> assert get_hash(b) == '596a3d04481816330f07e4f97510c28f'\n",
         "failure_message": "b",
         "hidden": false,
         "locked": false
        },
        {
         "code": ">>> assert get_hash(c) == 'a87ff679a2f3e71d9181a67b7542122c'\n",
         "failure_message": "c",
         "hidden": false,
         "locked": false
        },
        {
         "code": ">>> assert get_hash(x) == 'c81e728d9d4c2f636f067f89cc14862c'\n",
         "failure_message": "x",
         "hidden": false,
         "locked": false
        }
       ],
       "scored": true,
       "setup": "",
       "teardown": "",
       "type": "doctest"
      }
     ]
    },
    "q3.1": {
     "name": "q3.1",
     "points": 1,
     "suites": [
      {
       "cases": [
        {
         "code": ">>> assert get_hash(round(q3_1, 2)) == '10f8e19d19bf3772687b5457a689fa21'\n",
         "hidden": false,
         "locked": false
        }
       ],
       "scored": true,
       "setup": "",
       "teardown": "",
       "type": "doctest"
      }
     ]
    },
    "q3.2": {
     "name": "q3.2",
     "points": 1,
     "suites": [
      {
       "cases": [
        {
         "code": ">>> assert get_hash(q3_2) == 'eac1be4ceede350c62d93c8212e3e536'\n",
         "hidden": false,
         "locked": false
        }
       ],
       "scored": true,
       "setup": "",
       "teardown": "",
       "type": "doctest"
      }
     ]
    },
    "q3.3": {
     "name": "q3.3",
     "points": 1,
     "suites": [
      {
       "cases": [
        {
         "code": ">>> assert get_hash(round(q3_3, 3)) == '5bda95602d31edf4ea2526dd3c8b078f'\n",
         "hidden": false,
         "locked": false
        }
       ],
       "scored": true,
       "setup": "",
       "teardown": "",
       "type": "doctest"
      }
     ]
    },
    "q3.4": {
     "name": "q3.4",
     "points": 1,
     "suites": [
      {
       "cases": [
        {
         "code": ">>> assert get_hash(round(q3_4, 3)) == '705214b9da419e4e6560a628f2d6396a'\n",
         "hidden": false,
         "locked": false
        }
       ],
       "scored": true,
       "setup": "",
       "teardown": "",
       "type": "doctest"
      }
     ]
    },
    "q3.5": {
     "name": "q3.5",
     "points": 1,
     "suites": [
      {
       "cases": [
        {
         "code": ">>> assert get_hash(round(q3_5, 4)) == '6140f47ca960c93adc21d0c11eef8f5f'\n",
         "hidden": false,
         "locked": false
        }
       ],
       "scored": true,
       "setup": "",
       "teardown": "",
       "type": "doctest"
      }
     ]
    },
    "q3.6": {
     "name": "q3.6",
     "points": 1,
     "suites": [
      {
       "cases": [
        {
         "code": ">>> assert get_hash(round(np.real(q3_6),8)) == 'c54490d3480079138c8c027a87a366e3'\n>>> assert get_hash(round(np.imag(q3_6),8)) == 'e4c2e8edac362acab7123654b9e73432'\n",
         "hidden": false,
         "locked": false
        }
       ],
       "scored": true,
       "setup": "",
       "teardown": "",
       "type": "doctest"
      }
     ]
    },
    "q3.7": {
     "name": "q3.7",
     "points": 1,
     "suites": [
      {
       "cases": [
        {
         "code": ">>> assert get_hash(round(q3_7,4)) == '3205c5a0e0c890e0113e87dd3b5d7349'\n",
         "hidden": false,
         "locked": false
        }
       ],
       "scored": true,
       "setup": "",
       "teardown": "",
       "type": "doctest"
      }
     ]
    },
    "q3.8": {
     "name": "q3.8",
     "points": 1,
     "suites": [
      {
       "cases": [
        {
         "code": ">>> assert (get_hash(round(q3_8, 3)) == 'c0857c1de732e77e7f99af3055dda037')\n",
         "hidden": false,
         "locked": false
        }
       ],
       "scored": true,
       "setup": "",
       "teardown": "",
       "type": "doctest"
      }
     ]
    },
    "q4.0": {
     "name": "q4.0",
     "points": 0.5,
     "suites": [
      {
       "cases": [
        {
         "code": ">>> \n>>> assert len(q4_0.upper()) == 1\n>>> assert get_hash(q4_0.upper()) == '9d5ed678fe57bcca610140957afab571'\n",
         "failure_message": "Incorrect answer. Make sure you have just the letter of your answer choice in quotes.",
         "hidden": false,
         "locked": false
        }
       ],
       "scored": true,
       "setup": "",
       "teardown": "",
       "type": "doctest"
      }
     ]
    },
    "q4.1": {
     "name": "q4.1",
     "points": 1,
     "suites": [
      {
       "cases": [
        {
         "code": ">>> \n>>> var_names = ['China_pop' , 'China_CO2' , 'Qatar_pop' , 'Qatar_CO2' , 'USA_pop' , 'USA_CO2']\n>>> assert all([var_name in globals() for var_name in var_names])\n",
         "failure_message": "Check variable names.",
         "hidden": false,
         "locked": false,
         "points": 0.25
        },
        {
         "code": ">>> \n>>> assert get_hash(China_pop) == '0e4e946668cf2afc4299b462b812caca'\n>>> assert get_hash(China_CO2) == 'b7852f3d3a775b5188139a2c07024397'\n",
         "failure_message": "Check China variable values.",
         "hidden": false,
         "locked": false
        },
        {
         "code": ">>> \n>>> assert get_hash(Qatar_pop) == '23cb05d4a2e5bf28363909d92cd244e2'\n>>> assert get_hash(Qatar_CO2) == '26657d5ff9020d2abefe558796b99584'\n",
         "failure_message": "Check Qatar variable values.",
         "hidden": false,
         "locked": false
        },
        {
         "code": ">>> \n>>> assert get_hash(USA_pop) == 'c042f4db68f23406c6cecf84a7ebb0fe'\n>>> assert get_hash(USA_CO2) == '351869bde8b9d6ad1e3090bd173f600d'\n",
         "failure_message": "Check USA variable values.",
         "hidden": false,
         "locked": false
        }
       ],
       "scored": true,
       "setup": "",
       "teardown": "",
       "type": "doctest"
      }
     ]
    },
    "q4.10": {
     "name": "q4.10",
     "points": 0.5,
     "suites": [
      {
       "cases": [
        {
         "code": ">>> assert get_hash(q4_10) == 'f8320b26d30ab433c5a54546d21f414c'\n",
         "hidden": false,
         "locked": false
        }
       ],
       "scored": true,
       "setup": "",
       "teardown": "",
       "type": "doctest"
      }
     ]
    },
    "q4.2": {
     "name": "q4.2",
     "points": 0.5,
     "suites": [
      {
       "cases": [
        {
         "code": ">>> \n>>> assert get_hash(type(q4_2)) == '71f335aebe2d722b3351e4c9710a7236' \n",
         "failure_message": "Check which function you used.",
         "hidden": false,
         "locked": false
        },
        {
         "code": ">>> \n>>> assert get_hash(q4_2) == '2203e3c2293eb8c9bda5bcd97acbf884'\n",
         "failure_message": "Does the value have a fractional component?",
         "hidden": false,
         "locked": false
        }
       ],
       "scored": true,
       "setup": "",
       "teardown": "",
       "type": "doctest"
      }
     ]
    },
    "q4.3": {
     "name": "q4.3",
     "points": 0.5,
     "suites": [
      {
       "cases": [
        {
         "code": ">>> assert get_hash(q4_3) == 'c81e728d9d4c2f636f067f89cc14862c'\n",
         "hidden": false,
         "locked": false
        },
        {
         "code": ">>> \n>>> assert get_hash(Qatar_pop) == '23cb05d4a2e5bf28363909d92cd244e2'\n",
         "failure_message": "Do not reassign the variable.",
         "hidden": false,
         "locked": false,
         "points": 0.2
        }
       ],
       "scored": true,
       "setup": "",
       "teardown": "",
       "type": "doctest"
      }
     ]
    },
    "q4.4": {
     "name": "q4.4",
     "points": 0.5,
     "suites": [
      {
       "cases": [
        {
         "code": ">>> assert get_hash(q4_4) == '2993d6c487b8101c0701534ba325cb91'\n",
         "hidden": false,
         "locked": false
        },
        {
         "code": ">>> \n>>> assert get_hash(Qatar_CO2) == '26657d5ff9020d2abefe558796b99584' \n",
         "failure_message": "Do not reassign the variable.",
         "hidden": false,
         "locked": false,
         "points": 0.2
        }
       ],
       "scored": true,
       "setup": "",
       "teardown": "",
       "type": "doctest"
      }
     ]
    },
    "q4.5": {
     "name": "q4.5",
     "points": 1,
     "suites": [
      {
       "cases": [
        {
         "code": ">>> \n>>> q3_0_vars = ['China_per_capita' , 'Qatar_per_capita' , 'USA_per_capita']\n>>> assert all([var_name in globals() for var_name in q3_0_vars])\n",
         "failure_message": "Check variable names.",
         "hidden": false,
         "locked": false,
         "points": 0.2
        },
        {
         "code": ">>> \n>>> assert get_hash(China_per_capita) == '2e08fabaf262a0fea4da5c818c9894e2' \n>>> assert get_hash(Qatar_per_capita) == '2f56f1561f0c21041643671d4fd9f85a' \n>>> assert get_hash(USA_per_capita) == 'c89b4e5c27b4928beff41e7782689f91' \n",
         "failure_message": "Check variable values.",
         "hidden": false,
         "locked": false
        }
       ],
       "scored": true,
       "setup": "",
       "teardown": "",
       "type": "doctest"
      }
     ]
    },
    "q4.6": {
     "name": "q4.6",
     "points": 0.5,
     "suites": [
      {
       "cases": [
        {
         "code": ">>> assert get_hash(q4_6) == 'f827cf462f62848df37c5e1e94a4da74'\n",
         "hidden": false,
         "locked": false
        }
       ],
       "scored": true,
       "setup": "",
       "teardown": "",
       "type": "doctest"
      }
     ]
    },
    "q4.7": {
     "name": "q4.7",
     "points": 1,
     "suites": [
      {
       "cases": [
        {
         "code": ">>> \n>>> assert get_hash(q4_7a) == 'f827cf462f62848df37c5e1e94a4da74'\n",
         "failure_message": "Check q4_7a.",
         "hidden": false,
         "locked": false
        },
        {
         "code": ">>> \n>>> assert get_hash(q4_7b) == 'f8320b26d30ab433c5a54546d21f414c'\n",
         "failure_message": "Check q4_7b.",
         "hidden": false,
         "locked": false,
         "points": 0.2
        },
        {
         "code": ">>> \n>>> assert get_hash(q4_7) == 'f827cf462f62848df37c5e1e94a4da74'\n",
         "failure_message": "Check q4_7.",
         "hidden": false,
         "locked": false
        }
       ],
       "scored": true,
       "setup": "",
       "teardown": "",
       "type": "doctest"
      }
     ]
    },
    "q4.8": {
     "name": "q4.8",
     "points": 1,
     "suites": [
      {
       "cases": [
        {
         "code": ">>> \n>>> assert get_hash(q4_8a) == 'f827cf462f62848df37c5e1e94a4da74'\n",
         "failure_message": "Check q4_8a.",
         "hidden": false,
         "locked": false
        },
        {
         "code": ">>> \n>>> assert get_hash(q4_8b) == 'f827cf462f62848df37c5e1e94a4da74'\n",
         "failure_message": "Check q4_8b.",
         "hidden": false,
         "locked": false
        },
        {
         "code": ">>> \n>>> assert get_hash(q4_8c) == 'f827cf462f62848df37c5e1e94a4da74'\n",
         "failure_message": "Check q4_8c.",
         "hidden": false,
         "locked": false
        },
        {
         "code": ">>> \n>>> assert get_hash(q4_8) == 'f827cf462f62848df37c5e1e94a4da74'\n",
         "failure_message": "Check q4_8.",
         "hidden": false,
         "locked": false
        }
       ],
       "scored": true,
       "setup": "",
       "teardown": "",
       "type": "doctest"
      }
     ]
    },
    "q4.9": {
     "name": "q4.9",
     "points": 1,
     "suites": [
      {
       "cases": [
        {
         "code": ">>> \n>>> assert get_hash(round(q4_9a,3)) == '302ddfd6d63bbe5693b96981c129d3e2'\n>>> \n",
         "failure_message": "Check q4_9a.",
         "hidden": false,
         "locked": false,
         "points": 0.3
        },
        {
         "code": ">>> \n>>> assert get_hash(round(q4_9b,3)) == '70e3b658922334c673fa2959dbfdfbd6'\n",
         "failure_message": "Check q4_9b.",
         "hidden": false,
         "locked": false,
         "points": 0.3
        },
        {
         "code": ">>> \n>>> assert get_hash(q4_9) == 'f8320b26d30ab433c5a54546d21f414c'\n",
         "failure_message": "Check q4_9.",
         "hidden": false,
         "locked": false
        }
       ],
       "scored": true,
       "setup": "",
       "teardown": "",
       "type": "doctest"
      }
     ]
    }
   }
  }
 },
 "nbformat": 4,
 "nbformat_minor": 4
}
