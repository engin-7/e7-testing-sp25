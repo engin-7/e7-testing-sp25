{
 "cells": [
  {
   "cell_type": "code",
   "execution_count": null,
   "metadata": {
    "deletable": false,
    "editable": false
   },
   "outputs": [],
   "source": [
    "# Initialize Otter\n",
    "import otter\n",
    "grader = otter.Notebook(\"lab04.ipynb\")"
   ]
  },
  {
   "cell_type": "markdown",
   "metadata": {},
   "source": [
    "# E7: Lab Assignment 04 - Iteration & Recursion\n",
    "\n",
    "You must submit the lab to Gradescope by the due date. You will submit the zip file produced by running the final cell of the assignment.\n",
    "\n",
    "## Instructions\n",
    "\n",
    "**Run the first cell, Initialize Otter**, to import the autograder and submission exporter.\n",
    "\n",
    "Throughout the assignment, replace `...` with your answers. We use `...` as a placeholder and these should be deleted and replaced with your answers.\n",
    "\n",
    "Any part listed as a \"<font color='red'>**Question**</font>\" should be answered to receive credit.\n",
    "\n",
    "**Please save your work after every question!**\n",
    "\n",
    "To read the documentation on a Python function, you can type `help()` and add the function name between parentheses.\n",
    "\n",
    "## Score Breakdown\n",
    "Question   | Points\n",
    ":---       | --:\n",
    "1          | 4\n",
    "2.0 – 2.2  | 8\n",
    "3          | 3\n",
    "4          | 4\n",
    "5          | 3\n",
    "6          | 3\n",
    "Total      | 25\n",
    "\n",
    "**Run the cell below**, to import the required modules."
   ]
  },
  {
   "cell_type": "code",
   "execution_count": null,
   "metadata": {},
   "outputs": [],
   "source": [
    "# Please run this cell, and do not modify the contents\n",
    "import numpy as np\n",
    "import math\n",
    "import random\n",
    "import hashlib\n",
    "import matplotlib.pyplot as plt\n",
    "import inspect\n",
    "def get_hash(num):\n",
    "    \"\"\"Helper function for assessing correctness\"\"\"\n",
    "    return hashlib.md5(str(num).encode()).hexdigest()"
   ]
  },
  {
   "cell_type": "markdown",
   "metadata": {},
   "source": [
    "## Question 1: Interest\n",
    "\n",
    "The interest rate, $r$, on a principal investment, $P_0$, is a payment for allowing the bank to use an investor's money. Compound interest is accumulated according to the formula $P_n = (1 + r)P_{n-1}$, where $P_n$ is the balance after $n$ compounding periods (in our case years), and $P_{n-1}$ is the balance after the previous period. The interest rate $r$ is given\n",
    "in decimal, e.g. 0.1, which is 10%. The objective is to determine the number of years required to reach an investment goal based on an initial investment $P_0$ and an interest rate $r$.\n",
    "\n",
    "You will need to complete the function below, `mySavingsPlan(P0, r, goal)`, which returns `years`, the number of years required to reach an investment goal. Assume that interest is paid out in one payment at the end of a given year. The output `years` should be a whole number.\n",
    "\n",
    "Complete the function below to solve the investment problem using a while loop. There are hints to guide you on what is missing on each line.\n",
    "\n",
    "Test your `mySavingsPlan()` function for `P0 = 1000` dollars, `r = 0.05`, and `goal = 10000` dollars. Assign the output to `q1`. Feel free to try it for other inputs."
   ]
  },
  {
   "cell_type": "code",
   "execution_count": null,
   "metadata": {
    "tags": []
   },
   "outputs": [],
   "source": [
    "# ANSWER CELL\n",
    "def mySavingsPlan(P0, r, goal):\n",
    "    \"\"\"Return number of years required to reach an investment goal based on an initial investment P0 and an interest rate r.\n",
    "    >>> mySavingsPlan(1000, 0.05, 10000)\n",
    "    48\n",
    "    >>> mySavingsPlan(1000, 0.10, 10000)\n",
    "    25\n",
    "    >>> mySavingsPlan(1000, 0.05, 1000000)\n",
    "    142\n",
    "    \"\"\"\n",
    "    # Initialize number of years required to reach investment goal\n",
    "    years = ...\n",
    "    \n",
    "    # Initialize amount of money in the current period\n",
    "    money = ...\n",
    "    \n",
    "    # Add logical expression that should be checked each time you iterate through the loop\n",
    "    while ...\n",
    "        \n",
    "        # Update amount of money in the next period\n",
    "        money = ...\n",
    "        \n",
    "        # Update number of years required to reach investment goal\n",
    "        years = ...\n",
    "\n",
    "    return years"
   ]
  },
  {
   "cell_type": "code",
   "execution_count": null,
   "metadata": {
    "tags": []
   },
   "outputs": [],
   "source": [
    "# TEST YOUR FUNCTION HERE\n",
    "q1 = ...\n",
    "\n",
    "print(f'Number of years to reach goal: {q1} years')"
   ]
  },
  {
   "cell_type": "code",
   "execution_count": null,
   "metadata": {
    "deletable": false,
    "editable": false
   },
   "outputs": [],
   "source": [
    "grader.check(\"q1\")"
   ]
  },
  {
   "cell_type": "markdown",
   "metadata": {},
   "source": [
    "## Question 2: Sum Digits\n",
    "\n",
    "### Question 2.0\n",
    "\n",
    "Write a function `Sum(n)` that takes a non-negative integer (`n`) and returns the sum of its digits (`digit_sum`) as an integer. If `n` is negative and/or non-integer, the function should return \"Invalid Input.\" Be careful with your string formatting. Minor differences will result in a failed test.\n",
    "\n",
    "Test your `Sum(n)` function for  `n = 200500` in the following cell. Assign the output to `q2_0`. Feel free to try it for other inputs.\n",
    "\n",
    "*Hint:* Strings are iterable.\n",
    "\n",
    "```\n",
    "Examples:\n",
    "\n",
    ">>> Sum(10) # 1 + 0 = 1\n",
    "1\n",
    "\n",
    ">>> Sum(4224) # 4 + 2 + 2 + 4 = 12\n",
    "12\n",
    "\n",
    ">>> Sum(1234567890)\n",
    "45\n",
    "\n",
    ">>> Sum(-10)\n",
    "'Invalid Input.'\n",
    "\n",
    ">>> Sum(10.1)\n",
    "'Invalid Input.'\n",
    "\n",
    ">>> a = Sum(123) # make sure that you are using return rather than print\n",
    ">>> a\n",
    "6\n",
    "```"
   ]
  },
  {
   "cell_type": "code",
   "execution_count": null,
   "metadata": {
    "tags": []
   },
   "outputs": [],
   "source": [
    "# ANSWER CELL\n",
    "..."
   ]
  },
  {
   "cell_type": "code",
   "execution_count": null,
   "metadata": {
    "tags": []
   },
   "outputs": [],
   "source": [
    "# TEST YOUR FUNCTION HERE\n",
    "q2_0 = ...\n",
    "\n",
    "print(f'Sum of  digits: {q2_0}')"
   ]
  },
  {
   "cell_type": "code",
   "execution_count": null,
   "metadata": {
    "deletable": false,
    "editable": false
   },
   "outputs": [],
   "source": [
    "grader.check(\"q2.0\")"
   ]
  },
  {
   "cell_type": "markdown",
   "metadata": {},
   "source": [
    "### Question 2.1\n",
    "\n",
    "Create a simpler version of Q2.0 by writing a lambda function called `lambdaSum`. Your lambda function should perform the same calculation as Q2.0 with `n` as the input and sum of the digits as the output. Also, the function should return \"Invalid Input.\" if `n` is negative and/or non-integer.\n",
    "\n",
    "Test your new `lambdaSum` function for `n = 200500` and assign the output to `q2_1`. Feel free to try it for other inputs.\n",
    "\n",
    "*Hint: You might need to use list comprehension and ternary operators.*\n",
    "\n",
    "```\n",
    "Examples:\n",
    "\n",
    ">>> lambdaSum(10) # 1 + 0 = 1\n",
    "1\n",
    "\n",
    ">>> lambdaSum(4224) # 4 + 2 + 2 + 4 = 12\n",
    "12\n",
    "\n",
    ">>> lambdaSum(1234567890)\n",
    "45\n",
    "\n",
    ">>> lambdaSum(-10)\n",
    "'Invalid Input.'\n",
    "\n",
    ">>> lambdaSum(10.1)\n",
    "'Invalid Input.'\n",
    "```"
   ]
  },
  {
   "cell_type": "code",
   "execution_count": null,
   "metadata": {
    "tags": []
   },
   "outputs": [],
   "source": [
    "# ANSWER CELL\n",
    "..."
   ]
  },
  {
   "cell_type": "code",
   "execution_count": null,
   "metadata": {
    "tags": []
   },
   "outputs": [],
   "source": [
    "# TEST YOUR FUNCTION HERE\n",
    "q2_1 = ...\n",
    "\n",
    "print(f'Sum of digits: {q2_1}')"
   ]
  },
  {
   "cell_type": "code",
   "execution_count": null,
   "metadata": {
    "deletable": false,
    "editable": false
   },
   "outputs": [],
   "source": [
    "grader.check(\"q2.1\")"
   ]
  },
  {
   "cell_type": "markdown",
   "metadata": {},
   "source": [
    "### Question 2.2\n",
    "\n",
    "In the previous question, we considered one digit at a time when computing the sum. Next, we will write a similar function that computes the sum of groups of digits of a specified size.\n",
    "\n",
    "Write a function `SumSize(n, size)` that takes a non-negative integer `n` and another integer `size` which specifies the number of digits to consider at a time. The function should return the sum of `size` consecutive digits from `n`.\n",
    "\n",
    "For example, if `n = 200500` and `size = 2`, the function should return 20 + 05 + 00 = 25 (two consecutive digits at a time and taking their sum).\n",
    "\n",
    "Set the default value of `size` equal to 1 and assume `n` is a valid input (you do not have to check if it is negative or float).\n",
    "\n",
    "Note that the number of digits in `n` should be a multiple of `size`. If this is not the case, your function should return the following string:\n",
    "* \"The number of digits in n should be a multiple of size.\"\n",
    "\n",
    "Test your `SumSize(n, size)` function for  `n = 200500` and `size = 2`. Assign the output to `q2_2`. Feel free to try it for other inputs.\n",
    "\n",
    "\n",
    "```\n",
    "Examples:\n",
    "\n",
    ">>> SumSize(10) # 1 + 0 = 1 (size not specified, so use default value of 1)\n",
    "1\n",
    "\n",
    ">>> SumSize(10, 2) \n",
    "10\n",
    "\n",
    ">>> SumSize(4224, 2) # 42 + 24 = 66\n",
    "66\n",
    "\n",
    ">>> SumSize(100001111101234, 5) # 10000 + 11111 + 01234 = 22345\n",
    "22345\n",
    "\n",
    ">>> SumSize(4224, 3)\n",
    "\"The number of digits in n should be a multiple of size.\"\n",
    "```"
   ]
  },
  {
   "cell_type": "code",
   "execution_count": null,
   "metadata": {
    "tags": []
   },
   "outputs": [],
   "source": [
    "# ANSWER CELL\n",
    "..."
   ]
  },
  {
   "cell_type": "code",
   "execution_count": null,
   "metadata": {
    "tags": []
   },
   "outputs": [],
   "source": [
    "# TEST YOUR FUNCTION HERE\n",
    "q2_2 = ...\n",
    "\n",
    "print(f'Sum of group of digits: {q2_2}')"
   ]
  },
  {
   "cell_type": "code",
   "execution_count": null,
   "metadata": {
    "deletable": false,
    "editable": false
   },
   "outputs": [],
   "source": [
    "grader.check(\"q2.2\")"
   ]
  },
  {
   "cell_type": "markdown",
   "metadata": {},
   "source": [
    "## Question 3: Collatz Conjecture\n",
    "\n",
    "The Collatz conjecture is one of the most famous unsolved problems in mathematics:\n",
    "\n",
    "> Pick a positive integer `n`, any positive integer. If the `n` is even, divide it by 2; if it's odd, multiply it by 3 and add 1. Take that new number and repeat the process, again and again. If you keep repeating this, you'll eventually reach the number 1, regardless of which positive integer `n` is chosen initially. And if you continue the process beyond 1, you will get stuck in a loop. \n",
    "\n",
    "$$10 \\rightarrow 5 \\rightarrow 16 \\rightarrow 8 \\rightarrow 4 → 2 \\rightarrow 1 \\rightarrow 4 \\rightarrow 2 \\rightarrow 1 \\rightarrow 4 \\rightarrow 2 \\rightarrow 1 \\rightarrow \\dots$$\n",
    "\n",
    "$$11 \\rightarrow 34 \\rightarrow 17 \\rightarrow 52 \\rightarrow 26 \\rightarrow 13 \\rightarrow 40 \\rightarrow 20 \\rightarrow 10 \\rightarrow 5 \\rightarrow 16 \\rightarrow 8 \\rightarrow 4 \\rightarrow 2 \\rightarrow 1 \\rightarrow 4 \\rightarrow \\dots $$\n",
    "\n",
    "The number `n` will travel up and down but eventually end at 1 (at least for all numbers that have ever been tried -- nobody has ever proved that the sequence will terminate). \n",
    "\n",
    "Write a function `collatz(n)` that takes a positive integer (`n`) and returns two outputs:\n",
    "1. `sequence`: a list of the sequence starting at `n` and ending at the first occurrence of 1\n",
    "2. `steps`: the number of steps in the sequence\n",
    "\n",
    "If `n` is non-positive and/or non-integer, the function should return \"Invalid Input.\" Be careful with your string formatting. Minor differences will result in a failed test. \n",
    "\n",
    "Also note that if `n == 1` initially, then the sequence is one step long.\n",
    "\n",
    "Test your `collatz(n)` function for  `n = 25`. Assign the output to `q3`. Feel free to try it for other inputs.\n",
    "\n",
    "```\n",
    "Examples:\n",
    "\n",
    ">>> collatz(10)\n",
    "([10, 5, 16, 8, 4, 2, 1], 7)\n",
    "\n",
    ">>> collatz(1)\n",
    "([1], 1)\n",
    "\n",
    ">>> collatz(9)\n",
    "([9, 28, 14, 7, 22, 11, 34, 17, 52, 26, 13, 40, 20, 10, 5, 16, 8, 4, 2, 1], 20)\n",
    "\n",
    ">>> collatz(0)\n",
    "'Invalid Input.'\n",
    "```"
   ]
  },
  {
   "cell_type": "code",
   "execution_count": null,
   "metadata": {
    "tags": []
   },
   "outputs": [],
   "source": [
    "# ANSWER CELL\n",
    "..."
   ]
  },
  {
   "cell_type": "code",
   "execution_count": null,
   "metadata": {
    "tags": []
   },
   "outputs": [],
   "source": [
    "# TEST YOUR FUNCTION HERE\n",
    "q3 = ...\n",
    "\n",
    "print(f'Sequence: {q3[0]}')\n",
    "print(f'Number of steps to get to 1: {q3[1]}')"
   ]
  },
  {
   "cell_type": "code",
   "execution_count": null,
   "metadata": {
    "deletable": false,
    "editable": false
   },
   "outputs": [],
   "source": [
    "grader.check(\"q3\")"
   ]
  },
  {
   "cell_type": "markdown",
   "metadata": {},
   "source": [
    "## Question 4: Rainfall Totals\n",
    "\n",
    "Write a function `Rainfall(rainData)` that takes a numeric sequence (list, tuple, or NumPy array) of daily rainfall measurements, `rainData`, and returns the total rainfall, `rainTot`, and the average daily rainfall, `rainAvg`, over a period of interest.\n",
    "\n",
    "The argument `rainData` may contain the number -999 indicating the end of the data from a given period. We are interested in computing the total and average daily rainfall over the first period only (everything after the first -999 should be ignored). There may be negative numbers other than -999 in`rainData`, which represent erroneous measurements and should be neglected.\n",
    "\n",
    "Your function `myRainfall(rainData)` should return `rainTot` and `rainAvg`, which are the total and average of the non-negative values in either the entire input `rainData` or the period from the beginning until the first occurrence of -999. Note that `rainAvg` is the average daily rainfall during this period (not counting days with neglected measurements). The first returned object should be `rainTot` and the second returned object should be `rainAvg`.\n",
    "\n",
    "Test your `myRainfall()` function for `rainData = [2.3, 4.1, -5.4, 1.0, 7.1, -2, 8, 0, 4.9, 6, -999]`. Assign the output to `q4`. Feel free to try it for other inputs.\n",
    "\n",
    "```\n",
    "Examples:\n",
    "\n",
    ">>> myRainfall([2, 4, -5, 1, 7, -2, 8, -999, 4, 6, 4]) # rainTot = 2 + 4 + 1 + 7 + 8 = 22\n",
    "(22, 4.4)\n",
    "\n",
    ">>> myRainfall([2, 4, -5, 1, 7, -2, 8, 0, 4, 6, 4]) # rainTot = 2 + 4 + 1 + 7 + 8 + 0 + 4 + 6 + 4 = 36\n",
    "(36, 4.0)\n",
    "\n",
    ">>> myRainfall([2, 4, -999, 1, 7, -2, 8, -999, 4, 6, 4]) # rainTot = 2 + 4 = 6\n",
    "(6, 3.0)\n",
    "\n",
    ">>> myRainfall([0, -999, -5, 1, 7, -2, 8, -999, 4, 6, 2]) # rainTot = 0\n",
    "(0, 0.0)\n",
    "```"
   ]
  },
  {
   "cell_type": "code",
   "execution_count": null,
   "metadata": {
    "tags": []
   },
   "outputs": [],
   "source": [
    "# ANSWER CELL\n",
    "..."
   ]
  },
  {
   "cell_type": "code",
   "execution_count": null,
   "metadata": {
    "tags": []
   },
   "outputs": [],
   "source": [
    "# TEST YOUR FUNCTION HERE\n",
    "q4 = ...\n",
    "\n",
    "print(f'Rainfall total: {q4[0]}')\n",
    "print(f'Rainfall average: {q4[1]}')"
   ]
  },
  {
   "cell_type": "code",
   "execution_count": null,
   "metadata": {
    "deletable": false,
    "editable": false
   },
   "outputs": [],
   "source": [
    "grader.check(\"q4\")"
   ]
  },
  {
   "cell_type": "markdown",
   "metadata": {},
   "source": [
    "<div class=\"alert alert-block alert-warning\"> <b>NOTE!</b> The rest of the lab focuses on recursion. If we haven't covered this topic yet and you have no prior experience with it, please wait until after the next lecture to continue the assignment. </div>"
   ]
  },
  {
   "cell_type": "markdown",
   "metadata": {},
   "source": [
    "## Question 5: Recursive Sequence\n",
    "\n",
    "Consider the following function\n",
    "\n",
    "\\begin{equation}\n",
    "F_n = \\begin{cases}\n",
    "    F_0 &\\text{if $n=0$}\\\\\n",
    "    F_1 &\\text{if $n=1$}\\\\\n",
    "    aF_{n-1} + bF_{n-2} & \\text{if $n\\geq2$}\\\\\n",
    "    \\end{cases}\n",
    "\\end{equation}\n",
    "\n",
    "where $F_0, F_1, a, \\text{ and } b$ are known constants.\n",
    "\n",
    "Using **recursion**, write a function `GenRec(a, b, F0, F1, n)`, that returns the $n^{th}$ number in the sequence, $F_n$. Assume that `n` is a non-negative integer (no need to check it in your function).\n",
    "\n",
    "Test your `GenRec()` function for any set of inputs. Assign the output to `q5`.\n",
    "\n",
    "```\n",
    "Examples:\n",
    "\n",
    ">>> GenRec(1, 1, 0, 1, 0)\n",
    "0\n",
    "\n",
    ">>> GenRec(1, 1, 0, 1, 1)\n",
    "1\n",
    "\n",
    ">>> GenRec(1, 1, 0, 1, 6)\n",
    "8\n",
    "\n",
    ">>> GenRec(1, 2, 0, 1, 6)\n",
    "21\n",
    "\n",
    ">>> GenRec(1, 2, 0, 1, 6)\n",
    "5858\n",
    "\n",
    ">>> GenRec(2, 2, 0, 1, 6)\n",
    "56320\n",
    "```"
   ]
  },
  {
   "cell_type": "code",
   "execution_count": null,
   "metadata": {
    "tags": []
   },
   "outputs": [],
   "source": [
    "# ANSWER CELL\n",
    "..."
   ]
  },
  {
   "cell_type": "code",
   "execution_count": null,
   "metadata": {
    "tags": []
   },
   "outputs": [],
   "source": [
    "# TEST YOUR FUNCTION HERE\n",
    "q5 = ...\n",
    "\n",
    "print(f'F(n) = {q5}')"
   ]
  },
  {
   "cell_type": "code",
   "execution_count": null,
   "metadata": {
    "deletable": false,
    "editable": false
   },
   "outputs": [],
   "source": [
    "grader.check(\"q5\")"
   ]
  },
  {
   "cell_type": "markdown",
   "metadata": {},
   "source": [
    "## Question 6: Fibonacci but on Steroids\n",
    "\n",
    "A *k-bonacci sequence* is a generalization of the Fibonacci sequence. In a k-bonacci sequence, each term is the sum of the k preceding terms. The Fibonacci sequence is a special case with k = 2, where each term is the sum of the two previous terms. In a 3-bonacci sequence (k = 3), each term is the sum of the three previous terms, and so on. A k-bonacci sequence starts with k $-$ 1 zeros and then a one. Each subsequent element is the sum of the previous k elements. For example:\n",
    "\n",
    "```\n",
    "        n: 0, 1, 2, 3, 4, 5, 6,  7,  8,  9, ..., n\n",
    "\n",
    "2-bonacci: 0, 1, 1, 2, 3, 5, 8, 13, 21, 34, ..., F(n-1) + F(n-2)\n",
    "3-bonacci: 0, 0, 1, 1, 2, 4, 7, 13, 24, 44, ..., F(n-1) + F(n-2) + F(n-3)\n",
    "4-bonacci: 0, 0, 0, 1, 1, 2, 4,  8, 15, 29, ..., F(n-1) + F(n-2) + F(n-3) + F(n-4)\n",
    "```\n",
    "\n",
    "Hint: Using this information, try to come up with the k-bonacci formula for different values of $n$. For any k, what should be F(0)? What about F(k-1)? F(k)? F(n)? Your formula should look something like this:\n",
    "\n",
    "\\begin{equation}\n",
    "F(n) = \\begin{cases}\n",
    "    \\dots &\\text{if } \\dots\\\\\n",
    "    \\dots &\\text{if } \\dots\\\\\n",
    "    \\dots & \\text{if } \\dots\\\\\n",
    "    \\end{cases}\n",
    "\\end{equation}\n",
    "\n",
    "Write a function `kbonacci()` which takes a non-negative integer `n` and a positive integer `k`. The function should return the value of the $n^{th}$ element of the k-bonacci sequence.\n",
    "\n",
    "You will implement the function `kbonacci()` by filling in the blanks. You may only write one statement on each line. You may not use ; to place two statements on the same line. You may not use any built-in functions or methods. You may not modify the level of indentation of any line.\n",
    "\n",
    "```python\n",
    "def kbonacci(n, k):\n",
    "    if n < k - 1:\n",
    "        return ...(a)...\n",
    "    elif ...(b)...:\n",
    "        return 1\n",
    "    else:\n",
    "        total = 0\n",
    "        i = ...(c)...\n",
    "        while i < n:\n",
    "            total += ...(d)...\n",
    "            i += 1\n",
    "    return total\n",
    "```\n",
    "\n",
    "<br> \n",
    "\n",
    "```\n",
    "Examples:\n",
    "\n",
    ">>> kbonacci(8, 3)\n",
    "24 \n",
    "    \n",
    ">>> kbonacci(9, 3)\n",
    "44\n",
    "\n",
    ">>> kbonacci(9, 4)\n",
    "29\n",
    "```"
   ]
  },
  {
   "cell_type": "markdown",
   "metadata": {},
   "source": [
    "### Question 6.0\n",
    "\n",
    "Fill in blank (a). Assign the expression that should replace blank (a) to the variable `q6a`."
   ]
  },
  {
   "cell_type": "code",
   "execution_count": null,
   "metadata": {
    "tags": []
   },
   "outputs": [],
   "source": [
    "# ANSWER CELL\n",
    "q6a = ...\n",
    "\n",
    "q6a"
   ]
  },
  {
   "cell_type": "code",
   "execution_count": null,
   "metadata": {
    "deletable": false,
    "editable": false
   },
   "outputs": [],
   "source": [
    "grader.check(\"q6.0\")"
   ]
  },
  {
   "cell_type": "markdown",
   "metadata": {},
   "source": [
    "### Question 6.1\n",
    "\n",
    "Which of these could fill in blank (b)? Assign your answer to the variable `q6b` as a string.\n",
    "\n",
    "**A.** `n == k` \\\n",
    "**B.** `n = k` \\\n",
    "**C.** `n > k` \\\n",
    "**D.** `n > k - 1` \\\n",
    "**E.** `n < k - 2` \\\n",
    "**F.** `n == k - 1` \\\n",
    "**G.** `n = k - 1` \\\n",
    "**H.** `n == 0` \\\n",
    "**I.** `n == 1`\n",
    "\n",
    "Your answer should be a string, e.g., `\"A\"`, `\"B\"`, etc.\\\n",
    "Remember to put quotes around your answer choice.\n",
    "\n",
    "**Note that the test for this question will be a hidden test. Meaning, you will NOT be able to know whether your answer is correct or not by running the `grader.check()` cell.** However, you can add all your answers to Question 6.4 and confirm that your function gives the correct answer."
   ]
  },
  {
   "cell_type": "code",
   "execution_count": null,
   "metadata": {
    "tags": []
   },
   "outputs": [],
   "source": [
    "# ANSWER CELL\n",
    "q6b = ...\n",
    "\n",
    "q6b"
   ]
  },
  {
   "cell_type": "code",
   "execution_count": null,
   "metadata": {
    "deletable": false,
    "editable": false
   },
   "outputs": [],
   "source": [
    "grader.check(\"q6.1\")"
   ]
  },
  {
   "cell_type": "markdown",
   "metadata": {},
   "source": [
    "### Question 6.2\n",
    "\n",
    "Which of these could fill in blank (c)? Assign your answer to the variable `q6c` as a string.\n",
    "\n",
    "**A.** `k` \\\n",
    "**B.** `0` \\\n",
    "**C.** `i` \\\n",
    "**D.** `n - k` \\\n",
    "**E.** `k - 1` \\\n",
    "**F.** `1` \\\n",
    "**G.** `k + 1` \\\n",
    "**H.** `k - n` \\\n",
    "**I.** `k` \\\n",
    "**J.** `3` \n",
    "\n",
    "Your answer should be a string, e.g., `\"A\"`, `\"B\"`, etc.\\\n",
    "Remember to put quotes around your answer choice.\n",
    "\n",
    "**Note that the test for this question will be a hidden test. Meaning, you will NOT be able to know whether your answer is correct or not by running the `grader.check()` cell.** However, you can add all your answers to Question 6.4 and confirm that your function gives the correct answer."
   ]
  },
  {
   "cell_type": "code",
   "execution_count": null,
   "metadata": {
    "tags": []
   },
   "outputs": [],
   "source": [
    "# ANSWER CELL\n",
    "q6c = ...\n",
    "\n",
    "q6c"
   ]
  },
  {
   "cell_type": "code",
   "execution_count": null,
   "metadata": {
    "deletable": false,
    "editable": false
   },
   "outputs": [],
   "source": [
    "grader.check(\"q6.2\")"
   ]
  },
  {
   "cell_type": "markdown",
   "metadata": {},
   "source": [
    "### Question 6.3\n",
    "\n",
    "Which of these could fill in blank (d)? Assign your answer to the variable `q6d` as a string.\n",
    "\n",
    "**A.** `1` \\\n",
    "**B.** `kbonacci(n-1, k)` \\\n",
    "**C.** `kbonacci(i, k)` \\\n",
    "**D.** `total + 1` \\\n",
    "**E.** `total + F(n-1)` \\\n",
    "**F.** `n` \\\n",
    "**G.** `i` \\\n",
    "**H.** `k` \\\n",
    "**I.** `F(i)` \\\n",
    "**J.** `k - 1` \n",
    "\n",
    "Your answer should be a string, e.g., `\"A\"`, `\"B\"`, etc.\\\n",
    "Remember to put quotes around your answer choice.\n",
    "\n",
    "**Note that the test for this question will be a hidden test. Meaning, you will NOT be able to know whether your answer is correct or not by running the `grader.check()` cell.** However, you can add all your answers to Question 6.4 and confirm that your function gives the correct answer."
   ]
  },
  {
   "cell_type": "code",
   "execution_count": null,
   "metadata": {
    "tags": []
   },
   "outputs": [],
   "source": [
    "# ANSWER CELL\n",
    "q6d = ...\n",
    "\n",
    "q6d"
   ]
  },
  {
   "cell_type": "code",
   "execution_count": null,
   "metadata": {
    "deletable": false,
    "editable": false
   },
   "outputs": [],
   "source": [
    "grader.check(\"q6.3\")"
   ]
  },
  {
   "cell_type": "markdown",
   "metadata": {},
   "source": [
    "### Question 6.4\n",
    "\n",
    "Add your answers from Questions 6.0 – 6.3 below and test your function."
   ]
  },
  {
   "cell_type": "code",
   "execution_count": null,
   "metadata": {
    "tags": []
   },
   "outputs": [],
   "source": [
    "# ANSWER CELL\n",
    "def kbonacci(n, k):\n",
    "    if n < k - 1:\n",
    "        return ...\n",
    "    elif ...:\n",
    "        return 1\n",
    "    else:\n",
    "        total = 0\n",
    "        i = ...\n",
    "        while i < n:\n",
    "            total += ...\n",
    "            i += 1\n",
    "    return total"
   ]
  },
  {
   "cell_type": "code",
   "execution_count": null,
   "metadata": {
    "tags": []
   },
   "outputs": [],
   "source": [
    "# TEST YOUR FUNCTION HERE\n",
    "..."
   ]
  },
  {
   "cell_type": "code",
   "execution_count": null,
   "metadata": {
    "deletable": false,
    "editable": false
   },
   "outputs": [],
   "source": [
    "grader.check(\"q6.4\")"
   ]
  },
  {
   "cell_type": "markdown",
   "metadata": {},
   "source": [
    "##  (Optional) Question 7: Vwl Rmvr!\n",
    "\n",
    "**Note: This problem is NOT graded and is provided solely for additional practice. Skipping or completing this problem will not affect your grade.**\n",
    "\n",
    "Write a function `remove_vowels(input_string)` which takes in a single string as its argument and performs two tasks:\n",
    "* Removes all uppercase and lowercase vowel characters ('A', 'E', 'I', 'O', 'U') from the input string. \n",
    "* If an exclamation sign (`!`) is encountered, the function should stop processing and return the string up to this point. Any characters after the exclamation sign should be discarded.\n",
    "\n",
    "Once you are done, try out your new `remove_vowels()` function for `input_string = 'No vowels here! Python is fun!'` in the following cell. Assign the output to `q7`. Feel free to try it for other inputs.\n",
    "\n",
    "```\n",
    "    Examples:\n",
    "    \n",
    "    >>> remove_vowels('Welcome to E7!')\n",
    "    'Wlcm t 7!'\n",
    "    \n",
    "    >>> remove_vowels('Hello World!')\n",
    "    'Hll Wrld!'\n",
    "    \n",
    "    >>> remove_vowels('No vowels here! Python is fun!')\n",
    "    'N vwls hr!'\n",
    "    \n",
    "    >>> remove_vowels('The quick brown fox jumps over the lazy dog.')\n",
    "    'Th qck brwn fx jmps vr th lzy dg.'\n",
    "```\n",
    "    "
   ]
  },
  {
   "cell_type": "code",
   "execution_count": null,
   "metadata": {
    "tags": []
   },
   "outputs": [],
   "source": [
    "# ANSWER CELL\n",
    "..."
   ]
  },
  {
   "cell_type": "code",
   "execution_count": null,
   "metadata": {
    "tags": []
   },
   "outputs": [],
   "source": [
    "# TEST YOUR FUNCTION HERE\n",
    "q7 = ..."
   ]
  },
  {
   "cell_type": "code",
   "execution_count": null,
   "metadata": {
    "deletable": false,
    "editable": false
   },
   "outputs": [],
   "source": [
    "grader.check(\"q7\")"
   ]
  },
  {
   "cell_type": "markdown",
   "metadata": {},
   "source": [
    "## (Optional) Question 8: Summation Target\n",
    "\n",
    "**Note: This problem is NOT graded and is provided solely for additional practice. Skipping or completing this problem will not affect your grade.**\n",
    "\n",
    "Write a function that takes a list of numbers (`myList`) and a single desired value to serve as a target summation (`sumTarget`). Your function needs to find all unique three elements $a, b, c$ in `myList` such that $a + b + c$ = `sumTarget`. \n",
    "\n",
    "Your function `Summation(myList, sumTarget)` should return `results`, where `results` is a NumPy array with shape (M, 3), where each row includes unique three elements $a, b, c$ in `myList` that add up to `sumTarget`. \n",
    "\n",
    "Constraints:\n",
    "* In `results`, the three elements $a, b, c$ within each row should be sorted in increasing order. \n",
    "* The order of the rows in `results` does not matter.\n",
    "* No duplicate rows should be present in `results` (each row should be unique).\n",
    "* If no three elements add up to `sumTarget`, the function should return an empty array: `array([])`.\n",
    "* Within each row, the same element cannot be selected more than once, unless it appears in `myList` more than once (i.e., selecting elements is done without replacement).\n",
    "\n",
    "Test your `mySummation()` function for `array = [0, 1, 1, 2, 3, 4]` and `sumTarget = 5`. Assign the output to `q8`. Feel free to try it for other inputs.\n",
    "\n",
    "*Hint:* You may find [`numpy.vstack()`](https://numpy.org/doc/stable/reference/generated/numpy.vstack.html) and [`numpy.empty()`](https://numpy.org/doc/stable/reference/generated/numpy.empty.html) useful for creating your `results` array.\n",
    "\n",
    "```\n",
    "Examples:\n",
    "\n",
    ">>> mySummation([1, 1, 5, 6, 7, 8, 10], 10)\n",
    "array([[1., 1., 8.]])\n",
    "\n",
    ">>> mySummation([0, 1, 1, 2, 3, 4], 5)\n",
    "array([[0., 1., 4.],\n",
    "       [0., 2., 3.],\n",
    "       [1., 1., 3.]])\n",
    "       \n",
    ">>> mySummation([0, 1, 1, 2, 3, 4], 10)\n",
    "array([], dtype=float64)\n",
    "\n",
    ">>> mySummation([0.1, 0.5, -1, 2, 4, 3.3], -0.4)\n",
    "array([[-1. ,  0.1,  0.5]])\n",
    "```"
   ]
  },
  {
   "cell_type": "code",
   "execution_count": null,
   "metadata": {
    "tags": []
   },
   "outputs": [],
   "source": [
    "# ANSWER CELL\n",
    "..."
   ]
  },
  {
   "cell_type": "code",
   "execution_count": null,
   "metadata": {
    "tags": []
   },
   "outputs": [],
   "source": [
    "# TEST YOUR FUNCTION HERE\n",
    "q8 = ...\n",
    "\n",
    "print(q8)"
   ]
  },
  {
   "cell_type": "code",
   "execution_count": null,
   "metadata": {
    "deletable": false,
    "editable": false
   },
   "outputs": [],
   "source": [
    "grader.check(\"q8\")"
   ]
  },
  {
   "cell_type": "markdown",
   "metadata": {},
   "source": [
    "### You're done with this Lab!\n",
    "\n",
    "**Important submission information:** After completing the assignment, click on the Save icon from the Tool Bar &nbsp;<i class=\"fa fa-save\" style=\"font-size:16px;\"></i>&nbsp;. After saving your notebook, **run the cell with** `grader.check_all()` and confirm that you pass the same tests as in the notebook. Then, **run the final cell** `grader.export()` and click the link to download the zip file. Then, go to Gradescope and submit the zip file to the corresponding assignment. \n",
    "\n",
    "**Once you have submitted, stay on the Gradescope page to confirm that you pass the same tests as in the notebook.**"
   ]
  },
  {
   "cell_type": "code",
   "execution_count": null,
   "metadata": {},
   "outputs": [],
   "source": [
    "import matplotlib.image as mpimg\n",
    "img = mpimg.imread('resources/animal.jpg')\n",
    "imgplot = plt.imshow(img)\n",
    "imgplot.axes.get_xaxis().set_visible(False)\n",
    "imgplot.axes.get_yaxis().set_visible(False)\n",
    "print(\"Congrats on finishing this lab!\")\n",
    "plt.show()"
   ]
  },
  {
   "cell_type": "markdown",
   "metadata": {
    "deletable": false,
    "editable": false
   },
   "source": [
    "---\n",
    "\n",
    "To double-check your work, the cell below will rerun all of the autograder tests."
   ]
  },
  {
   "cell_type": "code",
   "execution_count": null,
   "metadata": {
    "deletable": false,
    "editable": false
   },
   "outputs": [],
   "source": [
    "grader.check_all()"
   ]
  },
  {
   "cell_type": "markdown",
   "metadata": {
    "deletable": false,
    "editable": false
   },
   "source": [
    "## Submission\n",
    "\n",
    "Make sure you have run all cells in your notebook in order before running the cell below, so that all images/graphs appear in the output. The cell below will generate a zip file for you to submit. **Please save before exporting!**\n",
    "\n",
    "Make sure you submit the .zip file to Gradescope."
   ]
  },
  {
   "cell_type": "code",
   "execution_count": null,
   "metadata": {
    "deletable": false,
    "editable": false
   },
   "outputs": [],
   "source": [
    "# Save your notebook first, then run this cell to export your submission.\n",
    "grader.export(pdf=False)"
   ]
  },
  {
   "cell_type": "markdown",
   "metadata": {},
   "source": [
    " "
   ]
  }
 ],
 "metadata": {
  "anaconda-cloud": {},
  "kernelspec": {
   "display_name": "Python 3 (ipykernel)",
   "language": "python",
   "name": "python3"
  },
  "language_info": {
   "codemirror_mode": {
    "name": "ipython",
    "version": 3
   },
   "file_extension": ".py",
   "mimetype": "text/x-python",
   "name": "python",
   "nbconvert_exporter": "python",
   "pygments_lexer": "ipython3",
   "version": "3.11.11"
  },
  "otter": {
   "OK_FORMAT": true,
   "assignment_name": "lab04",
   "tests": {
    "q1": {
     "name": "q1",
     "points": 4,
     "suites": [
      {
       "cases": [
        {
         "code": ">>> \n>>> # Check students tested the function (type is not ellipsis)\n>>> assert get_hash(type(q1)) != '14e736438b115821cbb9b7ac0ba79034'\n",
         "failure_message": "Make sure to test your function!",
         "hidden": false,
         "locked": false,
         "points": 0.25
        },
        {
         "code": ">>> \n>>> # Check return value type\n>>> assert get_hash(type(mySavingsPlan(1000, 0.05, 10000))) == '2203e3c2293eb8c9bda5bcd97acbf884'\n",
         "failure_message": "Make sure your function returns an integer.",
         "hidden": false,
         "locked": false,
         "points": 0.25
        },
        {
         "code": ">>> \n>>> # Check simple cases\n>>> assert get_hash(mySavingsPlan(1000, 0.05, 10000)) == '642e92efb79421734881b53e1e1b18b6'\n>>> assert get_hash(mySavingsPlan(2000, 0.15, 10000)) == 'c20ad4d76fe97759aa27a0c99bff6710'\n>>> assert get_hash(mySavingsPlan(500, 0.4, 5000)) == '8f14e45fceea167a5a36dedd4bea2543'\n",
         "hidden": false,
         "locked": false,
         "points": 1.5
        },
        {
         "code": ">>> \n>>> # Check P0 > goal \n>>> assert get_hash(mySavingsPlan(4000, 0.10, 300)) == 'cfcd208495d565ef66e7dff9f98764da'\n",
         "failure_message": "What if P0 is greater than the goal? Are additional years needed for saving?",
         "hidden": false,
         "locked": false,
         "points": 1
        },
        {
         "code": ">>> \n>>> # Check P0 == goal\n>>> assert get_hash(mySavingsPlan(300, 0.10, 300)) == 'cfcd208495d565ef66e7dff9f98764da'\n",
         "failure_message": "What if P0 is equal to the goal? Are additional years needed for saving?",
         "hidden": false,
         "locked": false,
         "points": 1
        }
       ],
       "scored": true,
       "setup": "",
       "teardown": "",
       "type": "doctest"
      }
     ]
    },
    "q2.0": {
     "name": "q2.0",
     "points": 3,
     "suites": [
      {
       "cases": [
        {
         "code": ">>> \n>>> # Check students tested the function (type is not ellipsis)\n>>> assert get_hash(type(q2_0)) != '14e736438b115821cbb9b7ac0ba79034'\n",
         "failure_message": "Make sure to test your function!",
         "hidden": false,
         "locked": false,
         "points": 0.25
        },
        {
         "code": ">>> \n>>> # Test for valid input without 0\n>>> assert get_hash(Sum(14927421)) == '34173cb38f07f89ddbebc2ac9128303f'\n>>> assert get_hash(Sum(1371)) == 'c20ad4d76fe97759aa27a0c99bff6710'\n>>> assert get_hash(Sum(629)) == '70efdf2ec9b086079795c442636b55fb'\n",
         "hidden": false,
         "locked": false,
         "points": 1.5
        },
        {
         "code": ">>> \n>>> # Test for valid input with 0\n>>> assert get_hash(Sum(104927421)) == '34173cb38f07f89ddbebc2ac9128303f'\n>>> assert get_hash(Sum(13710)) == 'c20ad4d76fe97759aa27a0c99bff6710'\n>>> assert get_hash(Sum(60020090)) == '70efdf2ec9b086079795c442636b55fb'\n",
         "failure_message": "What if n has 0?",
         "hidden": false,
         "locked": false,
         "points": 0.75
        },
        {
         "code": ">>> \n>>> error_message = ['INVALID', 'INPUT']\n>>> # Test for non-integer (use .upper() to avoid failed test due to upper/lower case)\n>>> assert get_hash(all([word in Sum(0.1).upper() for word in error_message])) == 'f827cf462f62848df37c5e1e94a4da74'\n>>> assert get_hash(all([word in Sum(10.1).upper() for word in error_message])) == 'f827cf462f62848df37c5e1e94a4da74'\n>>> assert get_hash(all([word in Sum(10.00000001).upper() for word in error_message])) == 'f827cf462f62848df37c5e1e94a4da74'\n>>> assert get_hash(all([word in Sum(10.9).upper() for word in error_message])) == 'f827cf462f62848df37c5e1e94a4da74'\n>>> assert get_hash(all([word in Sum(10.0).upper() for word in error_message])) == 'f827cf462f62848df37c5e1e94a4da74'\n",
         "failure_message": "What if n is non-integer?",
         "hidden": false,
         "locked": false,
         "points": 0.25
        },
        {
         "code": ">>> \n>>> error_message = ['INVALID', 'INPUT']\n>>> # Test for negative values (use .upper() to avoid failed test due to upper/lower case)\n>>> assert get_hash(all([word in Sum(-1).upper() for word in error_message])) == 'f827cf462f62848df37c5e1e94a4da74'\n>>> assert get_hash(all([word in Sum(-99).upper() for word in error_message])) == 'f827cf462f62848df37c5e1e94a4da74'\n>>> assert get_hash(all([word in Sum(-0.01).upper() for word in error_message])) == 'f827cf462f62848df37c5e1e94a4da74'\n",
         "failure_message": "What if n is negative?",
         "hidden": false,
         "locked": false,
         "points": 0.25
        }
       ],
       "scored": true,
       "setup": "",
       "teardown": "",
       "type": "doctest"
      }
     ]
    },
    "q2.1": {
     "name": "q2.1",
     "points": 2,
     "suites": [
      {
       "cases": [
        {
         "code": ">>> \n>>> # Check students tested the function (type is not ellipsis)\n>>> assert get_hash(type(q2_1)) != '14e736438b115821cbb9b7ac0ba79034'\n",
         "failure_message": "Make sure to test your function!",
         "hidden": false,
         "locked": false,
         "points": 0
        },
        {
         "code": ">>> \n>>> assert callable(lambdaSum) and lambdaSum.__name__ == \"<lambda>\"\n>>> \n>>> # Check if Sum() is being called inside lambdaSum()\n>>> Sum_temp = Sum\n>>> try:\n...     Sum = sum # modify Sum\n...     assert lambdaSum(10) == 1\n... except TypeError:\n...     Sum = Sum_temp\n...     assert 0 == 1\n>>> Sum = Sum_temp\n",
         "failure_message": "Make sure it is a lambda function!",
         "hidden": false,
         "locked": false,
         "points": 1
        },
        {
         "code": ">>> \n>>> # Test for valid input without 0\n>>> assert get_hash(lambdaSum(14927421)) == '34173cb38f07f89ddbebc2ac9128303f'\n>>> assert get_hash(lambdaSum(1371)) == 'c20ad4d76fe97759aa27a0c99bff6710'\n>>> assert get_hash(lambdaSum(629)) == '70efdf2ec9b086079795c442636b55fb'\n>>> assert callable(Sum) and lambdaSum.__name__ == \"<lambda>\"\n",
         "hidden": false,
         "locked": false,
         "points": 0.25
        },
        {
         "code": ">>> \n>>> # Test for valid input with 0\n>>> assert get_hash(lambdaSum(104927421)) == '34173cb38f07f89ddbebc2ac9128303f'\n>>> assert get_hash(lambdaSum(13710)) == 'c20ad4d76fe97759aa27a0c99bff6710'\n>>> assert get_hash(lambdaSum(60020090)) == '70efdf2ec9b086079795c442636b55fb'\n>>> assert callable(Sum) and lambdaSum.__name__ == \"<lambda>\"\n",
         "failure_message": "What if n has 0?",
         "hidden": false,
         "locked": false,
         "points": 0.25
        },
        {
         "code": ">>> \n>>> error_message = ['INVALID', 'INPUT']\n>>> # Test for non-integer (use .upper() to avoid failed test due to upper/lower case)\n>>> assert get_hash(all([word in lambdaSum(0.1).upper() for word in error_message])) == 'f827cf462f62848df37c5e1e94a4da74'\n>>> assert get_hash(all([word in lambdaSum(10.1).upper() for word in error_message])) == 'f827cf462f62848df37c5e1e94a4da74'\n>>> assert get_hash(all([word in lambdaSum(10.00000001).upper() for word in error_message])) == 'f827cf462f62848df37c5e1e94a4da74'\n>>> assert get_hash(all([word in lambdaSum(10.9).upper() for word in error_message])) == 'f827cf462f62848df37c5e1e94a4da74'\n>>> assert get_hash(all([word in lambdaSum(10.0).upper() for word in error_message])) == 'f827cf462f62848df37c5e1e94a4da74'\n>>> assert callable(Sum) and lambdaSum.__name__ == \"<lambda>\"\n",
         "failure_message": "What if n is non-integer?",
         "hidden": false,
         "locked": false,
         "points": 0.25
        },
        {
         "code": ">>> \n>>> error_message = ['INVALID', 'INPUT']\n>>> # Test for negative values (use .upper() to avoid failed test due to upper/lower case)\n>>> assert get_hash(all([word in lambdaSum(-1).upper() for word in error_message])) == 'f827cf462f62848df37c5e1e94a4da74'\n>>> assert get_hash(all([word in lambdaSum(-99).upper() for word in error_message])) == 'f827cf462f62848df37c5e1e94a4da74'\n>>> assert get_hash(all([word in lambdaSum(-0.01).upper() for word in error_message])) == 'f827cf462f62848df37c5e1e94a4da74'\n>>> assert callable(Sum) and lambdaSum.__name__ == \"<lambda>\"\n",
         "failure_message": "What if n is negative?",
         "hidden": false,
         "locked": false,
         "points": 0.25
        }
       ],
       "scored": true,
       "setup": "",
       "teardown": "",
       "type": "doctest"
      }
     ]
    },
    "q2.2": {
     "name": "q2.2",
     "points": 3,
     "suites": [
      {
       "cases": [
        {
         "code": ">>> \n>>> # Check students tested the function (type is not ellipsis)\n>>> assert get_hash(type(q2_2)) != '14e736438b115821cbb9b7ac0ba79034'\n",
         "failure_message": "Make sure to test your function!",
         "hidden": false,
         "locked": false,
         "points": 0.25
        },
        {
         "code": ">>> \n>>> # Test for valid input without 0\n>>> assert get_hash(SumSize(14927421)) == '34173cb38f07f89ddbebc2ac9128303f'\n>>> assert get_hash(SumSize(1371)) == 'c20ad4d76fe97759aa27a0c99bff6710'\n>>> assert get_hash(SumSize(629)) == '70efdf2ec9b086079795c442636b55fb'\n>>> assert get_hash(SumSize(104927421)) == '34173cb38f07f89ddbebc2ac9128303f'\n>>> assert get_hash(SumSize(13710)) == 'c20ad4d76fe97759aa27a0c99bff6710'\n>>> assert get_hash(SumSize(60020090)) == '70efdf2ec9b086079795c442636b55fb'\n",
         "failure_message": "Make sure the default value of size is set to 1",
         "hidden": false,
         "locked": false,
         "points": 0.25
        },
        {
         "code": ">>> \n>>> assert get_hash(SumSize(14927421,2)) == '757b505cfd34c64c85ca5b5690ee5293'\n>>> assert get_hash(SumSize(1371,2)) == '68d30a9594728bc39aa24be94b319d21'\n>>> assert get_hash(SumSize(629,3)) == '051e4e127b92f5d98d3c79b195f2b291'\n>>> assert get_hash(SumSize(10492742,4)) == '690bb330e5e7e3e07867fafc4d32ec82'\n>>> assert get_hash(SumSize(600200900,3)) == '01e00f2f4bfcbb7505cb641066f2859b'\n",
         "failure_message": "Make sure the function works for any value of size",
         "hidden": false,
         "locked": false,
         "points": 2
        },
        {
         "code": ">>> \n>>> error_message = ['NUMBER', 'DIGITS', 'N', 'SHOULD', 'MULTIPLE', 'SIZE']\n>>> assert all([word in SumSize(1,3).upper() for word in error_message])\n>>> assert all([word in SumSize(1,2).upper() for word in error_message])\n>>> assert all([word in SumSize(12345,3).upper() for word in error_message])\n>>> assert all([word in SumSize(15487411,6).upper() for word in error_message])\n",
         "failure_message": "What if the number of digits in n is not a multiple of size?",
         "hidden": false,
         "locked": false,
         "points": 0.5
        }
       ],
       "scored": true,
       "setup": "",
       "teardown": "",
       "type": "doctest"
      }
     ]
    },
    "q3": {
     "name": "q3",
     "points": 3,
     "suites": [
      {
       "cases": [
        {
         "code": ">>> \n>>> # Check students tested the function (type is not ellipsis)\n>>> assert get_hash(type(q3)) != '14e736438b115821cbb9b7ac0ba79034'\n",
         "failure_message": "Make sure to test your function!",
         "hidden": false,
         "locked": false,
         "points": 0.25
        },
        {
         "code": ">>> \n>>> # Check output types and length\n>>> assert get_hash(type(collatz(4))) == '22b3afce62075c7012f8e5041adfee16'\n",
         "failure_message": "Check output format. It should be a tuple.",
         "hidden": false,
         "locked": false,
         "points": 0
        },
        {
         "code": ">>> \n>>> # Check output types and length\n>>> assert get_hash(type(collatz(4)[0])) == '425ed5b515f0a67c6316f0ec499f86bf'\n",
         "failure_message": "Make sure the first returned item is a list.",
         "hidden": false,
         "locked": false,
         "points": 0
        },
        {
         "code": ">>> \n>>> # Check output types and length\n>>> assert get_hash(len(collatz(4))) == 'c81e728d9d4c2f636f067f89cc14862c'\n",
         "failure_message": "Make sure you return both the sequence and the steps.",
         "hidden": false,
         "locked": false,
         "points": 0
        },
        {
         "code": ">>> \n>>> # Check n == 1\n>>> assert get_hash(int(sum(collatz(1)[0]))) == 'c4ca4238a0b923820dcc509a6f75849b'\n>>> assert get_hash(collatz(1)[1]) == 'c4ca4238a0b923820dcc509a6f75849b'\n",
         "failure_message": "What if n is 1?",
         "hidden": false,
         "locked": false,
         "points": 0.25
        },
        {
         "code": ">>> \n>>> # Check general cases\n>>> assert get_hash(int(sum(collatz(17)[0]))) == 'ca46c1b9512a7a8315fa3c5a946e8265'\n>>> assert get_hash(collatz(17)[1]) == 'c51ce410c124a10e0db5e4b97fc2af39'\n>>> assert get_hash(int(sum(collatz(119)[0]))) == 'e951ccd95572a67138f4572c1c7d7ee8'\n>>> assert get_hash(collatz(119)[1]) == 'e369853df766fa44e1ed0ff613f563bd'\n>>> assert get_hash(int(sum(collatz(407)[0]))) == '2af1e9eaa807096a11b32ed26ecc2cbb'\n>>> assert get_hash(int(sum(collatz(791)[0]))) == '3e5c39e6359d13d57826c85e119ed584'\n",
         "failure_message": "Check the sequence and step count.",
         "hidden": false,
         "locked": false,
         "points": 1.75
        },
        {
         "code": ">>> \n>>> error_message = ['INVALID', 'INPUT']\n>>> # Check error message\n>>> assert get_hash(all([word in collatz(-1).upper() for word in error_message])) == 'f827cf462f62848df37c5e1e94a4da74'\n",
         "failure_message": "What if n is negative? Check the formatting of the error message.",
         "hidden": false,
         "locked": false,
         "points": 0.25
        },
        {
         "code": ">>> \n>>> error_message = ['INVALID', 'INPUT']\n>>> # Check error message\n>>> assert get_hash(all([word in collatz(0).upper() for word in error_message])) == 'f827cf462f62848df37c5e1e94a4da74'\n",
         "failure_message": "What if n is zero? Check the formatting of the error message.",
         "hidden": false,
         "locked": false,
         "points": 0.25
        },
        {
         "code": ">>> \n>>> error_message = ['INVALID', 'INPUT']\n>>> # Check error message\n>>> assert get_hash(all([word in collatz(8.1).upper() for word in error_message])) == 'f827cf462f62848df37c5e1e94a4da74'\n>>> assert get_hash(all([word in collatz(0.5).upper() for word in error_message])) == 'f827cf462f62848df37c5e1e94a4da74'\n>>> assert get_hash(all([word in collatz(1.0).upper() for word in error_message])) == 'f827cf462f62848df37c5e1e94a4da74'\n",
         "failure_message": "What if n is non-integer? Check the formatting of the error message.",
         "hidden": false,
         "locked": false,
         "points": 0.25
        }
       ],
       "scored": true,
       "setup": "",
       "teardown": "",
       "type": "doctest"
      }
     ]
    },
    "q4": {
     "name": "q4",
     "points": 4,
     "suites": [
      {
       "cases": [
        {
         "code": ">>> \n>>> # Check students tested the function (type is not ellipsis)\n>>> assert get_hash(type(q4)) != '14e736438b115821cbb9b7ac0ba79034', \"Make sure to test your function!\"\n",
         "failure_message": "Make sure to test your function!",
         "hidden": false,
         "locked": false,
         "points": 0.25
        },
        {
         "code": ">>> \n>>> # Check output structure\n>>> assert get_hash(type(Rainfall([2.3,4.1,-5.4,1.0,7.1]))) == '22b3afce62075c7012f8e5041adfee16'\n",
         "failure_message": "Check output format. It should be a tuple.",
         "hidden": false,
         "locked": false,
         "points": 0
        },
        {
         "code": ">>> \n>>> # Check  length\n>>> assert get_hash(len(Rainfall([2.3,4.1,-5.4,1.0,7.1]))) == 'c81e728d9d4c2f636f067f89cc14862c'\n",
         "failure_message": "Make sure you return both the total and average rainfall.",
         "hidden": false,
         "locked": false,
         "points": 0
        },
        {
         "code": ">>> \n>>> # Check simple case\n>>> assert get_hash(round(Rainfall([2.3,4.1,5.4,1.0,7.1,2,8.0,4.9,6])[0], 3)) == 'a488d325d66dc4190e9637e240990868'\n>>> assert get_hash(round(Rainfall([20, 3, 0, 23, 8, 7, 24, 4, 28, 17])[0], 3)) == '02522a2b2726fb0a03bb19f2d8d9524d'\n",
         "failure_message": "Check rainTot",
         "hidden": false,
         "locked": false,
         "points": 0.75
        },
        {
         "code": ">>> \n>>> # Check simple case\n>>> assert get_hash(round(Rainfall([2.3,4.1,5.4,1.0,7.1,2,8.0,4.9,6])[1], 3)) == '7cc0ede3573439b052e865e1b4213db4'\n>>> assert get_hash(round(Rainfall([20, 3, 0, 23, 8, 7, 24, 4, 28, 17])[1], 3)) == 'dfd78eb85404bb841184ad07c266066f'\n",
         "failure_message": "Check rainAvg",
         "hidden": false,
         "locked": false,
         "points": 0.75
        },
        {
         "code": ">>> \n>>> # Check simple case\n>>> assert get_hash(round(Rainfall([2.3,4.1,5.4,1.0,7.1,2,8.0,0,4.9,6])[0], 3)) == 'a488d325d66dc4190e9637e240990868'\n>>> assert get_hash(round(Rainfall([20, 3, 0, 23, 8, 7, 24, 4, 0, 28, 17])[0], 3)) == '02522a2b2726fb0a03bb19f2d8d9524d'\n",
         "failure_message": "Check rainTot when there is a measurement equal to 0",
         "hidden": false,
         "locked": false,
         "points": 0.25
        },
        {
         "code": ">>> \n>>> # Check simple case\n>>> assert get_hash(round(Rainfall([2.3,4.1,5.4,1.0,7.1,2,8.0,0,4.9,6])[1], 3)) == '6187c0685f2fe6d1b2595c847b124663'\n>>> assert get_hash(round(Rainfall([20, 3, 0, 23, 8, 7, 24, 4, 0, 28, 17])[1], 3)) == 'bfd1ace15fae5dc2325cbda285874522'\n",
         "failure_message": "Check rainTot when there is a measurement equal to 0",
         "hidden": false,
         "locked": false,
         "points": 0.25
        },
        {
         "code": ">>> \n>>> # Check negative numbers\n>>> assert get_hash(round(Rainfall([-2, -0.5, 1, 0, 4])[0],3)) == 'e4da3b7fbbce2345d7772b0674a318d5'\n>>> assert get_hash(round(Rainfall([-2, -0.5, 1, 0, 4])[1],3)) == '2280082248f35fad32c7ead135ab3f99'\n",
         "failure_message": "What if the list contains negative numbers?",
         "hidden": false,
         "locked": false,
         "points": 0.25
        },
        {
         "code": ">>> \n>>> # Check negative numbers\n>>> assert get_hash(round(Rainfall([-13,-19,-3,-15,7,-20,-18,13,9,17,11,0,2,-7,6,15,14])[0], 3)) == 'f4b9ec30ad9f68f89b29639786cb62ef'\n>>> assert get_hash(round(Rainfall([-13,-19,-3,-15,7,-20,-18,13,9,17,11,0,2,-7,6,15,14])[1], 3)) == 'b68de8f1f938e0330acdf64c63b08b9a'\n",
         "failure_message": "What if the list contains negative numbers?",
         "hidden": false,
         "locked": false,
         "points": 0.5
        },
        {
         "code": ">>> \n>>> # Check cases with early stop\n>>> assert get_hash(round(Rainfall([2,1.3,-99,33,0.99,-999])[0], 3)) == '652126365f55aa7ccf24e90ed647c3a3'\n>>> assert get_hash(round(Rainfall([2,1.3,-99,-999,33,0.99,1])[0], 3)) == 'bca66716b9ca2d13a4c28be69b276777'\n>>> assert get_hash(round(Rainfall([0, -999,1.3,-99,33,0.99,-999])[0], 3)) == 'cfcd208495d565ef66e7dff9f98764da'\n>>> assert get_hash(round(Rainfall([2,1.3,-99,33,0.99,-999])[1], 3)) == '5cf35d410e296c02b09670b03e3d38c5'\n>>> assert get_hash(round(Rainfall([2,1.3,-99,-999,33,0.99,1])[1], 3)) == '448258b68b4ebf3a6590c75fca600c29'\n>>> assert get_hash(round(Rainfall([0, -999,1.3,-99,33,0.99,-999])[1], 3)) == '30565a8911a6bb487e3745c0ea3c8224'\n",
         "failure_message": "What if the list contains -999?",
         "hidden": false,
         "locked": false,
         "points": 1
        }
       ],
       "scored": true,
       "setup": "",
       "teardown": "",
       "type": "doctest"
      }
     ]
    },
    "q5": {
     "name": "q5",
     "points": 3,
     "suites": [
      {
       "cases": [
        {
         "code": ">>> \n>>> # Check students tested the function (type is not ellipsis)\n>>> assert get_hash(type(q5)) != '14e736438b115821cbb9b7ac0ba79034'\n",
         "failure_message": "Make sure to test your function!",
         "hidden": false,
         "locked": false,
         "points": 0.25
        },
        {
         "code": ">>> \n>>> import inspect\n>>> assert any([True if GenRec.__name__ in line and '(' in line else False for line in inspect.getsourcelines(GenRec)[0][1:]])\n>>> assert all([False if 'for' in line else True for line in inspect.getsourcelines(GenRec)[0][1:]])\n>>> assert all([False if 'while' in line else True for line in inspect.getsourcelines(GenRec)[0][1:]])\n",
         "failure_message": "Your function should use recursion! for and while keywords are not allowed in the function (not even in comments)",
         "hidden": false,
         "locked": false,
         "points": 0
        },
        {
         "code": ">>> \n>>> import inspect\n>>> assert any([True if GenRec.__name__ in line and '(' in line else False for line in inspect.getsourcelines(GenRec)[0][1:]])\n>>> assert all([False if 'for' in line else True for line in inspect.getsourcelines(GenRec)[0][1:]])\n>>> assert all([False if 'while' in line else True for line in inspect.getsourcelines(GenRec)[0][1:]])\n>>> \n>>> # Test base-cases\n>>> assert get_hash(GenRec(2, 4, 0, 2, 0)) == 'cfcd208495d565ef66e7dff9f98764da'\n>>> assert get_hash(GenRec(2, 4, 1, 2, 0)) == 'c4ca4238a0b923820dcc509a6f75849b'\n>>> assert get_hash(GenRec(4, 2, 2, 1, 0)) == 'c81e728d9d4c2f636f067f89cc14862c'\n",
         "failure_message": "Check the base case for n=0",
         "hidden": false,
         "locked": false,
         "points": 0.5
        },
        {
         "code": ">>> \n>>> import inspect\n>>> assert any([True if GenRec.__name__ in line and '(' in line else False for line in inspect.getsourcelines(GenRec)[0][1:]])\n>>> assert all([False if 'for' in line else True for line in inspect.getsourcelines(GenRec)[0][1:]])\n>>> assert all([False if 'while' in line else True for line in inspect.getsourcelines(GenRec)[0][1:]])\n>>> \n>>> # Test base-cases\n>>> assert get_hash(GenRec(4, 3, 0, 2, 1)) == 'c81e728d9d4c2f636f067f89cc14862c'\n>>> assert get_hash(GenRec(5, 1, 1, 3, 1)) == 'eccbc87e4b5ce2fe28308fd9f2a7baf3'\n>>> assert get_hash(GenRec(0, 1, 2, 1, 1)) == 'c4ca4238a0b923820dcc509a6f75849b'\n",
         "failure_message": "Check the base case for n=1",
         "hidden": false,
         "locked": false,
         "points": 0.5
        },
        {
         "code": ">>> \n>>> import inspect\n>>> assert any([True if GenRec.__name__ in line and '(' in line else False for line in inspect.getsourcelines(GenRec)[0][1:]])\n>>> assert all([False if 'for' in line else True for line in inspect.getsourcelines(GenRec)[0][1:]])\n>>> assert all([False if 'while' in line else True for line in inspect.getsourcelines(GenRec)[0][1:]])\n>>> \n>>> # Test for valid input n > 2\n>>> assert get_hash(GenRec(4, 3, 0, 2, 5)) == 'f0adc8838f4bdedde4ec2cfad0515589'\n>>> assert get_hash(GenRec(4, 3, 1, 2, 5)) == '818f4654ed39a1c147d1e51a00ffb4cb'\n>>> assert get_hash(GenRec(1, 2, 0, 0, 5)) == 'cfcd208495d565ef66e7dff9f98764da'\n>>> assert get_hash(GenRec(0, 0, 1, 5, 10)) == 'cfcd208495d565ef66e7dff9f98764da'\n>>> assert get_hash(GenRec(1, 1, 1, 5, 10)) == 'eddea82ad2755b24c4e168c5fc2ebd40'\n>>> assert get_hash(GenRec(1, 2, 1, 5, 25)) == '6938db3189d0daee0bd06d4d54429da4'\n",
         "failure_message": "Check the general case",
         "hidden": false,
         "locked": false,
         "points": 1.75
        }
       ],
       "scored": true,
       "setup": "",
       "teardown": "",
       "type": "doctest"
      }
     ]
    },
    "q6.0": {
     "name": "q6.0",
     "points": 0.5,
     "suites": [
      {
       "cases": [
        {
         "code": ">>> \n>>> assert get_hash(type(round(q6a))) == '2203e3c2293eb8c9bda5bcd97acbf884'\n",
         "failure_message": "Your answer should be numeric.",
         "hidden": false,
         "locked": false,
         "points": 0
        },
        {
         "code": ">>> assert get_hash(round(q6a)) == 'cfcd208495d565ef66e7dff9f98764da'\n",
         "hidden": false,
         "locked": false
        }
       ],
       "scored": true,
       "setup": "",
       "teardown": "",
       "type": "doctest"
      }
     ]
    },
    "q6.1": {
     "name": "q6.1",
     "points": 0.5,
     "suites": [
      {
       "cases": [
        {
         "code": ">>> \n>>> assert len(q6b) == 1\n>>> assert isinstance(q6b, str)\n",
         "failure_message": "Incorrect answer format. Make sure you only have the letter of your answer choice in quotes.",
         "hidden": false,
         "locked": false,
         "points": 0,
         "success_message": "Correct answer format. Note that the actual test is hidden."
        }
       ],
       "scored": true,
       "setup": "",
       "teardown": "",
       "type": "doctest"
      }
     ]
    },
    "q6.2": {
     "name": "q6.2",
     "points": 0.5,
     "suites": [
      {
       "cases": [
        {
         "code": ">>> \n>>> assert len(q6c) == 1\n>>> assert isinstance(q6c, str)\n",
         "failure_message": "Incorrect answer format. Make sure you only have the letter of your answer choice in quotes.",
         "hidden": false,
         "locked": false,
         "points": 0,
         "success_message": "Correct answer format. Note that the actual test is hidden."
        }
       ],
       "scored": true,
       "setup": "",
       "teardown": "",
       "type": "doctest"
      }
     ]
    },
    "q6.3": {
     "name": "q6.3",
     "points": 0.5,
     "suites": [
      {
       "cases": [
        {
         "code": ">>> \n>>> assert len(q6d) == 1\n>>> assert isinstance(q6d, str)\n",
         "failure_message": "Incorrect answer format. Make sure you only have the letter of your answer choice in quotes.",
         "hidden": false,
         "locked": false,
         "points": 0,
         "success_message": "Correct answer format. Note that the actual test is hidden."
        }
       ],
       "scored": true,
       "setup": "",
       "teardown": "",
       "type": "doctest"
      }
     ]
    },
    "q6.4": {
     "name": "q6.4",
     "points": 1,
     "suites": [
      {
       "cases": [
        {
         "code": ">>> \n>>> # Test base-cases\n>>> assert get_hash(kbonacci(0,2)) == 'cfcd208495d565ef66e7dff9f98764da'\n>>> assert get_hash(kbonacci(0,3)) == 'cfcd208495d565ef66e7dff9f98764da'\n>>> assert get_hash(kbonacci(1,4)) == 'cfcd208495d565ef66e7dff9f98764da'\n>>> assert get_hash(kbonacci(2,5)) == 'cfcd208495d565ef66e7dff9f98764da'\n>>> assert get_hash(kbonacci(3,5)) == 'cfcd208495d565ef66e7dff9f98764da'\n",
         "failure_message": "Check the base case",
         "hidden": false,
         "locked": false,
         "points": 0.25
        },
        {
         "code": ">>> \n>>> # Test base-cases\n>>> assert get_hash(kbonacci(1,2)) == 'c4ca4238a0b923820dcc509a6f75849b'\n>>> assert get_hash(kbonacci(2,3)) == 'c4ca4238a0b923820dcc509a6f75849b'\n>>> assert get_hash(kbonacci(3,4)) == 'c4ca4238a0b923820dcc509a6f75849b'\n>>> assert get_hash(kbonacci(4,5)) == 'c4ca4238a0b923820dcc509a6f75849b'\n",
         "failure_message": "Check the base case",
         "hidden": false,
         "locked": false,
         "points": 0.25
        },
        {
         "code": ">>> \n>>> assert get_hash(kbonacci(5,2)) == 'e4da3b7fbbce2345d7772b0674a318d5'\n>>> assert get_hash(kbonacci(10,2)) == 'b53b3a3d6ab90ce0268229151c9bde11'\n>>> assert get_hash(kbonacci(10,3)) == '43ec517d68b6edd3015b3edc9a11367b'\n>>> assert get_hash(kbonacci(10,4)) == '9f61408e3afb633e50cdf1b20de6f466'\n>>> assert get_hash(kbonacci(5,3)) == 'a87ff679a2f3e71d9181a67b7542122c'\n>>> assert get_hash(kbonacci(4,4)) == 'c4ca4238a0b923820dcc509a6f75849b'\n>>> assert get_hash(kbonacci(15,5)) == '2a9d121cd9c3a1832bb6d2cc6bd7a8a7'\n>>> assert get_hash(kbonacci(14,6)) == '621bf66ddb7c962aa0d22ac97d69b793'\n",
         "failure_message": "Check the general case",
         "hidden": false,
         "locked": false,
         "points": 0.5
        }
       ],
       "scored": true,
       "setup": "",
       "teardown": "",
       "type": "doctest"
      }
     ]
    },
    "q7": {
     "name": "q7",
     "points": 0,
     "suites": [
      {
       "cases": [
        {
         "code": ">>> \n>>> # Check students tested the function (type is not ellipsis)\n>>> assert get_hash(type(q7)) != '14e736438b115821cbb9b7ac0ba79034', \"Make sure to test your function!\"\n",
         "failure_message": "Make sure to test your function!",
         "hidden": false,
         "locked": false
        },
        {
         "code": ">>> # Check examples\n>>> assert get_hash(remove_vowels('Welcome to E7!')) == 'c796d49406d6eaceb4b8f0a60046d990'\n>>> assert get_hash(remove_vowels('Hello World!')) == '21342b09fe42a27da8720d77704ccd73'\n>>> assert get_hash(remove_vowels('No vowels here! Python is fun!')) == '68a087a3a7b8ff6d94aa9226b6d0f5a3'\n>>> assert get_hash(remove_vowels('The quick brown fox jumps over the lazy dog.')) == 'f80f4502beacd9a425caef43761e9047'\n",
         "hidden": false,
         "locked": false
        },
        {
         "code": ">>> # Check new strings\n>>> assert get_hash(remove_vowels('AEIOUaeiou')) == 'd41d8cd98f00b204e9800998ecf8427e'\n>>> assert get_hash(remove_vowels('AEIOUaeiou! The end.')) == '9033e0e305f247c0c3c80d0c7848c8b3'\n>>> assert get_hash(remove_vowels('Programming is fun!!!')) == '6f721ade8c0b0f296b46a4990f94a1f6'\n>>> assert get_hash(remove_vowels('One two three four five')) == 'fbd35e565eb9e36330960a16c429b7d2'\n",
         "hidden": false,
         "locked": false
        }
       ],
       "scored": true,
       "setup": "",
       "teardown": "",
       "type": "doctest"
      }
     ]
    },
    "q8": {
     "name": "q8",
     "points": 0,
     "suites": [
      {
       "cases": [
        {
         "code": ">>> \n>>> # Check students tested the function (type is not ellipsis)\n>>> assert get_hash(type(q8)) != '14e736438b115821cbb9b7ac0ba79034', \"Make sure to test your function!\"\n",
         "failure_message": "Make sure to test your function!",
         "hidden": false,
         "locked": false
        },
        {
         "code": ">>> \n>>> # Check data structure\n>>> assert get_hash(type(mySummation([1, 1, 5, 6, 7, 8, 10],10))) == '30b39aca73d0815f5ca1a06af1412947'\n>>> assert get_hash(mySummation([1, 1, 5, 6, 7, 8, 10],10).shape) == '0f6c6ad8083308c6c59c917667b3fa2f'\n",
         "failure_message": "Check output type.",
         "hidden": false,
         "locked": false
        },
        {
         "code": ">>> \n>>> # Check data structure\n>>> assert get_hash(type(mySummation([1, 1, 5, 6, 7, 8, 10],10))) == '30b39aca73d0815f5ca1a06af1412947'\n>>> assert get_hash(mySummation([1, 1, 5, 6, 7, 8, 10],10).shape) == '0f6c6ad8083308c6c59c917667b3fa2f'\n",
         "failure_message": "Check output shape.",
         "hidden": false,
         "locked": false
        },
        {
         "code": ">>> \n>>> # Check empty cases\n>>> assert get_hash(mySummation([0, 1, 1, 2, 3, 4],10)) == 'd751713988987e9331980363e24189ce'\n>>> assert get_hash(mySummation([10,20,30,40,50],200)) == 'd751713988987e9331980363e24189ce'\n",
         "failure_message": "What if no three elements add up to sumTarget?",
         "hidden": false,
         "locked": false
        },
        {
         "code": ">>> \n>>> assert get_hash(mySummation([10,0,1,2],21)) == 'd751713988987e9331980363e24189ce'\n",
         "failure_message": "Make sure to not select an element more than once.",
         "hidden": false,
         "locked": false
        },
        {
         "code": ">>> \n>>> # Check simple case\n>>> assert get_hash(mySummation([2,3,4,5,6],12).shape) == '590392f0cb88f1eb89930f4de5e9eaaa'\n>>> assert get_hash(int(sum(mySummation([2,3,4,5,6],12)[:,2]))) == '6512bd43d9caa6e02c990b0a82652dca'\n",
         "failure_message": "Make sure your rows are sorted.",
         "hidden": false,
         "locked": false
        },
        {
         "code": ">>> \n>>> # Check case with multiple occurence\n>>> assert get_hash(int(sum(mySummation([0, 0, 2, 4, 6, 8, 14],14)[:,2]))) == '34173cb38f07f89ddbebc2ac9128303f'\n>>> assert get_hash(int(sum(mySummation([1,5,6,5,1],12)[:,2])))\n",
         "failure_message": "Make sure all rows are unique.",
         "hidden": false,
         "locked": false
        },
        {
         "code": ">>> \n>>> # Check random case \n>>> arr = [3, -4, 2, -2, -7, -10, 4, 5, 8, 6, 7, -6]\n>>> assert get_hash(int(sum(mySummation(arr,10)[:,2]))) == '33e75ff09dd601bbe69f351039152189'\n>>> arr = [9, 4, 5, -4, 2, -6, 7, -9, 8, -7, 1, -2]\n>>> assert get_hash(int(sum(mySummation(arr,10)[:,2]))) == 'a684eceee76fc522773286a895bc8436'\n",
         "failure_message": "Make sure all rows are unique.",
         "hidden": false,
         "locked": false
        }
       ],
       "scored": true,
       "setup": "",
       "teardown": "",
       "type": "doctest"
      }
     ]
    }
   }
  }
 },
 "nbformat": 4,
 "nbformat_minor": 4
}
