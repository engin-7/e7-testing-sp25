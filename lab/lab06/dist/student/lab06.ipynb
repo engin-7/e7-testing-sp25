{
 "cells": [
  {
   "cell_type": "code",
   "execution_count": null,
   "metadata": {
    "deletable": false,
    "editable": false
   },
   "outputs": [],
   "source": [
    "# Initialize Otter\n",
    "import otter\n",
    "grader = otter.Notebook(\"lab06.ipynb\")"
   ]
  },
  {
   "cell_type": "markdown",
   "metadata": {},
   "source": [
    "# E7: Lab Assignment 06 - File Operations & Plotting\n",
    "\n",
    "You must submit the lab to Gradescope by the due date. You will submit the zip file produced by running the final cell of the assignment.\n",
    "\n",
    "\n",
    "## Instructions\n",
    "\n",
    "**Run the first cell, Initialize Otter**, to import the autograder and submission exporter.\n",
    "\n",
    "Throughout the assignment, replace `...` with your answers. We use `...` as a placeholder and these should be deleted and replaced with your answers.\n",
    "\n",
    "Any part listed as a \"<font color='red'>**Question**</font>\" should be answered to receive credit.\n",
    "\n",
    "**Please save your work after every question!**\n",
    "\n",
    "To read the documentation on a Python function, you can type `help()` and add the function name between parentheses.\n",
    "\n",
    "## Score Breakdown\n",
    "Question   | Points\n",
    ":---       | --:\n",
    "1.0 – 1.3  | 5\n",
    "2.0 – 2.2  | 5\n",
    "3.0 – 3.4  | 8\n",
    "4.0 – 4.5  | 7\n",
    "5.0 – 5.2  | 0\n",
    "Total      | 25\n",
    "\n",
    "**Run the cell below**, to import the required modules."
   ]
  },
  {
   "cell_type": "code",
   "execution_count": null,
   "metadata": {},
   "outputs": [],
   "source": [
    "# Please run this cell, and do not modify the contents\n",
    "!pip install -q cartopy\n",
    "import math\n",
    "import numpy as np\n",
    "import matplotlib.pyplot as plt\n",
    "import cartopy.crs as ccrs\n",
    "np.seterr(all='ignore');\n",
    "\n",
    "import hashlib\n",
    "def get_hash(num):\n",
    "    \"\"\"Helper function for assessing correctness\"\"\"\n",
    "    return hashlib.md5(str(num).encode()).hexdigest()"
   ]
  },
  {
   "cell_type": "markdown",
   "metadata": {},
   "source": [
    "<div class=\"alert alert-block alert-danger\"> <b>NOTE!</b> Nearly EVERYTHING needed for the lab can be found in the lab slides (available on bCourses) and the problem descriptions.</div>\n",
    "\n",
    "**Before posting questions on Ed or asking for help:**\n",
    "* <font color='red'>**Carefully read the problem statements and ensure you are following all instructions (titles, fonts, colors, etc.)**</font>\n",
    "* <font color='red'>**Click on hyperlinks and read online documentations for different functions**</font>\n",
    "* <font color='red'>**Refer to the lab slides**</font>\n",
    "* <font color='red'>**Review the lecture notebook**</font>"
   ]
  },
  {
   "cell_type": "markdown",
   "metadata": {
    "deletable": false,
    "editable": false
   },
   "source": [
    "## Question 1: Heated Copper Bar\n",
    "\n",
    "In this problem you will examine the heat distribution in a one-dimensional copper bar over time. The bar initially has some non-uniform temperature across its length, $u(x,t=0)$. As time passes the heat diffuses into the colder region and the temperature stabilizes. We will investigate the temperature of the rod at different positions $x$ and at different times $t$.\n",
    "\n",
    "Let $u(x,t)$ be the temperature at different positions $x$ along the bar as time $t$ progresses. The copper bar shown in Figure 1 has a fixed length $\\ell$ and some known initial temperature distribution $u(x,t=0) = f(x)$. The two ends are maintained at a constant temperature of 0&deg;C.\n",
    "\n",
    "<center><img src='resources/rod.png' width=55%/>\n",
    " <figcaption style=\"text-align:center\"><strong> Figure 1.  1D bar with homogeneous boundary conditions,</strong> <a href=\"https://en.wikipedia.org/wiki/Heat_equation#/media/File:Temp_Rod_homobc.svg\">Wikipedia</a></figcaption></center>  \n",
    "\n",
    "The bar has a length $\\ell = 100\\,\\mathrm{cm}$.\n",
    "\n",
    "Assume the initial temperature distribution at $t=0$ is\n",
    "$$ u(x,t=0) = f(x) = 100 \\sin\\left(\\frac{3\\pi x}{\\ell}\\right),  \\hspace{1cm} (1)$$\n",
    "where $x$ is the horizontal coordinate along the bar. \n",
    "\n",
    "### Question 1.0\n",
    "\n",
    "Assign the bar length to the variable `length` and define a lambda function `u0(x)` which takes in:\n",
    "* `x`: `float` or `np.ndarray`\n",
    "     * coordinates along the bar, $x \\in [0,\\ell]$\n",
    "\n",
    "and returns the initial temperature distribution shown in Eq.(1) at each point in `x` for this particular problem. **Your function should accept array inputs for `x`.**\n",
    "\n",
    "Once you are done, test your `u0` function for `x = np.linspace(0,length)` and assign it to the variable `q1_0`. Feel free to test other inputs."
   ]
  },
  {
   "cell_type": "code",
   "execution_count": null,
   "metadata": {
    "tags": [
     "otter_answer_cell"
    ]
   },
   "outputs": [],
   "source": [
    "# ANSWER CELL\n",
    "\n",
    "# Bar length, cm\n",
    "length = ...\n",
    "\n",
    "# Initial temperature distribution function u(x, 0)\n",
    "u0 = ..."
   ]
  },
  {
   "cell_type": "code",
   "execution_count": null,
   "metadata": {
    "tags": [
     "otter_answer_cell"
    ]
   },
   "outputs": [],
   "source": [
    "# TEST YOUR FUNCTION HERE\n",
    "q1_0 = ...\n",
    "\n",
    "print(f'Initial temperature u(x, 0): \\n {q1_0}')"
   ]
  },
  {
   "cell_type": "code",
   "execution_count": null,
   "metadata": {
    "deletable": false,
    "editable": false
   },
   "outputs": [],
   "source": [
    "grader.check(\"q1.0\")"
   ]
  },
  {
   "cell_type": "markdown",
   "metadata": {
    "deletable": false,
    "editable": false
   },
   "source": [
    "The bar has the following physical properties:\n",
    "* constant mass density $\\rho = 8.92 \\,\\mathrm{g/cm^3}$\n",
    "* specific heat capacity $c  = 0.092 \\,\\mathrm{cal/( g\\,^\\circ C)}$\n",
    "* thermal conductivity $k = 0.95 \\, \\mathrm{cal/(cm\\,s\\,^{\\circ}C})$\n",
    "\n",
    "The thermal diffusivity $\\alpha$, which is a measure of the rate of heat transfer inside the rod, is related to these physical properties through the equation $$\\alpha = \\dfrac{k}{c \\rho}$$\n",
    "\n",
    "The temperature distribution $u(x,t)$ at point $x$ and any time $t$ under these conditions is then  a function of the initial temperature, $u(x,t=0)$, and $\\lambda$\n",
    "\n",
    "$$ u(x,t) =  \\exp\\left(-\\lambda^2 t\\right)u(x,t=0),  \\hspace{1cm} (2)$$\n",
    "where\n",
    "$$\\lambda^2 = \\alpha\\left(\\dfrac{3\\pi}{\\ell}\\right)^2$$\n",
    "\n",
    "\n",
    "### Question 1.1\n",
    "\n",
    "Assign the bar density, specific heat and thermal conductivity to the variables `rho`,`c` and `k`, respectively. Similarly, assign $\\alpha$ to `alpha` and $\\lambda^2$ to `lam_sq` using the definitions in the problem statement. Lastly, define a lambda function `u(x,t)` which takes in:\n",
    "* `x`: `float` or `np.ndarray` \n",
    "    * coordinates along the bar, $x \\in [0,\\ell]$ \n",
    "* `t`:  `float` \n",
    "    * time,  $ t > 0$ \n",
    "    \n",
    "and returns the temperature distribution at time `t` shown in Eq.(2) at each point in `x` for this particular problem. **Your function should accept array inputs for `x`.**\n",
    "\n",
    "Test your `u(x,t)` function for `x = np.linspace(0,length)` and `t = 10` and assign it to the variable `q1_1`. Feel free to test other inputs."
   ]
  },
  {
   "cell_type": "code",
   "execution_count": null,
   "metadata": {
    "tags": [
     "otter_answer_cell"
    ]
   },
   "outputs": [],
   "source": [
    "# ANSWER CELL\n",
    "\n",
    "# Density, g/cm3\n",
    "rho = ...\n",
    "\n",
    "# Specific heat, cal/g/deg C\n",
    "c = ...\n",
    "\n",
    "# Thermal conductivity, cal/cm/s/deg C\n",
    "k = ...\n",
    "\n",
    "# Thermal diffusivity\n",
    "alpha = ...\n",
    "\n",
    "# Lambda squared\n",
    "lam_sq = ...\n",
    "\n",
    "# Temperature distribution function  u(x,t)\n",
    "u = ..."
   ]
  },
  {
   "cell_type": "code",
   "execution_count": null,
   "metadata": {
    "tags": [
     "otter_answer_cell"
    ]
   },
   "outputs": [],
   "source": [
    "# TEST YOUR FUNCTION HERE\n",
    "q1_1 = ...\n",
    "\n",
    "print(f'Temperature u(x, t): \\n {q1_1}')"
   ]
  },
  {
   "cell_type": "code",
   "execution_count": null,
   "metadata": {
    "deletable": false,
    "editable": false
   },
   "outputs": [],
   "source": [
    "grader.check(\"q1.1\")"
   ]
  },
  {
   "cell_type": "markdown",
   "metadata": {
    "deletable": false,
    "editable": false
   },
   "source": [
    "### Question 1.2\n",
    "\n",
    "The next step is to compute the temperature on a discrete one-dimensional grid of coordinates $x$ at different times $t$. Using your `u(x,t)` function, define the following arrays:\n",
    "*  `x` :  grid of 1000 equally spaced points in the range $[0,\\ell]$ \n",
    "* `u_t0` : temperature $u(x,t)$ on the grid `x` at time $t = 0\\,\\mathrm{s}$  \n",
    "* `u_t50` : temperature $u(x,t)$ on the grid `x` at time $t = 50\\,\\mathrm{s}$  \n",
    "* `u_t150` :  temperature $u(x,t)$ on the grid `x` at time $t = 150\\,\\mathrm{s}$"
   ]
  },
  {
   "cell_type": "code",
   "execution_count": null,
   "metadata": {
    "tags": [
     "otter_answer_cell"
    ]
   },
   "outputs": [],
   "source": [
    "# Define x grid \n",
    "x = ...\n",
    "\n",
    "# u(x,t) at t = 0s\n",
    "u_t0 = ...\n",
    "\n",
    "# u(x,t) at t = 50s\n",
    "u_t50 = ...\n",
    "\n",
    "# u(x,t) at t = 150s\n",
    "u_t150 = ..."
   ]
  },
  {
   "cell_type": "code",
   "execution_count": null,
   "metadata": {
    "deletable": false,
    "editable": false
   },
   "outputs": [],
   "source": [
    "# Do not modify this cell for grading purposes\n",
    "x_q1 = np.copy(x)"
   ]
  },
  {
   "cell_type": "code",
   "execution_count": null,
   "metadata": {
    "deletable": false,
    "editable": false
   },
   "outputs": [],
   "source": [
    "grader.check(\"q1.2\")"
   ]
  },
  {
   "cell_type": "markdown",
   "metadata": {
    "deletable": false,
    "editable": false
   },
   "source": [
    "### Question 1.3\n",
    "\n",
    "We are now ready to plot the temperature distributions. Create a `matplotlib.pyplot` figure stored in `fig_1` and perform the following tasks on the same figure:\n",
    "* Plot `u_t0` vs. `x` with a blue (`b`) solid (`-`) line . \n",
    "* Plot `u_t50` vs. `x` with a red (`r`) dashed (`--`) line. \n",
    "* Plot `u_t150` vs. `x` with a green (`g`) dash-dotted (`-.`) line. \n",
    "* Set the figure title to  \"Temperature distribution along copper bar\" with font size 16.\n",
    "* Set the x-axis label to \"x, cm\" with font size 14.\n",
    "* Set the y-axis label to \"Temperature, degrees Celsius\" with font size 14\n",
    "* Set the x-axis limits to (0,100).\n",
    "* Set the y-axis limits to (-120,120).\n",
    "* Add a legend to the figure. The labels for the three line plots should respectively be \"t = 0s\", \"t = 50s\" and \"t = 150s\".\n",
    "* Add grid lines to the figure.\n",
    "\n",
    "When you are finished, your figure should look like Figure 2. Feel free to experiment with plotting options that have not been explicitly specified. \n",
    "\n",
    "It should be evident that as time passes the heat diffuses into the colder region and the temperature stabilizes.\n",
    "\n",
    "<center><img src='resources/q1.png' width = 60%/>\n",
    "<figcaption style=\"text-align:center\"><strong> Figure 2. Question 1 plot.</strong></figcaption></center>   "
   ]
  },
  {
   "cell_type": "code",
   "execution_count": null,
   "metadata": {
    "tags": [
     "otter_answer_cell"
    ]
   },
   "outputs": [],
   "source": [
    "# ANSWER CELL\n",
    "\n",
    "# Do not modify this line for grading purposes\n",
    "import matplotlib.pyplot as plt\n",
    "\n",
    "# Create figure \n",
    "fig_1 = ...\n",
    "\n",
    "# Plot u(x,t) vs. x for different t values\n",
    "...\n",
    "...\n",
    "...\n",
    "\n",
    "# Set figure title\n",
    "...\n",
    "\n",
    "# Set axes labels\n",
    "...\n",
    "...\n",
    "\n",
    "# Set axis limits\n",
    "...\n",
    "...\n",
    "\n",
    "# Add legend\n",
    "...\n",
    "\n",
    "# Add gridlines\n",
    "...\n",
    "\n",
    "plt.show()"
   ]
  },
  {
   "cell_type": "code",
   "execution_count": null,
   "metadata": {
    "deletable": false,
    "editable": false
   },
   "outputs": [],
   "source": [
    "grader.check(\"q1.3\")"
   ]
  },
  {
   "cell_type": "markdown",
   "metadata": {
    "deletable": false,
    "editable": false
   },
   "source": [
    "## Question 2: Earthquakes\n",
    "\n",
    "In this problem you will analyze and visualize earthquake data for the continental United States in 2022.\n",
    "\n",
    "### Question 2.0\n",
    "\n",
    "The `resources/earthquakes_2022.csv` file contains records of earthquakes with magnitude 3.5 and above in the continental United States during 2022. The data file has 229 rows, each representing a different earthquake event, with the following data in 3 columns :\n",
    "\n",
    "1. decimal degrees latitude\n",
    "2. decimal degrees longitude\n",
    "3. the magnitude of the event\n",
    "\n",
    "The columns are ordered as listed above. Read the data file using [`np.loadtxt`](https://numpy.org/doc/stable/reference/generated/numpy.loadtxt.html) and assign the array to the variable `eq_data`. Make sure to specify the `delimiter` argument which is the character used to separate the values in the file. Recall that CSV stands for \"comma-separated values\"."
   ]
  },
  {
   "cell_type": "code",
   "execution_count": null,
   "metadata": {
    "tags": [
     "otter_answer_cell"
    ]
   },
   "outputs": [],
   "source": [
    "# ANSWER CELL\n",
    "\n",
    "# Read data\n",
    "eq_data = ...\n",
    "\n",
    "# Display part of the data\n",
    "print(f'   Latitude     Longitude      Magnitude \\n {eq_data[:8,:]} \\n ...')"
   ]
  },
  {
   "cell_type": "code",
   "execution_count": null,
   "metadata": {
    "deletable": false,
    "editable": false
   },
   "outputs": [],
   "source": [
    "grader.check(\"q2.0\")"
   ]
  },
  {
   "cell_type": "markdown",
   "metadata": {
    "deletable": false,
    "editable": false
   },
   "source": [
    "### Question 2.1\n",
    "\n",
    "Create a `matplotlib.pyplot` figure stored in `fig_2` and perform the following tasks on the same figure:\n",
    "* Create a histogram using [`plt.hist`](https://matplotlib.org/stable/api/_as_gen/matplotlib.pyplot.hist.html) with 5 bins in the range (3,8) and assign the output to the variables `values, bins, bars`. Set the bin edge color to black (`k`).\n",
    "* Set the title to \"Continental US earthquakes in 2022\".\n",
    "* Set the x-axis label to \"Magnitude\".\n",
    "* Set the y-axis label to \"Frequency\".\n",
    "* Label the histogram bars with the count in each bin (*Hint:* Refer to the documentation of [`plt.bar_label`](https://stackoverflow.com/questions/70416097/adding-data-labels-ontop-of-my-histogram-python-matplotlib)).\n",
    " \n",
    "When you are finished, your figure should look like Figure 3. Feel free to experiment with plotting options that have not been explicitly specified.\n",
    "\n",
    "<center><img src=\"resources/q2_1.png\" width = 40%/>\n",
    "\n",
    "<figcaption style=\"text-align:center\"><strong>Figure 3. Question 2.1 plot.</strong></figcaption></center>  "
   ]
  },
  {
   "cell_type": "code",
   "execution_count": null,
   "metadata": {
    "tags": [
     "otter_answer_cell"
    ]
   },
   "outputs": [],
   "source": [
    "# ANSWER CELL\n",
    "\n",
    "# Do not modify these lines for grading purposes\n",
    "import matplotlib.pyplot as plt\n",
    "\n",
    "# Create figure\n",
    "fig_2 = ...\n",
    "\n",
    "# Plot histogram. Assign the plot to the variables values, bins, bars\n",
    "values, bins, bars = ...\n",
    " \n",
    "# Set title and labels\n",
    "...\n",
    "...\n",
    "...\n",
    "\n",
    "# Add bar labels\n",
    "...\n",
    "\n",
    "plt.show()"
   ]
  },
  {
   "cell_type": "code",
   "execution_count": null,
   "metadata": {
    "deletable": false,
    "editable": false
   },
   "outputs": [],
   "source": [
    "grader.check(\"q2.1\")"
   ]
  },
  {
   "cell_type": "markdown",
   "metadata": {
    "deletable": false,
    "editable": false
   },
   "source": [
    "### Question 2.2\n",
    "\n",
    "Now, we'll plot the earthquake data overlaid on a map of the state of California and the surrounding area with the help of the `cartopy` module (refer to [Chapter 12.3](https://pythonnumericalmethods.berkeley.edu/notebooks/chapter12.03-Working-with-Maps.html) of the course textbook).\n",
    "\n",
    "After you've familiarized yourself with `cartopy`, create a `matplotlib.pyplot` figure stored in `fig_3` and perform the following tasks on the same figure:\n",
    "* Create figure axes using the Plate Carrée projection (refer to [Chapter 12.3](https://pythonnumericalmethods.berkeley.edu/notebooks/chapter12.03-Working-with-Maps.html) of the course textbook)\n",
    "* Add coastlines on the axes (refer to [Chapter 12.3](https://pythonnumericalmethods.berkeley.edu/notebooks/chapter12.03-Working-with-Maps.html) of the course textbook)\n",
    "* Create a scatter plot of the earthquake location and assign it to the variable `eq_scatter`\n",
    "    * Use the magnitude data for the color mapping and set the transparency (`alpha`) of the markers to 0.5\n",
    "    * Use the magnitude data to the fourth power (`**4`) for the marker size mapping\n",
    "* Add a colorbar to the figure and assign it to the variable `cbar_eq`\n",
    "    * Set the scale (`shrink`) factor to an appropriate value and set the label to 'Magnitude'\n",
    "* Add a grid to the figure with transparency (`alpha`) of 0.5 and assign it to the variable `grid`\n",
    "    * Set `draw_labels=True` (refer to [Chapter 12.3](https://pythonnumericalmethods.berkeley.edu/notebooks/chapter12.03-Working-with-Maps.html) of the course textbook)\n",
    "    * The gird lines should also be dotted (`:`) and black (`k`). \n",
    "* Set the title to 'CA area earthquakes in 2022'\n",
    " \n",
    "When you are finished, your figure should look like Figure 4. Feel free to experiment with plotting options that have not been explicitly specified.\n",
    "\n",
    "<center><img src=\"resources/q2_2.png\" width = 60%/>\n",
    "\n",
    "<figcaption style=\"text-align:center\"><strong>Figure 4. Question 2.2 plot.</strong></figcaption></center>"
   ]
  },
  {
   "cell_type": "code",
   "execution_count": null,
   "metadata": {
    "tags": [
     "otter_answer_cell"
    ]
   },
   "outputs": [],
   "source": [
    "# ANSWER CELL\n",
    "\n",
    "# Do not modify these lines for grading purposes\n",
    "import matplotlib.pyplot as plt\n",
    "import matplotlib\n",
    "import cartopy.crs as ccrs\n",
    "\n",
    "# Create figure\n",
    "fig_3 = ...\n",
    "\n",
    "# Create axes using Plate Carrée projection\n",
    "ax = ...\n",
    "\n",
    "# Add coastilines\n",
    "...\n",
    "\n",
    "# Scatter plot of earthquakes. Assign it to eq_scatter\n",
    "eq_scatter = ...\n",
    "\n",
    "# Create colorbar and assign it to cbar_eq\n",
    "cbar_eq = ...\n",
    "\n",
    "# Set axes extent/limits    \n",
    "ax.set_extent([-126,-114,32,42], crs=ccrs.PlateCarree())\n",
    "\n",
    "# Add grid lines and assign it to grid\n",
    "grid = ...\n",
    "grid.top_labels = False  # Remove tick labels from the top side\n",
    "grid.right_labels = False  # Remove tick labels from the right side\n",
    "\n",
    "# Set title\n",
    "...\n",
    "\n",
    "# Plot UC Berkeley on the map, no need to modify this code\n",
    "berkeley_lon, berkeley_lat = -122.2585, 37.8719\n",
    "berkeley_blue = np.array([0, 50, 98])/255\n",
    "berkeley_gold = np.array([253, 181, 21])/255\n",
    "ax.scatter(berkeley_lon, berkeley_lat, marker='*', ec=berkeley_blue, \n",
    "           c=[berkeley_gold], linewidth=1.4, s=400, zorder=2)\n",
    "ax.text(berkeley_lon - 0.3, berkeley_lat - 0.3, 'UC Berkeley',\n",
    "         horizontalalignment='right',color = berkeley_blue, weight=\"bold\")\n",
    "\n",
    "plt.show()"
   ]
  },
  {
   "cell_type": "code",
   "execution_count": null,
   "metadata": {
    "deletable": false,
    "editable": false
   },
   "outputs": [],
   "source": [
    "grader.check(\"q2.2\")"
   ]
  },
  {
   "cell_type": "markdown",
   "metadata": {
    "deletable": false,
    "editable": false
   },
   "source": [
    "## Question 3: Wind over North America\n",
    "\n",
    "In this problem you will examine and visualize a sample dataset of air currents over North America. \n",
    "\n",
    "### Question 3.0\n",
    "\n",
    "The `resources` folder contains the following CSV data files on a 35 x 41 grid:\n",
    "\n",
    "* `wind_x.csv`: $x$ coordinates (longitude) \n",
    "* `wind_y.csv`: $y$ coordinates (latitude) \n",
    "* `wind_vx.csv`: $x$ components of velocity\n",
    "* `wind_vy.csv`: $y$ components of velocity\n",
    "\n",
    "First, read the data files listed above using [`np.loadtxt`](https://numpy.org/doc/stable/reference/generated/numpy.loadtxt.html) and assign the arrays to the variables `wind_x`, `wind_y`, `wind_vx` and `wind_vy`, respectively. Make sure to specify the `delimiter` argument which is the character used to separate the values in the file. Recall that CSV stands for \"comma-separated values\".\n",
    "\n",
    "*Hint:* The relative file path to `wind_x.csv` is `resources/wind_x.csv`."
   ]
  },
  {
   "cell_type": "code",
   "execution_count": null,
   "metadata": {
    "tags": [
     "otter_answer_cell"
    ]
   },
   "outputs": [],
   "source": [
    "# ANSWER CELL\n",
    "\n",
    "# Read wind_x data\n",
    "wind_x = ...\n",
    "\n",
    "# Read wind_y data\n",
    "wind_y = ...\n",
    "\n",
    "# Read wind_vx data\n",
    "wind_vx = ...\n",
    "\n",
    "# Read wind_vy data\n",
    "wind_vy = ..."
   ]
  },
  {
   "cell_type": "code",
   "execution_count": null,
   "metadata": {
    "deletable": false,
    "editable": false
   },
   "outputs": [],
   "source": [
    "grader.check(\"q3.0\")"
   ]
  },
  {
   "cell_type": "markdown",
   "metadata": {
    "deletable": false,
    "editable": false
   },
   "source": [
    "### Question 3.1\n",
    "\n",
    "Compute the magnitude of the wind velocity at each grid point and assign it to the variable `wind_mag`. Make sure to preserve the shape of the wind velocity arrays. The magnitude of a 2D vector $\\vec{v}$ with components $v_x$ and $v_y$ is defined as:\n",
    "\n",
    "$$ ||\\vec{v}|| = \\sqrt{v_x^2 + v_y^2}$$\n",
    "\n",
    "where $v_x$ and $v_y$ are the $x$ and $y$ components of velocity, respectively, that you read in the previous question."
   ]
  },
  {
   "cell_type": "code",
   "execution_count": null,
   "metadata": {
    "tags": [
     "otter_answer_cell"
    ]
   },
   "outputs": [],
   "source": [
    "# ANSWER CELL\n",
    "# Compute magnitude of wind velocity on the grid\n",
    "wind_mag = ..."
   ]
  },
  {
   "cell_type": "code",
   "execution_count": null,
   "metadata": {
    "deletable": false,
    "editable": false
   },
   "outputs": [],
   "source": [
    "grader.check(\"q3.1\")"
   ]
  },
  {
   "cell_type": "markdown",
   "metadata": {
    "deletable": false,
    "editable": false
   },
   "source": [
    "### Question 3.2\n",
    "\n",
    "Write the array `wind_mag` to `resources/wind_mag.csv` using [`np.savetxt`](https://numpy.org/doc/stable/reference/generated/numpy.savetxt.html). Use a comma (`,`) delimiter."
   ]
  },
  {
   "cell_type": "code",
   "execution_count": null,
   "metadata": {
    "tags": [
     "otter_answer_cell"
    ]
   },
   "outputs": [],
   "source": [
    "# Write the wind magnitude data to a csv file\n",
    "..."
   ]
  },
  {
   "cell_type": "code",
   "execution_count": null,
   "metadata": {
    "deletable": false,
    "editable": false
   },
   "outputs": [],
   "source": [
    "grader.check(\"q3.2\")"
   ]
  },
  {
   "cell_type": "markdown",
   "metadata": {
    "deletable": false,
    "editable": false
   },
   "source": [
    "### Question 3.3\n",
    "\n",
    "We will now plot the wind data overlaid on a map of North America with the help of the `cartopy` module. Create a `matplotlib.pyplot` figure stored in `fig_4` and perform the following tasks on the same figure:\n",
    "* Create figure axes using the Plate Carrée projection (refer to [Chapter 12.3](https://pythonnumericalmethods.berkeley.edu/notebooks/chapter12.03-Working-with-Maps.html) of the course textbook)\n",
    "* Add coastlines on the axes (refer to [Chapter 12.3](https://pythonnumericalmethods.berkeley.edu/notebooks/chapter12.03-Working-with-Maps.html) of the course textbook)\n",
    "* Create a filled contour plot using `contourf()` of the magnitude of the wind velocity and assign it to the variable `wind_contour`. Note that the data is already provided on a 2D meshgrid.\n",
    "    * Set the number of levels to 20\n",
    "    * Set the colormap to `coolwarm`\n",
    "* Add a colorbar of the contour plot to the figure and assign it to the variable `cbar_wind`\n",
    "    * Set the scale (`shrink`) factor to an appropriate value\n",
    "* Set the x and y axes limits/extent to the minimum and maximum values in `wind_x` and `wind_y`, respectively.\n",
    "    * Refer to Question 2.2 for an example.\n",
    "    * The `set_extent` method takes a list with the first two numbers being the x-axis limits and the last two numbers being the y-axis limits: `[xmin, xmax, ymin, ymax]`\n",
    "    * Make sure to specify the `crs` (coordinate reference system) argument of the `set_extent` method to be the `ccrs.PlateCarree()` projection like the axes. This way the coordinates will be aligned with the figure regardless of its dimensions.\n",
    "* Add a grid to the figure with transparency (`alpha`) of 0.5 and assign it to the variable `grid`\n",
    "    * Set `draw_labels=True` (refer to [Chapter 12.3](https://pythonnumericalmethods.berkeley.edu/notebooks/chapter12.03-Working-with-Maps.html) of the course textbook) \n",
    "    * The gird lines should also be dotted (`:`) and black (`k`)\n",
    "* Set the title to \"Wind velocity magnitude\"\n",
    " \n",
    "When you are finished, your figure should look like Figure 5. Feel free to experiment with plotting options that have not been explicitly specified.\n",
    "\n",
    "<center><img src=\"resources/q3_3.png\" width = 60%/>\n",
    "\n",
    "<figcaption style=\"text-align:center\"><strong>Figure 5. Question 3.3 plot.</strong></figcaption></center>  "
   ]
  },
  {
   "cell_type": "code",
   "execution_count": null,
   "metadata": {
    "tags": [
     "otter_answer_cell"
    ]
   },
   "outputs": [],
   "source": [
    "# ANSWER CELL\n",
    "\n",
    "# Do not modify these lines for grading purposes\n",
    "import matplotlib.pyplot as plt\n",
    "import cartopy.crs as ccrs\n",
    "\n",
    "# Create figure\n",
    "fig_4 = ...\n",
    "\n",
    "# Create axes using Plate Carrée projection\n",
    "ax = ...\n",
    "\n",
    "# Add coastilines\n",
    "...\n",
    "\n",
    "# Create wind magnitude filled contour plot and assign it to wind_contour\n",
    "wind_contour = ...\n",
    "\n",
    "# Create colorbar and assign it to cbar_wind\n",
    "cbar_wind = ...\n",
    "\n",
    "# Set limits/extent of plot\n",
    "...\n",
    "\n",
    "# Add grid lines\n",
    "grid = ...\n",
    "grid.top_labels = False\n",
    "grid.right_labels = False\n",
    "\n",
    "# Set title\n",
    "...\n",
    "\n",
    "plt.show()"
   ]
  },
  {
   "cell_type": "code",
   "execution_count": null,
   "metadata": {
    "deletable": false,
    "editable": false
   },
   "outputs": [],
   "source": [
    "grader.check(\"q3.3\")"
   ]
  },
  {
   "cell_type": "markdown",
   "metadata": {
    "deletable": false,
    "editable": false
   },
   "source": [
    "### Question 3.4\n",
    "\n",
    "Lastly, we'll plot the wind vector field using `quiver`. Create a `matplotlib.pyplot` figure stored in `fig_5` and perform the following tasks on the same figure:\n",
    "* Create figure axes using the Plate Carrée projection (refer to [Chapter 12.3](https://pythonnumericalmethods.berkeley.edu/notebooks/chapter12.03-Working-with-Maps.html) of the course textbook)\n",
    "* Add coastlines on the axes (refer to [Chapter 12.3](https://pythonnumericalmethods.berkeley.edu/notebooks/chapter12.03-Working-with-Maps.html) of the course textbook)\n",
    "* Create a vector plot using `quiver()` of the magnitude of the wind velocity and assign it to the variable `vel_quiver`.  Note that the data is already provided on a 2D meshgrid.\n",
    "    * Feel free to experiment with the colormap but use the `wind_mag` array as the color mapping values of the arrows. \n",
    "* Add a colorbar of the contour plot to the figure and assign it to the variable `cbar_wind`\n",
    "    * Set the title to \"Magnitude\" and the scale (`shrink`) factor to an appropriate value\n",
    "* Set the x and y axes limits/extent to the minimum and maximum values in `wind_x` and `wind_y`, respectively.\n",
    "    * Refer to Question 2.2 for an example.\n",
    "    * The `set_extent` method takes a list with the first two numbers being the x-axis limits and the last two numbers being the y-axis limits: `[xmin, xmax, ymin, ymax]`\n",
    "    * Make sure to specify the `crs` (coordinate reference system) argument of the `set_extent` method to be the `ccrs.PlateCarree()` projection like the axes. This way the coordinates will be aligned with the figure regardless of its dimensions.\n",
    "* Add a grid to the figure with transparency (`alpha`) of 0.5 and assign it to the variable `grid`\n",
    "    * Set `draw_labels=True` (refer to [Chapter 12.3](https://pythonnumericalmethods.berkeley.edu/notebooks/chapter12.03-Working-with-Maps.html) of the course textbook) \n",
    "    * The gird lines should also be dotted (`:`) and black (`k`)\n",
    "* Set the title to \"Wind velocity field\"\n",
    "\n",
    "When you are finished, your figure should look like Figure 6. Feel free to experiment with plotting options that have not been explicitly specified.\n",
    "\n",
    "<center><img src=\"resources/q3_4.png\" width = 60%/>\n",
    "\n",
    "<figcaption style=\"text-align:center\"><strong>Figure 6. Question 3.4 plot.</strong></figcaption></center>"
   ]
  },
  {
   "cell_type": "code",
   "execution_count": null,
   "metadata": {
    "tags": [
     "otter_answer_cell"
    ]
   },
   "outputs": [],
   "source": [
    "# ANSWER CELL\n",
    "\n",
    "# Do not modify these lines for grading purposes\n",
    "import matplotlib.pyplot as plt\n",
    "import cartopy.crs as ccrs\n",
    "\n",
    "# Create figure\n",
    "fig_5 = ...\n",
    "\n",
    "# Create axes using Plate Carrée projection\n",
    "ax = ...\n",
    "\n",
    "# Add coastilines\n",
    "...\n",
    "\n",
    "# Create wind magnitude filled contour plot and assign it to vel_quiver\n",
    "vel_quiver = ...\n",
    "\n",
    "# Create colorbar and assign it to cbar_wind\n",
    "cbar_wind = ...\n",
    "\n",
    "# Set limits/extent of plot\n",
    "...\n",
    "\n",
    "# Add grid lines\n",
    "grid = ...\n",
    "grid.top_labels = False\n",
    "grid.right_labels = False \n",
    "\n",
    "# Set title\n",
    "...\n",
    "\n",
    "plt.show()"
   ]
  },
  {
   "cell_type": "code",
   "execution_count": null,
   "metadata": {
    "deletable": false,
    "editable": false
   },
   "outputs": [],
   "source": [
    "grader.check(\"q3.4\")"
   ]
  },
  {
   "cell_type": "markdown",
   "metadata": {
    "deletable": false,
    "editable": false
   },
   "source": [
    "## Question 4: Vibrating Membrane \n",
    "In this problem you will examine the natural modes of vibration of a rectangular membrane of length $a$ and width $b$, fixed along all four edges. Vibrating plates or membranes are commonly encountered in various fields such as structural engineering, mechanical engineering, and acoustics. Understanding their mode shapes is crucial for analyzing their behavior and resonance frequencies.\n",
    "\n",
    "Assuming the membrane obeys the two-dimensional wave equation, the (normalized) amplitude $f$ of the $(m,n)$ natural mode of vibration is\n",
    "\n",
    "$$f\\left(x,y,a,b\\,; m,n\\right) = \\sin\\left(\\frac{m \\pi}{a}x\\right)\\sin\\left(\\frac{n \\pi}{b}y\\right),  \\hspace{1cm} (3)$$\n",
    "\n",
    "where $x$ and $y$ are coordinates along the membrane and $m$ and $n$ are positive integer mode indices.\n",
    "\n",
    "### Question 4.0\n",
    "\n",
    "Write a function `mode_shape(x,y,a,b,m,n)` which takes in:\n",
    "* `x`: `float` or `np.ndarray`\n",
    "     * $x$ coordinates along the membrane, $x \\in [0,a]$\n",
    "* `y`: `float` or `np.ndarray`\n",
    "     * $y$ coordinates along the membrane, $y \\in [0,b]$\n",
    "* `a`: `float`\n",
    "     * membrane length, $a > 0$\n",
    "* `b`: `float`\n",
    "     * membrane width, $b > 0$\n",
    "* `m`: `int`\n",
    "     * mode index along x, $m = 1,2,3,\\dots$\n",
    "* `n`: `int`\n",
    "     * mode index along y, $n = 1,2,3,\\dots$\n",
    "\n",
    "and returns the mode amplitude $f\\left(x,y,a,b\\,; m,n\\right)$ shown in Eq.(3) at each point defined by `x` and `y`.\n",
    "\n",
    "\n",
    "Test your `mode_shape()` function for `x = np.linspace(0,1)`,`y = np.linspace(0,1)`,`a = 1`,`b = 1`,`m = 1`,`n = 1` and assign it to the variable `q4_0`."
   ]
  },
  {
   "cell_type": "code",
   "execution_count": null,
   "metadata": {
    "tags": [
     "otter_answer_cell"
    ]
   },
   "outputs": [],
   "source": [
    "# ANSWER CELL"
   ]
  },
  {
   "cell_type": "code",
   "execution_count": null,
   "metadata": {
    "tags": [
     "otter_answer_cell"
    ]
   },
   "outputs": [],
   "source": [
    "# TEST YOUR FUNCTION HERE\n",
    "q4_0 = ...\n",
    "\n",
    "print(f'Amplitude f(x, y): \\n {q4_0}')"
   ]
  },
  {
   "cell_type": "code",
   "execution_count": null,
   "metadata": {
    "deletable": false,
    "editable": false
   },
   "outputs": [],
   "source": [
    "grader.check(\"q4.0\")"
   ]
  },
  {
   "cell_type": "markdown",
   "metadata": {
    "deletable": false,
    "editable": false
   },
   "source": [
    "### Question 4.1\n",
    "\n",
    "Let us now compute the $m = 3, n =2$ natural mode of vibration for a membrane of length $a = 3$ and width $b = 2$ on a discrete two-dimensional grid.\n",
    "\n",
    "First create two arrays named `x` and `y`, each containing 1000 equally spaced points for the $x$ and $y$ coordinates, covering the ranges $[0, a]$ and $[0, b]$ (inclusive), respectively. \n",
    "\n",
    "Next, create two-dimensional coordinate arrays `X` and `Y` for each point on the grid, which will be used for 3D plotting in the next question. The documentation of [`np.meshgrid`](https://numpy.org/doc/stable/reference/generated/numpy.meshgrid.html) may be helpful.\n",
    "\n",
    "Finally, using your `mode_shape()` function, compute the mode amplitude on the `X, Y` grid and assign the output array to the variable `Z`."
   ]
  },
  {
   "cell_type": "code",
   "execution_count": null,
   "metadata": {
    "tags": [
     "otter_answer_cell"
    ]
   },
   "outputs": [],
   "source": [
    "# ANSWER CELL\n",
    "\n",
    "# Length\n",
    "a = ...\n",
    "# Width\n",
    "b = ...\n",
    "# Parameter m\n",
    "m = ...\n",
    "# Parameter n\n",
    "n = ...\n",
    "\n",
    "# Create x- and y-arrays\n",
    "x = ...\n",
    "y = ...\n",
    "\n",
    "# Create combined X and Y grid\n",
    "X,Y = ...\n",
    "\n",
    "# Compute Z\n",
    "Z = ..."
   ]
  },
  {
   "cell_type": "code",
   "execution_count": null,
   "metadata": {
    "deletable": false,
    "editable": false
   },
   "outputs": [],
   "source": [
    "# Do not modify and run this cell for grading purposes\n",
    "x_q4_1 = np.copy(x)\n",
    "y_q4_1 = np.copy(y)\n",
    "X_q4_1 = np.copy(X)\n",
    "Y_q4_1 = np.copy(Y)\n",
    "Z_q4_1 = np.copy(Z)"
   ]
  },
  {
   "cell_type": "code",
   "execution_count": null,
   "metadata": {
    "deletable": false,
    "editable": false
   },
   "outputs": [],
   "source": [
    "grader.check(\"q4.1\")"
   ]
  },
  {
   "cell_type": "markdown",
   "metadata": {
    "deletable": false,
    "editable": false
   },
   "source": [
    "### Question 4.2\n",
    "\n",
    "Visualize the membrane's natural mode of vibration computed in Question 4.1 by creating a surface plot of `Z` on the `X,Y` grid. The documentation of [`plt.plot_surface`](https://matplotlib.org/stable/api/_as_gen/mpl_toolkits.mplot3d.axes3d.Axes3D.plot_surface.html#mpl_toolkits.mplot3d.axes3d.Axes3D.plot_surface) may be helpful.\n",
    "\n",
    "Create a `matplotlib.pyplot` figure stored in `fig_6` and perform the following tasks on the same figure:\n",
    "* Create a surface plot of the natural mode shape for $a = m = 3$ and $b= n = 2$, i.e. `Z` vs. `X` and `Y`.\n",
    "    * Set the surface colormap to `plasma`.\n",
    "* Set the figure title to  \"Natural mode shape for m = 3, n = 2\" with font size 14.\n",
    "* Set the x-axis label to \"X\" with font size 12.\n",
    "* Set the y-axis label to \"Y\" with font size 12.\n",
    "* Set the y-axis label to \"Z\" with font size 12.\n",
    "* Adjust the plot to have equal axis aspect ratio, refer to this [documentation.](https://matplotlib.org/stable/gallery/subplots_axes_and_figures/axis_equal_demo.html)\n",
    "    * Adjust the viewing distance if some of the labels are clipped from the figure. Take a look at the `zoom` argument of [set_box_axpect.](https://matplotlib.org/stable/api/_as_gen/mpl_toolkits.mplot3d.axes3d.Axes3D.set_box_aspect.html)\n",
    "\n",
    "When you are finished, your figure should look like Figure 7. Feel free to experiment with plotting options that have not been explicitly specified.\n",
    "\n",
    "<center><img src=\"resources/q4_2.png\" width=45%/>\n",
    "<figcaption style=\"text-align:center\"><strong> Figure 7. Question 4.2 plot.</strong></figcaption></center>  "
   ]
  },
  {
   "cell_type": "code",
   "execution_count": null,
   "metadata": {
    "tags": [
     "otter_answer_cell"
    ]
   },
   "outputs": [],
   "source": [
    "# ANSWER CELL\n",
    "\n",
    "# Create figure\n",
    "fig_6 = ...\n",
    "\n",
    "# Create axes with 3d projection\n",
    "ax = ...\n",
    "\n",
    "# Plot surface\n",
    "...\n",
    "\n",
    "# Set title\n",
    "...\n",
    "\n",
    "# Set labels\n",
    "...\n",
    "...\n",
    "...\n",
    "\n",
    "# Set axes aspect ratio\n",
    "...\n",
    "\n",
    "plt.show() "
   ]
  },
  {
   "cell_type": "code",
   "execution_count": null,
   "metadata": {
    "deletable": false,
    "editable": false
   },
   "outputs": [],
   "source": [
    "grader.check(\"q4.2\")"
   ]
  },
  {
   "cell_type": "markdown",
   "metadata": {
    "deletable": false,
    "editable": false
   },
   "source": [
    "### Question 4.3\n",
    "\n",
    "Create another set of two-dimensional coordinate grids `X` and `Y` of 1000 equally spaced points in each direction for a square membrane of unit length $a = b = 1$. Then, create a `matplotlib.pyplot` figure stored in `fig_7` and perform the following tasks on the same figure:\n",
    "* Create a 2x2 subplot layout and plot the membrane mode shape for:\n",
    "    * $m =1, n = 1$\n",
    "    * $m =1, n = 2$\n",
    "    * $m =2, n = 1$\n",
    "    * $m =2, n = 2$\n",
    "    * Store the subplot axes in the variable `axs`. The subplot in the $m$-th row and $n$-th column should contain the mode shape for the respective $m$ and $n$ values. For example, the subplot in the lower left (row 2, column 1) should contain the plot for $m = 2$ and $n =1$.\n",
    "* When using [`plt.subplots()`](https://matplotlib.org/stable/api/_as_gen/matplotlib.pyplot.subplots.html) to create axes for 3D subplots, you need to specify `subplot_kw=dict(projection='3d')` \n",
    "* For each plot do the following:\n",
    "    * Set the surface colormap to `coolwarm`\n",
    "    * Set the subplot title \"m = {m}, n = {n}\" where you insert the appropriate value in the braces. See Figure 8 for reference.\n",
    "    * Set the x-axis label to \"X\".\n",
    "    * Set the y-axis label to \"Y\".\n",
    "    * Set the z-axis label to \"Z\".\n",
    "    * Adjust the viewing distance if some of the labels are clipped from the subplot. Take a look at the `zoom` argument of [set_box_axpect.](https://matplotlib.org/stable/api/_as_gen/mpl_toolkits.mplot3d.axes3d.Axes3D.set_box_aspect.html)\n",
    "* Set the figure title (suptitle) to \"Mode shapes\" with font size 16.\n",
    "\n",
    "When you are finished, your figure should look like Figure 8. Feel free to experiment with plotting options that have not been explicitly specified.\n",
    "\n",
    "\n",
    "<center><img src=\"resources/q4_3.png\" width = 60%/>\n",
    "<figcaption style=\"text-align:center\"><strong> Figure 8. Question 4.3 plot.</strong></figcaption></center>"
   ]
  },
  {
   "cell_type": "code",
   "execution_count": null,
   "metadata": {
    "tags": [
     "otter_answer_cell"
    ]
   },
   "outputs": [],
   "source": [
    "# ANSWER CELL\n",
    "\n",
    "# Do not modify this line for grading purposes\n",
    "import matplotlib.pyplot as plt\n",
    "\n",
    "# length and width \n",
    "a = 1\n",
    "b = 1\n",
    "\n",
    "# Create x and y 1D grids\n",
    "x = ...\n",
    "y = ...\n",
    "\n",
    "# Create combined x and y 2D grid\n",
    "X,Y = ...\n",
    "\n",
    "# Create figure of 2x2 3D subplots\n",
    "fig_7, axs = ...\n",
    "\n",
    "# Plot mode shape on each subplot\n",
    "\n",
    "# Set figure title\n",
    "...\n",
    "\n",
    "plt.show()"
   ]
  },
  {
   "cell_type": "code",
   "execution_count": null,
   "metadata": {
    "deletable": false,
    "editable": false
   },
   "outputs": [],
   "source": [
    "# Do not modify and run this cell for grading purposes\n",
    "x_q4_3 = np.copy(x)\n",
    "y_q4_3 = np.copy(y)\n",
    "X_q4_3 = np.copy(X)\n",
    "Y_q4_3 = np.copy(Y)"
   ]
  },
  {
   "cell_type": "code",
   "execution_count": null,
   "metadata": {
    "deletable": false,
    "editable": false
   },
   "outputs": [],
   "source": [
    "grader.check(\"q4.3\")"
   ]
  },
  {
   "cell_type": "markdown",
   "metadata": {
    "deletable": false,
    "editable": false
   },
   "source": [
    "## (OPTIONAL) Question 5: Potential flow around a circular cylinder\n",
    " \n",
    "Potential flow around a circular cylinder is a classical problem in fluid dynamics. It involves the flow of an inviscid, incompressible fluid around a circular cylinder transverse to the flow. Far from the cylinder, the flow is unidirectional and uniform with a constant velocity $U$ in the x-direction. The flow has no vorticity and thus the velocity field is irrotational which allows for closed-form analytical solutions for quantities of interest.\n",
    "\n",
    "**Note: This question is not graded and is provided solely for additional practice.**\n",
    "\n",
    "<center><img src=\"resources/flow.gif\" width=50%/>\n",
    " <figcaption style=\"text-align:center\"><strong> Figure 9. Potential flow around a circular cylinder,</strong> <a href=\"https://en.wikipedia.org/wiki/Potential_flow_around_a_circular_cylinder#/media/File:Inviscid_flow_around_a_cylinder.gif\">Wikipedia</a></figcaption></center> \n",
    "\n",
    "### Question 5.0\n",
    "\n",
    "First, we'll determine the pressure field. Let the coordinate system be centered on the circular cylinder with radius $R$. The solution for the (gauge) *pressure* field $p$ in polar coordinates assuming unit density is then \n",
    "$$ p = \\frac{1}{2} U^2 \\left( 2 \\frac{R^2}{r^2}\\cos\\left(2\\theta\\right) - \\frac{R^4}{r^4}\\right), \\hspace{1cm} (4) $$ \n",
    "Another quantity of interest is the so-called *stream function* $\\psi$. It can be used to plot streamlines, which represent the trajectories of particles in a steady flow. The stream function for this problem is\n",
    "$$\\psi  = Ur\\left(1-{\\frac {R^{2}}{r^2}}\\right)\\sin \\theta, \\hspace{1cm} (5) $$\n",
    "Finally, we are also interested in the *velocity potential* $\\phi$. We'll use it to plot equipotential lines along which the fluid has uniform velocity. The velocity potential for this problem is\n",
    "$$ \\phi = Ur\\left(1+{\\frac {R^{2}}{r^{2}}}\\right)\\cos \\theta,  \\hspace{1cm} (6) $$\n",
    "\n",
    "Let the cylinder radius have radius $R = 1$ and the far field fluid velocity be $U = 10$. You are tasked with computing the three quantities described above on a uniform two-dimensional **polar** grid. The polar coordinates are the radius $r$ and angle $\\theta$. The grid should have 1000 equally spaced points in the radial direction within the range $\\left[R, 10R\\right]$ and 1000 equally spaced points in the angular direction within the range $\\left[0, 2\\pi\\right]$."
   ]
  },
  {
   "cell_type": "code",
   "execution_count": null,
   "metadata": {
    "tags": [
     "otter_answer_cell"
    ]
   },
   "outputs": [],
   "source": [
    "# Fluid velocity away from the cylinder\n",
    "U = ...\n",
    "\n",
    "# Cylinder radius\n",
    "R = ...\n",
    "\n",
    "# Create r and theta 1D grids\n",
    "theta = ...\n",
    "rr = ...\n",
    "\n",
    "# Create meshgrid in two dimensions\n",
    "t,r = ...\n",
    "\n",
    "# Compute pressure around the cylinder, Equation 4\n",
    "pressure = ...\n",
    "\n",
    "# Compute stream function, Equation 5\n",
    "stream = ...\n",
    "\n",
    "# Compute velocity potential, Equation 6\n",
    "velocity_potential = ..."
   ]
  },
  {
   "cell_type": "code",
   "execution_count": null,
   "metadata": {
    "deletable": false,
    "editable": false
   },
   "outputs": [],
   "source": [
    "grader.check(\"q5.0\")"
   ]
  },
  {
   "cell_type": "markdown",
   "metadata": {
    "deletable": false,
    "editable": false
   },
   "source": [
    "### Question 5.1\n",
    "\n",
    "Now, we will plot the pressure, streamlines and velocity equipotential lines. First, we'll need to convert the 2D polar grid to Cartesian coordinates. The relationship between polar and Cartesian coordinates is\n",
    "\\begin{align}\n",
    "x &= r \\cos{\\theta} \\\\\n",
    "y &= r \\sin{\\theta}\n",
    "\\end{align}\n",
    "\n",
    "After you convert the grid, create a `matplotlib.pyplot` figure stored in `fig_8` and perform the following tasks on the same figure:\n",
    "* Create a filled contour plot (`contourf`) of the pressure field and assign it to the variable `pressure_contour`. Set the number of levels to 50 and the colormap to `jet`.\n",
    "* Add a colorbar of the pressure field plot to the figure and assign it to the variable `cbar_pressure`. The colorbar should have only two ticks - at the minimum and maximum value which occur in the plot and the labels should respectively be \"Low\" and \"High\" in that order.\n",
    "* Create a contour plot (`contour`) of the streamlines and assign it to the variable `stream_contour`.. Set the number of levels to 50, the line width to 0.8 and the line color to black (`k`).\n",
    "* Create a contour plot (`contour`) of the velocity potential and assign it to the variable `velocity_contour`. Set the number of levels to 50, the line width to 0.8 and the line color to white (`w`).\n",
    "* Set the title to \"Pressure field\" with font size 14.\n",
    "* Set the x-axis label to \"x\" with font size 12.\n",
    "* Set the y-axis label to \"y\" with font size 12.\n",
    "* Set the x-axis limits to (-5,5).\n",
    "* Set the y-axis limits to (-5,5).\n",
    "* Remove the ticks from the x and y axes.\n",
    "\n",
    "*Hint:* The `negative_linestyle` may be useful for the `contour` plots.\n",
    "\n",
    "\n",
    "When you are finished, your figure should look like Figure 10. Feel free to experiment with plotting options that have not been explicitly specified.\n",
    "\n",
    "\n",
    "<center><img src=\"resources/q5_1.png\" width = 50%/>\n",
    " <figcaption style=\"text-align:center\"><strong> Figure 10. Question 5.1 plot.</strong></figcaption></center>"
   ]
  },
  {
   "cell_type": "code",
   "execution_count": null,
   "metadata": {
    "tags": [
     "otter_answer_cell"
    ]
   },
   "outputs": [],
   "source": [
    "# ANSWER CELL\n",
    "\n",
    "# Do not modify this line for grading purposes\n",
    "import matplotlib.pyplot as plt\n",
    "\n",
    "# Convert polar to cartesian coordinates\n",
    "X, Y = ...\n",
    "\n",
    "# Create figure\n",
    "fig_8 = ...\n",
    "\n",
    "# Plot circle/cylinder, do not modify\n",
    "th =  np.linspace(0,2*np.pi,100)  \n",
    "xunit = np.cos(th)\n",
    "yunit = np.sin(th)\n",
    "h = plt.plot(xunit, yunit,'-k')\n",
    "\n",
    "# Pressure plot\n",
    "pressure_contour = ...\n",
    "\n",
    "# Create colorbar and set the ticks and tick labels\n",
    "cbar_pressure = ...\n",
    "...\n",
    "\n",
    "# Streamline contour plot\n",
    "stream_contour = ...\n",
    "\n",
    "# Velocity equipotential lines contour plot\n",
    "velocity_contour = ...\n",
    "\n",
    "# Set title\n",
    "...\n",
    "\n",
    "# Set axes labels\n",
    "...\n",
    "...\n",
    "\n",
    "# Set axes ticks\n",
    "...\n",
    "...\n",
    "\n",
    "# Set axes limits \n",
    "...\n",
    "...\n",
    "\n",
    "plt.show()"
   ]
  },
  {
   "cell_type": "code",
   "execution_count": null,
   "metadata": {
    "deletable": false,
    "editable": false
   },
   "outputs": [],
   "source": [
    "# Do not modify and run this cell for grading purposes\n",
    "X_q5_1 = np.copy(X)\n",
    "Y_q5_1 = np.copy(Y)"
   ]
  },
  {
   "cell_type": "code",
   "execution_count": null,
   "metadata": {
    "deletable": false,
    "editable": false
   },
   "outputs": [],
   "source": [
    "grader.check(\"q5.1\")"
   ]
  },
  {
   "cell_type": "markdown",
   "metadata": {
    "deletable": false,
    "editable": false
   },
   "source": [
    "### Question 5.2\n",
    "\n",
    "Finally, we will plot the fluid velocity magnitude and vector field around the cylinder. The velocity vector components in polar coordinates are\n",
    "\n",
    "$$v_{r}={\\frac {\\partial \\phi }{\\partial r}}=U\\left(1-{\\frac {R^{2}}{r^{2}}}\\right)\\cos \\theta,  \\hspace{1cm} (7)$$\n",
    "\n",
    "$$v_{\\theta }={\\frac {1}{r}}{\\frac {\\partial \\phi }{\\partial \\theta }}=-U\\left(1+{\\frac {R^{2}}{r^{2}}}\\right)\\sin \\theta,  \\hspace{1cm} (8) $$\n",
    "\n",
    "Compute these quantities on the 2D polar grid from Question 3.0 and do not modify the code which converts them to the Cartesian components $v_x$ and $v_y$. The magnitude of a 2D vector $\\vec{v}$ with components $v_x$ and $v_y$ is defined as:\n",
    "$$ ||\\vec{v}|| = \\sqrt{v_x^2 + v_y^2},  \\hspace{1cm} (9)$$\n",
    "\n",
    "When you are done, create a `matplotlib.pyplot` figure stored in `fig_9` and perform the following tasks on the same figure:\n",
    "* Create a filled contour plot (`contourf`) of the velocty magnitude $\\eqref{eq:vnorm}$ and assign it to the variable `v_contour`. Set the number of levels to 30 and the colormap to `jet`.\n",
    "* Add a colorbar of the velocity magnitude plot to the figure and assign it to the variable `cbar_vel`. The colorbar should have only two ticks - at the minimum and maximum value which occur in the plot and the labels should respectively be \"Low\" and \"High\" in that order.\n",
    "* Create a vector plot (`quiver`) of the velocity field $v_x, v_y$ and assign it to the variable `v_quiver`. Because the grid is so dense, plot at only every 25th grid point in each direction (*Hint:* Use step slicing). Set the scale factor to 200.\n",
    "* Set the title to \"Velocity field\" with font size 14.\n",
    "* Set the x-axis label to \"x\" with font size 12.\n",
    "* Set the y-axis label to \"y\" with font size 12.\n",
    "* Set the x-axis limits to (-3,3).\n",
    "* Set the y-axis limits to (-3,3).\n",
    "* Remove the ticks from the x and y axes.\n",
    "\n",
    "*Hint:* The `negative_linestyle` may be useful for the `contour` plots.\n",
    "\n",
    "When you are finished, your figure should look like Figure 11. Feel free to experiment with plotting options that have not been explicitly specified.\n",
    "\n",
    "<center><img src=\"resources/q5_2.png\" width = 50%/>\n",
    " <figcaption style=\"text-align:center\"><strong> Figure 11. Question 5.2 plot.</strong></figcaption></center> "
   ]
  },
  {
   "cell_type": "code",
   "execution_count": null,
   "metadata": {
    "tags": [
     "otter_answer_cell"
    ]
   },
   "outputs": [],
   "source": [
    "# ANSWER CELL\n",
    "\n",
    "# Do not modify this line for grading purposes\n",
    "import matplotlib.pyplot as plt\n",
    "\n",
    "# Velocity in polar coordinates\n",
    "vr = ...\n",
    "vt = ...\n",
    "\n",
    "# Velocity in cartesian coordinates, do not modify these lines\n",
    "vx = vr*np.cos(t) - vt*np.sin(t)\n",
    "vy = vr*np.sin(t) + vt*np.cos(t)\n",
    "\n",
    "# Create figure\n",
    "fig_9 = ...\n",
    "\n",
    "# Plot circle/cylinder, do not modify\n",
    "th =  np.linspace(0,2*np.pi,100)  \n",
    "xunit = np.cos(th)\n",
    "yunit = np.sin(th)\n",
    "h = plt.plot(xunit, yunit,'-k')\n",
    "\n",
    "# Compute velocity magnitude\n",
    "v_mag = ...\n",
    "\n",
    "# Velocity magnitude filled contour plot\n",
    "v_contour = ...\n",
    "                  \n",
    "# Add velocity magnitude colorbar\n",
    "cbar_vel = ...\n",
    "...\n",
    "                  \n",
    "# Velocity vector field quiver plot\n",
    "step = ...\n",
    "v_quiver = ...\n",
    "\n",
    "# Set title\n",
    "...\n",
    "\n",
    "# Set axes labels\n",
    "...\n",
    "...\n",
    "\n",
    "# Set axes ticks\n",
    "...\n",
    "...\n",
    "\n",
    "# Set axes limits \n",
    "...\n",
    "...\n",
    "\n",
    "plt.show()"
   ]
  },
  {
   "cell_type": "code",
   "execution_count": null,
   "metadata": {
    "deletable": false,
    "editable": false
   },
   "outputs": [],
   "source": [
    "grader.check(\"q5.2\")"
   ]
  },
  {
   "cell_type": "markdown",
   "metadata": {},
   "source": [
    "### You're done with this Lab!\n",
    "\n",
    "**Important submission information:** After completing the assignment, click on the Save icon from the Tool Bar &nbsp;<i class=\"fa fa-save\" style=\"font-size:16px;\"></i>&nbsp;. After saving your notebook, **run the cell with** `grader.check_all()` and confirm that you pass the same tests as in the notebook. Then, **run the final cell** `grader.export()` and click the link to download the zip file. Then, go to Gradescope and submit the zip file to the corresponding assignment. \n",
    "\n",
    "**Once you have submitted, stay on the Gradescope page to confirm that you pass the same tests as in the notebook.**"
   ]
  },
  {
   "cell_type": "code",
   "execution_count": null,
   "metadata": {
    "scrolled": true
   },
   "outputs": [],
   "source": [
    "import matplotlib.image as mpimg\n",
    "img = mpimg.imread('resources/animal.png')\n",
    "imgplot = plt.imshow(img)\n",
    "imgplot.axes.get_xaxis().set_visible(False)\n",
    "imgplot.axes.get_yaxis().set_visible(False)\n",
    "print(\"Congrats on finishing this lab!\")\n",
    "plt.show()"
   ]
  },
  {
   "cell_type": "markdown",
   "metadata": {
    "deletable": false,
    "editable": false
   },
   "source": [
    "---\n",
    "\n",
    "To double-check your work, the cell below will rerun all of the autograder tests."
   ]
  },
  {
   "cell_type": "code",
   "execution_count": null,
   "metadata": {
    "deletable": false,
    "editable": false
   },
   "outputs": [],
   "source": [
    "grader.check_all()"
   ]
  },
  {
   "cell_type": "markdown",
   "metadata": {
    "deletable": false,
    "editable": false
   },
   "source": [
    "## Submission\n",
    "\n",
    "Make sure you have run all cells in your notebook in order before running the cell below, so that all images/graphs appear in the output. The cell below will generate a zip file for you to submit. **Please save before exporting!**\n",
    "\n",
    "Make sure you submit the .zip file to Gradescope."
   ]
  },
  {
   "cell_type": "code",
   "execution_count": null,
   "metadata": {
    "deletable": false,
    "editable": false
   },
   "outputs": [],
   "source": [
    "# Save your notebook first, then run this cell to export your submission.\n",
    "grader.export(pdf=False)"
   ]
  },
  {
   "cell_type": "markdown",
   "metadata": {},
   "source": [
    " "
   ]
  }
 ],
 "metadata": {
  "kernelspec": {
   "display_name": "Python 3 (ipykernel)",
   "language": "python",
   "name": "python3"
  },
  "language_info": {
   "codemirror_mode": {
    "name": "ipython",
    "version": 3
   },
   "file_extension": ".py",
   "mimetype": "text/x-python",
   "name": "python",
   "nbconvert_exporter": "python",
   "pygments_lexer": "ipython3",
   "version": "3.11.11"
  },
  "otter": {
   "OK_FORMAT": true,
   "assignment_name": "lab06",
   "tests": {
    "q1.0": {
     "name": "q1.0",
     "points": 1,
     "suites": [
      {
       "cases": [
        {
         "code": ">>> assert get_hash(type(q1_0)) != '14e736438b115821cbb9b7ac0ba79034'\n",
         "failure_message": "Make sure to test your function!",
         "hidden": false,
         "locked": false,
         "points": 0
        },
        {
         "code": ">>> assert get_hash(length) == 'f899139df5e1059396431415e770c6dd'\n",
         "failure_message": "Check the bar length.",
         "hidden": false,
         "locked": false,
         "points": 0.1
        },
        {
         "code": ">>> assert callable(u0) and u0.__name__ == '<lambda>'\n",
         "failure_message": "Make sure it is a lambda function!",
         "hidden": false,
         "locked": false,
         "points": 0.1
        },
        {
         "code": ">>> assert get_hash(np.round(u0(0), decimals=2)) == '30565a8911a6bb487e3745c0ea3c8224'\n>>> assert get_hash(np.round(u0(10), decimals=2)) == 'bf9cba947baf9cc43f447e0e0fc7efce'\n>>> assert get_hash(np.round(u0(60), decimals=2)) == '9f7c34c89841d32c138e886829eb4154'\n>>> assert get_hash(np.round(u0(100), decimals=2)) == '30565a8911a6bb487e3745c0ea3c8224'\n>>> assert callable(u0) and u0.__name__ == '<lambda>'\n",
         "failure_message": "Check your u0 function.",
         "hidden": false,
         "locked": false,
         "points": 0.5
        },
        {
         "code": ">>> x = np.linspace(0, 100)\n>>> assert get_hash(len(u0(x))) == 'c0c7c76d30bd3dcaefc96f40275bdc0a'\n>>> assert get_hash(np.round(np.sum(u0(x)), decimals=2)) == '82fd5432008dcbb742f92940ad26cd05'\n>>> assert callable(u0) and u0.__name__ == '<lambda>'\n",
         "failure_message": "Make sure your u0 function works on array inputs.",
         "hidden": false,
         "locked": false,
         "points": 0.3
        }
       ],
       "scored": true,
       "setup": "",
       "teardown": "",
       "type": "doctest"
      }
     ]
    },
    "q1.1": {
     "name": "q1.1",
     "points": 1,
     "suites": [
      {
       "cases": [
        {
         "code": ">>> assert get_hash(type(q1_1)) != '14e736438b115821cbb9b7ac0ba79034'\n",
         "failure_message": "Make sure to test your function!",
         "hidden": false,
         "locked": false,
         "points": 0
        },
        {
         "code": ">>> assert get_hash(rho) == '1637533ef837128ee0199716d73687bd', 'Check rho.'\n>>> assert get_hash(k) == '248a7444f08189bb31ba143eabebe4e5', 'Check k.'\n>>> assert get_hash(c) == '052fbf0fbad7b4a752d34e1dc0e76cfa', 'Check c.'\n>>> assert get_hash(np.round(alpha, decimals=2)) == '695ec0ee7352c033530309d0ad3418cb', 'Check alpha.'\n>>> assert get_hash(np.round(lam_sq, decimals=2)) == '04817efd11c15364a6ec239780038862', 'Check lam_sq.'\n",
         "failure_message": "Check constants.",
         "hidden": false,
         "locked": false,
         "points": 0.1
        },
        {
         "code": ">>> assert callable(u) and u.__name__ == '<lambda>'\n",
         "failure_message": "Make sure it is a lambda function!",
         "hidden": false,
         "locked": false,
         "points": 0.1
        },
        {
         "code": ">>> assert get_hash(np.round(u(0, 100), decimals=2)) == '30565a8911a6bb487e3745c0ea3c8224'\n>>> assert get_hash(np.round(u(10, 10), decimals=2)) == '19ca1e8274ab2a38604c8baa84ef7baa'\n>>> assert get_hash(np.round(u(60, 30), decimals=2)) == '89dbc31f785433f9aeefa440b26f01a7'\n>>> assert get_hash(np.round(u(100, 100), decimals=2)) == '30565a8911a6bb487e3745c0ea3c8224'\n>>> assert callable(u) and u.__name__ == '<lambda>'\n",
         "failure_message": "Check your u function.",
         "hidden": false,
         "locked": false,
         "points": 0.5
        },
        {
         "code": ">>> x = np.linspace(0, 100)\n>>> assert get_hash(len(u(x, 10))) == 'c0c7c76d30bd3dcaefc96f40275bdc0a'\n>>> assert get_hash(np.round(np.sum(u(x, 10)), decimals=2)) == 'dd665bc9865f92f5c247d793c1f5c019'\n>>> assert callable(u) and u.__name__ == '<lambda>'\n",
         "failure_message": "Make sure your u function works on array inputs.",
         "hidden": false,
         "locked": false,
         "points": 0.3
        }
       ],
       "scored": true,
       "setup": "",
       "teardown": "",
       "type": "doctest"
      }
     ]
    },
    "q1.2": {
     "name": "q1.2",
     "points": 1,
     "suites": [
      {
       "cases": [
        {
         "code": ">>> assert get_hash(len(x_q1)) == 'a9b7ba70783b617e9998dc4dd82eb3c5'\n>>> assert get_hash(np.round(np.sum(x_q1), decimals=2)) == '3b68e4b87a954d6116e95334c6c59068'\n",
         "failure_message": "Check the x grid.",
         "hidden": false,
         "locked": false,
         "points": 0.4
        },
        {
         "code": ">>> assert get_hash(np.round(np.sum(u_t0), decimals=2)) == '47bff7aaf1ec63d5d71200ec4177fd02', 'Check u_t0.'\n>>> assert get_hash(np.round(np.sum(u_t50), decimals=2)) == '643c90867bbecb6e12ceb9c61a9fc180', 'Check u_t50.'\n>>> assert get_hash(np.round(np.sum(u_t150), decimals=2)) == '9f985f523aa3f1bc1e9c410ccd67f1fe', 'Check u_t150.'\n",
         "failure_message": "Check u_t0, u_t50 and u_t150.",
         "hidden": false,
         "locked": false,
         "points": 0.6
        }
       ],
       "scored": true,
       "setup": "",
       "teardown": "",
       "type": "doctest"
      }
     ]
    },
    "q1.3": {
     "name": "q1.3",
     "points": 2,
     "suites": [
      {
       "cases": [
        {
         "code": ">>> assert type(fig_1).__name__ == 'Figure'\n",
         "failure_message": "Make sure to create a figure and assign it to fig_1.",
         "hidden": false,
         "locked": false
        },
        {
         "code": ">>> assert get_hash(np.round(np.sum(fig_1.axes[0].get_lines()[0].get_xdata()), decimals=2)) == '3b68e4b87a954d6116e95334c6c59068'\n>>> assert get_hash(np.round(np.sum(fig_1.axes[0].get_lines()[0].get_ydata()), decimals=2)) == '47bff7aaf1ec63d5d71200ec4177fd02'\n",
         "failure_message": "Check x and y data of line plot 1.",
         "hidden": false,
         "locked": false,
         "points": 0.2
        },
        {
         "code": ">>> assert get_hash(np.round(np.sum(fig_1.axes[0].get_lines()[1].get_xdata()), decimals=2)) == '3b68e4b87a954d6116e95334c6c59068'\n>>> assert get_hash(np.round(np.sum(fig_1.axes[0].get_lines()[1].get_ydata()), decimals=2)) == '643c90867bbecb6e12ceb9c61a9fc180'\n",
         "failure_message": "Check x and y data of line plot 2.",
         "hidden": false,
         "locked": false,
         "points": 0.2
        },
        {
         "code": ">>> assert get_hash(np.round(np.sum(fig_1.axes[0].get_lines()[2].get_xdata()), decimals=2)) == '3b68e4b87a954d6116e95334c6c59068'\n>>> assert get_hash(np.round(np.sum(fig_1.axes[0].get_lines()[2].get_ydata()), decimals=2)) == '9f985f523aa3f1bc1e9c410ccd67f1fe'\n",
         "failure_message": "Check x and y data of line plot 3.",
         "hidden": false,
         "locked": false,
         "points": 0.2
        },
        {
         "code": ">>> assert fig_1.axes[0].get_lines()[0].get_linestyle() == '-'\n>>> assert fig_1.axes[0].get_lines()[1].get_linestyle() == '--'\n>>> assert fig_1.axes[0].get_lines()[2].get_linestyle() == '-.'\n",
         "failure_message": "Check linestyles.",
         "hidden": false,
         "locked": false,
         "points": 0.2
        },
        {
         "code": ">>> assert fig_1.axes[0].get_lines()[0].get_color() == 'b'\n>>> assert fig_1.axes[0].get_lines()[1].get_color() == 'r'\n>>> assert fig_1.axes[0].get_lines()[2].get_color() == 'g'\n",
         "failure_message": "Check line colors.",
         "hidden": false,
         "locked": false,
         "points": 0.2
        },
        {
         "code": ">>> assert fig_1.axes[0].get_lines()[0].get_label() == 't = 0s'\n>>> assert fig_1.axes[0].get_lines()[1].get_label() == 't = 50s'\n>>> assert fig_1.axes[0].get_lines()[2].get_label() == 't = 150s'\n",
         "failure_message": "Check line labels.",
         "hidden": false,
         "locked": false,
         "points": 0.2
        },
        {
         "code": ">>> x_string = ['X', 'CM']\n>>> assert all([word in fig_1.axes[0].get_xlabel().upper() for word in x_string]), 'Check the x-axis label.'\n>>> assert fig_1.axes[0].xaxis.label.get_fontsize() == 14, 'Check the x-axis label fontsize.'\n>>> y_string = ['TEMPERATURE', 'DEGREES', 'CELSIUS']\n>>> assert all([word in fig_1.axes[0].get_ylabel().upper() for word in y_string]), 'Check the y-axis label.'\n>>> assert fig_1.axes[0].yaxis.label.get_fontsize() == 14, 'Check the y-axis label fontsize.'\n",
         "failure_message": "Check figure labels and font sizes.",
         "hidden": false,
         "locked": false,
         "points": 0.2
        },
        {
         "code": ">>> title_string = ['TEMPERATURE', 'DISTRIBUTION', 'COPPER', 'BAR']\n>>> assert all([word in fig_1.axes[0].get_title().upper() for word in title_string]), 'Check the title label.'\n>>> assert fig_1.axes[0].title.get_fontsize() == 16, 'Check the title label fontsize.'\n",
         "failure_message": "Check title and font sizes.",
         "hidden": false,
         "locked": false,
         "points": 0.2
        },
        {
         "code": ">>> assert type(fig_1.axes[0].get_legend()) != type(None)\n",
         "failure_message": "Make sure to add a legend.",
         "hidden": false,
         "locked": false,
         "points": 0.1
        },
        {
         "code": ">>> assert fig_1.axes[0].get_xlim() == (0.0, 100.0), 'Check the x-axis limits.'\n>>> assert fig_1.axes[0].get_ylim() == (-120.0, 120.0), 'Check the y-axis limits.'\n",
         "failure_message": "Check axis limits.",
         "hidden": false,
         "locked": false,
         "points": 0.2
        }
       ],
       "scored": true,
       "setup": "",
       "teardown": "",
       "type": "doctest"
      }
     ]
    },
    "q2.0": {
     "name": "q2.0",
     "points": 1,
     "suites": [
      {
       "cases": [
        {
         "code": ">>> assert get_hash(eq_data.shape) == '86475183e983421e2c569d248a56dd25'\n",
         "failure_message": "Check the read command.",
         "hidden": false,
         "locked": false
        }
       ],
       "scored": true,
       "setup": "",
       "teardown": "",
       "type": "doctest"
      }
     ]
    },
    "q2.1": {
     "name": "q2.1",
     "points": 1,
     "suites": [
      {
       "cases": [
        {
         "code": ">>> assert type(fig_2).__name__ == 'Figure'\n",
         "failure_message": "Make sure to create a figure and assign it to fig_2.",
         "hidden": false,
         "locked": false
        },
        {
         "code": ">>> assert get_hash(len(values)) == 'e4da3b7fbbce2345d7772b0674a318d5'\n>>> assert get_hash(len(bins)) == '1679091c5a880faf6fb5e6087eb1b2dc'\n",
         "failure_message": "Check the bin count.",
         "hidden": false,
         "locked": false,
         "points": 0.2
        },
        {
         "code": ">>> assert get_hash(sum(values)) == '7359bd4fcd36e2be25916898a1e291b0'\n",
         "failure_message": "Check histogram data.",
         "hidden": false,
         "locked": false,
         "points": 0.2
        },
        {
         "code": ">>> assert get_hash(sum(bins)) == '12e9099d922d8928c4087e78fffc4975'\n",
         "failure_message": "Check bin range.",
         "hidden": false,
         "locked": false,
         "points": 0.2
        },
        {
         "code": ">>> assert 'MAGNITUDE' in fig_2.axes[0].get_xlabel().upper(), 'Check the x-axis label.'\n>>> assert 'FREQUENCY' in fig_2.axes[0].get_ylabel().upper(), 'Check the y-axis label.'\n",
         "failure_message": "Check axis labels.",
         "hidden": false,
         "locked": false,
         "points": 0.1
        },
        {
         "code": ">>> title_string = ['CONTINENTAL', 'EARTHQUAKES', '2022']\n>>> assert all((word in fig_2.axes[0].get_title().upper() for word in title_string)), 'Check the title label.'\n",
         "failure_message": "Check the title.",
         "hidden": false,
         "locked": false,
         "points": 0.1
        }
       ],
       "scored": true,
       "setup": "",
       "teardown": "",
       "type": "doctest"
      }
     ]
    },
    "q2.2": {
     "name": "q2.2",
     "points": 3,
     "suites": [
      {
       "cases": [
        {
         "code": ">>> assert type(fig_3).__name__ == 'Figure'\n",
         "failure_message": "Make sure to create a figure and assign it to fig_3.",
         "hidden": false,
         "locked": false
        },
        {
         "code": ">>> assert np.isclose(np.sum(eq_scatter.get_offsets()[:, 0]), np.sum(eq_data[:, 1]), rtol=0.01)\n>>> assert np.isclose(np.sum(eq_scatter.get_offsets()[:, 1]), np.sum(eq_data[:, 0]), rtol=0.01)\n",
         "failure_message": "Check plot data.",
         "hidden": false,
         "locked": false,
         "points": 1
        },
        {
         "code": ">>> assert np.isclose(np.sum(eq_scatter.get_sizes()), np.sum(eq_data[:, 2] ** 4), rtol=0.01)\n",
         "failure_message": "Check marker sizes.",
         "hidden": false,
         "locked": false,
         "points": 0.5
        },
        {
         "code": ">>> import matplotlib\n>>> assert np.isclose(np.sum(matplotlib.cm.ScalarMappable(norm=eq_scatter.norm, cmap=eq_scatter.cmap).to_rgba(eq_data[:, 2], alpha=0.5).flatten()), np.sum(eq_scatter.get_facecolor().flatten()), rtol=0.01)\n",
         "failure_message": "Check marker colors.",
         "hidden": false,
         "locked": false,
         "points": 0.75
        },
        {
         "code": ">>> title_string = ['CA', 'EARTHQUAKES', '2022']\n>>> assert all((word in fig_3.axes[0].get_title().upper() for word in title_string))\n",
         "failure_message": "Check the title.",
         "hidden": false,
         "locked": false,
         "points": 0.25
        },
        {
         "code": ">>> assert 'MAGNITUDE' in cbar_eq.ax.get_ylabel().upper()\n",
         "failure_message": "Check the colorbar.",
         "hidden": false,
         "locked": false,
         "points": 0.25
        },
        {
         "code": ">>> assert grid.collection_kwargs['alpha'] == 0.5, 'Check grid alpha'\n>>> assert grid.collection_kwargs['linestyle'] == ':', 'Check grid linestyle'\n>>> assert grid.collection_kwargs['color'] == 'k', 'Check grid color'\n",
         "failure_message": "Check the grid (alpha, linestyle, and color).",
         "hidden": false,
         "locked": false,
         "points": 0.25
        }
       ],
       "scored": true,
       "setup": "",
       "teardown": "",
       "type": "doctest"
      }
     ]
    },
    "q3.0": {
     "name": "q3.0",
     "points": 1,
     "suites": [
      {
       "cases": [
        {
         "code": ">>> assert isinstance(wind_x, np.ndarray), 'Make sure wind_x is assigned and is a numpy array.'\n>>> assert isinstance(wind_y, np.ndarray), 'Make sure wind_y is assigned and is a numpy array.'\n>>> assert isinstance(wind_vx, np.ndarray), 'Make sure wind_vx is assigned and is a numpy array.'\n>>> assert isinstance(wind_vy, np.ndarray), 'Make sure wind_vy is assigned and is a numpy array.'\n",
         "failure_message": "Check the variable names and make sure they are numpy arrays.",
         "hidden": false,
         "locked": false
        },
        {
         "code": ">>> assert get_hash(np.round(np.sum(wind_x), decimals=2)) == '191f944a56e709fed4cbba9cbe4c8bd0', 'Check the wind_x data.'\n>>> assert get_hash(np.round(np.sum(wind_y), decimals=2)) == 'cf87726119a3db49884cc2e364dbe32a', 'Check the wind_y data.'\n>>> assert get_hash(np.round(np.sum(wind_vx), decimals=2)) == '02e71c8357f8983537872ad2f30580e4', 'Check the wind_vx data.'\n>>> assert get_hash(np.round(np.sum(wind_vy), decimals=2)) == 'dda186858e2cec344497f604ebb95dab', 'Check the wind_vy data.'\n",
         "failure_message": "Make sure you've read all data files correctly.",
         "hidden": false,
         "locked": false
        }
       ],
       "scored": true,
       "setup": "",
       "teardown": "",
       "type": "doctest"
      }
     ]
    },
    "q3.1": {
     "name": "q3.1",
     "points": 1,
     "suites": [
      {
       "cases": [
        {
         "code": ">>> assert get_hash(np.round(np.sum(wind_mag), decimals=2)) == '872e27abbbc3735010e8d1f58ae6c465'\n",
         "failure_message": "Check the wind magnitude computation.",
         "hidden": false,
         "locked": false
        }
       ],
       "scored": true,
       "setup": "",
       "teardown": "",
       "type": "doctest"
      }
     ]
    },
    "q3.2": {
     "name": "q3.2",
     "points": 1,
     "suites": [
      {
       "cases": [
        {
         "code": ">>> q3_2 = np.loadtxt('resources/wind_mag.csv', delimiter=',')\n>>> assert get_hash(np.round(np.sum(q3_2), decimals=2)) == '872e27abbbc3735010e8d1f58ae6c465'\n",
         "failure_message": "Check your write command and write location.",
         "hidden": false,
         "locked": false
        }
       ],
       "scored": true,
       "setup": "",
       "teardown": "",
       "type": "doctest"
      }
     ]
    },
    "q3.3": {
     "name": "q3.3",
     "points": 3,
     "suites": [
      {
       "cases": [
        {
         "code": ">>> assert type(fig_4).__name__ == 'Figure'\n",
         "failure_message": "Make sure to create a figure and assign it to fig_4.",
         "hidden": false,
         "locked": false
        },
        {
         "code": ">>> assert get_hash(np.round(np.sum(wind_contour.allsegs[0][0]), decimals=2)) == '51414d783f0004b0e3e80d2e42164824'\n",
         "failure_message": "Check the plot data.",
         "hidden": false,
         "locked": false,
         "points": 1
        },
        {
         "code": ">>> assert grid.collection_kwargs['alpha'] == 0.5, 'Check grid alpha'\n>>> assert grid.collection_kwargs['linestyle'] == ':', 'Check grid linestyle'\n>>> assert grid.collection_kwargs['color'] == 'k', 'Check grid color'\n",
         "failure_message": "Check the grid.",
         "hidden": false,
         "locked": false,
         "points": 0.8
        },
        {
         "code": ">>> assert wind_contour.get_cmap().name == 'coolwarm', 'Check wind_contour colormap.'\n",
         "failure_message": "Check the color map.",
         "hidden": false,
         "locked": false,
         "points": 0.2
        },
        {
         "code": ">>> assert 15 < len(wind_contour.allsegs) < 25\n",
         "failure_message": "Check the number of contour levels.",
         "hidden": false,
         "locked": false,
         "points": 0.3
        },
        {
         "code": ">>> title_string = ['WIND', 'VELOCITY', 'MAGNITUDE']\n>>> assert all((word in fig_4.axes[0].get_title().upper() for word in title_string))\n",
         "failure_message": "Check the plot title.",
         "hidden": false,
         "locked": false,
         "points": 0.2
        },
        {
         "code": ">>> assert fig_4.axes[0].get_xlim() == (-134.3, -70.188)\n>>> assert fig_4.axes[0].get_ylim() == (17.5, 60.0)\n",
         "failure_message": "Check the axis limits.",
         "hidden": false,
         "locked": false,
         "points": 0.3
        }
       ],
       "scored": true,
       "setup": "",
       "teardown": "",
       "type": "doctest"
      }
     ]
    },
    "q3.4": {
     "name": "q3.4",
     "points": 2,
     "suites": [
      {
       "cases": [
        {
         "code": ">>> assert type(fig_5).__name__ == 'Figure'\n",
         "failure_message": "Make sure to create a figure and assign it to fig_5.",
         "hidden": false,
         "locked": false
        },
        {
         "code": ">>> assert np.isclose(np.sum(vel_quiver.X), np.sum(wind_x), rtol=0.01), 'Check quiver plot X data.'\n>>> assert np.isclose(np.sum(vel_quiver.Y), np.sum(wind_y), rtol=0.01), 'Check quiver plot Y data.'\n>>> assert np.isclose(np.sum(vel_quiver.U), np.sum(wind_vx), rtol=0.01), 'Check quiver plot U data.'\n>>> assert np.isclose(np.sum(vel_quiver.V), np.sum(wind_vy), rtol=0.01), 'Check quiver plot V data.'\n",
         "failure_message": "Check the plot data.",
         "hidden": false,
         "locked": false,
         "points": 1
        },
        {
         "code": ">>> title_string = ['WIND', 'VELOCITY', 'FIELD']\n>>> assert all((word in fig_5.axes[0].get_title().upper() for word in title_string))\n",
         "failure_message": "Check the title label.",
         "hidden": false,
         "locked": false,
         "points": 0.1
        },
        {
         "code": ">>> assert 'MAGNITUDE' in cbar_wind.ax.get_ylabel().upper(), 'Check the colorbar label.'\n",
         "failure_message": "Make sure to add a labeled colorbar.",
         "hidden": false,
         "locked": false,
         "points": 0.2
        },
        {
         "code": ">>> assert grid.collection_kwargs['alpha'] == 0.5, 'Check grid alpha'\n>>> assert grid.collection_kwargs['linestyle'] == ':', 'Check grid linestyle'\n>>> assert grid.collection_kwargs['color'] == 'k', 'Check grid color'\n",
         "failure_message": "Check the grid.",
         "hidden": false,
         "locked": false,
         "points": 0.2
        },
        {
         "code": ">>> assert fig_5.axes[0].get_xlim() == (-134.3, -70.188), 'Check the x-axis limits. Make sure to specify \"crs\".'\n>>> assert fig_5.axes[0].get_ylim() == (17.5, 60.0), 'Check the y-axis limits. Make sure to specify \"crs\".'\n",
         "failure_message": "Check the axis limits.",
         "hidden": false,
         "locked": false,
         "points": 0.1
        },
        {
         "code": ">>> import matplotlib\n>>> assert np.isclose(np.sum(matplotlib.cm.ScalarMappable(norm=vel_quiver.norm, cmap=vel_quiver.cmap).to_rgba(wind_mag).flatten()), np.sum(vel_quiver.get_facecolor().flatten()), rtol=0.01)\n",
         "failure_message": "Make sure to use the wind magnitude as the colormap key.",
         "hidden": false,
         "locked": false,
         "points": 0.3
        }
       ],
       "scored": true,
       "setup": "",
       "teardown": "",
       "type": "doctest"
      }
     ]
    },
    "q4.0": {
     "name": "q4.0",
     "points": 1,
     "suites": [
      {
       "cases": [
        {
         "code": ">>> assert get_hash(type(q4_0)) != '14e736438b115821cbb9b7ac0ba79034'\n",
         "failure_message": "Make sure to test your function!",
         "hidden": false,
         "locked": false
        },
        {
         "code": ">>> assert get_hash(np.round(mode_shape(0.2, 0.6, 1, 1, 1, 1), decimals=2)) == '2363c78ab7dba59b8443d958b47cfa2b'\n>>> assert get_hash(np.round(mode_shape(0.23, 0.7, 1, 1, 1, 1), decimals=2)) == '676813538852c7111802c95f5ca99e41'\n>>> assert get_hash(np.round(mode_shape(0.3, 0.3, 1, 1, 1, 1), decimals=2)) == '136ba81d3813591cdcc15fcb924b9437'\n>>> assert get_hash(np.round(mode_shape(0.7, 0.8, 1, 1, 1, 1), decimals=2)) == '451d13a5be2581a451c2284dcecddd4e'\n",
         "failure_message": "Check your mode_shape function.",
         "hidden": false,
         "locked": false,
         "points": 0.3
        },
        {
         "code": ">>> assert get_hash(np.round(mode_shape(0.23, 0.7, 1, 1, 3, 4), decimals=2)) == 'ab01272978f4106a12ede6fe2a850be4'\n>>> assert get_hash(np.round(mode_shape(0.3, 0.3, 1, 2, 8, 1), decimals=2)) == '91afec64e32d6bf957e441df2ab638bb'\n>>> assert get_hash(np.round(mode_shape(0.7, 0.8, 2, 2, 5, 5), decimals=2)) == '30565a8911a6bb487e3745c0ea3c8224'\n",
         "failure_message": "Check your mode_shape function.",
         "hidden": false,
         "locked": false,
         "points": 0.3
        },
        {
         "code": ">>> x = np.linspace(0, 1)\n>>> assert get_hash(len(mode_shape(x, x, 1, 1, 1, 1))) == 'c0c7c76d30bd3dcaefc96f40275bdc0a'\n>>> assert get_hash(np.round(np.sum(mode_shape(x, x, 2, 2, 1, 1)), decimals=2)) == '483caca5435deb51f412fc8d3932f4a3'\n",
         "failure_message": "Make sure your mode_shape function works on array inputs.",
         "hidden": false,
         "locked": false,
         "points": 0.3
        }
       ],
       "scored": true,
       "setup": "",
       "teardown": "",
       "type": "doctest"
      }
     ]
    },
    "q4.1": {
     "name": "q4.1",
     "points": 1,
     "suites": [
      {
       "cases": [
        {
         "code": ">>> assert get_hash(len(x_q4_1)) == 'a9b7ba70783b617e9998dc4dd82eb3c5'\n>>> assert get_hash(np.round(np.sum(x_q4_1), decimals=2)) == '1c51ac3926a046148a24ba048afc85cd'\n",
         "failure_message": "Check 1D x grid.",
         "hidden": false,
         "locked": false,
         "points": 0.2
        },
        {
         "code": ">>> assert get_hash(len(y_q4_1)) == 'a9b7ba70783b617e9998dc4dd82eb3c5'\n>>> assert get_hash(np.round(np.sum(y_q4_1), decimals=2)) == '1434f81012ce9c2aba692d5177889ef4'\n",
         "failure_message": "Check 1D y grid.",
         "hidden": false,
         "locked": false,
         "points": 0.2
        },
        {
         "code": ">>> assert get_hash(X_q4_1.shape) == '2c279ef3676bba689eabb103f0a319e8'\n>>> assert get_hash(np.round(np.sum(X_q4_1), decimals=2)) == 'ead4a206965a49fc387fd5b4de90867c'\n",
         "failure_message": "Check 2D X grid.",
         "hidden": false,
         "locked": false,
         "points": 0.2
        },
        {
         "code": ">>> assert get_hash(Y_q4_1.shape) == '2c279ef3676bba689eabb103f0a319e8'\n>>> assert get_hash(np.round(np.sum(Y_q4_1), decimals=2)) == 'be6a5089b8e4ba482c427df57552ad5f'\n",
         "failure_message": "Check 2D Y grid.",
         "hidden": false,
         "locked": false,
         "points": 0.2
        },
        {
         "code": ">>> assert get_hash(Z_q4_1.shape) == '2c279ef3676bba689eabb103f0a319e8'\n>>> assert get_hash(np.round(np.sum(Z_q4_1), decimals=2)) == '30565a8911a6bb487e3745c0ea3c8224'\n",
         "failure_message": "Check Z grid.",
         "hidden": false,
         "locked": false,
         "points": 0.2
        }
       ],
       "scored": true,
       "setup": "",
       "teardown": "",
       "type": "doctest"
      }
     ]
    },
    "q4.2": {
     "name": "q4.2",
     "points": 2,
     "suites": [
      {
       "cases": [
        {
         "code": ">>> assert type(fig_6).__name__ == 'Figure'\n",
         "failure_message": "Make sure to create a figure and assign it to fig_6.",
         "hidden": false,
         "locked": false
        },
        {
         "code": ">>> xdata, ydata, zdata, _ = fig_6.axes[0].collections[0]._vec\n>>> assert get_hash(np.round(np.sum(xdata), decimals=2)) == '45dcb15d4c225238b928e63f5eddd474', ' Check plot X data.'\n>>> assert get_hash(np.round(np.sum(ydata), decimals=2)) == '99ea2a082321fad1f9d6775a288759ce', ' Check plot Y data.'\n>>> assert get_hash(np.round(np.sum(zdata), decimals=2)) == 'b96696b59c1361b5c320f9264a005165', ' Check plot Z data.'\n",
         "failure_message": "Check plot X,Y,Z data.",
         "hidden": false,
         "locked": false,
         "points": 1
        },
        {
         "code": ">>> assert fig_6.axes[0].get_children()[0].get_cmap().name == 'plasma', 'Check colormap.'\n",
         "failure_message": "Check the colormap.",
         "hidden": false,
         "locked": false,
         "points": 0.2
        },
        {
         "code": ">>> assert fig_6.axes[0].get_aspect() == 'equal', 'Check the axes aspect ratio.'\n",
         "failure_message": "Check axis aspect ratio.",
         "hidden": false,
         "locked": false,
         "points": 0.2
        },
        {
         "code": ">>> assert 'X' in fig_6.axes[0].get_xlabel().upper(), 'Check the x-axis label.'\n>>> assert fig_6.axes[0].xaxis.label.get_fontsize() == 12, 'Check the x-axis label fontsize.'\n>>> assert 'Y' in fig_6.axes[0].get_ylabel().upper(), 'Check the y-axis label.'\n>>> assert fig_6.axes[0].yaxis.label.get_fontsize() == 12, 'Check the y-axis label fontsize.'\n>>> assert 'Z' in fig_6.axes[0].get_zlabel().upper(), 'Check the z-axis label.'\n>>> assert fig_6.axes[0].zaxis.label.get_fontsize() == 12, 'Check the y-axis label fontsize.'\n",
         "failure_message": "Check the axis labels and font sizes.",
         "hidden": false,
         "locked": false,
         "points": 0.2
        },
        {
         "code": ">>> title_string = ['NATURAL', 'MODE', 'SHAPE', 'M', '3', 'N', '2']\n>>> assert all((word in fig_6.axes[0].get_title().upper() for word in title_string)), 'Check the title label.'\n>>> assert fig_6.axes[0].title.get_fontsize() == 14, 'Check the title label fontsize.'\n",
         "failure_message": "Check title label and font size.",
         "hidden": false,
         "locked": false,
         "points": 0.2
        }
       ],
       "scored": true,
       "setup": "",
       "teardown": "",
       "type": "doctest"
      }
     ]
    },
    "q4.3": {
     "name": "q4.3",
     "points": 3,
     "suites": [
      {
       "cases": [
        {
         "code": ">>> assert type(fig_7).__name__ == 'Figure'\n",
         "failure_message": "Make sure to create a figure and assign it to fig_7.",
         "hidden": false,
         "locked": false
        },
        {
         "code": ">>> assert axs.shape == (2, 2)\n",
         "failure_message": "Make sure you have a 2x2 subplot layout stored in the variable \"axs\".",
         "hidden": false,
         "locked": false,
         "points": 0.2
        },
        {
         "code": ">>> assert get_hash(len(x_q4_3)) == 'a9b7ba70783b617e9998dc4dd82eb3c5'\n>>> assert get_hash(np.round(np.sum(x_q4_3), decimals=2)) == '02541b7cbb840b5f6bd8eff3c9f56f61'\n",
         "failure_message": "Check 1D x grid.",
         "hidden": false,
         "locked": false,
         "points": 0.1
        },
        {
         "code": ">>> assert get_hash(len(y_q4_3)) == 'a9b7ba70783b617e9998dc4dd82eb3c5'\n>>> assert get_hash(np.round(np.sum(y_q4_3), decimals=2)) == '02541b7cbb840b5f6bd8eff3c9f56f61'\n",
         "failure_message": "Check 1D y grid.",
         "hidden": false,
         "locked": false,
         "points": 0.1
        },
        {
         "code": ">>> assert get_hash(X_q4_3.shape) == '2c279ef3676bba689eabb103f0a319e8'\n>>> assert get_hash(np.round(np.sum(X_q4_3), decimals=2)) == '21819d66f20373895e5f413cfe0e5c0f'\n",
         "failure_message": "Check 2D X grid.",
         "hidden": false,
         "locked": false,
         "points": 0.1
        },
        {
         "code": ">>> assert get_hash(len(Y_q4_3)) == 'a9b7ba70783b617e9998dc4dd82eb3c5'\n>>> assert get_hash(np.round(np.sum(Y_q4_3), decimals=2)) == '21819d66f20373895e5f413cfe0e5c0f'\n",
         "failure_message": "Check 2D Y grid.",
         "hidden": false,
         "locked": false,
         "points": 0.1
        },
        {
         "code": ">>> lst = [1, 2]\n>>> for m in lst:\n...     for n in lst:\n...         xdata, ydata, zdata, _ = axs[m - 1, n - 1].collections[0]._vec\n...         assert get_hash(np.round(np.sum(xdata), decimals=2)) == '3a91fa7fa6da2692cfbd6742e79c06e2'\n...         assert get_hash(np.round(np.sum(ydata), decimals=2)) == '3a91fa7fa6da2692cfbd6742e79c06e2'\n>>> _, _, zdata, _ = axs[0, 0].collections[0]._vec\n>>> assert get_hash(np.round(np.sum(zdata), decimals=2)) == 'a6858f8d22e7550f5bd8cc577a2da5ea', 'Check subplot [0,0] Z data.'\n>>> _, _, zdata, _ = axs[0, 1].collections[0]._vec\n>>> assert get_hash(np.round(np.sum(zdata[100:1000]), decimals=2)) == '8a642ee1b6c4050e12230e0041b2b616', 'Check subplot [0,1] Z data.'\n>>> _, _, zdata, _ = axs[1, 0].collections[0]._vec\n>>> assert get_hash(np.round(np.sum(zdata[100:1000]), decimals=2)) == '3646f381f72d82c4e705fef08499596f', 'Check subplot [1,0] Z data.'\n>>> _, _, zdata, _ = axs[1, 1].collections[0]._vec\n>>> assert get_hash(np.round(np.sum(zdata), decimals=13)) == '6675b023fa02f39f69de008a601c300b', 'Check subplot [1,1] Z data.'\n",
         "failure_message": "Check X,Y,Z data of subplots.",
         "hidden": false,
         "locked": false,
         "points": 1
        },
        {
         "code": ">>> assert fig_7._suptitle.get_text() == 'Mode shapes', 'Check figure suptitle.'\n>>> assert fig_7._suptitle.get_fontsize() == 16, 'Check figure suptitle font size.'\n",
         "failure_message": "Check suptitle and font size.",
         "hidden": false,
         "locked": false,
         "points": 0.1
        },
        {
         "code": ">>> lst = [1, 2]\n>>> for m in lst:\n...     for n in lst:\n...         assert axs[m - 1, n - 1].get_xlabel().upper() == 'X', 'Check x-axis labels.'\n...         assert axs[m - 1, n - 1].get_ylabel().upper() == 'Y', 'Check y-axis labels.'\n...         assert axs[m - 1, n - 1].get_zlabel().upper() == 'Z', 'Check z-axis labels.'\n...         assert axs[m - 1, n - 1].get_title() == 'm = {m}, n = {n}'.format(m=m, n=n), 'Check title labels.'\n",
         "failure_message": "Check subplot labels and titles.",
         "hidden": false,
         "locked": false,
         "points": 0.1
        },
        {
         "code": ">>> lst = [1, 2]\n>>> for m in lst:\n...     for n in lst:\n...         assert axs[m - 1, n - 1].get_children()[0].get_cmap().name == 'coolwarm'\n",
         "failure_message": "Check subplot colormaps.",
         "hidden": false,
         "locked": false,
         "points": 0.1
        }
       ],
       "scored": true,
       "setup": "",
       "teardown": "",
       "type": "doctest"
      }
     ]
    },
    "q5.0": {
     "name": "q5.0",
     "points": 0,
     "suites": [
      {
       "cases": [
        {
         "code": ">>> assert get_hash(np.round(np.sum(theta), decimals=2)) == '9311ad9f26394d518925abac95b99be8'\n",
         "failure_message": "Check 1D theta grid.",
         "hidden": false,
         "locked": false
        },
        {
         "code": ">>> assert get_hash(np.round(np.sum(rr), decimals=2)) == '381a7a26ff2526446cbb97fee6f8505a'\n",
         "failure_message": "Check 1D r grid.",
         "hidden": false,
         "locked": false
        },
        {
         "code": ">>> assert get_hash(np.round(np.sum(r), decimals=2)) == '35ce9af3f1187f980f3b1bebcd574a7b'\n",
         "failure_message": "Check 2D theta grid.",
         "hidden": false,
         "locked": false
        },
        {
         "code": ">>> assert get_hash(np.round(np.sum(t), decimals=2)) == 'b9d0eb1983a1cf8354d55656a60c03fb'\n",
         "failure_message": "Check 2D r grid.",
         "hidden": false,
         "locked": false
        },
        {
         "code": ">>> assert get_hash(np.round(np.sum(pressure), decimals=2)) == '81ba63f8e5af6c7eb551de20fc6f7088'\n",
         "failure_message": "Check pressure calculation.",
         "hidden": false,
         "locked": false
        },
        {
         "code": ">>> assert get_hash(np.round(np.sum(stream), decimals=2)) == '30565a8911a6bb487e3745c0ea3c8224'\n",
         "failure_message": "Check streamline calculation.",
         "hidden": false,
         "locked": false
        },
        {
         "code": ">>> assert get_hash(np.round(np.sum(velocity_potential), decimals=2)) == '55aa3a294d30e95cb206ecfc1b85dee1'\n",
         "failure_message": "Check velocity calculation.",
         "hidden": false,
         "locked": false
        }
       ],
       "scored": true,
       "setup": "",
       "teardown": "",
       "type": "doctest"
      }
     ]
    },
    "q5.1": {
     "name": "q5.1",
     "points": 0,
     "suites": [
      {
       "cases": [
        {
         "code": ">>> assert type(fig_8).__name__ == 'Figure'\n",
         "failure_message": "Make sure to create a figure and assign it to fig_8.",
         "hidden": false,
         "locked": false
        },
        {
         "code": ">>> assert get_hash(X_q5_1.shape) == '2c279ef3676bba689eabb103f0a319e8'\n>>> assert get_hash(np.round(np.sum(X_q5_1), decimals=2)) == '381a7a26ff2526446cbb97fee6f8505a'\n",
         "failure_message": "Check 2D x grid.",
         "hidden": false,
         "locked": false
        },
        {
         "code": ">>> assert get_hash(Y_q5_1.shape) == '2c279ef3676bba689eabb103f0a319e8'\n>>> assert get_hash(np.round(np.sum(Y_q5_1), decimals=2)) == '30565a8911a6bb487e3745c0ea3c8224'\n",
         "failure_message": "Check 2D y grid.",
         "hidden": false,
         "locked": false
        },
        {
         "code": ">>> assert get_hash(np.round(np.sum(velocity_contour.allsegs[1][0]), decimals=2)) == 'ba469849bf567c4e8007be1b7b91e6bc'\n",
         "failure_message": "Check velocity plot data.",
         "hidden": false,
         "locked": false
        },
        {
         "code": ">>> assert get_hash(np.round(np.sum(stream_contour.allsegs[1][0]), decimals=2)) == '31bcc38792a1d10af55283d998eea9c1'\n",
         "failure_message": "Check streamline plot data.",
         "hidden": false,
         "locked": false
        },
        {
         "code": ">>> assert len(cbar_pressure.get_ticks()) == 2, 'Check colorbar ticks.'\n>>> assert np.isclose(cbar_pressure.get_ticks()[0], -150, rtol=0.01), 'Check colorbar ticks.'\n>>> assert np.isclose(cbar_pressure.get_ticks()[1], 50, rtol=0.01), 'Check colorbar ticks.'\n>>> assert cbar_pressure.ax.get_yticklabels()[0].get_text().upper() == 'LOW', 'Check colorbar ticks.'\n>>> assert cbar_pressure.ax.get_yticklabels()[1].get_text().upper() == 'HIGH', 'Check colorbar ticks.'\n",
         "failure_message": "Check the colorbar.",
         "hidden": false,
         "locked": false
        },
        {
         "code": ">>> assert pressure_contour.get_cmap().name == 'jet', 'Check pressure_contour colormap.'\n>>> assert 45 < len(pressure_contour.allsegs) < 55, 'Check pressure_contour levels.'\n",
         "failure_message": "Check pressure plot properites.",
         "hidden": false,
         "locked": false
        },
        {
         "code": ">>> assert 45 < len(stream_contour.allsegs) < 55, 'Check stream_contour levels.'\n",
         "failure_message": "Check streamline contour plot properites.",
         "hidden": false,
         "locked": false
        },
        {
         "code": ">>> assert 45 < len(velocity_contour.levels) < 55, 'Check velocity contour levels.'\n",
         "failure_message": "Check velocity potential contour plot properites.",
         "hidden": false,
         "locked": false
        },
        {
         "code": ">>> assert 'X' in fig_8.axes[0].get_xlabel().upper(), 'Check the x-axis label.'\n>>> assert fig_8.axes[0].xaxis.label.get_fontsize() == 12, 'Check the x-axis label fontsize.'\n>>> assert 'Y' in fig_8.axes[0].get_ylabel().upper(), 'Check the y-axis label.'\n>>> assert fig_8.axes[0].yaxis.label.get_fontsize() == 12, 'Check the y-axis label fontsize.'\n>>> assert 'PRESSURE' in fig_8.axes[0].get_title().upper(), 'Check the title label.'\n>>> assert 'FIELD' in fig_8.axes[0].get_title().upper(), 'Check the title label.'\n>>> assert fig_8.axes[0].title.get_fontsize() == 14, 'Check the title label fontsize.'\n",
         "failure_message": "Check title and axis labels.",
         "hidden": false,
         "locked": false
        },
        {
         "code": ">>> assert fig_8.axes[0].get_xlim() == (-5, 5), 'Check the x-axis limits.'\n>>> assert fig_8.axes[0].get_ylim() == (-5, 5), 'Check the y-axis limits.'\n>>> assert len(fig_8.axes[0].get_xticks()) == 0, 'Check the x-axis ticks.'\n>>> assert len(fig_8.axes[0].get_yticks()) == 0, 'Check the y-axis ticks.'\n",
         "failure_message": "Check axis limits and ticks.",
         "hidden": false,
         "locked": false
        }
       ],
       "scored": true,
       "setup": "",
       "teardown": "",
       "type": "doctest"
      }
     ]
    },
    "q5.2": {
     "name": "q5.2",
     "points": 0,
     "suites": [
      {
       "cases": [
        {
         "code": ">>> assert type(fig_9).__name__ == 'Figure'\n",
         "failure_message": "Make sure to create a figure and assign it to fig_9.",
         "hidden": false,
         "locked": false
        },
        {
         "code": ">>> assert get_hash(vr.shape) == '2c279ef3676bba689eabb103f0a319e8'\n>>> assert get_hash(np.round(np.sum(vr), decimals=2)) == '75cd8970acd3ddaa0d10134c11c32ce7'\n",
         "failure_message": "Check radial velocity (vr) calculation.",
         "hidden": false,
         "locked": false
        },
        {
         "code": ">>> assert get_hash(vt.shape) == '2c279ef3676bba689eabb103f0a319e8'\n>>> assert get_hash(np.round(np.sum(vt), decimals=2)) == 'e80c77464a0cfaf2c46a5574f6bc76b9'\n",
         "failure_message": "Check transverse velocity (vt) calculation.",
         "hidden": false,
         "locked": false
        },
        {
         "code": ">>> assert v_quiver.scale == 200, 'Check quiver plot scale.'\n>>> assert len(v_quiver.X) == 1600, 'Make sure to plot at every 25th grid point only.'\n>>> assert get_hash(np.round(np.sum(v_quiver.X), decimals=2)) == '5ab881cdc85e2fc2abe9a30734de1b5b', 'Make sure to plot at every 25th grid point only.'\n>>> assert len(v_quiver.Y) == 1600, 'Make sure to plot at every 25th grid point only.'\n>>> assert get_hash(np.round(np.sum(v_quiver.Y), decimals=2)) == 'bb42d52e328cb7ecb4a0732d34fd1a71', 'Make sure to plot at every 25th grid point only.'\n",
         "failure_message": "Check quiver plot properties. Make sure to plot at every 25th grid point only.",
         "hidden": false,
         "locked": false
        },
        {
         "code": ">>> assert v_contour.get_cmap().name == 'jet', 'Check v_contour colormap.'\n>>> assert 20 < len(v_contour.levels) < 40, 'Check v_contour levels.'\n>>> assert get_hash(np.round(np.sum(v_contour.allsegs[1][0]), decimals=2)) == '74589c650b9d084383414e93522164d6', 'Check v_contour plot data.'\n",
         "failure_message": "Check contour plot properties.",
         "hidden": false,
         "locked": false
        },
        {
         "code": ">>> assert len(cbar_vel.get_ticks()) == 2, 'Check colorbar ticks.'\n>>> assert np.isclose(cbar_vel.get_ticks()[0], 0, rtol=0.01), 'Check colorbar ticks.'\n>>> assert np.isclose(cbar_vel.get_ticks()[1], 19.99, rtol=0.01), 'Check colorbar ticks.'\n>>> assert cbar_vel.ax.get_yticklabels()[0].get_text() == 'Low', 'Check colorbar ticks.'\n>>> assert cbar_vel.ax.get_yticklabels()[1].get_text() == 'High', 'Check colorbar ticks.'\n",
         "failure_message": "Check colorbar.",
         "hidden": false,
         "locked": false
        },
        {
         "code": ">>> assert 'X' in fig_9.axes[0].get_xlabel().upper(), 'Check the x-axis label.'\n>>> assert fig_9.axes[0].xaxis.label.get_fontsize() == 12, 'Check the x-axis label fontsize.'\n>>> assert 'Y' in fig_9.axes[0].get_ylabel().upper(), 'Check the y-axis label.'\n>>> assert fig_9.axes[0].yaxis.label.get_fontsize() == 12, 'Check the y-axis label fontsize.'\n>>> assert 'VELOCITY' in fig_9.axes[0].get_title().upper(), 'Check the title label.'\n>>> assert 'FIELD' in fig_9.axes[0].get_title().upper(), 'Check the title label.'\n>>> assert fig_9.axes[0].title.get_fontsize() == 14, 'Check the title label fontsize.'\n",
         "failure_message": "Check title and axis labels.",
         "hidden": false,
         "locked": false
        },
        {
         "code": ">>> assert fig_9.axes[0].get_xlim() == (-3, 3), 'Check the x-axis limits.'\n>>> assert fig_9.axes[0].get_ylim() == (-3, 3), 'Check the y-axis limits.'\n>>> assert len(fig_9.axes[0].get_xticks()) == 0, 'Check the x-axis ticks.'\n>>> assert len(fig_9.axes[0].get_yticks()) == 0, 'Check the y-axis ticks.'\n",
         "failure_message": "Check axis limits.",
         "hidden": false,
         "locked": false
        }
       ],
       "scored": true,
       "setup": "",
       "teardown": "",
       "type": "doctest"
      }
     ]
    }
   }
  }
 },
 "nbformat": 4,
 "nbformat_minor": 4
}
