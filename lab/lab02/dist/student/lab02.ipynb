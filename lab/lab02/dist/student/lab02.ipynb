{
 "cells": [
  {
   "cell_type": "code",
   "execution_count": null,
   "metadata": {
    "deletable": false,
    "editable": false
   },
   "outputs": [],
   "source": [
    "# Initialize Otter\n",
    "import otter\n",
    "grader = otter.Notebook(\"lab02.ipynb\")"
   ]
  },
  {
   "cell_type": "markdown",
   "metadata": {},
   "source": [
    "# E7: Lab Assignment 02 - Data Structures & NumPy Arrays\n",
    "\n",
    "You must submit the lab to Gradescope by the due date. You will submit the zip file produced by running the final cell of the assignment.\n",
    "\n",
    "## Instructions\n",
    "\n",
    "**Run the first cell, Initialize Otter**, to import the autograder and submission exporter.\n",
    "\n",
    "Throughout the assignment, replace `...` with your answers. We use `...` as a placeholder and these should be deleted and replaced with your answers.\n",
    "\n",
    "Any part listed as a \"<font color='red'>**Question**</font>\" should be answered to receive credit.\n",
    "\n",
    "**Please save your work after every question!**\n",
    "\n",
    "To read the documentation on a Python function, you can type `help()` and add the function name between parentheses.\n",
    "\n",
    "## Score Breakdown\n",
    "Question   | Points\n",
    ":---       | --:\n",
    "1.0 – 1.9  | 6\n",
    "2          | 2\n",
    "3.0 – 3.5  | 3\n",
    "4.0 – 4.10 | 9\n",
    "5          | 2\n",
    "6.0 – 6.1  | 3\n",
    "Total      | 25\n",
    "\n",
    "**Run the cell below**, to import the required modules."
   ]
  },
  {
   "cell_type": "code",
   "execution_count": null,
   "metadata": {
    "tags": []
   },
   "outputs": [],
   "source": [
    "# Please run this cell, and do not modify the contents\n",
    "import numpy as np\n",
    "import math\n",
    "import matplotlib.pyplot as plt\n",
    "import re\n",
    "import pandas as pd\n",
    "np.seterr(all='ignore');\n",
    "import hashlib\n",
    "def get_hash(num):\n",
    "    \"\"\"Helper function for assessing correctness\"\"\"\n",
    "    return hashlib.md5(str(num).encode()).hexdigest()"
   ]
  },
  {
   "cell_type": "markdown",
   "metadata": {},
   "source": [
    "## Question 1: Elections\n",
    "\n",
    "We need to analyze an election dataset which contains the names of voters and the candidates they voted for.\n",
    "\n",
    "Run the next cell, which reads the data and saves the values as `voters` and `candidates`. In the future, we will learn how to read files in more detail. For now, use the provided command to read the file. The code cell below reads the CSV file, saves its values as a DataFrame `df`, and then extracts each column, saving them as `voters` and `candidates`.\n",
    "\n",
    "Run the cell below and do not modify its contents."
   ]
  },
  {
   "cell_type": "code",
   "execution_count": null,
   "metadata": {},
   "outputs": [],
   "source": [
    "# Please run this cell, and do not modify the contents\n",
    "\n",
    "# Read the data\n",
    "df = pd.read_csv('resources/elections.csv')\n",
    "\n",
    "# Display a sample of the data\n",
    "print(df.head())\n",
    "\n",
    "# Save each column separately\n",
    "voters = df[df.columns[0]].tolist()\n",
    "candidates = df[df.columns[1]].tolist()"
   ]
  },
  {
   "cell_type": "markdown",
   "metadata": {},
   "source": [
    "### Question 1.0\n",
    "\n",
    "What are the data types of `voters` and `candidates`? Assign them to the variables `type_voters` and `type_candidates`, respectively."
   ]
  },
  {
   "cell_type": "code",
   "execution_count": null,
   "metadata": {
    "tags": []
   },
   "outputs": [],
   "source": [
    "# ANSWER CELL\n",
    "type_voters = ...\n",
    "type_candidates = ...\n",
    "\n",
    "print(f'Type voters: {type_voters} \\nType candidates: {type_candidates}')"
   ]
  },
  {
   "cell_type": "code",
   "execution_count": null,
   "metadata": {
    "deletable": false,
    "editable": false
   },
   "outputs": [],
   "source": [
    "grader.check(\"q1.0\")"
   ]
  },
  {
   "cell_type": "markdown",
   "metadata": {},
   "source": [
    "### Question 1.1\n",
    "\n",
    "What are the data types of the elements stored in `voters` and `candidates`? Assign these data types to the variables `elem_type_voters` and `elem_type_candidates`, respectively. Assume that all elements in `voters` have the same data type and all elements in `candidates` have the same data type. "
   ]
  },
  {
   "cell_type": "code",
   "execution_count": null,
   "metadata": {
    "tags": []
   },
   "outputs": [],
   "source": [
    "# ANSWER CELL\n",
    "elem_type_voters = ...\n",
    "elem_type_candidates = ...\n",
    "\n",
    "print(f'Type voters elements: {elem_type_voters} \\nType candidates elements: {elem_type_candidates}')"
   ]
  },
  {
   "cell_type": "code",
   "execution_count": null,
   "metadata": {
    "deletable": false,
    "editable": false
   },
   "outputs": [],
   "source": [
    "grader.check(\"q1.1\")"
   ]
  },
  {
   "cell_type": "markdown",
   "metadata": {},
   "source": [
    "### Question 1.2\n",
    "\n",
    "What is the total number of registered voters who voted? Assign your answer to the variable `num_voters`. Do not just manually type the numeric answer. Use Python functions to determine the value."
   ]
  },
  {
   "cell_type": "code",
   "execution_count": null,
   "metadata": {
    "tags": []
   },
   "outputs": [],
   "source": [
    "# ANSWER CELL\n",
    "num_voters = ...\n",
    "\n",
    "print(f'Number of voters: {num_voters}')"
   ]
  },
  {
   "cell_type": "code",
   "execution_count": null,
   "metadata": {
    "deletable": false,
    "editable": false
   },
   "outputs": [],
   "source": [
    "grader.check(\"q1.2\")"
   ]
  },
  {
   "cell_type": "markdown",
   "metadata": {},
   "source": [
    "### Question 1.3\n",
    "\n",
    "If there were 10,372 registered voters, what was the voter turnout? Report you answer as a percentage and assign it to variable `turnout_voters`. You should compute this value directly in Python and assign the expression that returns the answer to `turnout_voters`. Do not just manually type the numeric answer. Use Python operators to determine the value.\n",
    "\n",
    "Note that voter turnout is defined as the percentage of registered voters who actually voted."
   ]
  },
  {
   "cell_type": "code",
   "execution_count": null,
   "metadata": {
    "tags": []
   },
   "outputs": [],
   "source": [
    "# ANSWER CELL\n",
    "turnout_voters = ...\n",
    "\n",
    "print(f'Voter turnout {turnout_voters} %')"
   ]
  },
  {
   "cell_type": "code",
   "execution_count": null,
   "metadata": {
    "deletable": false,
    "editable": false
   },
   "outputs": [],
   "source": [
    "grader.check(\"q1.3\")"
   ]
  },
  {
   "cell_type": "markdown",
   "metadata": {},
   "source": [
    "### Question 1.4\n",
    "\n",
    "Note that the data are organized such that `voters[i]` voted for `candidates[i]` for every index `i`. Assume that the names of the voters are unique, such that the same name does not appear twice.\n",
    "\n",
    "Who did Amy King vote for? First, use list methods to find Amy King's index in the list of voters, and then use this to find the candidate they voted for. Assign Amy King's index to `amy_king_index` and the candidate they voted for to `amy_king_vote`. Do not just manually type the answer. Use Python expressions to determine the value."
   ]
  },
  {
   "cell_type": "code",
   "execution_count": null,
   "metadata": {
    "tags": []
   },
   "outputs": [],
   "source": [
    "# ANSWER CELL\n",
    "amy_king_index = ...\n",
    "amy_king_vote = ...\n",
    "\n",
    "print(f'Candidate name: {amy_king_vote}')"
   ]
  },
  {
   "cell_type": "code",
   "execution_count": null,
   "metadata": {
    "deletable": false,
    "editable": false
   },
   "outputs": [],
   "source": [
    "grader.check(\"q1.4\")"
   ]
  },
  {
   "cell_type": "markdown",
   "metadata": {},
   "source": [
    "### Question 1.5\n",
    "\n",
    "We need to write a code that generates the following statement:\n",
    "\n",
    "‘In the recent elections, [Voter Name] voted for [Candidate Name].’\n",
    "\n",
    "In this statement, the words in brackets will be replaced with the name of a voter and the candidate they voted for.\n",
    "\n",
    "To achieve this, we will use functions. A function in Python is a block of reusable code that performs a specific task. It can take input, process it, and return an output. We will learn about functions in more detail next week.\n",
    "\n",
    "For this task, you will modify a pre-made function called `VoterInfo`, which takes the name of a voter as input and outputs the desired statement.\n",
    "\n",
    "Assume that `name` is a variable that contains a voter's name as a string, exactly as it appears in `voters`. Your goal is to assign the string that includes the output statement for any `name` to the variable `string`. Be careful with your string formatting. Any small modification, such as an extra space or character, may result in a failed test. The expression you assign to `string` should work for any value of `name`.\n",
    "\n",
    "Here are some examples and their expected outputs:\n",
    "\n",
    "```\n",
    ">>> VoterInfo(name = 'Amy King')\n",
    "'In the recent elections, Amy King voted for Lila Martinez.'\n",
    "\n",
    ">>> VoterInfo(name = 'Laura Harrison')\n",
    "'In the recent elections, Laura Harrison voted for Zach Johnson.'\n",
    "```"
   ]
  },
  {
   "cell_type": "code",
   "execution_count": null,
   "metadata": {
    "tags": []
   },
   "outputs": [],
   "source": [
    "# ANSWER CELL\n",
    "\n",
    "def VoterInfo(name):\n",
    "    \n",
    "    ########### DO NOT MODIFY ABOVE THIS LINE ###########\n",
    "    \n",
    "    # Keep string indented at the same level as other lines of code\n",
    "    string = ...\n",
    "    \n",
    "    ########### DO NOT MODIFY BELOW THIS LINE ###########\n",
    "    return string"
   ]
  },
  {
   "cell_type": "code",
   "execution_count": null,
   "metadata": {
    "tags": []
   },
   "outputs": [],
   "source": [
    "# TEST YOUR FUNCTION\n",
    "# Feel free to try different names to confirm that your function works for any input\n",
    "# Note that the name should be in the list voters. Otherwise, you will get an error\n",
    "\n",
    "VoterInfo(name = 'Amy King')"
   ]
  },
  {
   "cell_type": "code",
   "execution_count": null,
   "metadata": {
    "deletable": false,
    "editable": false
   },
   "outputs": [],
   "source": [
    "grader.check(\"q1.5\")"
   ]
  },
  {
   "cell_type": "markdown",
   "metadata": {},
   "source": [
    "### Question 1.6\n",
    "\n",
    "How many total votes did candidate Lila Martinez get? Save this as variable`votes_LM`. Note that your answer should be an integer. Do not just manually type the answer. Use Python expressions to determine the value.\n",
    "\n",
    "You may find the list methods we discussed in the lecture helpful."
   ]
  },
  {
   "cell_type": "code",
   "execution_count": null,
   "metadata": {
    "tags": []
   },
   "outputs": [],
   "source": [
    "# ANSWER CELL\n",
    "votes_LM = ...\n",
    "\n",
    "print(f'Total votes Lila Martinez: {votes_LM}')"
   ]
  },
  {
   "cell_type": "code",
   "execution_count": null,
   "metadata": {
    "deletable": false,
    "editable": false
   },
   "outputs": [],
   "source": [
    "grader.check(\"q1.6\")"
   ]
  },
  {
   "cell_type": "markdown",
   "metadata": {},
   "source": [
    "### Question 1.7\n",
    "\n",
    "Create a list named `votes` that includes the total number of votes that candidates Lila Martinez, Zach Johnson, and Tyler Davis received, in this order. Do not just manually type the answer. Use Python expressions to determine the value."
   ]
  },
  {
   "cell_type": "code",
   "execution_count": null,
   "metadata": {
    "tags": []
   },
   "outputs": [],
   "source": [
    "# ANSWER CELL\n",
    "votes = ...\n",
    "\n",
    "print(f'Total votes: {votes}')"
   ]
  },
  {
   "cell_type": "code",
   "execution_count": null,
   "metadata": {
    "deletable": false,
    "editable": false
   },
   "outputs": [],
   "source": [
    "grader.check(\"q1.7\")"
   ]
  },
  {
   "cell_type": "markdown",
   "metadata": {},
   "source": [
    "### Question 1.8\n",
    "\n",
    "Someone claims that candidate Tyler Davis received more votes than either candidate Lila Martinez or candidate Zach Johnson.\n",
    "\n",
    "Construct a logical expression to check if this claim is true or false and assign it to `q1_8`."
   ]
  },
  {
   "cell_type": "code",
   "execution_count": null,
   "metadata": {
    "tags": []
   },
   "outputs": [],
   "source": [
    "# ANSWER CELL\n",
    "q1_8 = ...\n",
    "\n",
    "print(f'Tyler Davis received more votes than either Lila Martinez or Zach Johnson: {q1_8}')"
   ]
  },
  {
   "cell_type": "code",
   "execution_count": null,
   "metadata": {
    "deletable": false,
    "editable": false
   },
   "outputs": [],
   "source": [
    "grader.check(\"q1.8\")"
   ]
  },
  {
   "cell_type": "markdown",
   "metadata": {},
   "source": [
    "### Question 1.9\n",
    "\n",
    "Someone claims that candidate Tyler Davis received more votes than both candidates Lila Martinez and Zach Johnson combined.\n",
    "\n",
    "Construct a logical expression to check if this claim is true or false and assign it to `q1_9`."
   ]
  },
  {
   "cell_type": "code",
   "execution_count": null,
   "metadata": {
    "tags": []
   },
   "outputs": [],
   "source": [
    "# ANSWER CELL\n",
    "q1_9 = ...\n",
    "\n",
    "print(f'Tyler Davis received more votes than Lila Martinez and Zach Johnson combined: {q1_9}')"
   ]
  },
  {
   "cell_type": "code",
   "execution_count": null,
   "metadata": {
    "deletable": false,
    "editable": false
   },
   "outputs": [],
   "source": [
    "grader.check(\"q1.9\")"
   ]
  },
  {
   "cell_type": "markdown",
   "metadata": {},
   "source": [
    "## Question 2: Number Echo\n",
    "\n",
    "We need to write a code that repeats an integer `n` times. For example, if `n = 5`, the output should be\n",
    "\n",
    "‘55555’\n",
    "\n",
    "For this task, you will modify a pre-made function called `Repeat`, which takes an integer input and outputs the desired string.\n",
    "\n",
    "Assume that `n` is a non-negative integer. Your goal is to assign the string that includes the repeated integer `n` for any given value of `n` to the variable `string`. Be careful with your string formatting. Any small modification, such as an extra space or character, may result in a failed test. The expression you assign to `string` should work for any value of `n`.\n",
    "\n",
    "Here are some examples and their expected outputs:\n",
    "\n",
    "```\n",
    ">>> Repeat(n = 4)\n",
    "'4444'\n",
    "\n",
    ">>> Repeat(n = 10)\n",
    "'10101010101010101010'\n",
    "```\n",
    "\n",
    "*Hint: what happens when you multiply a string by an integer?*"
   ]
  },
  {
   "cell_type": "code",
   "execution_count": null,
   "metadata": {
    "tags": []
   },
   "outputs": [],
   "source": [
    "# ANSWER CELL\n",
    "\n",
    "def Repeat(n):\n",
    "    \n",
    "    ########### DO NOT MODIFY ABOVE THIS LINE ###########\n",
    "    \n",
    "    # Keep string indented at the same level as other lines of code\n",
    "    string = ...\n",
    "    \n",
    "    ########### DO NOT MODIFY BELOW THIS LINE ###########\n",
    "    return string"
   ]
  },
  {
   "cell_type": "code",
   "execution_count": null,
   "metadata": {
    "tags": []
   },
   "outputs": [],
   "source": [
    "# TEST YOUR FUNCTION\n",
    "# Feel free to try different n to confirm that your function works for any input\n",
    "\n",
    "Repeat(n = 4)"
   ]
  },
  {
   "cell_type": "code",
   "execution_count": null,
   "metadata": {
    "deletable": false,
    "editable": false
   },
   "outputs": [],
   "source": [
    "grader.check(\"q2\")"
   ]
  },
  {
   "cell_type": "markdown",
   "metadata": {},
   "source": [
    "## Question 3: California Reservoirs\n",
    "\n",
    "For this question, you will analyze water storage of three reservoirs in California from Jan-Dec 2022. First, you will clean and manipulate the data and then, you will calculate basic statistics for each reservoir.\n",
    "\n",
    "The three reservoirs you will analyze are Lake Oroville, Shasta Lake, and Hetch Hetchy Reservoir. Shasta Lake and Lake Oroville are the largest and second-largest reservoirs in California, providing flood-control, hydropower, and water storage for the state. Shasta Lake is a key reservoir within the federal government's Central Valley Project. Similarly, Lake Oroville is a major reservoir in the state government's California State Water Project. Hetch Hetchy reservoir is within Yosemite National Park and provides water to the City of San Francisco and other counties in the San Francisco Bay Area.\n",
    "\n",
    "We will read a text file that includes the monthly storage volumes for each reservoir, taken from January through December 2022, in units of acre-feet. We will provide you with the command to read the file, but in the future, you will learn how to read text files and other file types. In the code cell below, we are reading a text file and saving its values as `reservoir_data`. Run the cell below and do not modify its contents."
   ]
  },
  {
   "cell_type": "code",
   "execution_count": null,
   "metadata": {},
   "outputs": [],
   "source": [
    "# Please run this cell, and do not modify the contents\n",
    "reservoir_data = np.loadtxt('resources/res_vals_int.csv',delimiter='\\t')\n",
    "print(reservoir_data)"
   ]
  },
  {
   "cell_type": "markdown",
   "metadata": {},
   "source": [
    "The 12 rows correspond to the monthly storage volumes and the three columns correspond to the three reservoirs in the following order:\n",
    "1. Lake Oroville\n",
    "2. Shasta Lake\n",
    "3. Hetch Hetchy Reservoir"
   ]
  },
  {
   "cell_type": "markdown",
   "metadata": {},
   "source": [
    "### Question 3.0\n",
    "\n",
    "Create a list `reservoir_names` that includes the following two elements: `'Lake Oroville'` and `'Shasta'` (in the same order as listed here)."
   ]
  },
  {
   "cell_type": "code",
   "execution_count": null,
   "metadata": {
    "tags": []
   },
   "outputs": [],
   "source": [
    "# ANSWER CELL\n",
    "..."
   ]
  },
  {
   "cell_type": "code",
   "execution_count": null,
   "metadata": {},
   "outputs": [],
   "source": [
    "# Run this cell before running grader.check()\n",
    "q3_0 = reservoir_names.copy()"
   ]
  },
  {
   "cell_type": "code",
   "execution_count": null,
   "metadata": {
    "deletable": false,
    "editable": false
   },
   "outputs": [],
   "source": [
    "grader.check(\"q3.0\")"
   ]
  },
  {
   "cell_type": "markdown",
   "metadata": {},
   "source": [
    "### Question 3.1\n",
    "\n",
    "In the list `reservoir_names`, Shasta Lake is listed as just `'Shasta'`. Modify `reservoir_names` to change `'Shasta'` to `'Shasta Lake'`. Do not create a new variable `reservoir_names` – use list indexing."
   ]
  },
  {
   "cell_type": "code",
   "execution_count": null,
   "metadata": {
    "tags": []
   },
   "outputs": [],
   "source": [
    "# ANSWER CELL\n",
    "..."
   ]
  },
  {
   "cell_type": "code",
   "execution_count": null,
   "metadata": {},
   "outputs": [],
   "source": [
    "# Run this cell before running grader.check()\n",
    "q3_1 = reservoir_names.copy()"
   ]
  },
  {
   "cell_type": "code",
   "execution_count": null,
   "metadata": {
    "deletable": false,
    "editable": false
   },
   "outputs": [],
   "source": [
    "grader.check(\"q3.1\")"
   ]
  },
  {
   "cell_type": "markdown",
   "metadata": {},
   "source": [
    "### Question 3.2\n",
    "Our list `reservoir_names` only has two entries! We are missing the third entry `'Hetch Hetchy Reservoir'`. Add `'Hetch Hetchy Reservoir'` to the end of the `reservoir_names` list. Do not redefine the list. Use appropriate list methods that allow you to add an entry to an existing list."
   ]
  },
  {
   "cell_type": "code",
   "execution_count": null,
   "metadata": {
    "tags": []
   },
   "outputs": [],
   "source": [
    "# ANSWER CELL\n",
    "..."
   ]
  },
  {
   "cell_type": "code",
   "execution_count": null,
   "metadata": {},
   "outputs": [],
   "source": [
    "# Run this cell before running grader.check()\n",
    "q3_2 = reservoir_names.copy()"
   ]
  },
  {
   "cell_type": "code",
   "execution_count": null,
   "metadata": {
    "deletable": false,
    "editable": false
   },
   "outputs": [],
   "source": [
    "grader.check(\"q3.2\")"
   ]
  },
  {
   "cell_type": "markdown",
   "metadata": {},
   "source": [
    "### Question 3.3\n",
    "\n",
    "We want to create a range of numbers 1 through 12 to represent the rows within the `reservoir_data` array (i.e., the months Jan - Dec).\n",
    "\n",
    "Create a range of integers from 1 to 12, inclusive, using the `range` function. Store the range of numbers as `months_range`."
   ]
  },
  {
   "cell_type": "code",
   "execution_count": null,
   "metadata": {
    "tags": []
   },
   "outputs": [],
   "source": [
    "# ANSWER CELL\n",
    "..."
   ]
  },
  {
   "cell_type": "code",
   "execution_count": null,
   "metadata": {
    "deletable": false,
    "editable": false
   },
   "outputs": [],
   "source": [
    "grader.check(\"q3.3\")"
   ]
  },
  {
   "cell_type": "markdown",
   "metadata": {},
   "source": [
    "### Question 3.4\n",
    "Convert `months_range` to a list. Store the values as `months_list`. The variable `months_list` should contain the integers 1 through 12, just like `months_range`."
   ]
  },
  {
   "cell_type": "code",
   "execution_count": null,
   "metadata": {
    "tags": []
   },
   "outputs": [],
   "source": [
    "# ANSWER CELL\n",
    "months_list = ...\n",
    "\n",
    "print(months_list)"
   ]
  },
  {
   "cell_type": "code",
   "execution_count": null,
   "metadata": {
    "deletable": false,
    "editable": false
   },
   "outputs": [],
   "source": [
    "grader.check(\"q3.4\")"
   ]
  },
  {
   "cell_type": "markdown",
   "metadata": {},
   "source": [
    "### Question 3.5\n",
    "\n",
    "What is the data type of `reservoir_data`? Assign it to the variable `type_reservoir_data`."
   ]
  },
  {
   "cell_type": "code",
   "execution_count": null,
   "metadata": {
    "tags": []
   },
   "outputs": [],
   "source": [
    "# ANSWER CELL\n",
    "type_reservoir_data = ...\n",
    "\n",
    "type_reservoir_data"
   ]
  },
  {
   "cell_type": "code",
   "execution_count": null,
   "metadata": {
    "deletable": false,
    "editable": false
   },
   "outputs": [],
   "source": [
    "grader.check(\"q3.5\")"
   ]
  },
  {
   "cell_type": "markdown",
   "metadata": {},
   "source": [
    "<div class=\"alert alert-block alert-warning\"> <b>NOTE!</b> The rest of the lab involves working with NumPy arrays. If we haven't covered this topic yet and you have no prior experience with it, please wait until after the next lecture to continue the assignment. </div>"
   ]
  },
  {
   "cell_type": "markdown",
   "metadata": {},
   "source": [
    "## Question 4: California Reservoirs (Continued)\n",
    "\n",
    "Recall that the 12 rows of `reservoir_data` correspond to the monthly storage volumes and the three columns correspond to the three reservoirs in the following order:\n",
    "1. Lake Oroville\n",
    "2. Shasta Lake\n",
    "3. Hetch Hetchy Reservoir\n",
    "\n",
    "### Question 4.0\n",
    "First, slice `reservoir_data` to select the column of data corresponding to Lake Oroville for all months.\n",
    "\n",
    "Store the sliced data as `OrovilleData`. The output should be a vector (not a matrix) of the monthly storage values for Lake Oroville."
   ]
  },
  {
   "cell_type": "code",
   "execution_count": null,
   "metadata": {
    "tags": []
   },
   "outputs": [],
   "source": [
    "# ANSWER CELL\n",
    "..."
   ]
  },
  {
   "cell_type": "code",
   "execution_count": null,
   "metadata": {
    "deletable": false,
    "editable": false
   },
   "outputs": [],
   "source": [
    "grader.check(\"q4.0\")"
   ]
  },
  {
   "cell_type": "markdown",
   "metadata": {},
   "source": [
    "### Question 4.1\n",
    "Slice `reservoir_data` to select the winter storage volumes for Hetch Hetchy Reservoir. For this question, use January, February, and March as the winter months.\n",
    "\n",
    "Store the sliced data as `WinterHetchHetchy`."
   ]
  },
  {
   "cell_type": "code",
   "execution_count": null,
   "metadata": {
    "tags": []
   },
   "outputs": [],
   "source": [
    "# ANSWER CELL\n",
    "..."
   ]
  },
  {
   "cell_type": "code",
   "execution_count": null,
   "metadata": {
    "deletable": false,
    "editable": false
   },
   "outputs": [],
   "source": [
    "grader.check(\"q4.1\")"
   ]
  },
  {
   "cell_type": "markdown",
   "metadata": {},
   "source": [
    "### Question 4.2\n",
    "Slice `reservoir_data` to select the storage volumes for the even months (February, April, ..., October, and December) for Lake Oroville and Hetch Hetchy Reservoir only.\n",
    "\n",
    "Store the sliced data as `EvenMonths`."
   ]
  },
  {
   "cell_type": "code",
   "execution_count": null,
   "metadata": {
    "tags": []
   },
   "outputs": [],
   "source": [
    "# ANSWER CELL\n",
    "..."
   ]
  },
  {
   "cell_type": "code",
   "execution_count": null,
   "metadata": {
    "deletable": false,
    "editable": false
   },
   "outputs": [],
   "source": [
    "grader.check(\"q4.2\")"
   ]
  },
  {
   "cell_type": "markdown",
   "metadata": {},
   "source": [
    "### Question 4.3\n",
    "For each month, how much more water was stored in Lake Oroville than in Hetch Hetchy? Report your answer in thousand acre-feet (TAF).\n",
    "\n",
    "Store the differences in thousand acre-feet as `Diff`.\n",
    "\n",
    "*Hint*: Your answer should be an array which includes the storage difference for each month. This can be achieved using arithmetic operations on slices of `reservoir_data`. Divide by 1000 to convert from acre-feet to TAF."
   ]
  },
  {
   "cell_type": "code",
   "execution_count": null,
   "metadata": {
    "tags": []
   },
   "outputs": [],
   "source": [
    "# ANSWER CELL\n",
    "..."
   ]
  },
  {
   "cell_type": "code",
   "execution_count": null,
   "metadata": {
    "deletable": false,
    "editable": false
   },
   "outputs": [],
   "source": [
    "grader.check(\"q4.3\")"
   ]
  },
  {
   "cell_type": "markdown",
   "metadata": {},
   "source": [
    "### Question 4.4\n",
    "Find the mean storage volume for Summer (July, August, and September) for Shasta Lake. California receives very little rainfall in the summer months, so reservoir storage during these months is of particular interest.\n",
    "\n",
    "Store the mean value as `SummerMeanStorage`.\n",
    "\n",
    "*Hint*: Slice `reservoir_data` to extract the months and reservoir of interest, then calculate the mean of the sliced array. While there are functions to compute the mean directly, built-in function such as `sum()` and `len()` can also be used."
   ]
  },
  {
   "cell_type": "code",
   "execution_count": null,
   "metadata": {
    "tags": []
   },
   "outputs": [],
   "source": [
    "# ANSWER CELL\n",
    "..."
   ]
  },
  {
   "cell_type": "code",
   "execution_count": null,
   "metadata": {
    "deletable": false,
    "editable": false
   },
   "outputs": [],
   "source": [
    "grader.check(\"q4.4\")"
   ]
  },
  {
   "cell_type": "markdown",
   "metadata": {},
   "source": [
    "### Question 4.5\n",
    "Check if the the mean value you computed above, `SummerMeanStorage`, exists in `reservoir_data`. Use membership operators and assign the expression to `q4_5`. The expression should return `True` or `False`, depending on whether the value of `SummerMeanStorage` exists in `reservoir_data` or not."
   ]
  },
  {
   "cell_type": "code",
   "execution_count": null,
   "metadata": {
    "tags": []
   },
   "outputs": [],
   "source": [
    "# ANSWER CELL\n",
    "q4_5 = ...\n",
    "\n",
    "print(f'The mean value exists in reservoir_data: {q4_5}')"
   ]
  },
  {
   "cell_type": "code",
   "execution_count": null,
   "metadata": {
    "deletable": false,
    "editable": false
   },
   "outputs": [],
   "source": [
    "grader.check(\"q4.5\")"
   ]
  },
  {
   "cell_type": "markdown",
   "metadata": {},
   "source": [
    "### Question 4.6\n",
    "For each month, did the storage volume in **Lake Oroville** exceed `SummerMeanStorage`?\n",
    "\n",
    "You should answer this by creating a logical expression using the array `OrovilleData`. The output should be another array that includes `True` or `False` for each month, depending on whether each month had storages higher than `SummerMeanStorage` for Lake Oroville. This should be stored in `q4_6`."
   ]
  },
  {
   "cell_type": "code",
   "execution_count": null,
   "metadata": {
    "tags": []
   },
   "outputs": [],
   "source": [
    "# ANSWER CELL\n",
    "q4_6 = ...\n",
    "\n",
    "print(f'Volume in Lake Oroville exceeded the mean: {q4_6}')"
   ]
  },
  {
   "cell_type": "code",
   "execution_count": null,
   "metadata": {
    "deletable": false,
    "editable": false
   },
   "outputs": [],
   "source": [
    "grader.check(\"q4.6\")"
   ]
  },
  {
   "cell_type": "markdown",
   "metadata": {},
   "source": [
    "### Question 4.7\n",
    "For each month, did the storage volume in **Lake Oroville or Shasta Lake** exceed `SummerMeanStorage`?\n",
    "\n",
    "You should answer this by creating a logical expression using the array `reservoir_data`. The output should be another array that includes `True` or `False` for each month, depending on whether each month had storages higher than `SummerMeanStorage` for either Lake Oroville or Shasta Lake. This should be stored in `q4_7`."
   ]
  },
  {
   "cell_type": "code",
   "execution_count": null,
   "metadata": {
    "tags": []
   },
   "outputs": [],
   "source": [
    "# ANSWER CELL\n",
    "q4_7 = ...\n",
    "\n",
    "print(f'Volume in Lake Oroville or Shasta Lake exceeded the mean: {q4_7}')"
   ]
  },
  {
   "cell_type": "code",
   "execution_count": null,
   "metadata": {
    "deletable": false,
    "editable": false
   },
   "outputs": [],
   "source": [
    "grader.check(\"q4.7\")"
   ]
  },
  {
   "cell_type": "markdown",
   "metadata": {},
   "source": [
    "### Question 4.8\n",
    "For how many months did the storage volume in **Lake Oroville or Shasta Lake** exceed `SummerMeanStorage`?\n",
    "\n",
    "Store the value as `q4_8`.\n",
    "\n",
    "*Hint:* True is equivalent to 1 and False is equivalent to 0. So, you can take the sum of the logical array from the previous question to find the total number of months for which the logical expression is `True`."
   ]
  },
  {
   "cell_type": "code",
   "execution_count": null,
   "metadata": {
    "tags": []
   },
   "outputs": [],
   "source": [
    "# ANSWER CELL\n",
    "q4_8 = ...\n",
    "\n",
    "print(f'Volume in Lake Oroville or Shasta Lake exceeded the mean for {q4_8} months.')"
   ]
  },
  {
   "cell_type": "code",
   "execution_count": null,
   "metadata": {
    "deletable": false,
    "editable": false
   },
   "outputs": [],
   "source": [
    "grader.check(\"q4.8\")"
   ]
  },
  {
   "cell_type": "markdown",
   "metadata": {},
   "source": [
    "### Question 4.9\n",
    "We would like to convert the data in `reservoir_data` from acre-feet to $m^3$. 1 acre-feet is equal to 1233.48 $m^3$.\n",
    "\n",
    "Store the value as `reservoir_data_m3`."
   ]
  },
  {
   "cell_type": "code",
   "execution_count": null,
   "metadata": {
    "tags": []
   },
   "outputs": [],
   "source": [
    "# ANSWER CELL\n",
    "reservoir_data_m3 = ...\n",
    "\n",
    "reservoir_data_m3"
   ]
  },
  {
   "cell_type": "code",
   "execution_count": null,
   "metadata": {
    "deletable": false,
    "editable": false
   },
   "outputs": [],
   "source": [
    "grader.check(\"q4.9\")"
   ]
  },
  {
   "cell_type": "markdown",
   "metadata": {},
   "source": [
    "### Question 4.10\n",
    "Lastly, we want to create a NumPy array that is the same shape of `reservoir_data_m3` but has 1 for each entry where the storage is higher than 2,000,000,000 $m^3$ and 0 otherwise.\n",
    "\n",
    "For example, if we had the storage data shown below, the output should like as follos:\n",
    "\n",
    "$$\\text{Storage: } \\begin{matrix}\n",
    "  [[\\text{2.1e+09}, & \\text{3.1e+09}, & \\text{1.1e+09}] \\\\\n",
    "  \\ [\\text{1.9e+09}, & \\text{1.5e+09}, & \\text{2.2e+09}] \\\\\n",
    "  \\ [\\text{1.3e+09}, & \\text{2.1e+09}, & \\ \\text{1.4e+09}]]\n",
    "  \\end{matrix}\n",
    "  \\rightarrow \n",
    "  \\text{Output: }\n",
    "  \\begin{matrix}\n",
    "  [[\\text{1}, & \\text{1}, & \\text{0}] \\\\\n",
    "  \\ [\\text{0}, & \\text{0}, & \\text{1}] \\\\\n",
    "  \\ [\\text{0}, & \\text{1}, & \\ \\text{0}]]\n",
    "  \\end{matrix}\n",
    "$$\n",
    "\n",
    "Assign the array to the variable `q4_10`. Do not create the array manually. Begin by creating an array that has the shape of interest then modify its elements using indexing and logical expressions. The elements inside `q4_10` should be of type `int`.\n",
    "\n",
    "Note that NumPy arrays have a method called `astype` (`arr.astype('int')`), which converts the floating-point numbers in the array to integers."
   ]
  },
  {
   "cell_type": "code",
   "execution_count": null,
   "metadata": {
    "tags": []
   },
   "outputs": [],
   "source": [
    "# ANSWER CELL\n",
    "..."
   ]
  },
  {
   "cell_type": "code",
   "execution_count": null,
   "metadata": {
    "deletable": false,
    "editable": false
   },
   "outputs": [],
   "source": [
    "grader.check(\"q4.10\")"
   ]
  },
  {
   "cell_type": "markdown",
   "metadata": {},
   "source": [
    "## Question 5: Extract Reservoir Information\n",
    "\n",
    "Using the same dataset of water storage, we need to write a code that takes information about reservoir storage as inputs and then outputs a statement: \n",
    "\n",
    "‘In [Month Name], [Reservoir Name] held [Volume] acre-feet of water.’ \n",
    "\n",
    "In this statement, the words in brackets will be replaced with the name of the input month, reservoir name, and storage volume, respectively.\n",
    "\n",
    "For this task, you will modify a pre-made function called `ReservoirInfo`, which takes the name of a reservoir and the month number as inputs and outputs the desired statement.\n",
    "\n",
    "Assume that `name` is a variable that contains a reservoir's name as a string, exactly as it appears in `reservoir_names` and that `month` is an integer representing the month number, where 1 corresponds to January, 2 corresponds to February, etc. Your goal is to assign the string that includes the output statement for any `name` and `month` to the variable `string`. Be careful with your string formatting. Any small modification, such as an extra space or character, may result in a failed test. The expression you assign to `string` should work for any value of `name` and `month`.\n",
    "\n",
    "Here are some examples and their expected outputs:\n",
    "\n",
    "```\n",
    ">>> ReservoirInfo(name = 'Lake Oroville', month = 1)\n",
    "'In January, Lake Oroville held 1642000 acre-feet of water.'\n",
    "\n",
    ">>> ReservoirInfo(name = 'Shasta Lake', month = 5)\n",
    "'In May, Shasta Lake held 1815000 acre-feet of water.'\n",
    "```\n",
    "\n",
    "Important notes:\n",
    "* [Month Name] should be the full month name of the input number. You may find the [`calendar.month_name[number]`](https://docs.python.org/3/library/calendar.html#calendar.month_name) attribute helpful. To use it, you have to import the module `calendar` first.\n",
    "* [Volume] should be obtained from `reservoir_data` based on the corresponding input month and reservoir name. You may find the list `index()` method helpful (returns the index of the specified element in the list). Note that [Volume] should be an **integer** and not float."
   ]
  },
  {
   "cell_type": "code",
   "execution_count": null,
   "metadata": {
    "tags": []
   },
   "outputs": [],
   "source": [
    "# ANSWER CELL\n",
    "\n",
    "def ReservoirInfo(name,month):\n",
    "\n",
    "    ########### DO NOT MODIFY ABOVE THIS LINE ###########\n",
    "    \n",
    "    # Keep string indented at the same level as other lines of code\n",
    "    string = ...\n",
    "    \n",
    "    ########### DO NOT MODIFY BELOW THIS LINE ###########\n",
    "    return string"
   ]
  },
  {
   "cell_type": "code",
   "execution_count": null,
   "metadata": {
    "tags": []
   },
   "outputs": [],
   "source": [
    "# TEST YOUR FUNCTION\n",
    "# Feel free to try different names and months to confirm that your function works for any input\n",
    "\n",
    "ReservoirInfo(name = 'Lake Oroville', month = 1)"
   ]
  },
  {
   "cell_type": "code",
   "execution_count": null,
   "metadata": {
    "deletable": false,
    "editable": false
   },
   "outputs": [],
   "source": [
    "grader.check(\"q5\")"
   ]
  },
  {
   "cell_type": "markdown",
   "metadata": {},
   "source": [
    "## Question 6: Plot Reservoir Storage\n",
    "\n",
    "Finally for this assignment, you will define the input data and title string for a pre-made plotting function called `plot_storage`.\n",
    "\n",
    "### Question 6.0\n",
    "\n",
    "Assume that `name` is a variable that contains a reservoir's name as a string, exactly as it appears in `reservoir_names`. Your goal is to define `title_string` as a format string to have the reservoir name input, `name`, followed by \"storage in 2022\". For example, a graph of Lake Oroville should have the title \"Lake Oroville storage in 2022\". The variable `title_string` should automatically update based on the input `name`. Be careful with your string formatting. Any small modification, such as extra space or character, will result in a failed test.\n",
    "\n",
    "Then, define `data`, which should include the storage volumes for all months for the corresponding reservoir. `data` should be obtained from `reservoir_data` based on the corresponding input reservoir name. You may find the list `index()` method helpful (returns the index of the specified element in the list)."
   ]
  },
  {
   "cell_type": "code",
   "execution_count": null,
   "metadata": {
    "tags": []
   },
   "outputs": [],
   "source": [
    "# ANSWER CELL\n",
    "def plot_storage(name):\n",
    "    \n",
    "    ########### DO NOT MODIFY ABOVE THIS LINE ###########\n",
    "    \n",
    "    # Keep the lines indented at the same level as other lines of code\n",
    "    title_string = ...\n",
    "    data = ...\n",
    "    \n",
    "    ########### DO NOT MODIFY BELOW THIS LINE ###########\n",
    "    x_label = 'Month'\n",
    "    y_label = 'Reservoir storage (acre-feet)'\n",
    "    plt.plot(months_range, data)\n",
    "    plt.xlabel(x_label)\n",
    "    plt.ylabel(y_label)\n",
    "    plt.title(title_string)\n",
    "    plt.xticks(range(1, 13))\n",
    "    plt.show()\n",
    "    return title_string , data"
   ]
  },
  {
   "cell_type": "code",
   "execution_count": null,
   "metadata": {
    "tags": []
   },
   "outputs": [],
   "source": [
    "# TEST YOUR FUNCTION\n",
    "# Feel free to try different names to confirm that your function works for any input\n",
    "\n",
    "plot_storage(name = 'Lake Oroville')"
   ]
  },
  {
   "cell_type": "code",
   "execution_count": null,
   "metadata": {},
   "outputs": [],
   "source": [
    "# Run this cell before running grader.check()\n",
    "fig1 = plot_storage(name = 'Lake Oroville')\n",
    "fig2 = plot_storage(name = 'Shasta Lake')\n",
    "fig3 = plot_storage(name = 'Hetch Hetchy Reservoir')"
   ]
  },
  {
   "cell_type": "code",
   "execution_count": null,
   "metadata": {
    "deletable": false,
    "editable": false
   },
   "outputs": [],
   "source": [
    "grader.check(\"q6.0\")"
   ]
  },
  {
   "cell_type": "markdown",
   "metadata": {},
   "source": [
    "### Question 6.1\n",
    "\n",
    "The function from Q6.0, returns (sends back) both `title_string` and `data` (see last line in the function). In the code below, we are saving the output of the function as `q6_1`. Evaluate the data type and length of `q6_1` and save them as `q6_1_type` and `q6_1_length`, respectively."
   ]
  },
  {
   "cell_type": "code",
   "execution_count": null,
   "metadata": {
    "tags": []
   },
   "outputs": [],
   "source": [
    "# ANSWER CELL\n",
    "\n",
    "q6_1 = plot_storage(name = 'Lake Oroville')\n",
    "\n",
    "q6_1_type = ...\n",
    "q6_1_length = ...\n",
    "print(f'Type: {q6_1_type} \\nLength: {q6_1_length}')"
   ]
  },
  {
   "cell_type": "code",
   "execution_count": null,
   "metadata": {
    "deletable": false,
    "editable": false
   },
   "outputs": [],
   "source": [
    "grader.check(\"q6.1\")"
   ]
  },
  {
   "cell_type": "markdown",
   "metadata": {},
   "source": [
    "### You're done with this Lab!\n",
    "\n",
    "**Important submission information:** After completing the assignment, click on the Save icon from the Tool Bar &nbsp;<i class=\"fa fa-save\" style=\"font-size:16px;\"></i>&nbsp;. After saving your notebook, **run the cell with** `grader.check_all()` and confirm that you pass the same tests as in the notebook. Then, **run the final cell** `grader.export()` and click the link to download the zip file. Then, go to Gradescope and submit the zip file to the corresponding assignment. \n",
    "\n",
    "**Once you have submitted, stay on the Gradescope page to confirm that you pass the same tests as in the notebook.**"
   ]
  },
  {
   "cell_type": "code",
   "execution_count": null,
   "metadata": {},
   "outputs": [],
   "source": [
    "import matplotlib.image as mpimg\n",
    "img = mpimg.imread('resources/animal.jpg')\n",
    "imgplot = plt.imshow(img)\n",
    "imgplot.axes.get_xaxis().set_visible(False)\n",
    "imgplot.axes.get_yaxis().set_visible(False)\n",
    "print(\"Congrats on finishing this lab!\")\n",
    "plt.show()"
   ]
  },
  {
   "cell_type": "code",
   "execution_count": null,
   "metadata": {},
   "outputs": [],
   "source": []
  },
  {
   "cell_type": "markdown",
   "metadata": {
    "deletable": false,
    "editable": false
   },
   "source": [
    "---\n",
    "\n",
    "To double-check your work, the cell below will rerun all of the autograder tests."
   ]
  },
  {
   "cell_type": "code",
   "execution_count": null,
   "metadata": {
    "deletable": false,
    "editable": false
   },
   "outputs": [],
   "source": [
    "grader.check_all()"
   ]
  },
  {
   "cell_type": "markdown",
   "metadata": {
    "deletable": false,
    "editable": false
   },
   "source": [
    "## Submission\n",
    "\n",
    "Make sure you have run all cells in your notebook in order before running the cell below, so that all images/graphs appear in the output. The cell below will generate a zip file for you to submit. **Please save before exporting!**\n",
    "\n",
    "Make sure you submit the .zip file to Gradescope."
   ]
  },
  {
   "cell_type": "code",
   "execution_count": null,
   "metadata": {
    "deletable": false,
    "editable": false
   },
   "outputs": [],
   "source": [
    "# Save your notebook first, then run this cell to export your submission.\n",
    "grader.export(pdf=False)"
   ]
  },
  {
   "cell_type": "markdown",
   "metadata": {},
   "source": [
    " "
   ]
  }
 ],
 "metadata": {
  "anaconda-cloud": {},
  "kernelspec": {
   "display_name": "Python 3 (ipykernel)",
   "language": "python",
   "name": "python3"
  },
  "language_info": {
   "codemirror_mode": {
    "name": "ipython",
    "version": 3
   },
   "file_extension": ".py",
   "mimetype": "text/x-python",
   "name": "python",
   "nbconvert_exporter": "python",
   "pygments_lexer": "ipython3",
   "version": "3.11.11"
  },
  "otter": {
   "OK_FORMAT": true,
   "assignment_name": "lab02",
   "tests": {
    "q1.0": {
     "name": "q1.0",
     "points": 0.25,
     "suites": [
      {
       "cases": [
        {
         "code": ">>> assert get_hash(type_voters) == '425ed5b515f0a67c6316f0ec499f86bf'\n>>> assert get_hash(type_candidates) == '425ed5b515f0a67c6316f0ec499f86bf'\n",
         "hidden": false,
         "locked": false
        }
       ],
       "scored": true,
       "setup": "",
       "teardown": "",
       "type": "doctest"
      }
     ]
    },
    "q1.1": {
     "name": "q1.1",
     "points": 0.25,
     "suites": [
      {
       "cases": [
        {
         "code": ">>> assert get_hash(elem_type_voters) == '9a86641cdf2fdb47f786dc955264738d'\n>>> assert get_hash(elem_type_candidates) == '9a86641cdf2fdb47f786dc955264738d'\n",
         "hidden": false,
         "locked": false
        }
       ],
       "scored": true,
       "setup": "",
       "teardown": "",
       "type": "doctest"
      }
     ]
    },
    "q1.2": {
     "name": "q1.2",
     "points": 0.5,
     "suites": [
      {
       "cases": [
        {
         "code": ">>> assert get_hash(int(num_voters)) == '0d98b597aa732aea606bde680c3b57d8'\n",
         "hidden": false,
         "locked": false
        }
       ],
       "scored": true,
       "setup": "",
       "teardown": "",
       "type": "doctest"
      }
     ]
    },
    "q1.3": {
     "name": "q1.3",
     "points": 0.5,
     "suites": [
      {
       "cases": [
        {
         "code": ">>> assert get_hash(round(turnout_voters,10)) == '608880fae9997ba4bb218db46e20d6f4'\n",
         "hidden": false,
         "locked": false
        }
       ],
       "scored": true,
       "setup": "",
       "teardown": "",
       "type": "doctest"
      }
     ]
    },
    "q1.4": {
     "name": "q1.4",
     "points": 1,
     "suites": [
      {
       "cases": [
        {
         "code": ">>> assert get_hash(amy_king_index) == '88ccf9a98e8519b2011df33952832f2f'\n>>> assert get_hash(amy_king_vote.upper()) == '25e5a1adec953dde8ae67b8fa66d3369'\n",
         "hidden": false,
         "locked": false
        }
       ],
       "scored": true,
       "setup": "",
       "teardown": "",
       "type": "doctest"
      }
     ]
    },
    "q1.5": {
     "name": "q1.5",
     "points": 1,
     "suites": [
      {
       "cases": [
        {
         "code": ">>> \n>>> # Check data structure\n>>> assert get_hash(len(VoterInfo(name=voters[0]))) == 'ea5d2f1c4608232e07d3aa3d998e5135'\n",
         "failure_message": "Check spacing and data type.",
         "hidden": false,
         "locked": false
        },
        {
         "code": ">>> \n>>> # Check the return type\n>>> assert get_hash(type(VoterInfo(name=voters[0]))) == '9a86641cdf2fdb47f786dc955264738d'\n",
         "failure_message": "Check the return type.",
         "hidden": false,
         "locked": false
        },
        {
         "code": ">>> \n>>> # Check wording of string output\n>>> assert get_hash(\"RECENT\" in VoterInfo(name=voters[0]).upper()) == 'f827cf462f62848df37c5e1e94a4da74'\n>>> assert get_hash(\"ELECTIONS\" in VoterInfo(name=voters[0]).upper()) == 'f827cf462f62848df37c5e1e94a4da74'\n>>> assert get_hash(\"VOTED\" in VoterInfo(name=voters[0]).upper()) == 'f827cf462f62848df37c5e1e94a4da74'\n",
         "failure_message": "Check the wording.",
         "hidden": false,
         "locked": false
        },
        {
         "code": ">>> \n>>> # Check reservoir name\n>>> assert get_hash(\"MARIA WALKER\" in VoterInfo(name=voters[7]).upper()) == 'f827cf462f62848df37c5e1e94a4da74'\n>>> assert get_hash(\"DENNIS BOYD\" in VoterInfo(name=voters[451]).upper()) == 'f827cf462f62848df37c5e1e94a4da74'\n>>> assert get_hash(\"JAMES WILLIAMS\" in VoterInfo(name=voters[6888]).upper()) == 'f827cf462f62848df37c5e1e94a4da74'\n",
         "failure_message": "Check the voter name.",
         "hidden": false,
         "locked": false
        },
        {
         "code": ">>> \n>>> # Check the name of the month\n>>> assert get_hash(\"TYLER DAVIS\" in VoterInfo(name=voters[6201]).upper()) == 'f827cf462f62848df37c5e1e94a4da74'\n>>> assert get_hash(\"LILA MARTINEZ\" in VoterInfo(name=voters[2361]).upper()) == 'f827cf462f62848df37c5e1e94a4da74'\n>>> assert get_hash(\"ZACH JOHNSON\" in VoterInfo(name=voters[67]).upper()) == 'f827cf462f62848df37c5e1e94a4da74'\n",
         "failure_message": "Check the candidate's name.",
         "hidden": false,
         "locked": false
        }
       ],
       "scored": true,
       "setup": "",
       "teardown": "",
       "type": "doctest"
      }
     ]
    },
    "q1.6": {
     "name": "q1.6",
     "points": 0.5,
     "suites": [
      {
       "cases": [
        {
         "code": ">>> assert get_hash(int(votes_LM)) == '43e4e6a6f341e00671e123714de019a8'\n",
         "hidden": false,
         "locked": false
        }
       ],
       "scored": true,
       "setup": "",
       "teardown": "",
       "type": "doctest"
      }
     ]
    },
    "q1.7": {
     "name": "q1.7",
     "points": 1,
     "suites": [
      {
       "cases": [
        {
         "code": ">>> assert get_hash(type(votes)) == '425ed5b515f0a67c6316f0ec499f86bf'\n",
         "hidden": false,
         "locked": false
        },
        {
         "code": ">>> assert get_hash(len(votes)) == 'eccbc87e4b5ce2fe28308fd9f2a7baf3'\n",
         "hidden": false,
         "locked": false
        },
        {
         "code": ">>> assert get_hash(sum(votes)) == '0d98b597aa732aea606bde680c3b57d8'\n>>> assert get_hash(votes[0]) == '43e4e6a6f341e00671e123714de019a8'\n>>> assert get_hash(votes[1]) == '46a558d97954d0692411c861cf78ef79'\n>>> assert get_hash(votes[2]) == '2d2ca7eedf739ef4c3800713ec482e1a'\n",
         "hidden": false,
         "locked": false
        }
       ],
       "scored": true,
       "setup": "",
       "teardown": "",
       "type": "doctest"
      }
     ]
    },
    "q1.8": {
     "name": "q1.8",
     "points": 0.5,
     "suites": [
      {
       "cases": [
        {
         "code": ">>> assert get_hash(q1_8) == 'f827cf462f62848df37c5e1e94a4da74'\n",
         "hidden": false,
         "locked": false
        }
       ],
       "scored": true,
       "setup": "",
       "teardown": "",
       "type": "doctest"
      }
     ]
    },
    "q1.9": {
     "name": "q1.9",
     "points": 0.5,
     "suites": [
      {
       "cases": [
        {
         "code": ">>> assert get_hash(q1_9) == 'f8320b26d30ab433c5a54546d21f414c'\n",
         "hidden": false,
         "locked": false
        }
       ],
       "scored": true,
       "setup": "",
       "teardown": "",
       "type": "doctest"
      }
     ]
    },
    "q2": {
     "name": "q2",
     "points": 2,
     "suites": [
      {
       "cases": [
        {
         "code": ">>> \n>>> # Check data structure\n>>> for i in range(10):\n...     assert len(Repeat(i)) == i\n...     \n>>> for i in range(10,100):\n...     assert len(Repeat(i)) == i*2\n",
         "failure_message": "Check spacing and data type.",
         "hidden": false,
         "locked": false,
         "points": 0.75
        },
        {
         "code": ">>> \n>>> # Check the return type\n>>> assert get_hash(type(Repeat(n = 5))) == '9a86641cdf2fdb47f786dc955264738d'\n",
         "failure_message": "Check the return type.",
         "hidden": false,
         "locked": false,
         "points": 0.25
        },
        {
         "code": ">>> \n>>> # Check string output\n>>> assert get_hash(Repeat(1)) == 'c4ca4238a0b923820dcc509a6f75849b'\n>>> assert get_hash(Repeat(8)) == '8ddcff3a80f4189ca1c9d4d902c3c909'\n>>> assert get_hash(Repeat(12)) == '984719247dace834974b72df7923ee1f'\n>>> assert get_hash(Repeat(22)) == '67ba0218ba471508b94b07a22919454e'\n>>> assert get_hash(Repeat(75)) == 'ba50dbae347c4e5a95a241bec2c0b4da'\n",
         "failure_message": "Check the output.",
         "hidden": false,
         "locked": false,
         "points": 1
        }
       ],
       "scored": true,
       "setup": "",
       "teardown": "",
       "type": "doctest"
      }
     ]
    },
    "q3.0": {
     "name": "q3.0",
     "points": 0.5,
     "suites": [
      {
       "cases": [
        {
         "code": ">>> \n>>> assert get_hash(len(q3_0)) == 'c81e728d9d4c2f636f067f89cc14862c'\n",
         "failure_message": "You should only have two values (for now).",
         "hidden": false,
         "locked": false
        },
        {
         "code": ">>> \n>>> assert get_hash(q3_0[0]) == 'b947db2fb4b5855984587a0d4fabf896'\n",
         "failure_message": "Check value of Lake Oroville entry.",
         "hidden": false,
         "locked": false
        },
        {
         "code": ">>> \n>>> assert get_hash(q3_0[1]) == '36d4e7e1bfd840adcaede22706f227f9'\n",
         "failure_message": "Check value of Shasta Lake entry.",
         "hidden": false,
         "locked": false
        },
        {
         "code": ">>> \n>>> assert get_hash(type(q3_0)) == '425ed5b515f0a67c6316f0ec499f86bf'\n",
         "failure_message": "Check data type of reservoir_names.",
         "hidden": false,
         "locked": false
        }
       ],
       "scored": true,
       "setup": "",
       "teardown": "",
       "type": "doctest"
      }
     ]
    },
    "q3.1": {
     "name": "q3.1",
     "points": 0.5,
     "suites": [
      {
       "cases": [
        {
         "code": ">>> \n>>> assert get_hash(len(q3_1)) == 'c81e728d9d4c2f636f067f89cc14862c'\n",
         "failure_message": "You should still only have two values.",
         "hidden": false,
         "locked": false,
         "points": 0.2
        },
        {
         "code": ">>> \n>>> assert get_hash(q3_1[0]) == 'b947db2fb4b5855984587a0d4fabf896'\n",
         "failure_message": "Do not edit the Lake Oroville entry.",
         "hidden": false,
         "locked": false
        },
        {
         "code": ">>> \n>>> assert get_hash(q3_1[1]) =='dd7d39986c5d807a0248838b12acc7f3' \n",
         "failure_message": "Check value of Shasta Lake entry.",
         "hidden": false,
         "locked": false
        }
       ],
       "scored": true,
       "setup": "",
       "teardown": "",
       "type": "doctest"
      }
     ]
    },
    "q3.2": {
     "name": "q3.2",
     "points": 0.5,
     "suites": [
      {
       "cases": [
        {
         "code": ">>> \n>>> assert get_hash(len(q3_2)) == 'eccbc87e4b5ce2fe28308fd9f2a7baf3'\n",
         "failure_message": "Check length of list.",
         "hidden": false,
         "locked": false
        },
        {
         "code": ">>> \n>>> assert get_hash(q3_2[-1].upper()) == 'e5bb3ed8fc109fa9f05b0d538a30edf8'\n",
         "failure_message": "Check value Hetch Hetchy entry.",
         "hidden": false,
         "locked": false
        }
       ],
       "scored": true,
       "setup": "",
       "teardown": "",
       "type": "doctest"
      }
     ]
    },
    "q3.3": {
     "name": "q3.3",
     "points": 0.5,
     "suites": [
      {
       "cases": [
        {
         "code": ">>> assert get_hash(months_range) == '5319bc85f3a29d6cd7b6b65df958ae78'\n",
         "hidden": false,
         "locked": false
        },
        {
         "code": ">>> \n>>> assert get_hash(months_range[0]) == 'c4ca4238a0b923820dcc509a6f75849b'\n",
         "failure_message": "Check start value.",
         "hidden": false,
         "locked": false
        },
        {
         "code": ">>> \n>>> assert get_hash(months_range[-1]) == 'c20ad4d76fe97759aa27a0c99bff6710'\n",
         "failure_message": "Check end value.",
         "hidden": false,
         "locked": false
        },
        {
         "code": ">>> \n>>> assert get_hash(sum(months_range)) == '35f4a8d465e6e1edc05f3d8ab658c551'\n",
         "failure_message": "Check step size.",
         "hidden": false,
         "locked": false
        }
       ],
       "scored": true,
       "setup": "",
       "teardown": "",
       "type": "doctest"
      }
     ]
    },
    "q3.4": {
     "name": "q3.4",
     "points": 0.5,
     "suites": [
      {
       "cases": [
        {
         "code": ">>> \n>>> assert get_hash(type(months_list)) == '425ed5b515f0a67c6316f0ec499f86bf'\n>>> assert get_hash(len(months_list)) == 'c20ad4d76fe97759aa27a0c99bff6710'\n>>> assert get_hash(sum(months_list)) == '35f4a8d465e6e1edc05f3d8ab658c551'\n",
         "failure_message": "Check months_list.",
         "hidden": false,
         "locked": false
        }
       ],
       "scored": true,
       "setup": "",
       "teardown": "",
       "type": "doctest"
      }
     ]
    },
    "q3.5": {
     "name": "q3.5",
     "points": 0.5,
     "suites": [
      {
       "cases": [
        {
         "code": ">>> assert get_hash(type_reservoir_data) == '30b39aca73d0815f5ca1a06af1412947'\n",
         "hidden": false,
         "locked": false
        }
       ],
       "scored": true,
       "setup": "",
       "teardown": "",
       "type": "doctest"
      }
     ]
    },
    "q4.0": {
     "name": "q4.0",
     "points": 0.5,
     "suites": [
      {
       "cases": [
        {
         "code": ">>> \n>>> assert get_hash(len(OrovilleData)) == 'c20ad4d76fe97759aa27a0c99bff6710'\n",
         "failure_message": "Check length of selection.",
         "hidden": false,
         "locked": false,
         "points": 0.1
        },
        {
         "code": ">>> \n>>> assert get_hash(int(sum(OrovilleData))) == '97c2a51b4ddc77196fa563cd72957c1e'\n",
         "failure_message": "Check which column corresponds to Lake Oroville.",
         "hidden": false,
         "locked": false,
         "points": 0.1
        },
        {
         "code": ">>> assert get_hash(OrovilleData.astype(int)) == 'd57f3682934eebd41c73b68817c6592d'\n",
         "hidden": false,
         "locked": false
        }
       ],
       "scored": true,
       "setup": "",
       "teardown": "",
       "type": "doctest"
      }
     ]
    },
    "q4.1": {
     "name": "q4.1",
     "points": 1,
     "suites": [
      {
       "cases": [
        {
         "code": ">>> \n>>> assert get_hash(len(WinterHetchHetchy)) == 'eccbc87e4b5ce2fe28308fd9f2a7baf3'\n",
         "failure_message": "Check length of selection.",
         "hidden": false,
         "locked": false,
         "points": 0.3
        },
        {
         "code": ">>> \n>>> assert get_hash(int(sum(WinterHetchHetchy))) == '50037bd6578a3e4db86ac430e190f7cb'\n",
         "failure_message": "Check which column corresponds to Hetch Hetchy Reservoir.",
         "hidden": false,
         "locked": false,
         "points": 0.5
        },
        {
         "code": ">>> assert get_hash(WinterHetchHetchy.astype(int)) == '7b67ebf4e3d0d34b2c62dba86b620e1b'\n",
         "hidden": false,
         "locked": false
        }
       ],
       "scored": true,
       "setup": "",
       "teardown": "",
       "type": "doctest"
      }
     ]
    },
    "q4.10": {
     "name": "q4.10",
     "points": 1,
     "suites": [
      {
       "cases": [
        {
         "code": ">>> \n>>> assert get_hash(q4_10.shape) == '52658b9c1506282ca4f20ade14e21d99'\n>>> assert get_hash(type(q4_10)) == '30b39aca73d0815f5ca1a06af1412947'\n",
         "failure_message": "Check the shape and type of the output. It should be an ndarray that has the same shape as the storage data.",
         "hidden": false,
         "locked": false,
         "points": 0.25
        },
        {
         "code": ">>> \n>>> assert get_hash(type(q4_10[0,0])) != '781f5f2052cfb496fa73d70ea1fbdaa8'\n",
         "failure_message": "Check the data type of the entries.",
         "hidden": false,
         "locked": false,
         "points": 0.25
        },
        {
         "code": ">>> \n>>> assert get_hash(sum(q4_10).astype(int)) == '91f3c39cea609dafc87061b3e6686199'\n>>> assert all([i == 0 for i in q4_10[:,-1]])\n>>> assert all([q4_10[i,0] == 1 for i in range(len(q4_10[:,0])) if i < 6])\n>>> assert all([q4_10[i,0] == 0 for i in range(len(q4_10[:,0])) if i > 5])\n>>> assert all([q4_10[i,1] == 1 for i in range(1, len(q4_10[:,1])) if i < 7])\n>>> assert all([q4_10[i,1] == 0 for i in range(1, len(q4_10[:,1])) if i > 6])\n",
         "failure_message": "Check the entries of the output.",
         "hidden": false,
         "locked": false,
         "points": 0.5
        }
       ],
       "scored": true,
       "setup": "",
       "teardown": "",
       "type": "doctest"
      }
     ]
    },
    "q4.2": {
     "name": "q4.2",
     "points": 1,
     "suites": [
      {
       "cases": [
        {
         "code": ">>> \n>>> assert get_hash(len(EvenMonths)) == '1679091c5a880faf6fb5e6087eb1b2dc'\n",
         "failure_message": "Check length of selection.",
         "hidden": false,
         "locked": false,
         "points": 0.3
        },
        {
         "code": ">>> \n>>> assert get_hash(EvenMonths.shape) == 'e186b2fc415e1b6085ca473fcc974c66'\n",
         "failure_message": "Check slice selection.",
         "hidden": false,
         "locked": false,
         "points": 0.5
        },
        {
         "code": ">>> assert get_hash(EvenMonths.astype(int)) == 'b2f43e102ce4fe6ac1033f199ea9cd4b'\n",
         "hidden": false,
         "locked": false
        }
       ],
       "scored": true,
       "setup": "",
       "teardown": "",
       "type": "doctest"
      }
     ]
    },
    "q4.3": {
     "name": "q4.3",
     "points": 1,
     "suites": [
      {
       "cases": [
        {
         "code": ">>> assert get_hash(len(Diff)) == 'c20ad4d76fe97759aa27a0c99bff6710'\n>>> assert get_hash(Diff.shape) == '3f30626b8bdbdc8366257c053839456f'\n>>> assert get_hash(sum(Diff)) == '4a3dd518aa065cd57d5d5acfeb1ff6da'\n>>> assert get_hash(Diff) == 'bde6ec575d6f776bfcb4df36f0e64c28'\n",
         "hidden": false,
         "locked": false
        }
       ],
       "scored": true,
       "setup": "",
       "teardown": "",
       "type": "doctest"
      }
     ]
    },
    "q4.4": {
     "name": "q4.4",
     "points": 1,
     "suites": [
      {
       "cases": [
        {
         "code": ">>> \n>>> assert get_hash(round(SummerMeanStorage)) == '118df32ac7db6de47c75d4ac84e6af2e'\n",
         "failure_message": "Check mean calculation.",
         "hidden": false,
         "locked": false
        }
       ],
       "scored": true,
       "setup": "",
       "teardown": "",
       "type": "doctest"
      }
     ]
    },
    "q4.5": {
     "name": "q4.5",
     "points": 0.5,
     "suites": [
      {
       "cases": [
        {
         "code": ">>> assert get_hash(q4_5) == 'f8320b26d30ab433c5a54546d21f414c'\n",
         "hidden": false,
         "locked": false
        }
       ],
       "scored": true,
       "setup": "",
       "teardown": "",
       "type": "doctest"
      }
     ]
    },
    "q4.6": {
     "name": "q4.6",
     "points": 1,
     "suites": [
      {
       "cases": [
        {
         "code": ">>> assert get_hash(len(q4_6)) == 'c20ad4d76fe97759aa27a0c99bff6710'\n>>> assert get_hash(q4_6.shape) == '3f30626b8bdbdc8366257c053839456f'\n>>> assert get_hash(q4_6) == '453afeb97740796e13cd9c391a6c9c86'\n",
         "hidden": false,
         "locked": false
        }
       ],
       "scored": true,
       "setup": "",
       "teardown": "",
       "type": "doctest"
      }
     ]
    },
    "q4.7": {
     "name": "q4.7",
     "points": 1,
     "suites": [
      {
       "cases": [
        {
         "code": ">>> assert get_hash(len(q4_7)) == 'c20ad4d76fe97759aa27a0c99bff6710'\n>>> assert get_hash(q4_7.shape) == '3f30626b8bdbdc8366257c053839456f'\n>>> assert get_hash(q4_7) == 'bc1f55c0a039c7a0df8b2ece9ceda908'\n",
         "hidden": false,
         "locked": false
        }
       ],
       "scored": true,
       "setup": "",
       "teardown": "",
       "type": "doctest"
      }
     ]
    },
    "q4.8": {
     "name": "q4.8",
     "points": 0.5,
     "suites": [
      {
       "cases": [
        {
         "code": ">>> assert get_hash(q4_8) == '8f14e45fceea167a5a36dedd4bea2543'\n",
         "hidden": false,
         "locked": false
        }
       ],
       "scored": true,
       "setup": "",
       "teardown": "",
       "type": "doctest"
      }
     ]
    },
    "q4.9": {
     "name": "q4.9",
     "points": 0.5,
     "suites": [
      {
       "cases": [
        {
         "code": ">>> assert get_hash(len(reservoir_data_m3)) == 'c20ad4d76fe97759aa27a0c99bff6710'\n>>> assert get_hash(reservoir_data_m3.shape) == '52658b9c1506282ca4f20ade14e21d99'\n>>> assert get_hash(sum(reservoir_data_m3)) == '4170ddab9b71a0810a7a6b5bb1e4444c'\n",
         "hidden": false,
         "locked": false
        }
       ],
       "scored": true,
       "setup": "",
       "teardown": "",
       "type": "doctest"
      }
     ]
    },
    "q5": {
     "name": "q5",
     "points": 2,
     "suites": [
      {
       "cases": [
        {
         "code": ">>> \n>>> # Check data structure\n>>> import calendar\n>>> assert get_hash(len(ReservoirInfo(name=reservoir_names[2],month=2))) == '735b90b4568125ed6c3f678819b6e058'\n",
         "failure_message": "Check spacing and data type.",
         "hidden": false,
         "locked": false,
         "points": 0.25
        },
        {
         "code": ">>> \n>>> # Check the return type\n>>> assert get_hash(type(ReservoirInfo(name=reservoir_names[1],month=5).upper())) == '9a86641cdf2fdb47f786dc955264738d'\n",
         "failure_message": "Check the return type.",
         "hidden": false,
         "locked": false,
         "points": 0.25
        },
        {
         "code": ">>> \n>>> # Check wording of string output\n>>> assert get_hash(\"HELD\" in ReservoirInfo(name=reservoir_names[1],month=5).upper()) == 'f827cf462f62848df37c5e1e94a4da74'\n>>> assert get_hash(\"WATER\" in ReservoirInfo(name=reservoir_names[1],month=5).upper()) == 'f827cf462f62848df37c5e1e94a4da74'\n",
         "failure_message": "Check the wording.",
         "hidden": false,
         "locked": false,
         "points": 0.25
        },
        {
         "code": ">>> \n>>> # Check reservoir name\n>>> assert get_hash(\"SHASTA\" in ReservoirInfo(name=reservoir_names[1],month=8).upper()) == 'f827cf462f62848df37c5e1e94a4da74'\n>>> assert get_hash(\"OROVILLE\" in ReservoirInfo(name=reservoir_names[0],month=8).upper()) == 'f827cf462f62848df37c5e1e94a4da74'\n",
         "failure_message": "Check the lake name.",
         "hidden": false,
         "locked": false,
         "points": 0.25
        },
        {
         "code": ">>> \n>>> # Check the name of the month\n>>> assert get_hash(\"MAY\" in ReservoirInfo(name=reservoir_names[1],month=5).upper()) == 'f827cf462f62848df37c5e1e94a4da74'\n>>> assert get_hash(\"JULY\" in ReservoirInfo(name=reservoir_names[1],month=7).upper()) == 'f827cf462f62848df37c5e1e94a4da74'\n>>> assert get_hash(\"FEBRUARY\" in ReservoirInfo(name=reservoir_names[1],month=2).upper()) == 'f827cf462f62848df37c5e1e94a4da74'\n",
         "failure_message": "Check the month name.",
         "hidden": false,
         "locked": false,
         "points": 0.5
        },
        {
         "code": ">>> \n>>> # Check value\n>>> assert get_hash(\"1621000\" in ReservoirInfo(name=reservoir_names[1],month=1)) == 'f827cf462f62848df37c5e1e94a4da74'\n>>> assert get_hash(\"1690000\" in ReservoirInfo(name=reservoir_names[1],month=2)) == 'f827cf462f62848df37c5e1e94a4da74'\n>>> assert get_hash(\"305100\" in ReservoirInfo(name=reservoir_names[2],month=8)) == 'f827cf462f62848df37c5e1e94a4da74'\n",
         "failure_message": "Check storage value.",
         "hidden": false,
         "locked": false,
         "points": 0.5
        }
       ],
       "scored": true,
       "setup": "",
       "teardown": "",
       "type": "doctest"
      }
     ]
    },
    "q6.0": {
     "name": "q6.0",
     "points": 2,
     "suites": [
      {
       "cases": [
        {
         "code": ">>> \n>>> assert get_hash(fig1[0].upper()) == '00871030319cbec6a516cff2df01cab7'\n>>> assert get_hash(fig2[0].upper()) == 'ab05a7c024ce9e92c0c987edea417f6a'\n>>> assert get_hash(fig3[0].upper()) == 'ad274fcd8f530d1e1b1ddfa131eded78'\n",
         "failure_message": "Check title.",
         "hidden": false,
         "locked": false
        },
        {
         "code": ">>> \n>>> assert get_hash(len(fig1[1])) == 'c20ad4d76fe97759aa27a0c99bff6710'\n>>> assert get_hash(len(fig2[1])) == 'c20ad4d76fe97759aa27a0c99bff6710'\n>>> assert get_hash(len(fig3[1])) == 'c20ad4d76fe97759aa27a0c99bff6710'\n>>> assert get_hash(int(sum(fig1[1]))) == get_hash(int(sum(reservoir_data[:,0])))\n>>> assert get_hash(int(sum(fig2[1]))) == get_hash(int(sum(reservoir_data[:,1])))\n>>> assert get_hash(int(sum(fig3[1]))) == get_hash(int(sum(reservoir_data[:,2])))\n",
         "failure_message": "Check data.",
         "hidden": false,
         "locked": false
        }
       ],
       "scored": true,
       "setup": "",
       "teardown": "",
       "type": "doctest"
      }
     ]
    },
    "q6.1": {
     "name": "q6.1",
     "points": 1,
     "suites": [
      {
       "cases": [
        {
         "code": ">>> assert get_hash(q6_1_type) == '22b3afce62075c7012f8e5041adfee16'\n>>> assert get_hash(q6_1_length) == 'c81e728d9d4c2f636f067f89cc14862c'\n",
         "hidden": false,
         "locked": false
        }
       ],
       "scored": true,
       "setup": "",
       "teardown": "",
       "type": "doctest"
      }
     ]
    }
   }
  }
 },
 "nbformat": 4,
 "nbformat_minor": 4
}
