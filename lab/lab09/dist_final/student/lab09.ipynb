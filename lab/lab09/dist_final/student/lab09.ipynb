{
 "cells": [
  {
   "cell_type": "code",
   "execution_count": null,
   "id": "402227e7",
   "metadata": {
    "deletable": false,
    "editable": false
   },
   "outputs": [],
   "source": [
    "# Initialize Otter\n",
    "import otter\n",
    "grader = otter.Notebook(\"lab09.ipynb\")"
   ]
  },
  {
   "cell_type": "markdown",
   "id": "e92ad991-f70d-48e8-ac76-1859bd977375",
   "metadata": {},
   "source": [
    "# E7: Lab Assignment 09 - Taylor Series & Root Finding\n",
    "\n",
    "You must submit the lab to Gradescope by the due date. You will submit the zip file produced by running the final cell of the assignment.\n",
    "\n",
    "## Instructions\n",
    "\n",
    "**Run the first cell, Initialize Otter**, to import the autograder and submission exporter.\n",
    "\n",
    "Throughout the assignment, replace `...` with your answers. We use `...` as a placeholder and these should be deleted and replaced with your answers.\n",
    "\n",
    "Any part listed as a \"<font color='red'>**Question**</font>\" should be answered to receive credit.\n",
    "\n",
    "**Please save your work after every question!**\n",
    "\n",
    "To read the documentation on a Python function, you can type `help()` and add the function name between parentheses.\n",
    "\n",
    "## Score Breakdown\n",
    "Question  | Points\n",
    ":---      | --:\n",
    "1.0 – 1.4 | 8\n",
    "2         | 3\n",
    "3.0 – 3.2 | 6\n",
    "4         | 4\n",
    "5.0 – 5.2 | 4\n",
    "Total     | 25\n",
    "\n",
    "**Run the cell below**, to import the required modules."
   ]
  },
  {
   "cell_type": "code",
   "execution_count": null,
   "id": "27451379-6e19-4064-b6c0-4f4070f1e31a",
   "metadata": {},
   "outputs": [],
   "source": [
    "# Please run this cell, and do not modify the contents\n",
    "import numpy as np\n",
    "import math\n",
    "import random\n",
    "np.seterr(all='ignore');"
   ]
  },
  {
   "cell_type": "code",
   "execution_count": null,
   "id": "2e9d5784-4f08-44a2-aa4f-d5464b042cb0",
   "metadata": {},
   "outputs": [],
   "source": [
    "import matplotlib.pyplot as plt"
   ]
  },
  {
   "cell_type": "code",
   "execution_count": null,
   "id": "08b645b9-67f3-4674-af0a-a04be160989b",
   "metadata": {},
   "outputs": [],
   "source": [
    "!pip install -q scipy\n",
    "import scipy\n",
    "from scipy.optimize import fsolve"
   ]
  },
  {
   "cell_type": "code",
   "execution_count": null,
   "id": "de966d42-df51-4dfd-9bdb-a8bf2158e24b",
   "metadata": {},
   "outputs": [],
   "source": [
    "import hashlib\n",
    "def get_hash(num):\n",
    "    \"\"\"Helper function for assessing correctness\"\"\"\n",
    "    return hashlib.md5(str(num).encode()).hexdigest()"
   ]
  },
  {
   "cell_type": "markdown",
   "id": "311b11c9-92f7-4644-9419-b3d07aa80752",
   "metadata": {},
   "source": [
    "## Question 1: Sine City\n",
    "\n",
    "There is no direct way to calculate trigonometric functions, even on a computer. In order to find the solution to a given trigonometric function, computers instead use a high accuracy estimate. In this problem, you will implement your own trigonometric function using a Taylor series expansion. Computers actually use the CORDIC algorithm to implement trigonometric functions, logarithms and other floating-point arithmetic operations. You can find more about it [here](https://en.wikipedia.org/wiki/CORDIC) but it is not required for this assignment. "
   ]
  },
  {
   "cell_type": "markdown",
   "id": "9aeb4e10-9ecd-453b-8b82-0bcb0c8c8117",
   "metadata": {
    "deletable": false,
    "editable": false
   },
   "source": [
    "### Question 1.0: Taylor series for sine\n",
    "\n",
    "The Taylor series expansion about zero for sine (with input in radians) is\n",
    "\n",
    "$$\\sin(x) \\approx x - \\dfrac{x^3}{3!} + \\dfrac{x^5}{5!} - \\dfrac{x^7}{7!} + \\dots + (-1)^{(n-1)}\\dfrac{x^{(2n-1)}}{(2n-1)!}$$\n",
    "\n",
    "or in summation notation\n",
    "\n",
    "$$\\sin(x) \\approx \\sum_{n=1}^N (-1)^{(n-1)}\\frac{x^{(2n-1)}}{(2n-1)!}$$\n",
    "\n",
    "For this problem, we will consider the $N^{th}$ Taylor expansion of sine to be the sum of the first $N$ terms of this series. So for example, if $N = 4$:\n",
    "\n",
    "$$\\sin(x) \\approx \\sum_{n=1}^4 (-1)^{(n-1)}\\frac{x^{(2n-1)}}{(2n-1)!} = x - \\dfrac{x^3}{3!} + \\dfrac{x^5}{5!} - \\dfrac{x^7}{7!}$$\n",
    "\n",
    "The approximation above becomes exact as $N$ approaches infinity.\n",
    "\n",
    "Write a function `mySin(X,N)` which computes sine at every radian value in `X` which is a `numpy.ndarray` of floats using the $N^{th}$ Taylor expansion for sine. The input `N` is a scalar integer greater than 0. The output should be the same type and size as `X`.\n",
    "\n",
    "Test your new `mySin(X,N)` function for the examples below and make sure it produces the correct output. Assign the result to `q1_0`.\n",
    "\n",
    "\n",
    "```PYTHON\n",
    "Examples: \n",
    "\n",
    ">>> mySin(np.array([np.pi/2]),5) \n",
    "array([1.00000354])\n",
    "\n",
    ">>> mySin(np.linspace(0,np.pi,3),7)\n",
    "array([0.00000000e+00, 1.00000000e+00, 2.11425676e-05])\n",
    "\n",
    ">>> mySin(np.linspace(0,5*np.pi,6),10)\n",
    "array([ 0.00000000e+00, -5.28919613e-10, -1.04818280e-03, -4.78057566e+00,\n",
    "       -1.78979741e+03, -1.69520866e+05])\n",
    "\n",
    ">>> mySin(np.array([[np.pi/6, np.pi/4],[np.pi/3, np.pi/2]]),10)\n",
    "array([[0.5       , 0.70710678],\n",
    "       [0.8660254 , 1.        ]])\n",
    "```"
   ]
  },
  {
   "cell_type": "code",
   "execution_count": null,
   "id": "2d018a10-b7f4-4b9d-a34b-ad62efac9e16",
   "metadata": {
    "tags": [
     "otter_answer_cell"
    ]
   },
   "outputs": [],
   "source": [
    "# ANSWER CELL\n",
    "..."
   ]
  },
  {
   "cell_type": "code",
   "execution_count": null,
   "id": "d645bf7a-2305-46d9-9215-8b5f1682f5f3",
   "metadata": {
    "tags": [
     "otter_answer_cell"
    ]
   },
   "outputs": [],
   "source": [
    "# TEST YOUR FUNCTION HERE\n",
    "q1_0 = ...\n",
    "\n",
    "print(f'Taylor approximation: {q1_0}')"
   ]
  },
  {
   "cell_type": "code",
   "execution_count": null,
   "id": "930be347",
   "metadata": {
    "deletable": false,
    "editable": false
   },
   "outputs": [],
   "source": [
    "grader.check(\"q1.0\")"
   ]
  },
  {
   "cell_type": "markdown",
   "id": "80ddeee5-6677-4f09-9c3d-c6dd8951d67e",
   "metadata": {
    "deletable": false,
    "editable": false
   },
   "source": [
    "### Question 1.1: Error of Taylor series\n",
    "\n",
    "For a finite number of terms, the error of the Taylor series estimate for sine (expanded about the origin) increases away from the origin. Since NumPy has their own implementation of the sine function, `np.sin()`, we can compute the error between your approximation for sine and the `np.sin()` function. \n",
    "\n",
    "However, and in general, the error is often approximated based on the next term of the Taylor series, since that term is the largest that is being neglected. For example, if the Taylor series for sine is truncated to $N=2$, the error will be on the order of $x^5/5!$, which is the $N+1=3^{rd}$ term of the Taylor series.\n",
    "\n",
    "Define a function named `mySinError(X,N)` which returns two values: (1) the absolute difference between `np.sin()` and your function `mySin()` for all values in `X`, and (2), the absolute value of the $(N+1)^{th}$ term of the Taylor expansion for all values in `X`. Your function should return the error and next term (in this order), both of which should be the same size as `X`\n",
    "\n",
    "Test your function for the examples below. Assign the result to `q1_1`. Feel free to experiment with other inputs.\n",
    "\n",
    "```PYTHON\n",
    "Examples:\n",
    "    \n",
    ">>> mySinError(np.array([2*np.pi]),8)\n",
    "(array([0.09324576]), array([0.10422916]))\n",
    "\n",
    ">>> mySinError(np.linspace(-np.pi, np.pi, 4),2)\n",
    "(array([2.02612013, 0.01022462, 0.01022462, 2.02612013]),\n",
    " array([2.55016404, 0.0104945 , 0.0104945 , 2.55016404]))\n",
    "```"
   ]
  },
  {
   "cell_type": "code",
   "execution_count": null,
   "id": "47aad5a5-809f-4411-9c16-f1a03ad481d8",
   "metadata": {
    "tags": [
     "otter_answer_cell"
    ]
   },
   "outputs": [],
   "source": [
    "# ANSWER CELL\n",
    "..."
   ]
  },
  {
   "cell_type": "code",
   "execution_count": null,
   "id": "e75ae1e5-7199-460d-8aa6-a289b8a1663f",
   "metadata": {
    "tags": [
     "otter_answer_cell"
    ]
   },
   "outputs": [],
   "source": [
    "# TEST YOUR FUNCTION HERE\n",
    "q1_1 = ...\n",
    "\n",
    "print(f'Error using np.sin():  {q1_1[0]}')\n",
    "print(f'Error using next term: {q1_1[1]}')"
   ]
  },
  {
   "cell_type": "code",
   "execution_count": null,
   "id": "2e4e13e8",
   "metadata": {
    "deletable": false,
    "editable": false
   },
   "outputs": [],
   "source": [
    "grader.check(\"q1.1\")"
   ]
  },
  {
   "cell_type": "markdown",
   "id": "baa87d7c-2b6e-4909-a45f-830bde168376",
   "metadata": {
    "deletable": false,
    "editable": false
   },
   "source": [
    "### Question 1.2: Error plot of Taylor series\n",
    "\n",
    "Let us now plot the error and the next term in the Taylor series so that we can compare them visually.\n",
    "\n",
    "Define a function named `PlotError(X,N)` which returns a `matplotlib.pyplot` figure of the absolute error in the $N^{th}$ Taylor approximation for sine and the absolute value of the $(N+1)^{th}$ term of the Taylor expansion for all values in `X` as computed in the previous part.\n",
    "\n",
    "The function should create the figure as follows:\n",
    "* Line plot (1) `X` vs. absolute difference between `np.sin()` and your function `mySin()` for all values in `X`\n",
    "* Line plot (2) `X` vs. absolute value of the $(N+1)^{th}$ term of the Taylor expansion for all values in `X` \n",
    "* A legend with labels 'Error' and 'Next term' for line plots 1 and 2, respectively\n",
    "* X axis label which reads 'X'\n",
    "* Y axis label which reads 'Absolute value'\n",
    "* X axis limits based on the minimum and maximum values in `X`\n",
    "* Title label which reads 'N = {N} Taylor expansion of sine', where {N} is replaced with `N`\n",
    "\n",
    "Test your function for `N = 2` and `X = np.linspace(-N*np.pi/2., N*np.pi/2.)`. Assign the result to `q1_2`. Your output figure should look like Figure 1 shown below. Feel free to experiment with other inputs as well as any plotting options that are not explicitly specified.\n",
    "\n",
    "<center><img src=\"resources/taylor.png\" style=\"width: 500px;\"/>\n",
    "<figcaption style=\"text-align:center\"> Figure 1. Error and next term of N = 2 sine Taylor expansion. </figcaption></center> "
   ]
  },
  {
   "cell_type": "code",
   "execution_count": null,
   "id": "76fa93a1-0847-404a-9759-607b50c57002",
   "metadata": {
    "tags": [
     "otter_answer_cell"
    ]
   },
   "outputs": [],
   "source": [
    "# ANSWER CELL\n",
    "\n",
    "# Do not modify this line\n",
    "import matplotlib.pyplot as plt\n",
    "\n",
    "def PlotError(X,N):\n",
    "    \"\"\"\n",
    "    Plots the absolute error in the Nth Taylor approximation for sine\n",
    "    and the absolute value of the (N+1)th term of the Taylor expansion\n",
    "    \"\"\"\n",
    "    error, next_term = ...\n",
    "    \n",
    "    # Create figure\n",
    "    fig = ...\n",
    "    # Plot error\n",
    "    ...\n",
    "    # Plot next term\n",
    "    ...\n",
    "    # Axis limits\n",
    "    ...\n",
    "    # Title and labels\n",
    "    ...\n",
    "    ...\n",
    "    ...\n",
    "    ...\n",
    "    # Legend\n",
    "    ...\n",
    "    return fig"
   ]
  },
  {
   "cell_type": "code",
   "execution_count": null,
   "id": "1fe19c6b-a620-45fa-a211-779c4a30ca40",
   "metadata": {
    "tags": [
     "otter_answer_cell"
    ]
   },
   "outputs": [],
   "source": [
    "# TEST YOUR FUNCTION HERE\n",
    "q1_2 = ..."
   ]
  },
  {
   "cell_type": "code",
   "execution_count": null,
   "id": "2053505a",
   "metadata": {
    "deletable": false,
    "editable": false
   },
   "outputs": [],
   "source": [
    "grader.check(\"q1.2\")"
   ]
  },
  {
   "cell_type": "markdown",
   "id": "7d9286e0-4d6e-4462-9344-e313dbd64542",
   "metadata": {
    "deletable": false,
    "editable": false
   },
   "source": [
    "### Question 1.3: Using the periodicity of sine\n",
    "\n",
    "The previous question demonstrates that, far enough from the origin, a finite Taylor expansion diverges from the actual solution for sine. One way to improve the accuracy far from the origin is to utilize the periodicity of the sine function. For example, $\\sin(1 + 2\\pi) = \\sin(1)$, and $1$ is closer to the origin than $1 + 2\\pi$. This allows us to calculate $\\sin(1 + 2\\pi)$ more accurately by simply setting it equal to $\\sin(1)$ .\n",
    "\n",
    "In general, the periodicity of the sine function implies that $\\sin(x \\pm 2\\pi) = \\sin(x)$ for all $x$.\n",
    "\n",
    "Write a function `mySinPeriodic(X,N)` which converts every radian value in `X` to the range $[-\\pi, \\pi)$ using the periodicity of sine and then returns the $N^{th}$ Taylor expansion for sine using the converted values as an input. The output should be the same type and size as the input `X`.\n",
    "\n",
    "`X` is a `np.ndarray` of floats. The input `N` is a scalar integer greater than 0.\n",
    "\n",
    "Test your `mySinPeriodic(X,N)` function for the examples below. Assign the output to `q1_3`. Feel free to try it for other inputs.\n",
    "\n",
    "*Hint*: Be careful if you wish to use the Python operator `%`. Applying `X % (2*np.pi)` will map the values to the range $[0, 2\\pi)$. You'll then have to shift values in the range $[\\pi, 2\\pi)$ to the range $[-\\pi, 0)$. \n",
    "For example:\n",
    "* $\\sin(2.5\\pi) = \\sin(2.5\\pi\\,\\%\\,2\\pi) = \\sin(0.5\\pi)$\n",
    "\n",
    "* $\\sin(-2.5\\pi) = \\sin(-2.5\\pi\\,\\%\\,2\\pi) = \\sin(1.5\\pi) = \\sin(1.5\\pi -2\\pi) = \\sin(-0.5\\pi)$\n",
    "\n",
    "So, after running `X % (2*np.pi)`, resulting values that are $<\\pi$ should not be modified and are correct, but resulting values that are $\\geq\\pi$ should be modified by $-2\\pi$.\n",
    "\n",
    "```PYTHON\n",
    "Examples:\n",
    "\n",
    ">>> mySin(np.array([1]),10) # original\n",
    "array([0.84147098])\n",
    "\n",
    ">>> mySinPeriodic(np.array([1]),10)  # periodic\n",
    "array([0.84147098])\n",
    "\n",
    ">>> mySin(np.array([1+20*np.pi]),10)  # original\n",
    "array([-1.49644192e+17])\n",
    "\n",
    ">>> mySinPeriodic(np.array([1+20*np.pi]),10) # periodic\n",
    "array([0.84147098])\n",
    "\n",
    ">>> mySin(np.linspace(0,5*np.pi,6),10) # original\n",
    "array([0.00000000e+00, -5.28919613e-10, -1.04818280e-03, -4.78057566e+00, -1.78979741e+03, -1.69520866e+05])\n",
    "\n",
    ">>> mySinPeriodic(np.linspace(0,5*np.pi,6),10) # periodic\n",
    "array([0.0000000e+00, 5.2891828e-10, 0.0000000e+00, 5.2891828e-10, 0.0000000e+00, 5.2891828e-10])\n",
    "```"
   ]
  },
  {
   "cell_type": "code",
   "execution_count": null,
   "id": "0f205d8c-54cc-45a1-9049-dcb691e1b6db",
   "metadata": {
    "tags": [
     "otter_answer_cell"
    ]
   },
   "outputs": [],
   "source": [
    "# ANSWER CELL\n",
    "..."
   ]
  },
  {
   "cell_type": "code",
   "execution_count": null,
   "id": "e9ba79d6-028a-4d30-981c-5aac1738cddc",
   "metadata": {
    "tags": [
     "otter_answer_cell"
    ]
   },
   "outputs": [],
   "source": [
    "# TEST YOUR FUNCTION HERE\n",
    "q1_3 = ...\n",
    "\n",
    "print(f'Taylor approximation: {q1_3}')"
   ]
  },
  {
   "cell_type": "code",
   "execution_count": null,
   "id": "676c52f4",
   "metadata": {
    "deletable": false,
    "editable": false
   },
   "outputs": [],
   "source": [
    "grader.check(\"q1.3\")"
   ]
  },
  {
   "cell_type": "markdown",
   "id": "5afcc272-9758-4d7c-ae13-ecc0f83d4d21",
   "metadata": {
    "deletable": false,
    "editable": false
   },
   "source": [
    "### Question 1.4: Accurate range of the Taylor series\n",
    "\n",
    "Now, we will examine how well our new and improved approximation for sine work by finding the range of values for which their accuracy is acceptable. Recall that the error is often approximated based on the next term of the Taylor series, the $(N+1)^{th}$ term. Let's refer to this term as $E_{N}$.\n",
    "\n",
    "Our goal is to find the range of angles for which the absolute value of the next term is less than or equal to some tolerance value: $|E_{N}| \\leq tol$\n",
    "\n",
    "Write a function `mySinRange(N,tol)` that finds the range of angles for which $|E_{N}| \\leq tol$. The range should be returned as a 2-element list containing the minimum and maximum angle in radians for which the sine of every angle in between can be found within the given tolerance. \n",
    "\n",
    "*Hints:*\n",
    "* Rewrite this problem as a root solving problem. How can you convert $|E_{N}| \\leq tol$ to a root finding problem?\n",
    "* Write a Python function that returns the values of the function for which you are trying to obtain its roots.\n",
    "* Use `scipy.optimize.fsolve()` to find the roots of the function you defined in the previous step.  Refer to the documentation [here](https://docs.scipy.org/doc/scipy/reference/generated/scipy.optimize.fsolve.html). The two main arguments will be the function you defined in the previous step and some initial guess for the root, `x0`.\n",
    "* Evaluate the output from `scipy.optimize.fsolve()`. Use the fact that the error will be symmetric about the origin (refer to your plots above). If `scipy.optimize.fsolve()` returns an angle `a` as the root, the range over which the approximation is accurate would be `[-|a|, |a|]`.\n",
    "* Consider the periodicity of sine. This implies that if your Taylor approximation is within the tolerance for angles within $[-\\pi, \\pi)$, then it is accurate for all angles if we modify them based on the periodicity of sine. In this case, your function should return the list $[-\\infty, \\infty]$ (recall the built-in `np.inf`).\n",
    "\n",
    "Test your `mySinRange(N, tol)` function for the examples below. Assign the output to `q1_4`. Feel free to try it for other inputs.\n",
    "\n",
    "```PYTHON\n",
    "    Examples:\n",
    "\n",
    "    >>> mySinRange(5,0.1)\n",
    "    [-inf, inf]\n",
    "    \n",
    "    >>> mySinRange(5,0.001)\n",
    "    [-2.6199130820816245, 2.6199130820816245]\n",
    "    \n",
    "    >>> mySinRange(5,1e-8) \n",
    "    [-0.9199017158167089, 0.9199017158167089]\n",
    "```"
   ]
  },
  {
   "cell_type": "code",
   "execution_count": null,
   "id": "a386d438-4728-4864-a765-eec5c20a1c0e",
   "metadata": {
    "tags": [
     "otter_answer_cell"
    ]
   },
   "outputs": [],
   "source": [
    "# ANSWER CELL\n",
    "..."
   ]
  },
  {
   "cell_type": "code",
   "execution_count": null,
   "id": "ae3a0994-751f-48e3-ac24-d839d51ee278",
   "metadata": {
    "tags": [
     "otter_answer_cell"
    ]
   },
   "outputs": [],
   "source": [
    "# TEST YOUR FUNCTION HERE\n",
    "q1_4 = ...\n",
    "\n",
    "print(f'Accurate range: {q1_4} radians')"
   ]
  },
  {
   "cell_type": "code",
   "execution_count": null,
   "id": "33d8fadc",
   "metadata": {
    "deletable": false,
    "editable": false
   },
   "outputs": [],
   "source": [
    "grader.check(\"q1.4\")"
   ]
  },
  {
   "cell_type": "markdown",
   "id": "7ea7b473-0fa7-4bd2-b15b-d59c36b0096e",
   "metadata": {
    "deletable": false,
    "editable": false
   },
   "source": [
    "## Quesion 2: $n^{th}$ root\n",
    "\n",
    "An $n^{th}$ root $r$ of a number $x$ satisfies the equation $$r = \\sqrt[n]{x}$$ which can also be stated as $$r^n = x$$\n",
    "\n",
    "We'll only consider real roots for this problem. Create a function named `nth_root(x,n,a,b,maxiter,tol)` which outputs an approximation of $r$, an $n^{th}$ root of x. This approximation should be computed using the bisection method to find the root of the function $f(r)=r^n−x$. The function inputs should be:\n",
    "* `x`, a strictly positive float for which you want an approximate $n^{th}$ root\n",
    "* `n`, a strictly positive integer specifying the root degree\n",
    "* `a` and `b` are floats such that `a < b`\n",
    "* `maxiter`, a strictly positive integer specifying the maximum number of iterations allowed for the bisection method\n",
    "* `tol`, a strictly positive float specifying the tolerance for the bisection method\n",
    "\n",
    "You may assume that $sign(f(a)) \\neq sign(f(b))$ for the first guess. \n",
    "\n",
    "Set default argument values `maxiter=100` and `tol=1e-16`. Your function should return once the error metric $|f(r)|$ is less than or equal to the tolerance `tol` **or** the bisection method has exceeded `maxiter` iterations. \n",
    "Once you are done, try out your new `my_nth_root(x,n,a,b,maxiter,tol)` function for the examples below in the following cell. Assign the output to `q2`. Feel free to try it for other inputs. Note that you should implement this function using iteration and not recursion.\n",
    "\n",
    "\n",
    "```PYTHON\n",
    "Examples:\n",
    "\n",
    ">>> nth_root(27,3,0,10)\n",
    "3.0\n",
    "\n",
    ">>> nth_root(27,3,0,10,maxiter=10)\n",
    "2.998046875\n",
    "\n",
    ">>> nth_root(27,3,0,10,tol=1e-3)\n",
    "3.000030517578125\n",
    "\n",
    ">>> nth_root(256,4,0,5)\n",
    "4.0\n",
    "\n",
    ">>> nth_root(256,4,-5,0)\n",
    "-4.0\n",
    "```"
   ]
  },
  {
   "cell_type": "code",
   "execution_count": null,
   "id": "ea71a9b2-e10b-4b58-9936-0729f00c502e",
   "metadata": {
    "tags": [
     "otter_answer_cell"
    ]
   },
   "outputs": [],
   "source": [
    "# ANSWER CELL\n",
    "..."
   ]
  },
  {
   "cell_type": "code",
   "execution_count": null,
   "id": "9044d0ad-403b-4a9a-a4f2-384662eca198",
   "metadata": {
    "tags": [
     "otter_answer_cell"
    ]
   },
   "outputs": [],
   "source": [
    "# TEST YOUR FUNCTION HERE\n",
    "q2 = ...\n",
    "\n",
    "print(f'nth root: {q2}')"
   ]
  },
  {
   "cell_type": "code",
   "execution_count": null,
   "id": "498ee8da",
   "metadata": {
    "deletable": false,
    "editable": false
   },
   "outputs": [],
   "source": [
    "grader.check(\"q2\")"
   ]
  },
  {
   "cell_type": "markdown",
   "id": "36cf106a-123e-4614-af1a-48579d623252",
   "metadata": {},
   "source": [
    "## Question 3: Rooting for you\n",
    "\n",
    "Let us now generalize the implementation of the bisection method to any function as well as compare its performance to the Newton-Raphson method."
   ]
  },
  {
   "cell_type": "markdown",
   "id": "addf8ffa-e446-40d4-a79e-2f8f8a4bb35b",
   "metadata": {
    "deletable": false,
    "editable": false
   },
   "source": [
    "### Question 3.0: Bisection Method\n",
    "\n",
    "Write a function named `myBisection(f,a,b,maxiter,tol)` where:\n",
    "* `f` is a function object\n",
    "* `a` and `b` are floats such that `a < b`\n",
    "* `maxiter` is a strictly positive integer specifying the maximum number of iterations allowed\n",
    "* `tol` is a strictly positive float specifying the tolerance\n",
    "\n",
    "Set default argument values `maxiter=100` and `tol=1e-16`. The function should return a list `R` containing the root approximations, i.e. `R[k]` is the estimate of the root of `f` after $k$ iterations of the bisection method.\n",
    "\n",
    "The function should also return the absolute error in a list `E` where, similarly, `E[k]` is the value of $\\lvert f(R[k]) \\rvert$ at iteration $k$. \n",
    "\n",
    "The function should terminate when $\\lvert f(R[k]) \\rvert \\leq$ `tol` or after `maxiter` iterations have been performed. If $N$ iterations of the bisection method have been performed, the two output lists should each have $N +1$ elements. You may assume that $sign(f(a)) \\neq sign(f(b))$ for the first guess. \n",
    "\n",
    "The funciton should return `R` and `E` in this order.\n",
    "\n",
    "**Note**: The inputs `a` and `b` constitute the first iteration of bisection, and therefore `R` and `E`\n",
    "should never be empty. \n",
    "\n",
    "Yest your new `myBisection(f,a,b,maxiter,tol)` function for the examples below. Assign the output to `q3_0`. Feel free to try it for other inputs.\n",
    "\n",
    "```PYTHON\n",
    "Examples:\n",
    "    \n",
    ">>> f = lambda x: x**2 - 2\n",
    ">>> myBisection(f,0,2,tol=1e-1)\n",
    "([1.0, 1.5, 1.25, 1.375, 1.4375], [1.0, 0.25, 0.4375, 0.109375, 0.06640625])\n",
    "\n",
    ">>> f = lambda x: math.sin(x) - math.cos(x)\n",
    ">>> myBisection(f,0,2,tol=1e-2)\n",
    "([1.0, 0.5, 0.75, 0.875, 0.8125, 0.78125], \n",
    " [0.30116867893975674, 0.39815702328616975, 0.050050108850486774, 0.12654664407270189, 0.038323093040207756, 0.005866372111545948])\n",
    "\n",
    ">>> f = lambda x: math.exp(-x) - x**2\n",
    ">>> myBisection(f,0,1,tol=1e-2)\n",
    "([0.5, 0.75, 0.625, 0.6875, 0.71875, 0.703125], [0.3565306597126334, 0.09013344725898531, 0.14463642851899028, 0.030175327970940913, 0.029240485786380888, 0.0006511313011985931])    \n",
    "```"
   ]
  },
  {
   "cell_type": "code",
   "execution_count": null,
   "id": "f89d2342-92bb-4d4b-8a18-8f0c2209fe8f",
   "metadata": {
    "tags": [
     "otter_answer_cell"
    ]
   },
   "outputs": [],
   "source": [
    "# ANSWER CELL\n",
    "..."
   ]
  },
  {
   "cell_type": "code",
   "execution_count": null,
   "id": "8a537232-2d69-41d9-9c1f-28e15de89127",
   "metadata": {
    "tags": [
     "otter_answer_cell"
    ]
   },
   "outputs": [],
   "source": [
    "# TEST YOUR FUNCTION HERE\n",
    "q3_0 = ...\n",
    "\n",
    "print(f'Root approximations: {q3_0[0]}')\n",
    "print(f'Absolute error:      {q3_0[1]}')"
   ]
  },
  {
   "cell_type": "code",
   "execution_count": null,
   "id": "e98467dd",
   "metadata": {
    "deletable": false,
    "editable": false
   },
   "outputs": [],
   "source": [
    "grader.check(\"q3.0\")"
   ]
  },
  {
   "cell_type": "markdown",
   "id": "050dab84-688d-4593-9b25-45d23321d834",
   "metadata": {},
   "source": [
    "<div class=\"alert alert-block alert-warning\"> <b>NOTE!</b> The rest of the lab focuses on another root finding method, Newton Raphson. If we haven't covered this topic yet and you have no prior experience with it, please wait until after the next lecture to continue the assignment. </div>"
   ]
  },
  {
   "cell_type": "markdown",
   "id": "9c79ec12-95d8-43f6-ae83-87dab920594d",
   "metadata": {
    "deletable": false,
    "editable": false
   },
   "source": [
    "### Question 3.1: Newton's Method\n",
    "\n",
    "Define a function `myNewton(f,df,x0,maxiter,tol)` where:\n",
    "* `f` is a function object representing the function $f(x)$\n",
    "* `df` is a function object representing the derivative of $f$\n",
    "* `x0` is an initial estimate of the root (float)\n",
    "* `maxiter` is a strictly positive integer specifying the maximum number of iterations allowed\n",
    "* `tol` is a strictly positive float specifying the tolerance.\n",
    "\n",
    "Set default argument values `maxiter=100` and `tol=1e-16`. The function should return a list `R` containing the root approximations, i.e. `R[0]` is the initial estimate `x0`, and `R[k]` is the estimate of the root of `f` after $k$ iterations of the Newton-Raphson method.\n",
    "\n",
    "The function should also return the absolute error in a list `E` where, similarly, `E[k]` is the value of $\\lvert f(R[k]) \\rvert$ at iteration $k$. \n",
    "\n",
    "The function should terminate when $\\lvert f(R[k]) \\rvert \\leq$ `tol` or after `maxiter` iterations have been performed. If $N$ iterations of Newton's method have been performed, the two output lists should each have $N +1$ elements. You may assume that the derivative of `f` will not be 0 during any iteration for any of the test cases given. \n",
    "\n",
    "The funciton should return `R` and `E` in this order.\n",
    "\n",
    "Test your new `myNewton(f,df,x0,maxiter,tol)` function for the examples below. Assign the output to `q3_1`. Feel free to try it for other inputs.\n",
    "\n",
    "```PYTHON\n",
    "Examples:\n",
    "\n",
    ">>> f = lambda x: x**2 - 2\n",
    ">>> df = lambda x: 2*x\n",
    ">>> myNewton(f,df,1,tol=1e-5)\n",
    "([1, 1.5, 1.4166666666666667, 1.4142156862745099], [1, 0.25, 0.006944444444444642, 6.007304882871267e-06])\n",
    "\n",
    ">>> f = lambda x: math.sin(x) - math.cos(x)\n",
    ">>> df = lambda x: math.cos(x) + math.sin(x)\n",
    ">>> myNewton(f,df,1,tol=1e-5)\n",
    "([1, 0.782041901539138, 0.7853981759997019], [0.30116867893975674, 0.004746462127804163, 1.7822277875723103e-08])\n",
    "\n",
    ">>> f = lambda x: math.sinh(x) - 1\n",
    ">>> df = lambda x: math.cosh(x)\n",
    ">>> myNewton(f,df,-1,tol=1e-8)\n",
    "([-1, 0.4096484296196503, 0.9430603553462776, 0.8827364259018153, 0.8813742438952269, 0.8813735870196955], [2.1752011936438014, 0.578797742601695, 0.08919683435847481, 0.001928274492311477, 9.28962716750803e-07, 2.156053113822054e-13])\n",
    "```"
   ]
  },
  {
   "cell_type": "code",
   "execution_count": null,
   "id": "9bbf872d-a968-4df2-8b71-a9935c4bcf7d",
   "metadata": {
    "tags": [
     "otter_answer_cell"
    ]
   },
   "outputs": [],
   "source": [
    "# ANSWER CELL\n",
    "..."
   ]
  },
  {
   "cell_type": "code",
   "execution_count": null,
   "id": "9fe75f7b-d4fb-44f9-9fcc-b053308992d5",
   "metadata": {
    "tags": [
     "otter_answer_cell"
    ]
   },
   "outputs": [],
   "source": [
    "# TEST YOUR FUNCTION HERE\n",
    "q3_1 = ...\n",
    "\n",
    "print(f'Root approximations: {q3_1[0]}')\n",
    "print(f'Absolute error:      {q3_1[1]}')"
   ]
  },
  {
   "cell_type": "code",
   "execution_count": null,
   "id": "f5457f26",
   "metadata": {
    "deletable": false,
    "editable": false
   },
   "outputs": [],
   "source": [
    "grader.check(\"q3.1\")"
   ]
  },
  {
   "cell_type": "markdown",
   "id": "713c94b7-72bb-41bc-b640-96ffa95e6202",
   "metadata": {
    "deletable": false,
    "editable": false
   },
   "source": [
    "### 3.2: Further Exploration (Optional)\n",
    "\n",
    "In Questions 3.0 and 3.1, you explored two iterative root finding methods. Each of these functions provides a series of $x$ values as the algorithm \"narrows down\" the root. Experiment with different types of functions as well as different initial intervals or estimates, and see how the different root finding methods behave. Do they always converge? How quickly do they converge?\n",
    "\n",
    "To get started, consider the following function:\n",
    "\n",
    "```PYTHON\n",
    "f = lambda x: x**3 - 3*x - 5\n",
    "df = lambda x: 3*x**2 - 3\n",
    "```\n",
    "\n",
    "Plot the error for the two methods against the number of iterations. You should see \"linear convergence\" for one method and \"quadratic convergence\" for the other (quadratic meaning that the number of correct decimal places approximately doubles with each iteration). You may want to use a log plot to see this result. \n",
    "\n",
    "This section will not be graded, but completing it and thinking about the concepts will help improve your understanding of root finding. \n",
    "\n",
    "Some other interesting questions to consider:\n",
    "* Find a function $f(x)$ and guess for the root, $x_0$, such that the Newton-Raphson method oscillates between $x_0$ and $−x_0$ indefinitely.\n",
    "* Why does the bisection method fail on $f(x) = 1/x$? "
   ]
  },
  {
   "cell_type": "code",
   "execution_count": null,
   "id": "0073d72c-39c6-485b-8190-7544eaf3f158",
   "metadata": {
    "tags": [
     "otter_answer_cell"
    ]
   },
   "outputs": [],
   "source": [
    "# ANSWER CELL\n",
    "..."
   ]
  },
  {
   "cell_type": "code",
   "execution_count": null,
   "id": "7fb5805a-702f-4c27-ad7b-ca7c30bba9c3",
   "metadata": {
    "tags": [
     "otter_answer_cell"
    ]
   },
   "outputs": [],
   "source": [
    "plt.close(\"all\")"
   ]
  },
  {
   "cell_type": "markdown",
   "id": "087d6ce1-06e1-4bbe-a701-4f7cce2096e1",
   "metadata": {
    "deletable": false,
    "editable": false
   },
   "source": [
    "## Question 4: Bumpy Road\n",
    "\n",
    "The spring shock system in automobiles is an example of a real mechanical system which exhibits damped oscillation over time (see response in Figure 2). The resistance force of the spring $F$ (N), with respect to time $t$ (s), can be modeled with the following equation\n",
    "\n",
    "\\begin{equation*}\n",
    "F(t) = k_1  \\exp{\\left(-\\frac{t}{k_2\\pi}\\right)}\\cos{(\\pi t)} \n",
    "\\end{equation*}\n",
    "\n",
    "where $k_1$ and $k_2$ are known spring constants (N/s).\n",
    "\n",
    "<br>\n",
    "<center><figure>\n",
    "    <table><tr>\n",
    "    <td style=\"vertical-align:center\"> \n",
    "      <p align=\"center\" >\n",
    "        <img src=\"https://cdn.dribbble.com/users/825103/screenshots/3414038/parkers.co.uk.gif\" style=\"width: 575px;\">\n",
    "        <br>\n",
    "      </p> \n",
    "    </td>\n",
    "    <td style=\"vertical-align:center\"> \n",
    "      <p align=\"center\" >\n",
    "        <img src=\"resources/spring.png\" style=\"width:100%\">\n",
    "        <br>\n",
    "      </p> \n",
    "    </td>\n",
    "    </tr></table>\n",
    "    <figcaption style=\"text-align:center\">Figure 2. Damping effect with spring constants $k_1 = 1000$ N/s and $k_2 = 0.6$</figcaption>  \n",
    "</figure></center>\n",
    "\n",
    "\n",
    "We will use the above equation to describe the force on a car's shock system following a speed bump encountered at $t = 0$ seconds. We want to find a time instance near $t = 5$ seconds when the resistance force $F$ is equal to zero. In order to do that, we need to find the root values of $F(t)$.\n",
    "\n",
    "Write a function named `damping_root(k1,k2,t0,method)` where the inputs are:\n",
    "* `k1, k2`: the spring constants defined above.\n",
    "* `t0`: the time instance of interest around which we want to find a root value.\n",
    "* `method`: a string specifying the root finding method \n",
    "\n",
    "The function should return the root of $F(t)$ as determined by the specified method. If `method` is specified as `'newton'`, use your `myNewton` function to solve the problem with the initial estimate `t0` along with `maxiter=100` and `tol=1e-8`. If `method` is specified as `'fsolve'`, use the built-in `scipy.optimize.fsolve` function. Use the initial estimate `t0` along with the default parameters. Refer to the documentation [here](https://docs.scipy.org/doc/scipy/reference/generated/scipy.optimize.fsolve.html).\n",
    "\n",
    "If `method` is neither `'newton'` nor `'fsolve'`, then return the error message 'Invalid method.'\n",
    "\n",
    "Test your `damping_root(k1,k2,t0,method)` function for the examples below. Assign the output to `q4`. Feel free to try it for other inputs.\n",
    "\n",
    "```PYTHON\n",
    "Examples:\n",
    "\n",
    ">>> k1,k2,t0 = 1000,0.6,5.1\n",
    ">>> damping_root(k1,k2,t0,method='newton')\n",
    "5.49999999999843  \n",
    "\n",
    ">>> k1,k2,t0 = 1000,0.6,5.1\n",
    ">>> damping_root(k1,k2,t0,method='fsolve')\n",
    "5.500000000000001\n",
    "\n",
    ">>> k1,k2,t0 = 1000,0.6,4.9\n",
    ">>> damping_root(k1,k2,t0,method='newton')\n",
    "1.499999999999827\n",
    "\n",
    ">>> k1,k2,t0 = 1000,0.6,4.9\n",
    ">>> damping_root(k1,k2,t0,method='fsolve')\n",
    "5.500000000000022\n",
    "\n",
    ">>> k1,k2,t0 = 1000,0.6 4.9\n",
    ">>> damping_root(k1,k2,t0,method='bisection')\n",
    "'Invalid method.'\n",
    "```"
   ]
  },
  {
   "cell_type": "code",
   "execution_count": null,
   "id": "43c5a6d1-46fe-469f-b05e-075f67cd933a",
   "metadata": {
    "tags": [
     "otter_answer_cell"
    ]
   },
   "outputs": [],
   "source": [
    "# ANSWER CELL\n",
    "..."
   ]
  },
  {
   "cell_type": "code",
   "execution_count": null,
   "id": "5fe02ad9-3e85-4108-9c42-3bad9df704b6",
   "metadata": {
    "tags": [
     "otter_answer_cell"
    ]
   },
   "outputs": [],
   "source": [
    "# TEST YOUR FUNCTION HERE\n",
    "q4 = ...\n",
    "\n",
    "print(f'Force = 0 at t = {q4} sec')"
   ]
  },
  {
   "cell_type": "code",
   "execution_count": null,
   "id": "be9222ed",
   "metadata": {
    "deletable": false,
    "editable": false
   },
   "outputs": [],
   "source": [
    "grader.check(\"q4\")"
   ]
  },
  {
   "cell_type": "markdown",
   "id": "870c80ff-095e-4faf-bf09-df7d6e8a7b28",
   "metadata": {},
   "source": [
    "## Question 5: Pipe dream\n",
    "\n",
    "Consider the problem of building a pipeline from an offshore oil platform, a distance $H$ miles from the shoreline, to an oil refinery station on land, a distance $L$ miles along the shore. The cost of building the pipe is $C_{ocean}$ per mile while the pipe is under the ocean and $C_{land}$ per mile while the pipe is on land. The pipe will be built in a straight line toward the shore where it will make contact at some point, $x$, between $0$ and $L$. It will continue along the shore on land until it reaches the oil refinery. See Figure 3 for clarification.\n",
    "\n",
    "<center><img src=\"resources/oil_platform.png\" style=\"width: 400px;\"/>\n",
    "<figcaption style=\"text-align:center\"> Figure 3. Pipeline geometry. </figcaption><center>\n",
    "\n",
    "Our goal is to determine the x-value which minimizes the total cost of the pipeline."
   ]
  },
  {
   "cell_type": "markdown",
   "id": "0f8e7d75-8020-4606-b651-3c1201dfdcb5",
   "metadata": {
    "deletable": false,
    "editable": false
   },
   "source": [
    "### Question 5.0\n",
    "We'll start by formulating the total cost function.\n",
    "Write a function `my_pipe_cost(x,C_ocean,C_land,L,H)` where the input arguments are as described above and the output is the total cost of the the pipeline. \n",
    "\n",
    "Test your `pipe_cost(x,C_ocean,C_land,L,H)` function for the example below. Assign the output to `q5_0`. Feel free to try it for other inputs.\n",
    "\n",
    "\n",
    "```PYTHON\n",
    "Examples:\n",
    ">>>  x, C_ocean, C_land, L, H = 20, 20, 10, 100, 50\n",
    ">>>  pipe_cost(x,C_ocean,C_land,L,H)\n",
    "1877.0329614269008\n",
    "```"
   ]
  },
  {
   "cell_type": "code",
   "execution_count": null,
   "id": "8bd53e95-ca39-477b-bf4c-23326cb848cd",
   "metadata": {
    "tags": [
     "otter_answer_cell"
    ]
   },
   "outputs": [],
   "source": [
    "# ANSWER CELL\n",
    "..."
   ]
  },
  {
   "cell_type": "code",
   "execution_count": null,
   "id": "30fe897a-d83b-43c7-93eb-42dbe4904822",
   "metadata": {
    "tags": [
     "otter_answer_cell"
    ]
   },
   "outputs": [],
   "source": [
    "# TEST YOUR FUNCTION HERE\n",
    "q5_0 = ...\n",
    "\n",
    "print(f'Total cost = ${q5_0}')"
   ]
  },
  {
   "cell_type": "code",
   "execution_count": null,
   "id": "68a33543",
   "metadata": {
    "deletable": false,
    "editable": false
   },
   "outputs": [],
   "source": [
    "grader.check(\"q5.0\")"
   ]
  },
  {
   "cell_type": "markdown",
   "id": "8c7ed9a2-27df-43e6-8dc9-57394f8b74d4",
   "metadata": {
    "deletable": false,
    "editable": false
   },
   "source": [
    "### Question 5.1\n",
    "\n",
    "Next, we need to compute the derivative of the cost function with respect to x. Write a function `pipe_cost_derivative(x,C_ocean,C_land,L,H)` where the input arguments are as described above and the output is the derivative of the cost function evaluated at x. \n",
    "\n",
    "Test your new `pipe_cost_derivative(x,C_ocean,C_land,L,H)` function for the example below. Assign the output to `q5_1`. Feel free to try it for other inputs.\n",
    "\n",
    "\n",
    "```PYTHON\n",
    "Examples:\n",
    ">>>  x, C_ocean, C_land, L, H = 20, 20, 10, 100, 50\n",
    ">>>  pipe_cost_derivative(x,C_ocean,C_land,L,H)\n",
    "-2.5721864729179256\n",
    "```"
   ]
  },
  {
   "cell_type": "code",
   "execution_count": null,
   "id": "e2d707ca-96ce-40a9-8506-641ca14b95ff",
   "metadata": {
    "tags": [
     "otter_answer_cell"
    ]
   },
   "outputs": [],
   "source": [
    "# ANSWER CELL\n",
    "..."
   ]
  },
  {
   "cell_type": "code",
   "execution_count": null,
   "id": "fd34c79a-f1dc-4b7e-8b80-d2611bd18d0e",
   "metadata": {
    "tags": [
     "otter_answer_cell"
    ]
   },
   "outputs": [],
   "source": [
    "# TEST YOUR FUNCTION HERE\n",
    "q5_1 = ...\n",
    "\n",
    "print(f'Derivative = {q5_1} $/mile')"
   ]
  },
  {
   "cell_type": "code",
   "execution_count": null,
   "id": "0ff35e73",
   "metadata": {
    "deletable": false,
    "editable": false
   },
   "outputs": [],
   "source": [
    "grader.check(\"q5.1\")"
   ]
  },
  {
   "cell_type": "markdown",
   "id": "553b2f63-c8a0-402b-8ae1-9c0dd37e1165",
   "metadata": {
    "deletable": false,
    "editable": false
   },
   "source": [
    "## Question 5.2\n",
    "\n",
    "Finally, we'll set the derivative to zero and find the root of the equation which minimizes the cost using the bisection method. \n",
    " \n",
    "Write a function `pipe_builder(C_ocean,C_land,L,H)` where the input arguments are as described above and the output is the x-value that minimizes the cost as well as the total cost itself for this x-value. You should use your `myBisection` function to determine this value to within a tolerance of $10^{-6}$ and a maximum of 100 iterations starting at the initial bound $a=0$ and $b=L$.\n",
    "\n",
    "Test your new `pipe_builder(C_ocean,C_land,L,H)` function for the examples below. Assign the output to `q5_2`. Feel free to try it for other inputs.\n",
    "\n",
    "Do not use any built-in optimization or root-finding functions.\n",
    "\n",
    "```PYTHON\n",
    "Examples:\n",
    ">>> C_ocean,C_land,L,H = 20,10,100,50\n",
    ">>> pipe_builder(C_ocean,C_land,L,H )\n",
    "(28.867512941360474, 1866.0254037844386)\n",
    "\n",
    ">>> C_ocean,C_land,L,H = 30,10,100,50\n",
    ">>> pipe_builder(C_ocean,C_land,L,H)\n",
    "(17.67767071723938, 2414.2135623730956)\n",
    "\n",
    ">>> C_ocean,C_land,L,H = 30,10,100,20\n",
    ">>> pipe_builder(C_ocean,C_land,L,H)\n",
    "(7.07106739282608, 1565.685424949238)\n",
    "```"
   ]
  },
  {
   "cell_type": "code",
   "execution_count": null,
   "id": "dd7d1655-5801-4a37-892c-1cd1f9a2f786",
   "metadata": {
    "tags": [
     "otter_answer_cell"
    ]
   },
   "outputs": [],
   "source": [
    "# ANSWER CELL\n",
    "..."
   ]
  },
  {
   "cell_type": "code",
   "execution_count": null,
   "id": "ed49b83f-3e40-492b-9ac5-80ffaa613637",
   "metadata": {
    "tags": [
     "otter_answer_cell"
    ]
   },
   "outputs": [],
   "source": [
    "# TEST YOUR FUNCTION HERE\n",
    "q5_2 = ...\n",
    "\n",
    "print(f'Optimal x-value =  {q5_2[0]} miles')\n",
    "print(f'Optimal cost    = ${q5_2[1]}')"
   ]
  },
  {
   "cell_type": "code",
   "execution_count": null,
   "id": "6411d549",
   "metadata": {
    "deletable": false,
    "editable": false
   },
   "outputs": [],
   "source": [
    "grader.check(\"q5.2\")"
   ]
  },
  {
   "cell_type": "markdown",
   "id": "b8d62f28-33a3-4e36-a688-5e165dc872fe",
   "metadata": {},
   "source": [
    "### You're done with this Lab!\n",
    "\n",
    "**Important submission information:** After completing the assignment, click on the Save icon from the Tool Bar &nbsp;<i class=\"fa fa-save\" style=\"font-size:16px;\"></i>&nbsp;. After saving your notebook, **run the cell with** `grader.check_all()` and confirm that you pass the same tests as in the notebook. Then, **run the final cell** `grader.export()` and click the link to download the zip file. Then, go to Gradescope and submit the zip file to the corresponding assignment. \n",
    "\n",
    "**Once you have submitted, stay on the Gradescope page to confirm that you pass the same tests as in the notebook.**"
   ]
  },
  {
   "cell_type": "code",
   "execution_count": null,
   "id": "fa5270c5-6d9e-4501-a9ab-4f2d298eb7ce",
   "metadata": {},
   "outputs": [],
   "source": [
    "import matplotlib.image as mpimg\n",
    "img = mpimg.imread('resources/animal.jpg')\n",
    "imgplot = plt.imshow(img)\n",
    "imgplot.axes.get_xaxis().set_visible(False)\n",
    "imgplot.axes.get_yaxis().set_visible(False)\n",
    "print(\"Congrats on finishing this lab!\")\n",
    "plt.show()"
   ]
  },
  {
   "cell_type": "markdown",
   "id": "444e232e",
   "metadata": {
    "deletable": false,
    "editable": false
   },
   "source": [
    "---\n",
    "\n",
    "To double-check your work, the cell below will rerun all of the autograder tests."
   ]
  },
  {
   "cell_type": "code",
   "execution_count": null,
   "id": "d2a6e04f",
   "metadata": {
    "deletable": false,
    "editable": false
   },
   "outputs": [],
   "source": [
    "grader.check_all()"
   ]
  },
  {
   "cell_type": "markdown",
   "id": "3175d1b7",
   "metadata": {
    "deletable": false,
    "editable": false
   },
   "source": [
    "## Submission\n",
    "\n",
    "Make sure you have run all cells in your notebook in order before running the cell below, so that all images/graphs appear in the output. The cell below will generate a zip file for you to submit. **Please save before exporting!**\n",
    "\n",
    "Make sure you submit the .zip file to Gradescope."
   ]
  },
  {
   "cell_type": "code",
   "execution_count": null,
   "id": "8bc0d1ad",
   "metadata": {
    "deletable": false,
    "editable": false
   },
   "outputs": [],
   "source": [
    "# Save your notebook first, then run this cell to export your submission.\n",
    "grader.export(pdf=False)"
   ]
  },
  {
   "cell_type": "markdown",
   "id": "5d4ec19b",
   "metadata": {},
   "source": [
    " "
   ]
  }
 ],
 "metadata": {
  "kernelspec": {
   "display_name": "Python 3 (ipykernel)",
   "language": "python",
   "name": "python3"
  },
  "language_info": {
   "codemirror_mode": {
    "name": "ipython",
    "version": 3
   },
   "file_extension": ".py",
   "mimetype": "text/x-python",
   "name": "python",
   "nbconvert_exporter": "python",
   "pygments_lexer": "ipython3",
   "version": "3.11.11"
  },
  "otter": {
   "OK_FORMAT": true,
   "assignment_name": "lab09",
   "tests": {
    "q1.0": {
     "name": "q1.0",
     "points": 1,
     "suites": [
      {
       "cases": [
        {
         "code": ">>> assert get_hash(type(q1_0)) != '14e736438b115821cbb9b7ac0ba79034', 'Make sure to test your function!'\n",
         "failure_message": "Make sure to test your function!",
         "hidden": false,
         "locked": false,
         "points": 0.2
        },
        {
         "code": ">>> assert get_hash(np.round(mySin(np.array([np.pi / 2]), 1), 12)[0]) == '1a719dcf1663212100d2e67bde1bf011'\n>>> assert get_hash(np.round(mySin(np.array([np.pi / 2]), 5), 12)[0]) == 'c33503c8532ac302a28dec7a8695083d'\n>>> assert get_hash(np.round(mySin(np.array([10.0]), 1), 12)[0]) == '43a1437f7f656cd8be7c996c58719e0a'\n>>> assert get_hash(np.round(mySin(np.array([10.0]), 5), 12)[0]) == '6b7a412ebdb1a3044003351946322472'\n",
         "failure_message": "Check your function for scalar inputs.",
         "hidden": false,
         "locked": false
        },
        {
         "code": ">>> assert get_hash(np.round(np.sum(mySin(np.linspace(0.0, np.pi, 3), 7)), 10)) == 'cf7988d6e2f41dd2f7eca367f29558bb'\n>>> assert get_hash(np.round(np.sum(mySin(np.linspace(0.0, 10.0), 3)), 10)) == '1fc388c955f6e4ed2ccdd2379b968351'\n>>> assert get_hash(np.round(np.sum(mySin(np.array([[np.pi / 6, np.pi / 4], [np.pi / 3, np.pi / 2]]), 10)), 10)) == '8ce5dd44763bbd30ef1d3d8cf2992db4'\n>>> assert get_hash(np.round(np.sum(mySin(np.array([[1.0, 2.0], [3.0, 4.0]]), 5)), 10)) == '9523d598a5b97178a8fa479092c86df3'\n",
         "failure_message": "Check your function for array inputs.",
         "hidden": false,
         "locked": false
        }
       ],
       "scored": true,
       "setup": "",
       "teardown": "",
       "type": "doctest"
      }
     ]
    },
    "q1.1": {
     "name": "q1.1",
     "points": 1,
     "suites": [
      {
       "cases": [
        {
         "code": ">>> assert get_hash(type(q1_1)) != '14e736438b115821cbb9b7ac0ba79034'\n",
         "failure_message": "Make sure to test your function!",
         "hidden": false,
         "locked": false,
         "points": 0.2
        },
        {
         "code": ">>> error, next_term = mySinError(np.array([2 * np.pi]), 5)\n>>> assert get_hash(np.round(np.sum(error), 8)) == '4b9473aa3637ebc2d2f2f81f61faa399', 'Check error.'\n>>> assert get_hash(np.round(np.sum(next_term), 8)) == 'b6bf808b29bf005e1758841a65038ed8', 'Check next term.'\n>>> error, next_term = mySinError(np.array([2 * np.pi]), 10)\n>>> assert get_hash(np.round(np.sum(error), 8)) == '1342c198f5fa4fbda5916561745c34a9', 'Check error.'\n>>> assert get_hash(np.round(np.sum(next_term), 8)) == '01ca83610c11fd5338f7e818ba84f1ca', 'Check next term.'\n",
         "failure_message": "Check your function for scalar inputs.",
         "hidden": false,
         "locked": false
        },
        {
         "code": ">>> error, next_term = mySinError(np.linspace(-np.pi, np.pi, 4), 10)\n>>> assert get_hash(np.round(np.sum(error), 8)) == '30565a8911a6bb487e3745c0ea3c8224', 'Check error.'\n>>> assert get_hash(np.round(np.sum(next_term), 8)) == '30565a8911a6bb487e3745c0ea3c8224', 'Check next term.'\n>>> error, next_term = mySinError(np.linspace(-np.pi, np.pi, 4), 5)\n>>> assert get_hash(np.round(np.sum(error), 8)) == '3a27dec9b3b10fbcef90e55e1f2d4216', 'Check error.'\n>>> assert get_hash(np.round(np.sum(next_term), 8)) == 'a0baefa6c0d8c8ca7de6dca65419858e', 'Check next term.'\n",
         "failure_message": "Check your function for array inputs.",
         "hidden": false,
         "locked": false
        }
       ],
       "scored": true,
       "setup": "",
       "teardown": "",
       "type": "doctest"
      }
     ]
    },
    "q1.2": {
     "name": "q1.2",
     "points": 2,
     "suites": [
      {
       "cases": [
        {
         "code": ">>> assert get_hash(type(q1_2)) != '14e736438b115821cbb9b7ac0ba79034'\n",
         "failure_message": "Make sure to test your function!",
         "hidden": false,
         "locked": false,
         "points": 0.2
        },
        {
         "code": ">>> import matplotlib.pyplot as plt\n>>> N = 5\n>>> X = np.linspace(-N * np.pi / 2.0, N * np.pi / 2.0)\n>>> fig = PlotError(X, N)\n>>> plt.close('all')\n>>> error, next_term = mySinError(X, N)\n>>> assert np.allclose(fig.axes[0].get_lines()[0].get_xdata(), X)\n>>> assert np.allclose(fig.axes[0].get_lines()[0].get_ydata(), error)\n>>> assert np.allclose(fig.axes[0].get_lines()[1].get_ydata(), next_term)\n",
         "failure_message": "Check plot data.",
         "hidden": false,
         "locked": false
        },
        {
         "code": ">>> import matplotlib.pyplot as plt\n>>> N = 5\n>>> X = np.linspace(-N * np.pi / 2.0, N * np.pi / 2.0)\n>>> fig = PlotError(X, N)\n>>> plt.close('all')\n>>> assert fig.axes[0].get_lines()[0].get_label() == 'Error', 'Check the line labels.'\n>>> assert fig.axes[0].get_lines()[1].get_label() == 'Next term', 'Check the line labels.'\n",
         "failure_message": "Check line labels.",
         "hidden": false,
         "locked": false
        },
        {
         "code": ">>> import matplotlib.pyplot as plt\n>>> N = 5\n>>> X = np.linspace(-N * np.pi / 2.0, N * np.pi / 2.0)\n>>> fig = PlotError(X, N)\n>>> plt.close('all')\n>>> assert 'X' in fig.axes[0].get_xlabel().upper(), 'Check the x-axis label.'\n>>> assert 'ABSOLUTE' in fig.axes[0].get_ylabel().upper(), 'Check the y-axis label.'\n>>> assert 'VALUE' in fig.axes[0].get_ylabel().upper(), 'Check the y-axis label.'\n>>> assert str(N) in fig.axes[0].get_title().upper(), 'Check the title label.'\n>>> assert 'TAYLOR' in fig.axes[0].get_title().upper(), 'Check the title label.'\n>>> assert 'EXPANSION' in fig.axes[0].get_title().upper(), 'Check the title label.'\n",
         "failure_message": "Check title and axis labels.",
         "hidden": false,
         "locked": false
        },
        {
         "code": ">>> import matplotlib.pyplot as plt\n>>> N = 5\n>>> X = np.linspace(-N * np.pi / 2.0, N * np.pi / 2.0)\n>>> fig = PlotError(X, N)\n>>> plt.close('all')\n>>> assert type(fig.axes[0].get_legend()) != type(None), 'Make sure to add a legend.'\n>>> assert fig.axes[0].get_xlim() == (np.min(X), np.max(X)), 'Check the x-axis limits.'\n",
         "failure_message": "Check legend and axis limits.",
         "hidden": false,
         "locked": false
        },
        {
         "code": ">>> plt.close('all')\n",
         "hidden": false,
         "locked": false
        }
       ],
       "scored": true,
       "setup": "",
       "teardown": "",
       "type": "doctest"
      }
     ]
    },
    "q1.3": {
     "name": "q1.3",
     "points": 2,
     "suites": [
      {
       "cases": [
        {
         "code": ">>> assert get_hash(type(q1_3)) != '14e736438b115821cbb9b7ac0ba79034'\n",
         "failure_message": "Make sure to test your function!",
         "hidden": false,
         "locked": false,
         "points": 0.2
        },
        {
         "code": ">>> assert get_hash(np.round(mySinPeriodic(np.array([1.0]), 10), 14)[0]) == '099c6f8b0fd2375bd1f67fd0361b42d6'\n>>> assert get_hash(np.round(mySinPeriodic(np.array([1 + 20 * np.pi]), 10), 14)[0]) == '099c6f8b0fd2375bd1f67fd0361b42d6'\n>>> assert get_hash(np.round(mySinPeriodic(np.array([-1.0]), 10), 14)[0]) == 'c1e44cffdfabeb1714daa8cbaec4abe8'\n>>> assert get_hash(np.round(mySinPeriodic(np.array([-1 - 20 * np.pi]), 10), 14)[0]) == 'c1e44cffdfabeb1714daa8cbaec4abe8'\n>>> assert get_hash(np.round(mySinPeriodic(np.array([2.0]), 10), 14)[0]) == '3dcc92152b4197b5132931b66178541c'\n>>> assert get_hash(np.round(mySinPeriodic(np.array([2 + 20 * np.pi]), 10), 14)[0]) == '3dcc92152b4197b5132931b66178541c'\n>>> assert get_hash(np.round(mySinPeriodic(np.array([-2.0]), 10), 14)[0]) == '6e5f88db7a4ea0b587bd9620e1056087'\n>>> assert get_hash(np.round(mySinPeriodic(np.array([-2 - 20 * np.pi]), 10), 14)[0]) == '6e5f88db7a4ea0b587bd9620e1056087'\n",
         "failure_message": "Check your function for scalar inputs.",
         "hidden": false,
         "locked": false
        },
        {
         "code": ">>> assert get_hash(np.round(np.sum(mySinPeriodic(np.linspace(0, 5 * np.pi, 6), 10)), 8)) == '30565a8911a6bb487e3745c0ea3c8224'\n>>> assert get_hash(np.round(np.sum(mySinPeriodic(np.linspace(0, 5 * np.pi, 20), 5)), 8)) == '862314151b0333d3b2dfaaa23aca221a'\n>>> assert get_hash(np.round(np.sum(mySinPeriodic(np.linspace(-10 * np.pi, 5 * np.pi, 20), 5)), 8)) == 'b209fa8add1e3a19872f5411ef9b3d2f'\n>>> assert get_hash(np.round(np.sum(mySinPeriodic(np.linspace(-10 * np.pi, 5 * np.pi, 15), 10)), 8)) == '0df16f7567b8e2fbbaf8f129ef2e9480'\n",
         "failure_message": "Check your function for array inputs.",
         "hidden": false,
         "locked": false
        }
       ],
       "scored": true,
       "setup": "",
       "teardown": "",
       "type": "doctest"
      }
     ]
    },
    "q1.4": {
     "name": "q1.4",
     "points": 2,
     "suites": [
      {
       "cases": [
        {
         "code": ">>> assert get_hash(type(q1_4)) != '14e736438b115821cbb9b7ac0ba79034'\n",
         "failure_message": "Make sure to test your function!",
         "hidden": false,
         "locked": false,
         "points": 0.2
        },
        {
         "code": ">>> assert get_hash(len(mySinRange(5, 1e-08))) == 'c81e728d9d4c2f636f067f89cc14862c'\n",
         "failure_message": "Check output length.",
         "hidden": false,
         "locked": false,
         "points": 0.2
        },
        {
         "code": ">>> assert get_hash(np.round(mySinRange(5, 0.1)[0], 8)) == '9c41dab8e025b5db402b00cface5d381'\n>>> assert get_hash(np.round(mySinRange(5, 0.1)[1], 8)) == 'ee7b630995e7a36b6420696989441e2d'\n>>> assert get_hash(np.round(mySinRange(5, 0.001)[0], 8)) == 'c917a9e190d0c94c49ff24bab517b799'\n>>> assert get_hash(np.round(mySinRange(5, 0.001)[1], 8)) == '1089492f2ada616b051abde7ed35ebf2'\n>>> assert get_hash(np.round(mySinRange(5, 1e-08)[0], 8)) == '0262452e00cc917efe9134ae8192100c'\n>>> assert get_hash(np.round(mySinRange(5, 1e-08)[1], 8)) == '26cddfda7149a4fce6fa2a47f4c2af32'\n",
         "hidden": false,
         "locked": false
        }
       ],
       "scored": true,
       "setup": "",
       "teardown": "",
       "type": "doctest"
      }
     ]
    },
    "q2": {
     "name": "q2",
     "points": 3,
     "suites": [
      {
       "cases": [
        {
         "code": ">>> assert get_hash(type(q2)) != '14e736438b115821cbb9b7ac0ba79034'\n",
         "failure_message": "Make sure to test your function!",
         "hidden": false,
         "locked": false,
         "points": 0.2
        },
        {
         "code": ">>> import inspect\n>>> assert any([True if 'for' in line or 'while' in line else False for line in inspect.getsourcelines(nth_root)[0][1:]])\n",
         "failure_message": "Your function should use iteration!",
         "hidden": false,
         "locked": false,
         "points": 0
        },
        {
         "code": ">>> assert get_hash(np.round(nth_root(27, 3, 0, 10), 10)) == '55c82b601deae028c1c5e87fd820923d'\n>>> assert get_hash(np.round(nth_root(27, 3, 0, 10, maxiter=50), 10)) == '55c82b601deae028c1c5e87fd820923d'\n>>> assert get_hash(np.round(nth_root(27, 3, 0, 10, tol=0.001), 10)) == 'a39f3bb3a6fabd52f31cfed038561c13'\n>>> assert get_hash(np.round(nth_root(256, 4, 0, 5), 10)) == '07078a97d66756f213dbca3e379bf084'\n>>> assert get_hash(np.round(nth_root(256, 4, -5, 0), 10)) == '875e88e1e07100951fd600d433642d16'\n>>> import inspect\n>>> assert any([True if 'for' in line or 'while' in line else False for line in inspect.getsourcelines(nth_root)[0][1:]])\n",
         "failure_message": "Test your function for the given exampes. Check the default argument values.",
         "hidden": false,
         "locked": false
        },
        {
         "code": ">>> assert get_hash(np.round(nth_root(100, 5, 0, 10, tol=0.01), 10)) == 'a871b443d3b5b719440e0de48a321834'\n>>> assert get_hash(np.round(nth_root(100, 5, 0, 10, tol=1e-08), 10)) == 'b5f3a7bb40caeee1ae1bb6e8f3a5d142'\n>>> assert get_hash(np.round(nth_root(100, 5, 0, 10, maxiter=20), 10)) == '1503893c8918627e2f4fe72fd0c2e53c'\n>>> assert get_hash(np.round(nth_root(100, 5, 0, 10, maxiter=40), 10)) == 'b5f3a7bb40caeee1ae1bb6e8f3a5d142'\n>>> assert get_hash(np.round(nth_root(100, 5, 0, 10, maxiter=10, tol=1e-10), 10)) == '7c7f40e5283b4afb4424050988876205'\n>>> import inspect\n>>> assert any([True if 'for' in line or 'while' in line else False for line in inspect.getsourcelines(nth_root)[0][1:]])\n",
         "hidden": false,
         "locked": false
        },
        {
         "code": ">>> assert get_hash(np.round(nth_root(2, 2, 0, 2, tol=1), 10)) == 'e4c2e8edac362acab7123654b9e73432'\n",
         "failure_message": "Your function should terminate when |f(r)| is either less than or equal to tol.",
         "hidden": false,
         "locked": false
        }
       ],
       "scored": true,
       "setup": "",
       "teardown": "",
       "type": "doctest"
      }
     ]
    },
    "q3.0": {
     "name": "q3.0",
     "points": 3,
     "suites": [
      {
       "cases": [
        {
         "code": ">>> assert get_hash(type(q3_0)) != '14e736438b115821cbb9b7ac0ba79034'\n",
         "failure_message": "Make sure to test your function!",
         "hidden": false,
         "locked": false,
         "points": 0.3
        },
        {
         "code": ">>> f = lambda x: x ** 2 - 2\n>>> R, E = myBisection(f, 0, 2, tol=0.1)\n>>> assert get_hash(np.round(np.sum(R), 8)) == '50394ae342bd81e03fc7df6d588394fd'\n>>> assert get_hash(np.round(np.sum(E), 8)) == 'b795ad8086755bb5c29414e637bc617f'\n",
         "failure_message": "Test your function for the given exampes.",
         "hidden": false,
         "locked": false
        },
        {
         "code": ">>> f = lambda x: math.sin(x) - math.cos(x)\n>>> R, E = myBisection(f, 0, 2, tol=0.01)\n>>> assert get_hash(np.round(np.sum(R), 8)) == '5ac0863af924d7974f9ae4f3e0e27f7b'\n>>> assert get_hash(np.round(np.sum(E), 8)) == '1c72cbd55836f1cf6e057fdb0f10d669'\n",
         "failure_message": "Test your function for the given exampes.",
         "hidden": false,
         "locked": false
        },
        {
         "code": ">>> f = lambda x: math.exp(-x) - x ** 2\n>>> R, E = myBisection(f, 0, 1, tol=0.01)\n>>> assert get_hash(np.round(np.sum(R), 8)) == '222c230773e77edf87d79d18efc7ed9d'\n>>> assert get_hash(np.round(np.sum(E), 8)) == 'b5365dfa25be69a3214e3b667b8ec092'\n",
         "failure_message": "Test your function for the given exampes.",
         "hidden": false,
         "locked": false
        },
        {
         "code": ">>> f = lambda x: x ** 2 - 2\n>>> R, E = myBisection(f, 0, 2, tol=1)\n>>> assert get_hash(int(np.sum(R))) == 'c4ca4238a0b923820dcc509a6f75849b'\n>>> assert get_hash(int(np.sum(E))) == 'c4ca4238a0b923820dcc509a6f75849b'\n",
         "failure_message": "Your function should terminate when |f(r)| is either less than or equal to tol.",
         "hidden": false,
         "locked": false
        }
       ],
       "scored": true,
       "setup": "",
       "teardown": "",
       "type": "doctest"
      }
     ]
    },
    "q3.1": {
     "name": "q3.1",
     "points": 3,
     "suites": [
      {
       "cases": [
        {
         "code": ">>> assert get_hash(type(q3_1)) != '14e736438b115821cbb9b7ac0ba79034'\n",
         "failure_message": "Make sure to test your function!",
         "hidden": false,
         "locked": false,
         "points": 0.3
        },
        {
         "code": ">>> f = lambda x: x ** 2 - 2\n>>> df = lambda x: 2 * x\n>>> R, E = myNewton(f, df, 1, tol=1e-08)\n>>> assert get_hash(np.round(np.sum(R), 10)) == '88d32212b966dcee3ec29d0ce8ce3a01'\n>>> assert get_hash(np.round(np.sum(E), 10)) == 'e593e1d8d5bf70f56814ba2b88eddf1f'\n",
         "hidden": false,
         "locked": false
        },
        {
         "code": ">>> f = lambda x: math.sin(x) - math.cos(x)\n>>> df = lambda x: math.cos(x) + math.sin(x)\n>>> R, E = myNewton(f, df, 1, tol=1e-08)\n>>> assert get_hash(np.round(np.sum(R), 10)) == '69f4271567bb9d14d8a22f79781461f5'\n>>> assert get_hash(np.round(np.sum(E), 10)) == 'd688dbef10264fd21dba0b0e5a6203b8'\n",
         "hidden": false,
         "locked": false
        },
        {
         "code": ">>> f = lambda x: math.sinh(x) - 1\n>>> df = lambda x: math.cosh(x)\n>>> R, E = myNewton(f, df, -1, tol=1e-08)\n>>> assert get_hash(np.round(np.sum(R), 10)) == '4bff05bbdee7affd4840dc1eeef9301e'\n>>> assert get_hash(np.round(np.sum(E), 10)) == 'd3ffbac1cf1deb56c0991c5732ecc6f8'\n",
         "hidden": false,
         "locked": false
        },
        {
         "code": ">>> f = lambda x: x ** 2 - 2\n>>> df = lambda x: 2 * x\n>>> R, E = myNewton(f, df, 1, tol=1)\n>>> assert get_hash(int(np.sum(R))) == 'c4ca4238a0b923820dcc509a6f75849b'\n>>> assert get_hash(int(np.sum(E))) == 'c4ca4238a0b923820dcc509a6f75849b'\n",
         "failure_message": "Your function should terminate when |f(r)| is either less than or equal to tol.",
         "hidden": false,
         "locked": false
        }
       ],
       "scored": true,
       "setup": "",
       "teardown": "",
       "type": "doctest"
      }
     ]
    },
    "q4": {
     "name": "q4",
     "points": 4,
     "suites": [
      {
       "cases": [
        {
         "code": ">>> assert get_hash(type(q4)) != '14e736438b115821cbb9b7ac0ba79034'\n",
         "failure_message": "Make sure to test your function!",
         "hidden": false,
         "locked": false,
         "points": 0.2
        },
        {
         "code": ">>> k1, k2, t0 = (1000, 0.6, 5.1)\n>>> assert get_hash(np.round(damping_root(k1, k2, t0, method='newton'), decimals=10)) == 'ad9995c0d305d650bc1a138f32113af7'\n>>> assert get_hash(np.round(damping_root(k1, k2, t0, method='fsolve'), decimals=10)) == 'ad9995c0d305d650bc1a138f32113af7'\n",
         "failure_message": "Check given examples.",
         "hidden": false,
         "locked": false
        },
        {
         "code": ">>> k1, k2, t0 = (1000, 0.6, 4.9)\n>>> assert get_hash(np.round(damping_root(k1, k2, t0, method='newton'), decimals=10)) == '6008647277c4454cecd97d33c069f0ca'\n>>> assert get_hash(np.round(damping_root(k1, k2, t0, method='fsolve'), decimals=10)) == 'ad9995c0d305d650bc1a138f32113af7'\n",
         "failure_message": "Check given examples.",
         "hidden": false,
         "locked": false
        },
        {
         "code": ">>> k1, k2, t0 = (1000, 0.6, 4.9)\n>>> assert isinstance(damping_root(k1, k2, t0, method='bisection'), str), 'Make sure to handle invalid inputs.'\n>>> assert 'INVALID' in damping_root(k1, k2, t0, method='bisection').upper(), 'Check invalid input message.'\n",
         "failure_message": "Check given examples.",
         "hidden": false,
         "locked": false
        },
        {
         "code": ">>> k1, k2, t0 = (800, 2, 2)\n>>> assert get_hash(np.round(damping_root(k1, k2, t0, method='newton'), decimals=10)) == '845e85fa64a2d6037055beba19fe0bd8'\n>>> assert get_hash(np.round(damping_root(k1, k2, t0, method='fsolve'), decimals=10)) == 'e3e5a4e071b34019caec47bec758eaa9'\n",
         "hidden": false,
         "locked": false
        },
        {
         "code": ">>> k1, k2, t0 = (800, 2, 3)\n>>> assert get_hash(np.round(damping_root(k1, k2, t0, method='newton'), decimals=10)) == 'eab7e959c5707439b9e2c1fe3e86d60c'\n>>> assert get_hash(np.round(damping_root(k1, k2, t0, method='fsolve'), decimals=10)) == '3dd2811ad4cc449e9f07df837559dc63'\n",
         "hidden": false,
         "locked": false
        }
       ],
       "scored": true,
       "setup": "",
       "teardown": "",
       "type": "doctest"
      }
     ]
    },
    "q5.0": {
     "name": "q5.0",
     "points": 1,
     "suites": [
      {
       "cases": [
        {
         "code": ">>> assert get_hash(type(q5_0)) != '14e736438b115821cbb9b7ac0ba79034'\n",
         "failure_message": "Make sure to test your function!",
         "hidden": false,
         "locked": false,
         "points": 0.2
        },
        {
         "code": ">>> assert get_hash(np.round(pipe_cost(10, 20, 10, 100, 50), decimals=8)) == '6db405727be0e7f3efb0113fcd810e41'\n",
         "hidden": false,
         "locked": false
        },
        {
         "code": ">>> assert get_hash(np.round(pipe_cost(30, 20, 10, 100, 50), decimals=8)) == 'b9583ea216a7badcebe477e5819a1baf'\n",
         "hidden": false,
         "locked": false
        },
        {
         "code": ">>> assert get_hash(np.round(pipe_cost(30, 15, 30, 40, 8), decimals=8)) == '7af1818bb9d1656e39edbde596314210'\n",
         "hidden": false,
         "locked": false
        },
        {
         "code": ">>> assert get_hash(np.round(pipe_cost(5, 15, 30, 40, 8), decimals=8)) == '0cd1eaa83e3ef44c11378c3d74e0df0f'\n",
         "hidden": false,
         "locked": false
        }
       ],
       "scored": true,
       "setup": "",
       "teardown": "",
       "type": "doctest"
      }
     ]
    },
    "q5.1": {
     "name": "q5.1",
     "points": 1,
     "suites": [
      {
       "cases": [
        {
         "code": ">>> assert get_hash(type(q5_1)) != '14e736438b115821cbb9b7ac0ba79034'\n",
         "failure_message": "Make sure to test your function!",
         "hidden": false,
         "locked": false,
         "points": 0.2
        },
        {
         "code": ">>> assert get_hash(np.round(pipe_cost_derivative(10, 20, 10, 100, 50), decimals=8)) == '2342ab8f75f5006564e15f71bea6132b'\n",
         "hidden": false,
         "locked": false
        },
        {
         "code": ">>> assert get_hash(np.round(pipe_cost_derivative(30, 20, 10, 100, 50), decimals=8)) == '599d173c5424c1aedae10c058b5f4dae'\n",
         "hidden": false,
         "locked": false
        },
        {
         "code": ">>> assert get_hash(np.round(pipe_cost_derivative(30, 15, 30, 40, 8), decimals=8)) == 'e89db8e4f359f8efa6181bbe8fd70378'\n",
         "hidden": false,
         "locked": false
        },
        {
         "code": ">>> assert get_hash(np.round(pipe_cost_derivative(5, 15, 30, 40, 8), decimals=8)) == 'd5110028c6cc6db2b6073ca10e6fd618'\n",
         "hidden": false,
         "locked": false
        }
       ],
       "scored": true,
       "setup": "",
       "teardown": "",
       "type": "doctest"
      }
     ]
    },
    "q5.2": {
     "name": "q5.2",
     "points": 2,
     "suites": [
      {
       "cases": [
        {
         "code": ">>> assert get_hash(type(q5_1)) != '14e736438b115821cbb9b7ac0ba79034'\n",
         "failure_message": "Make sure to test your function!",
         "hidden": false,
         "locked": false,
         "points": 0.2
        },
        {
         "code": ">>> assert get_hash(np.round(np.sum(pipe_builder(20, 10, 100, 50)), 8)) == '4b917bc475dc6f689e998b427a2c3658'\n>>> assert get_hash(np.round(np.sum(pipe_builder(30, 10, 100, 50)), 8)) == 'e593b6c24ff1bbf55b60b1ee98a00f3c'\n>>> assert get_hash(np.round(np.sum(pipe_builder(30, 10, 100, 20)), 8)) == '3a9fb245bdef7abab9e30a2fb6b1ac3a'\n",
         "failure_message": "Check given examples.",
         "hidden": false,
         "locked": false,
         "points": 0.3
        },
        {
         "code": ">>> assert get_hash(np.round(np.sum(pipe_builder(10, 5, 10, 10)), 8)) == 'd29500ba4339881cbf0aa60519557c1e'\n",
         "hidden": false,
         "locked": false
        },
        {
         "code": ">>> assert get_hash(np.round(np.sum(pipe_builder(20, 15, 100, 50)), 8)) == 'a1a21fe87a87f46a063123963258cad6'\n",
         "hidden": false,
         "locked": false
        },
        {
         "code": ">>> assert get_hash(np.round(np.sum(pipe_builder(20, 15, 100, 10)), 8)) == '6f88ce0ace7663662c1d08a512ad6018'\n",
         "hidden": false,
         "locked": false
        }
       ],
       "scored": true,
       "setup": "",
       "teardown": "",
       "type": "doctest"
      }
     ]
    }
   }
  }
 },
 "nbformat": 4,
 "nbformat_minor": 5
}
