{
 "cells": [
  {
   "cell_type": "code",
   "execution_count": null,
   "metadata": {
    "deletable": false,
    "editable": false
   },
   "outputs": [],
   "source": [
    "# Initialize Otter\n",
    "import otter\n",
    "grader = otter.Notebook(\"lab05.ipynb\")"
   ]
  },
  {
   "cell_type": "markdown",
   "metadata": {},
   "source": [
    "# E7: Lab Assignment 05 - Number Representation & Exceptions\n",
    "\n",
    "You must submit the lab to Gradescope by the due date. You will submit the zip file produced by running the final cell of the assignment.\n",
    "\n",
    "\n",
    "## Instructions\n",
    "\n",
    "**Run the first cell, Initialize Otter**, to import the autograder and submission exporter.\n",
    "\n",
    "Throughout the assignment, replace `...` with your answers. We use `...` as a placeholder and these should be deleted and replaced with your answers.\n",
    "\n",
    "Any part listed as a \"<font color='red'>**Question**</font>\" should be answered to receive credit.\n",
    "\n",
    "**Please save your work after every question!**\n",
    "\n",
    "To read the documentation on a Python function, you can type `help()` and add the function name between parentheses.\n",
    "\n",
    "## Score Breakdown\n",
    "Question   | Points\n",
    ":---       | --:\n",
    "1.0 – 1.5  | 7\n",
    "2.0 – 2.1  | 8\n",
    "3.0 – 3.1  | 10\n",
    "Total      | 25\n",
    "\n",
    "**Run the cell below**, to import the required modules."
   ]
  },
  {
   "cell_type": "code",
   "execution_count": null,
   "metadata": {},
   "outputs": [],
   "source": [
    "# Please run this cell, and do not modify the contents\n",
    "import numpy as np\n",
    "import math\n",
    "import heapq\n",
    "import time\n",
    "import matplotlib.pyplot as plt\n",
    "import random\n",
    "from random import choice\n",
    "from string import ascii_lowercase\n",
    "from timeit import default_timer as timer\n",
    "import inspect\n",
    "np.seterr(all='ignore');\n",
    "\n",
    "import hashlib\n",
    "def get_hash(num):\n",
    "    \"\"\"Helper function for assessing correctness\"\"\"\n",
    "    return hashlib.md5(str(num).encode()).hexdigest()"
   ]
  },
  {
   "cell_type": "markdown",
   "metadata": {},
   "source": [
    "## Question 1: Fibonacci Sequence\n",
    "\n",
    "The Fibonacci Sequence can be defined by the recursive relationship $F_n = F_{n-1}+F_{n-2}$, where the first two numbers of the sequence by convention are $F_0 = 0$ and $F_1 = 1$. For any non-negative integer $n$, we can difine the Fibonacci sequence as:\n",
    "\n",
    "\\begin{equation}\n",
    "F_n = \\begin{cases}\n",
    "    0 &\\text{if $n=0$}\\\\\n",
    "    1 &\\text{if $n=1$}\\\\\n",
    "    F_{n-1} + F_{n-2} & \\text{if $n\\geq2$}\\\\\n",
    "    \\end{cases}\n",
    "\\end{equation}"
   ]
  },
  {
   "cell_type": "markdown",
   "metadata": {},
   "source": [
    "### Question 1.0\n",
    "\n",
    "Using **recursion**, write a function `FibRec(n)` which returns:\n",
    "* the $n^{th}$ number in the Fibonacci sequence, $F_n$ if `n` is a non-negative integer\n",
    "* \"n must be a non-negative integer\" if `n` is not a valid input\n",
    "\n",
    "Be careful with your string formatting for invalid input `n`. Any small modification, such as extra space or character, will result in a failed test.\n",
    "\n",
    "Test your `FibRec()` function for `n = 18`. Assign the output to `q1_0`. Feel free to try it for other inputs.\n",
    "\n",
    "```\n",
    "Examples:\n",
    "\n",
    ">>> FibRec(12)\n",
    "144\n",
    "\n",
    ">>> FibRec(23)\n",
    "28657\n",
    "\n",
    ">>> FibRec(2.2)\n",
    "'n must be an integer'\n",
    "\n",
    ">>> FibRec(-10)\n",
    "'n must be positive'\n",
    "\n",
    ">>> FibRec(-10.1)\n",
    "'n must be a positive integer'\n",
    "\n",
    ">>> FibRec(10.0)\n",
    "55\n",
    "```"
   ]
  },
  {
   "cell_type": "code",
   "execution_count": null,
   "metadata": {
    "tags": []
   },
   "outputs": [],
   "source": [
    "# ANSWER CELL\n",
    "..."
   ]
  },
  {
   "cell_type": "code",
   "execution_count": null,
   "metadata": {
    "tags": []
   },
   "outputs": [],
   "source": [
    "# TEST YOUR FUNCTION HERE\n",
    "q1_0 = ...\n",
    "\n",
    "print(f'F(n) = {q1_0}')"
   ]
  },
  {
   "cell_type": "code",
   "execution_count": null,
   "metadata": {
    "deletable": false,
    "editable": false
   },
   "outputs": [],
   "source": [
    "grader.check(\"q1.0\")"
   ]
  },
  {
   "cell_type": "markdown",
   "metadata": {},
   "source": [
    "### Question 1.1\n",
    "\n",
    "The ratio $r = \\dfrac{F_n}{F_{n-1}}$ of consecutive Fibonacci numbers converges to a limit called the Golden Ratio. \n",
    "\n",
    "Create a function `simpleFibRatio(n)` that returns `r`, where `r` is the ratio defined above for the values of the Fibonacci Sequence defined by `n`. Use the function `FibRec(n)` from Question 1.0 to calculate the ratio. **Do not** handle any exceptions in this case.\n",
    "\n",
    "Test your `simpleFibRatio()` function for `n = 18` in the following cell. Assign the output to `q1_1`. Feel free to try it for other inputs. You should observe that for $n>10$, the ratio converges to approximately 1.618, which is the Golden Ratio.\n",
    "\n",
    "```\n",
    "Examples:\n",
    "\n",
    ">>> simpleFibRatio(2)\n",
    "1.0\n",
    "\n",
    ">>> simpleFibRatio(3)\n",
    "2.0\n",
    "\n",
    ">>> simpleFibRatio(4)\n",
    "1.5\n",
    "\n",
    ">>> simpleFibRatio(20)\n",
    "1.6180339631667064\n",
    "```"
   ]
  },
  {
   "cell_type": "code",
   "execution_count": null,
   "metadata": {
    "tags": []
   },
   "outputs": [],
   "source": [
    "# ANSWER CELL\n",
    "..."
   ]
  },
  {
   "cell_type": "code",
   "execution_count": null,
   "metadata": {
    "scrolled": true,
    "tags": []
   },
   "outputs": [],
   "source": [
    "# TEST YOUR FUNCTION HERE\n",
    "q1_1 = ...\n",
    "\n",
    "print(f'r = {q1_1}')"
   ]
  },
  {
   "cell_type": "code",
   "execution_count": null,
   "metadata": {
    "deletable": false,
    "editable": false
   },
   "outputs": [],
   "source": [
    "grader.check(\"q1.1\")"
   ]
  },
  {
   "cell_type": "markdown",
   "metadata": {},
   "source": [
    "### Question 1.2\n",
    "What error type is raised if you try to run `simpleFibRatio(n=1)`? Assign your answer to the variable `q1_2` as a string.\n",
    "\n",
    "**A.** `ValueError` \\\n",
    "**B.** `IndexError` \\\n",
    "**C.** `KeyError` \\\n",
    "**D.** `ZeroDivisionError` \\\n",
    "**E.** `NameError` \\\n",
    "**F.** `RecursionError` \\\n",
    "**G.** `TypeError` \n",
    "\n",
    "Your answer should be a string, e.g., `\"A\"`, `\"B\"`, etc.\\\n",
    "Remember to put quotes around your answer choice.\n",
    "\n",
    "**Note that the test for this question will be a hidden test. Meaning, you will NOT be able to know whether your answer is correct or not by running the `grader.check()` cell.**"
   ]
  },
  {
   "cell_type": "code",
   "execution_count": null,
   "metadata": {
    "tags": []
   },
   "outputs": [],
   "source": [
    "# TEST YOUR FUNCTION HERE\n",
    "# After getting the error, comment out the expression to avoid interrupting the notebook when running all cells\n"
   ]
  },
  {
   "cell_type": "code",
   "execution_count": null,
   "metadata": {
    "tags": []
   },
   "outputs": [],
   "source": [
    "# ANSWER CELL\n",
    "q1_2 = ...\n",
    "\n",
    "q1_2"
   ]
  },
  {
   "cell_type": "code",
   "execution_count": null,
   "metadata": {
    "deletable": false,
    "editable": false
   },
   "outputs": [],
   "source": [
    "grader.check(\"q1.2\")"
   ]
  },
  {
   "cell_type": "markdown",
   "metadata": {},
   "source": [
    "### Question 1.3\n",
    "\n",
    "Create a new function called `midFibRatio(n)` that returns `r` from `simpleFibRatio()` if no error occurs, but returns `np.nan` for the error raised by `simpleFibRatio(n=1)` (error from Question 1.2).\n",
    "\n",
    "Test your `midFibRatio()` function for `n = 18` and then `n = 1`. Assign the output to `q1_3`. Feel free to try it for other inputs.\n",
    "\n",
    "```\n",
    "Examples:\n",
    "\n",
    ">>> midFibRatio(2)\n",
    "1.0\n",
    "\n",
    ">>> midFibRatio(3)\n",
    "2.0\n",
    "\n",
    ">>> midFibRatio(4)\n",
    "1.5\n",
    "\n",
    ">>> midFibRatio(20)\n",
    "1.6180339631667064\n",
    "\n",
    ">>> midFibRatio(1)\n",
    "nan\n",
    "\n",
    ">>> a = midFibRatio(1) # make sure that you are using return rather than print\n",
    ">>> a\n",
    "nan\n",
    "```"
   ]
  },
  {
   "cell_type": "code",
   "execution_count": null,
   "metadata": {
    "tags": []
   },
   "outputs": [],
   "source": [
    "# ANSWER CELL\n",
    "def midFibRatio(n):\n",
    "    try:\n",
    "        ...\n",
    "    except ...\n",
    "        ...\n",
    "    return r"
   ]
  },
  {
   "cell_type": "code",
   "execution_count": null,
   "metadata": {
    "scrolled": true,
    "tags": []
   },
   "outputs": [],
   "source": [
    "# TEST YOUR FUNCTION HERE\n",
    "q1_3 = ...\n",
    "\n",
    "print(f'r = {q1_3}')"
   ]
  },
  {
   "cell_type": "code",
   "execution_count": null,
   "metadata": {
    "deletable": false,
    "editable": false
   },
   "outputs": [],
   "source": [
    "grader.check(\"q1.3\")"
   ]
  },
  {
   "cell_type": "markdown",
   "metadata": {},
   "source": [
    "### Question 1.4\n",
    "What error type is raised if you try to run `simpleFibRatio(n=3.5)` or for any value less than 1? All these inputs should have the same error type. Assign your answer to the variable `q1_4` as a string.\n",
    "\n",
    "**A.** `ValueError` \\\n",
    "**B.** `IndexError` \\\n",
    "**C.** `KeyError` \\\n",
    "**D.** `ZeroDivisionError` \\\n",
    "**E.** `NameError` \\\n",
    "**F.** `RecursionError` \\\n",
    "**G.** `TypeError` \n",
    "\n",
    "Your answer should be a string, e.g., `\"A\"`, `\"B\"`, etc.\\\n",
    "Remember to put quotes around your answer choice.\n",
    "\n",
    "**Note that the test for this question will be a hidden test. Meaning, you will NOT be able to know whether your answer is correct or not by running the `grader.check()` cell.**"
   ]
  },
  {
   "cell_type": "code",
   "execution_count": null,
   "metadata": {
    "tags": []
   },
   "outputs": [],
   "source": [
    "# TEST YOUR FUNCTION HERE\n",
    "# After getting the error, comment out the expression to avoid interrupting the notebook when running all cells\n"
   ]
  },
  {
   "cell_type": "code",
   "execution_count": null,
   "metadata": {
    "tags": []
   },
   "outputs": [],
   "source": [
    "# ANSWER CELL\n",
    "q1_4 = ...\n",
    "\n",
    "q1_4"
   ]
  },
  {
   "cell_type": "code",
   "execution_count": null,
   "metadata": {
    "deletable": false,
    "editable": false
   },
   "outputs": [],
   "source": [
    "grader.check(\"q1.4\")"
   ]
  },
  {
   "cell_type": "markdown",
   "metadata": {},
   "source": [
    "### Question 1.5\n",
    "Create a new function called `finalFibRatio(n)` that returns:\n",
    "1. `r` from `simpleFibRatio()` if no error occurs\n",
    "2. `np.nan` for the error raised by `simpleFibRatio(n=1)`\n",
    "3. `-999` for the error raised by inputting a non-positive or a fractional number (error from Question 1.4)\n",
    "\n",
    "Test your `finalFibRatio()` function for`n = 18`, `n = 1`, and `n = -2`. Assign the output to `q1_5`. Feel free to try it for other inputs.\n",
    "\n",
    "```\n",
    "Examples:\n",
    "\n",
    ">>> finalFibRatio(2)\n",
    "1.0\n",
    "\n",
    ">>> finalFibRatio(3)\n",
    "2.0\n",
    "\n",
    ">>> finalFibRatio(4)\n",
    "1.5\n",
    "\n",
    ">>> finalFibRatio(20)\n",
    "1.6180339631667064\n",
    "\n",
    ">>> finalFibRatio(1)\n",
    "nan\n",
    "\n",
    ">>> finalFibRatio(3.5)\n",
    "-999\n",
    "\n",
    ">>> finalFibRatio(-1)\n",
    "-999\n",
    "```"
   ]
  },
  {
   "cell_type": "code",
   "execution_count": null,
   "metadata": {
    "tags": []
   },
   "outputs": [],
   "source": [
    "# ANSWER CELL\n",
    "..."
   ]
  },
  {
   "cell_type": "code",
   "execution_count": null,
   "metadata": {
    "scrolled": true,
    "tags": []
   },
   "outputs": [],
   "source": [
    "# TEST YOUR FUNCTION HERE\n",
    "q1_5 = ...\n",
    "\n",
    "print(f'r = {q1_5}')"
   ]
  },
  {
   "cell_type": "code",
   "execution_count": null,
   "metadata": {
    "deletable": false,
    "editable": false
   },
   "outputs": [],
   "source": [
    "grader.check(\"q1.5\")"
   ]
  },
  {
   "cell_type": "markdown",
   "metadata": {},
   "source": [
    "## Question 2: Binary Representations of Integers\n",
    "\n",
    "There are many ways to represent integers in binary format (i.e. with only zeros and ones). In this problem, we only consider 8-bit representations: each integer will be represented in binary format by a sequence of 8 zeros and/or ones. You will implement three different binary representations for integers: \n",
    "1. unsigned representation\n",
    "2. signed-magnitude representation\n",
    "3. two's complement representation\n",
    "\n",
    "In the **unsigned representation**, each bit represents a power of 2, from $2^0$ (right-most bit) to $2^7$ (left-most bit). For example, the binary representation 00100100 represents the integer $2^5 + 2^2 = 36$, and the binary representation 11101000 represents the integer $2^7+2^6+2^5+2^3 = 232$. Note that negative integers cannot be represented with the unsigned representation.\n",
    "\n",
    "In the **signed-magnitude representation**, the left-most bit represents the sign of the integer. If the left-most bit is 0, then the integer is positive. If the left-most bit is 1, then the integer is negative. The other bits represent the magnitude of the integer, each bit representing a power of 2, from $2^0$ (right-most bit) to $2^6$ (seventh bit from the right). For example, the binary representation 00100100 still represents the number $2^5 + 2^2 = 36$, while the binary representation 11101000 now represents the number $-\\left(2^6 + 2^5 + 2^3\\right) = -104$. Theoretically, there are two possible binary representations of zero (00000000 and 10000000). However, since there is no negative zero (10000000) and positive zero (00000000), the binary number 10000000 is used to represent -128, whereas 00000000 represents 0.\n",
    "\n",
    "In the **two's complement representation**, the left-most bit represents $-2^7$ if it is 1, and 0 if it is 0. The other seven bits are used in the same way as in the unsigned and\n",
    "signed-magnitude representations. For example, the binary representation 00100100 still represents the number 36, while the binary representation 11101000 now represents the\n",
    "number $-2^7 + 2^6 + 2^5 + 2^3 = -24$."
   ]
  },
  {
   "cell_type": "markdown",
   "metadata": {},
   "source": [
    "### Question 2.0\n",
    "\n",
    "Write a function `Binary2Num(binary, representation)` that takes two inputs:\n",
    "1. `binary`, which is string of length 8 made of only zeros and ones \n",
    "2. `representation`, which is a string that indicates the name of the representation \n",
    "\n",
    "The function should return the base-10 number corresponding to `binary` based on the number representation specified in `representation`.\n",
    "\n",
    "You are not allowed to use any built-in function that converts from binary to decimal.\n",
    "\n",
    "Constraints:\n",
    "* `binary` should be a string of length 8 made of only zeros and ones. Otherwise, your function **should return** \"binary should be a string of length 8 made of only 0 and 1\".\n",
    "* `representation` should be a string and can take one of the three following values: 'UnSign', 'Sign' and 'TC', which correspond to unsigned, signed-magnitude, and two's complement representations, respectively. Otherwise, your function **should return** \"invalid representation\".\n",
    "* Your function should check `binary` first and then `representation` for valid inputs\n",
    "* Be careful with your string formatting for invalid inputs. Any small modification, such as extra space or character, will result in a failed test.\n",
    "\n",
    "Test your `Binary2Num()` function for `binary = '11001000'` and `representation = 'TC'`. Assign the output to `q2_0`. Feel free to try it for other inputs.\n",
    "\n",
    "\n",
    "```\n",
    "Examples:\n",
    "\n",
    ">>> Binary2Num('11001000', 'UnSign')\n",
    "200\n",
    "\n",
    ">>> Binary2Num('11001000', 'Sign')\n",
    "-72\n",
    "\n",
    ">>> Binary2Num('11001000', 'TC')\n",
    "-56\n",
    "\n",
    ">>> Binary2Num('01001110', 'UnSign')\n",
    "78\n",
    "\n",
    ">>> Binary2Num('11001110', 'Sign')\n",
    "-78\n",
    "\n",
    ">>> Binary2Num('11001110', 'TC')\n",
    "-50\n",
    "\n",
    ">>> Binary2Num('1100111011001110', 'UnSign') # More than 8 bits\n",
    "'binary should be a string of length 8 made of only 0 and 1'\n",
    "\n",
    ">>> Binary2Num('110010ab', 'UnSign') # bits include characters other than 0 and 1\n",
    "'binary should be a string of length 8 made of only 0 and 1'\n",
    "\n",
    ">>> Binary2Num('11001000', 'unsigned') # representation should be 'UnSign'\n",
    "'invalid representation'\n",
    "\n",
    ">>> Binary2Num('11001000', 'unsign') # strings are case-sensitive\n",
    "'invalid representation'\n",
    "```"
   ]
  },
  {
   "cell_type": "code",
   "execution_count": null,
   "metadata": {
    "tags": []
   },
   "outputs": [],
   "source": [
    "# ANSWER CELL\n",
    "..."
   ]
  },
  {
   "cell_type": "code",
   "execution_count": null,
   "metadata": {
    "tags": []
   },
   "outputs": [],
   "source": [
    "# TEST YOUR FUNCTION HERE\n",
    "q2_0 = ...\n",
    "\n",
    "print(f'Decimal representation of the number: {q2_0}')"
   ]
  },
  {
   "cell_type": "code",
   "execution_count": null,
   "metadata": {
    "deletable": false,
    "editable": false
   },
   "outputs": [],
   "source": [
    "grader.check(\"q2.0\")"
   ]
  },
  {
   "cell_type": "markdown",
   "metadata": {},
   "source": [
    "### Question 2.1\n",
    "\n",
    "Write a function `BinaryComplement(binary, representation)` that takes two inputs:\n",
    "1. `binary`, which is string of length 8 made of only zeros and ones \n",
    "2. `representation`, which is a string that indicates the name of the representation \n",
    "\n",
    "The function should return the base-10 number corresponding to the **complement** of `binary` based on the number representation specified in `representation`.\n",
    "\n",
    "The complement strategy here is to flip the bits of the original number's binary representation. For example:\n",
    "* if `binary = 11111111`, its binary complement would be `complement = 00000000`\n",
    "* if `binary = 11111110`, its binary complement would be `complement = 00000001`\n",
    "* if `binary = 10101010`, its binary complement would be `complement = 01010101`\n",
    "\n",
    "Note that your function should return the base-10 number corresponding to the complement, and not the binary representation of the complement. \n",
    "\n",
    "For example if using `representation = UnSign`:\n",
    "* if `binary = 11111111` $\\rightarrow$ `complement = 00000000` $\\rightarrow$ return 0\n",
    "* if `binary = 11111110` $\\rightarrow$ `complement = 00000001` $\\rightarrow$ return 1\n",
    "* if `binary = 10101010` $\\rightarrow$ `complement = 01010101` $\\rightarrow$ return 85\n",
    "\n",
    "You are not allowed to use any built-in function that converts from binary to decimal.\n",
    "\n",
    "Assume `binary` and `representation` are valid inputs (no need to check them and return a warning message). Use your function from Question 2.0 after you get the complement.\n",
    "\n",
    "Test your `BinaryComplement()` function for `binary = '11001000'` and `representation = 'TC'`. Assign the output to `q2_1`. Feel free to try it for other inputs.\n",
    "\n",
    "\n",
    "```\n",
    "Examples:\n",
    "\n",
    ">>> BinaryComplement('11001000', 'UnSign')\n",
    "55\n",
    "\n",
    ">>> BinaryComplement('11001000', 'Sign')\n",
    "55\n",
    "\n",
    ">>> BinaryComplement('11001000', 'TC')\n",
    "55\n",
    "\n",
    ">>> BinaryComplement('01001110', 'UnSign')\n",
    "177\n",
    "\n",
    ">>> BinaryComplement('11001110', 'Sign')\n",
    "49\n",
    "\n",
    ">>> BinaryComplement('11001110', 'TC')\n",
    "49\n",
    "```"
   ]
  },
  {
   "cell_type": "code",
   "execution_count": null,
   "metadata": {
    "tags": []
   },
   "outputs": [],
   "source": [
    "# ANSWER CELL\n",
    "..."
   ]
  },
  {
   "cell_type": "code",
   "execution_count": null,
   "metadata": {
    "tags": []
   },
   "outputs": [],
   "source": [
    "# TEST YOUR FUNCTION HERE\n",
    "q2_1 = ...\n",
    "\n",
    "print(f'Decimal representation of the complement: {q2_1}')"
   ]
  },
  {
   "cell_type": "code",
   "execution_count": null,
   "metadata": {
    "deletable": false,
    "editable": false
   },
   "outputs": [],
   "source": [
    "grader.check(\"q2.1\")"
   ]
  },
  {
   "cell_type": "markdown",
   "metadata": {},
   "source": [
    "## Question 3: Floating Point Numbers\n",
    "\n",
    "### Question 3.0\n",
    "\n",
    "Write a function `CompareFloats(x, y, tol)` that takes as input two numbers `x` and `y` and a tolerance value (`tol`) and returns `exact` and `approx`, both of which are of type `bool`. `exact` should be `True` if and only if `x` is exactly equal to `y` in Python, and otherwise `False`. `approx` should be `True` if and only if the difference between `x` and `y` (in absolute value) is less than or equal to `tol` in Python, and otherwise `False`. In other words, the function's output argument `approx` indicates whether `x` and `y` are \"approximately equal\", where \"approximately equal\" is quantified by the input argument `tol`. \n",
    "\n",
    "The default value of `tol` should be $1\\times10^{-9}$. \n",
    "\n",
    "The first returned object should be `exact` and the second returned object should be `approx`.\n",
    "\n",
    "The returned parameters `exact` and `approx` should be of type `bool`.\n",
    "\n",
    "You do not have to check that the inputs are valid.\n",
    "\n",
    "Test your `CompareFloats()` function for `x = 1e-4`, `y = 1.5e-4`, and `tol = 5e-5`. Assign the output to `q3_0`. Feel free to try it for other inputs.\n",
    "\n",
    "```\n",
    "Examples:\n",
    "\n",
    ">>> CompareFloats(2+3, 5, 0)\n",
    "(True, True)\n",
    "\n",
    ">>> CompareFloats(0, 0.001, 1e-2)\n",
    "(False, True)\n",
    "\n",
    ">>> CompareFloats(0, 0.001, 1e-4)\n",
    "(False, False)\n",
    "\n",
    ">>> CompareFloats(0, 0.001)\n",
    "(False, False)\n",
    "```"
   ]
  },
  {
   "cell_type": "code",
   "execution_count": null,
   "metadata": {
    "tags": []
   },
   "outputs": [],
   "source": [
    "# ANSWER CELL\n",
    "..."
   ]
  },
  {
   "cell_type": "code",
   "execution_count": null,
   "metadata": {
    "tags": []
   },
   "outputs": [],
   "source": [
    "# TEST YOUR FUNCTION HERE\n",
    "q3_0 = ...\n",
    "\n",
    "print(f'The numbers are exactly equal: {q3_0[0]}')\n",
    "print(f'The numbers are approximately equal: {q3_0[1]}')"
   ]
  },
  {
   "cell_type": "code",
   "execution_count": null,
   "metadata": {
    "deletable": false,
    "editable": false
   },
   "outputs": [],
   "source": [
    "grader.check(\"q3.0\")"
   ]
  },
  {
   "cell_type": "markdown",
   "metadata": {},
   "source": [
    "### Question 3.1\n",
    "\n",
    "There are multiple ways to represent floating point numbers in binary format. The Institute of Electrical and Electronics Engineers (IEEE) defined a standard (called IEEE-754) for representing floating point numbers in binary format. IEEE-754 specifies different formats, depending on how many bits (e.g. 16 bits, 32 bits, 64 bits, 128 bits) are used to represent each floating point number. The formats that use 32 bits and 64 bits to represent each number are commonly known as \"single precision\" and \"double precision\", respectively. "
   ]
  },
  {
   "cell_type": "markdown",
   "metadata": {},
   "source": [
    "In this problem, we only consider single precision representations, where each number is represented using 32 bits (i.e. a sequence of 32 zeros and/or ones). In the IEEE-754 standard, the number represented by a sequence of 32 bits can be calculated using the following formula:\n",
    "\n",
    "$$x = (-1)^{\\color{blue}s} \\times 1.{\\color{red}f} \\times 2^{({\\color{green}e}-bias)}$$\n",
    "\n",
    "- $s$ is the value of the first bit\n",
    "- $bias$ is equal to $127$ for single precision\n",
    "- $e$ is the integer represented by the 8 bits corresponding to the exponent, using the unsigned 8-bit integer representation (see Question 2)\n",
    "- $f$ is the fraction represented by the last 23 bits, where each bit represents a *negative* power of $2$, from $2^{-1}$ (first bit of the fraction from the left) to $2^{-23}$ (last bit)\n",
    "\n",
    "Below is a visualization of where $s$, $e$, and $f$ are stored within the binary string:\n",
    "\n",
    "<br>\n",
    "\n",
    "<center><figure>\n",
    "  <img src=\"https://docs.google.com/drawings/d/e/2PACX-1vSSZdTLRXoKavtLgSSGSW5AtrStxPn_EbjAr29RlSBd4CmcRhOixFL8lnav35QVN8PqsOxNvgJTTXSz/pub?w=1439&h=624\" style=\"width:40%\">\n",
    "    <figcaption style=\"text-align:center\"><strong>IEEE 754 Single Precision</strong></figcaption>   \n",
    "</figure></center>\n",
    "\n",
    "<br>\n",
    "\n",
    "The equation $(-1)^{\\color{blue}s} \\times 1.{\\color{red}f} \\times 2^{({\\color{green}e}-127)}$ applies only $\\text{if} \\; e \\ne 0 \\; \\text{and} \\; e \\ne 255$. IEEE has reserved some values for special cases, as shown below:\n",
    "\n",
    "$$\\begin{align}\n",
    "(-1)^{\\color{blue}s} \\times 0.{\\color{red}f} \\times 2^{-126} && \\text{if} \\; e = 0 \\; \\text{and} \\; f \\ne 0 \\\\\n",
    "0 && \\text{if} \\; e = 0 \\; \\text{and} \\; f = 0 \\\\\n",
    "(-1)^s \\times \\infty && \\text{if} \\; e = 255 \\; \\text{and} \\; f = 0 \\\\\n",
    "NaN \\;(\\text{Not a Number}) && \\text{if} \\; e = 255 \\; \\text{and} \\; f \\ne 0\n",
    "\\end{align}$$\n"
   ]
  },
  {
   "cell_type": "markdown",
   "metadata": {},
   "source": [
    "Write a function `Single2Decimal(binary)` that takes as input a character string of length 32 made of only zeros and ones (`binary`) and returns the floating point number (in base 10) that is represented by `binary` using the IEEE-754 32-bit single precision binary representation. \n",
    "\n",
    "Use `np.inf` as the infinite value and `np.nan` for quantities which are \"not a number\".\n",
    "\n",
    "Test your `Single2Decimal()` function for `'01010101010101010101010101010101'`. Assign the output to `q3_1`. Feel free to try it for other inputs.\n",
    "\n",
    "*Hint:* Use your function `Binary2Num()` to compute $e$.\n",
    "\n",
    "```\n",
    "Examples:\n",
    "\n",
    ">>> Single2Decimal('00111111111100000000000000000000')\n",
    "1.875\n",
    "\n",
    ">>> Single2Decimal('10111111000000000000000000000000')\n",
    "-0.5\n",
    "\n",
    ">>> Single2Decimal('00100000100000000000000000000001')\n",
    "2.1684046034649503e-19\n",
    "\n",
    ">>> Single2Decimal('11111111100000000000000000000000')\n",
    "-inf\n",
    "\n",
    ">>> Single2Decimal('11111111100000000000000000000001')\n",
    "nan\n",
    "\n",
    ">>> Single2Decimal('10111111010000000000000000000000')\n",
    "-0.75\n",
    "\n",
    ">>> Single2Decimal('00100000100000000000111000000001')\n",
    "2.1693310457510097e-19\n",
    "\n",
    "```"
   ]
  },
  {
   "cell_type": "code",
   "execution_count": null,
   "metadata": {
    "tags": []
   },
   "outputs": [],
   "source": [
    "# ANSWER CELL\n",
    "..."
   ]
  },
  {
   "cell_type": "code",
   "execution_count": null,
   "metadata": {
    "tags": []
   },
   "outputs": [],
   "source": [
    "# TEST YOUR FUNCTION HERE\n",
    "q3_1 = ...\n",
    "\n",
    "print(f'Decimal representation of the number: {q3_1}')"
   ]
  },
  {
   "cell_type": "code",
   "execution_count": null,
   "metadata": {
    "deletable": false,
    "editable": false
   },
   "outputs": [],
   "source": [
    "grader.check(\"q3.1\")"
   ]
  },
  {
   "cell_type": "markdown",
   "metadata": {},
   "source": [
    "### You're done with this Lab!\n",
    "\n",
    "**Important submission information:** After completing the assignment, click on the Save icon from the Tool Bar &nbsp;<i class=\"fa fa-save\" style=\"font-size:16px;\"></i>&nbsp;. After saving your notebook, **run the cell with** `grader.check_all()` and confirm that you pass the same tests as in the notebook. Then, **run the final cell** `grader.export()` and click the link to download the zip file. Then, go to Gradescope and submit the zip file to the corresponding assignment. \n",
    "\n",
    "**Once you have submitted, stay on the Gradescope page to confirm that you pass the same tests as in the notebook.**"
   ]
  },
  {
   "cell_type": "code",
   "execution_count": null,
   "metadata": {},
   "outputs": [],
   "source": [
    "import matplotlib.image as mpimg\n",
    "img = mpimg.imread('resources/animal.jpg')\n",
    "imgplot = plt.imshow(img)\n",
    "imgplot.axes.get_xaxis().set_visible(False)\n",
    "imgplot.axes.get_yaxis().set_visible(False)\n",
    "print(\"Congrats on finishing this lab!\")\n",
    "plt.show()"
   ]
  },
  {
   "cell_type": "markdown",
   "metadata": {
    "deletable": false,
    "editable": false
   },
   "source": [
    "---\n",
    "\n",
    "To double-check your work, the cell below will rerun all of the autograder tests."
   ]
  },
  {
   "cell_type": "code",
   "execution_count": null,
   "metadata": {
    "deletable": false,
    "editable": false
   },
   "outputs": [],
   "source": [
    "grader.check_all()"
   ]
  },
  {
   "cell_type": "markdown",
   "metadata": {
    "deletable": false,
    "editable": false
   },
   "source": [
    "## Submission\n",
    "\n",
    "Make sure you have run all cells in your notebook in order before running the cell below, so that all images/graphs appear in the output. The cell below will generate a zip file for you to submit. **Please save before exporting!**\n",
    "\n",
    "Make sure you submit the .zip file to Gradescope."
   ]
  },
  {
   "cell_type": "code",
   "execution_count": null,
   "metadata": {
    "deletable": false,
    "editable": false
   },
   "outputs": [],
   "source": [
    "# Save your notebook first, then run this cell to export your submission.\n",
    "grader.export(pdf=False)"
   ]
  },
  {
   "cell_type": "markdown",
   "metadata": {},
   "source": [
    " "
   ]
  }
 ],
 "metadata": {
  "anaconda-cloud": {},
  "kernelspec": {
   "display_name": "Python 3 (ipykernel)",
   "language": "python",
   "name": "python3"
  },
  "language_info": {
   "codemirror_mode": {
    "name": "ipython",
    "version": 3
   },
   "file_extension": ".py",
   "mimetype": "text/x-python",
   "name": "python",
   "nbconvert_exporter": "python",
   "pygments_lexer": "ipython3",
   "version": "3.11.11"
  },
  "otter": {
   "OK_FORMAT": true,
   "assignment_name": "lab05",
   "tests": {
    "q1.0": {
     "name": "q1.0",
     "points": 2,
     "suites": [
      {
       "cases": [
        {
         "code": ">>> \n>>> # Check students tested the function (type is not ellipsis)\n>>> assert get_hash(type(q1_0)) != '14e736438b115821cbb9b7ac0ba79034'\n",
         "failure_message": "Make sure to test your function!",
         "hidden": false,
         "locked": false,
         "points": 0.25
        },
        {
         "code": ">>> \n>>> error_message = ['N', 'MUST', 'POSITIVE','INTEGER']\n>>> # Test for positive and non-intger\n>>> random.seed(7) # specify seed so that all tests are based on the same numbers\n>>> for i in range (100): # test 100 randomly generated numbers\n...     assert get_hash(all([word in FibRec(random.uniform(-100, -0.0001)).upper() for word in error_message])) == 'f827cf462f62848df37c5e1e94a4da74'\n",
         "failure_message": "What if n is negative and non-integer?",
         "hidden": false,
         "locked": false,
         "points": 0.25
        },
        {
         "code": ">>> \n>>> error_message = ['N', 'MUST', 'POSITIVE']\n>>> # Test for negative only\n>>> random.seed(7) # specify seed so that all tests are based on the same numbers\n>>> for i in range (100): # test 100 randomly generated numbers\n...     assert get_hash(all([word in FibRec(random.uniform(-100, -1)).upper() for word in error_message])) == 'f827cf462f62848df37c5e1e94a4da74'\n",
         "failure_message": "What if n is negative?",
         "hidden": false,
         "locked": false,
         "points": 0.25
        },
        {
         "code": ">>> \n>>> error_message = ['N', 'MUST','INTEGER']\n>>> # Test for non-integer only\n>>> random.seed(7) # specify seed so that all tests are based on the same numbers\n>>> for i in range (100): # test 100 randomly generated numbers\n...     assert all([word in FibRec(random.uniform(0.0001, 100)).upper() for word in error_message])\n>>> assert all([word in FibRec(10.).upper() for word in error_message])    \n",
         "failure_message": "What if n is non-integer?",
         "hidden": false,
         "locked": false,
         "points": 0.25
        },
        {
         "code": ">>> \n>>> import inspect\n>>> assert any([True if FibRec.__name__ in line and '(' in line else False for line in inspect.getsourcelines(FibRec)[0][1:]])\n>>> assert all([False if 'for' in line else True for line in inspect.getsourcelines(FibRec)[0][1:]])\n>>> assert all([False if 'while' in line else True for line in inspect.getsourcelines(FibRec)[0][1:]])\n",
         "failure_message": "Your function should use recursion! for and while keywords are not allowed in the function (not even in comments)",
         "hidden": false,
         "locked": false,
         "points": 0
        },
        {
         "code": ">>> \n>>> # Test base-cases\n>>> assert get_hash(round(FibRec(0),5)) == 'cfcd208495d565ef66e7dff9f98764da'\n>>> assert get_hash(round(FibRec(1),5)) == 'c4ca4238a0b923820dcc509a6f75849b'\n>>> \n>>> import inspect\n>>> assert any([True if FibRec.__name__ in line and '(' in line else False for line in inspect.getsourcelines(FibRec)[0][1:]])\n>>> assert all([False if 'for' in line else True for line in inspect.getsourcelines(FibRec)[0][1:]])\n>>> assert all([False if 'while' in line else True for line in inspect.getsourcelines(FibRec)[0][1:]])\n",
         "failure_message": "Check the base cases",
         "hidden": false,
         "locked": false,
         "points": 0.5
        },
        {
         "code": ">>> \n>>> # Test for valid input n > 2\n>>> assert get_hash(round(FibRec(29),5)) == 'e26c8b70a0ac4b4fbb6e9579136338e7'\n>>> assert get_hash(round(FibRec(2),5)) == 'c4ca4238a0b923820dcc509a6f75849b'\n>>> assert get_hash(round(FibRec(3),5)) == 'c81e728d9d4c2f636f067f89cc14862c'\n>>> assert get_hash(round(FibRec(4),5)) == 'eccbc87e4b5ce2fe28308fd9f2a7baf3'\n>>> assert get_hash(round(FibRec(5),5)) == 'e4da3b7fbbce2345d7772b0674a318d5'\n>>> \n>>> import inspect\n>>> assert any([True if FibRec.__name__ in line and '(' in line else False for line in inspect.getsourcelines(FibRec)[0][1:]])\n>>> assert all([False if 'for' in line else True for line in inspect.getsourcelines(FibRec)[0][1:]])\n>>> assert all([False if 'while' in line else True for line in inspect.getsourcelines(FibRec)[0][1:]])\n",
         "failure_message": "Check the general case",
         "hidden": false,
         "locked": false,
         "points": 0.5
        }
       ],
       "scored": true,
       "setup": "",
       "teardown": "",
       "type": "doctest"
      }
     ]
    },
    "q1.1": {
     "name": "q1.1",
     "points": 1,
     "suites": [
      {
       "cases": [
        {
         "code": ">>> \n>>> # Check students tested the function (type is not ellipsis)\n>>> assert get_hash(type(q1_1)) != '14e736438b115821cbb9b7ac0ba79034'\n",
         "failure_message": "Make sure to test your function!",
         "hidden": false,
         "locked": false,
         "points": 0.2
        },
        {
         "code": ">>> # Test for valid input n > 2\n>>> assert get_hash(round(simpleFibRatio(29),5)) == '57662aaff0603ba873d19444ae440a49'\n>>> assert get_hash(round(simpleFibRatio(2),5)) == 'e4c2e8edac362acab7123654b9e73432'\n>>> assert get_hash(round(simpleFibRatio(3),5)) == 'd1bd83a33f1a841ab7fda32449746cc4'\n>>> assert get_hash(round(simpleFibRatio(4),5)) == '6008647277c4454cecd97d33c069f0ca'\n>>> assert get_hash(round(simpleFibRatio(5),5)) == '95df9c10da10397475f9b1897410e091'\n",
         "hidden": false,
         "locked": false
        },
        {
         "code": ">>> \n>>> # Test for invalid inputs and make sure an error is raised\n>>> try:\n...     simpleFibRatio(1)\n...     assert get_hash(2) == 'c4ca4238a0b923820dcc509a6f75849b' # assert fails\n... except ZeroDivisionError:\n...     assert get_hash(1) == 'c4ca4238a0b923820dcc509a6f75849b' # assert passes\n",
         "failure_message": "You should not handle any exceptions.",
         "hidden": false,
         "locked": false
        }
       ],
       "scored": true,
       "setup": "",
       "teardown": "",
       "type": "doctest"
      }
     ]
    },
    "q1.2": {
     "name": "q1.2",
     "points": 0.5,
     "suites": [
      {
       "cases": [
        {
         "code": ">>> \n>>> assert len(q1_2) == 1\n>>> assert isinstance(q1_2, str)\n",
         "failure_message": "Incorrect answer format. Make sure you only have the letter of your answer choice in quotes.",
         "hidden": false,
         "locked": false,
         "points": 0,
         "success_message": "Correct answer format. Note that the actual test is hidden."
        }
       ],
       "scored": true,
       "setup": "",
       "teardown": "",
       "type": "doctest"
      }
     ]
    },
    "q1.3": {
     "name": "q1.3",
     "points": 1,
     "suites": [
      {
       "cases": [
        {
         "code": ">>> \n>>> # Check students tested the function (type is not ellipsis)\n>>> assert get_hash(type(q1_3)) != '14e736438b115821cbb9b7ac0ba79034'\n",
         "failure_message": "Make sure to test your function!",
         "hidden": false,
         "locked": false,
         "points": 0
        },
        {
         "code": ">>> \n>>> # Test for valid input\n>>> assert get_hash(round(midFibRatio(29),5)) == '57662aaff0603ba873d19444ae440a49'\n>>> assert get_hash(round(midFibRatio(2),5)) == 'e4c2e8edac362acab7123654b9e73432'\n>>> assert get_hash(round(midFibRatio(3),5)) == 'd1bd83a33f1a841ab7fda32449746cc4'\n>>> assert get_hash(round(midFibRatio(4),5)) == '6008647277c4454cecd97d33c069f0ca'\n>>> assert get_hash(round(midFibRatio(5),5)) == '95df9c10da10397475f9b1897410e091'\n",
         "failure_message": "You should return r for valid input",
         "hidden": false,
         "locked": false,
         "points": 0.25
        },
        {
         "code": ">>> \n>>> # Test for nan\n>>> assert get_hash(round(midFibRatio(1),5)) == 'a3d2de7675556553a5f08e4c88d2c228'\n",
         "failure_message": "You should return np.nan for n = 1",
         "hidden": false,
         "locked": false,
         "points": 0.5
        },
        {
         "code": ">>> \n>>> # Test TypeError make sure an error is raised\n>>> try:\n...     midFibRatio(0)\n...     assert get_hash(2) == 'c4ca4238a0b923820dcc509a6f75849b' # assert fails\n... except TypeError:\n...     assert get_hash(1) == 'c4ca4238a0b923820dcc509a6f75849b' # assert passes\n",
         "failure_message": "You should only handle the error raised by simpleFibRatio(1) and not all errors",
         "hidden": false,
         "locked": false,
         "points": 0.25
        }
       ],
       "scored": true,
       "setup": "",
       "teardown": "",
       "type": "doctest"
      }
     ]
    },
    "q1.4": {
     "name": "q1.4",
     "points": 0.5,
     "suites": [
      {
       "cases": [
        {
         "code": ">>> \n>>> assert len(q1_4) == 1\n>>> assert isinstance(q1_4, str)\n",
         "failure_message": "Incorrect answer format. Make sure you only have the letter of your answer choice in quotes.",
         "hidden": false,
         "locked": false,
         "points": 0,
         "success_message": "Correct answer format. Note that the actual test is hidden."
        }
       ],
       "scored": true,
       "setup": "",
       "teardown": "",
       "type": "doctest"
      }
     ]
    },
    "q1.5": {
     "name": "q1.5",
     "points": 2,
     "suites": [
      {
       "cases": [
        {
         "code": ">>> \n>>> # Check students tested the function (type is not ellipsis)\n>>> assert get_hash(type(q1_5)) != '14e736438b115821cbb9b7ac0ba79034'\n",
         "failure_message": "Make sure to test your function!",
         "hidden": false,
         "locked": false,
         "points": 0.25
        },
        {
         "code": ">>> \n>>> # Test for valid input\n>>> assert get_hash(round(finalFibRatio(29),5)) == '57662aaff0603ba873d19444ae440a49'\n>>> assert get_hash(round(finalFibRatio(2),5)) == 'e4c2e8edac362acab7123654b9e73432'\n>>> assert get_hash(round(finalFibRatio(3),5)) == 'd1bd83a33f1a841ab7fda32449746cc4'\n>>> assert get_hash(round(finalFibRatio(4),5)) == '6008647277c4454cecd97d33c069f0ca'\n>>> assert get_hash(round(finalFibRatio(5),5)) == '95df9c10da10397475f9b1897410e091'\n",
         "failure_message": "You should return r for valid input",
         "hidden": false,
         "locked": false,
         "points": 0.25
        },
        {
         "code": ">>> \n>>> # Test for nan\n>>> assert get_hash(round(finalFibRatio(1),5)) == 'a3d2de7675556553a5f08e4c88d2c228'\n",
         "failure_message": "You should return np.nan for n = 1",
         "hidden": false,
         "locked": false,
         "points": 0.25
        },
        {
         "code": ">>> \n>>> # Test for -999\n>>> assert get_hash(finalFibRatio(-1)) == 'dc9a0d67a31dae74f0ae340fc5ebbddb'\n>>> assert get_hash(finalFibRatio(0)) == 'dc9a0d67a31dae74f0ae340fc5ebbddb'\n>>> assert get_hash(finalFibRatio(12.4)) == 'dc9a0d67a31dae74f0ae340fc5ebbddb'\n",
         "failure_message": "You should return -999 for non-positive or a fractional number",
         "hidden": false,
         "locked": false,
         "points": 1
        },
        {
         "code": ">>> \n>>> # Test RecursionError and make sure an error is raised\n>>> try:\n...     finalFibRatio(10**5)\n...     assert get_hash(2) == 'c4ca4238a0b923820dcc509a6f75849b' # assert fails\n... except RecursionError:\n...     assert get_hash(1) == 'c4ca4238a0b923820dcc509a6f75849b' # assert passes\n",
         "failure_message": "You should only handle the error raised by n = 1 and non-positive or a fractional number",
         "hidden": false,
         "locked": false,
         "points": 0.25
        }
       ],
       "scored": true,
       "setup": "",
       "teardown": "",
       "type": "doctest"
      }
     ]
    },
    "q2.0": {
     "name": "q2.0",
     "points": 5,
     "suites": [
      {
       "cases": [
        {
         "code": ">>> \n>>> # Check students tested the function (type is not ellipsis)\n>>> assert get_hash(type(q2_0)) != '14e736438b115821cbb9b7ac0ba79034'\n",
         "failure_message": "Make sure to test your function!",
         "hidden": false,
         "locked": false,
         "points": 0.25
        },
        {
         "code": ">>> \n>>> import inspect\n>>> assert all([False if 'int(binary, 2)' in line else True for line in inspect.getsourcelines(Binary2Num)[0][1:]])\n>>> assert all([False if 'int(binary' in line else True for line in inspect.getsourcelines(Binary2Num)[0][1:]])\n>>> assert all([False if 'int( binary' in line else True for line in inspect.getsourcelines(Binary2Num)[0][1:]])\n",
         "failure_message": "Do not use built-in functions that converts from binary to decimal (not even in the comments)",
         "hidden": false,
         "locked": false,
         "points": 0
        },
        {
         "code": ">>> \n>>> error_message = ['BINARY','STRING','LENGTH','8','MADE','ONLY','0','1']\n>>> # Test argument binary\n>>> assert get_hash(all([word in Binary2Num(binary='',representation='Sign').upper() for word in error_message])) == 'f827cf462f62848df37c5e1e94a4da74'\n>>> assert get_hash(all([word in Binary2Num(binary='100000011',representation='Sign').upper() for word in error_message])) == 'f827cf462f62848df37c5e1e94a4da74'\n>>> assert get_hash(all([word in Binary2Num(binary='10000001 ',representation='Sign').upper() for word in error_message])) == 'f827cf462f62848df37c5e1e94a4da74'\n>>> assert get_hash(all([word in Binary2Num(binary='1000000a',representation='Sign').upper() for word in error_message])) == 'f827cf462f62848df37c5e1e94a4da74'\n>>> assert get_hash(all([word in Binary2Num(binary='100.0001',representation='Sign').upper() for word in error_message])) == 'f827cf462f62848df37c5e1e94a4da74'\n",
         "failure_message": "Check invalid binary input message.",
         "hidden": false,
         "locked": false,
         "points": 0.5
        },
        {
         "code": ">>> \n>>> error_message = ['INVALID','REPRESENTATION']\n>>> # Test argument representation\n>>> assert get_hash(all([word in Binary2Num(binary='10000001', representation='').upper() for word in error_message])) == 'f827cf462f62848df37c5e1e94a4da74'\n>>> assert get_hash(all([word in Binary2Num(binary='10000001', representation='sign').upper() for word in error_message])) == 'f827cf462f62848df37c5e1e94a4da74'\n>>> assert get_hash(all([word in Binary2Num(binary='10000001', representation='un').upper() for word in error_message])) == 'f827cf462f62848df37c5e1e94a4da74'\n>>> assert get_hash(all([word in Binary2Num(binary='10000001', representation='TC ').upper() for word in error_message])) == 'f827cf462f62848df37c5e1e94a4da74'\n",
         "failure_message": "Check invalid repesentation message.",
         "hidden": false,
         "locked": false,
         "points": 0.5
        },
        {
         "code": ">>> \n>>> error_message = ['BINARY','STRING','LENGTH','8','MADE','ONLY','0','1']\n>>> # Test arguments binary and representation\n>>> assert get_hash(all([word in Binary2Num(binary='100000011',representation='').upper() for word in error_message])) == 'f827cf462f62848df37c5e1e94a4da74'\n",
         "failure_message": "Check invalid binary input message. You should check binary first and then repesentation.",
         "hidden": false,
         "locked": false,
         "points": 0.25
        },
        {
         "code": ">>> \n>>> # Test UnSign\n>>> assert get_hash(int(Binary2Num(binary='10000001',representation='UnSign'))) == 'd1f491a404d6854880943e5c3cd9ca25'\n>>> assert get_hash(int(Binary2Num(binary='11111111',representation='UnSign'))) == 'fe131d7f5a6b38b23cc967316c13dae2'\n>>> assert get_hash(int(Binary2Num(binary='00000000',representation='UnSign'))) == 'cfcd208495d565ef66e7dff9f98764da'\n>>> assert get_hash(int(Binary2Num(binary='01111110',representation='UnSign'))) == '069059b7ef840f0c74a814ec9237b6ec'\n>>> assert get_hash(int(Binary2Num(binary='01010101',representation='UnSign'))) == '3ef815416f775098fe977004015c6193'\n>>> assert get_hash(int(Binary2Num(binary='10101010',representation='UnSign'))) == '149e9677a5989fd342ae44213df68868'\n>>> \n>>> import inspect\n>>> assert all([False if 'int(binary, 2)' in line else True for line in inspect.getsourcelines(Binary2Num)[0][1:]])\n>>> assert all([False if 'int(binary' in line else True for line in inspect.getsourcelines(Binary2Num)[0][1:]])\n>>> assert all([False if 'int( binary' in line else True for line in inspect.getsourcelines(Binary2Num)[0][1:]])\n",
         "failure_message": "Check the UnSign representation.",
         "hidden": false,
         "locked": false,
         "points": 1
        },
        {
         "code": ">>> \n>>> # Test Sign\n>>> assert get_hash(int(Binary2Num(binary='10000001',representation='Sign'))) == '6bb61e3b7bce0931da574d19d1d82c88'\n>>> assert get_hash(int(Binary2Num(binary='11111111',representation='Sign'))) == '21b1992fa1b053b03c6b149ef2d9a8a8'\n>>> assert get_hash(int(Binary2Num(binary='00000000',representation='Sign'))) == 'cfcd208495d565ef66e7dff9f98764da'\n>>> assert get_hash(int(Binary2Num(binary='01111110',representation='Sign'))) == '069059b7ef840f0c74a814ec9237b6ec'\n>>> assert get_hash(int(Binary2Num(binary='01010101',representation='Sign'))) == '3ef815416f775098fe977004015c6193'\n>>> assert get_hash(int(Binary2Num(binary='10101010',representation='Sign'))) == '8dfcb89fd8620e3e7fb6a03a53f307dc'\n>>> \n>>> import inspect\n>>> assert all([False if 'int(binary, 2)' in line else True for line in inspect.getsourcelines(Binary2Num)[0][1:]])\n>>> assert all([False if 'int(binary' in line else True for line in inspect.getsourcelines(Binary2Num)[0][1:]])\n>>> assert all([False if 'int( binary' in line else True for line in inspect.getsourcelines(Binary2Num)[0][1:]])\n",
         "failure_message": "Check the Sign representation.",
         "hidden": false,
         "locked": false,
         "points": 1
        },
        {
         "code": ">>> \n>>> # Test Sign\n>>> assert get_hash(int(Binary2Num(binary='10000000',representation='Sign'))) == 'bb8a6de218bc9d8045e4cc5f62d7c32d'\n",
         "failure_message": "For Sign representation, 10000000 represents -128",
         "hidden": false,
         "locked": false,
         "points": 0.25
        },
        {
         "code": ">>> \n>>> # Test TC\n>>> assert get_hash(int(Binary2Num(binary='10000001',representation='TC'))) == '21b1992fa1b053b03c6b149ef2d9a8a8'\n>>> assert get_hash(int(Binary2Num(binary='11111111',representation='TC'))) == '6bb61e3b7bce0931da574d19d1d82c88'\n>>> assert get_hash(int(Binary2Num(binary='00000000',representation='TC'))) == 'cfcd208495d565ef66e7dff9f98764da'\n>>> assert get_hash(int(Binary2Num(binary='01111110',representation='TC'))) == '069059b7ef840f0c74a814ec9237b6ec'\n>>> assert get_hash(int(Binary2Num(binary='01010101',representation='TC'))) == '3ef815416f775098fe977004015c6193'\n>>> assert get_hash(int(Binary2Num(binary='10101010',representation='TC'))) == 'aa21e5886910db5cf181502a9dabc5ac'\n>>> \n>>> import inspect\n>>> assert all([False if 'int(binary, 2)' in line else True for line in inspect.getsourcelines(Binary2Num)[0][1:]])\n>>> assert all([False if 'int(binary' in line else True for line in inspect.getsourcelines(Binary2Num)[0][1:]])\n>>> assert all([False if 'int( binary' in line else True for line in inspect.getsourcelines(Binary2Num)[0][1:]])\n",
         "failure_message": "Check the TC representation.",
         "hidden": false,
         "locked": false,
         "points": 1.25
        }
       ],
       "scored": true,
       "setup": "",
       "teardown": "",
       "type": "doctest"
      }
     ]
    },
    "q2.1": {
     "name": "q2.1",
     "points": 3,
     "suites": [
      {
       "cases": [
        {
         "code": ">>> \n>>> # Check students tested the function (type is not ellipsis)\n>>> assert get_hash(type(q2_1)) != '14e736438b115821cbb9b7ac0ba79034'\n",
         "failure_message": "Make sure to test your function!",
         "hidden": false,
         "locked": false,
         "points": 0
        },
        {
         "code": ">>> \n>>> # Test UnSign\n>>> assert get_hash(int(BinaryComplement(binary='10000001',representation='UnSign'))) == '069059b7ef840f0c74a814ec9237b6ec'\n>>> assert get_hash(int(BinaryComplement(binary='11111111',representation='UnSign'))) == 'cfcd208495d565ef66e7dff9f98764da'\n>>> assert get_hash(int(BinaryComplement(binary='00000000',representation='UnSign'))) == 'fe131d7f5a6b38b23cc967316c13dae2'\n>>> assert get_hash(int(BinaryComplement(binary='01111110',representation='UnSign'))) == 'd1f491a404d6854880943e5c3cd9ca25'\n>>> assert get_hash(int(BinaryComplement(binary='01010101',representation='UnSign'))) == '149e9677a5989fd342ae44213df68868'\n>>> assert get_hash(int(BinaryComplement(binary='10101010',representation='UnSign'))) == '3ef815416f775098fe977004015c6193'\n",
         "failure_message": "Make sure you are getting the complement correctly. Also, check the UnSign representation.",
         "hidden": false,
         "locked": false,
         "points": 1
        },
        {
         "code": ">>> \n>>> # Test Sign\n>>> assert get_hash(int(BinaryComplement(binary='10000001',representation='Sign'))) == '069059b7ef840f0c74a814ec9237b6ec'\n>>> assert get_hash(int(BinaryComplement(binary='11111111',representation='Sign'))) == 'cfcd208495d565ef66e7dff9f98764da'\n>>> assert get_hash(int(BinaryComplement(binary='00000000',representation='Sign'))) == '21b1992fa1b053b03c6b149ef2d9a8a8'\n>>> assert get_hash(int(BinaryComplement(binary='01111110',representation='Sign'))) == '6bb61e3b7bce0931da574d19d1d82c88'\n>>> assert get_hash(int(BinaryComplement(binary='01010101',representation='Sign'))) == '8dfcb89fd8620e3e7fb6a03a53f307dc'\n>>> assert get_hash(int(BinaryComplement(binary='10101010',representation='Sign'))) == '3ef815416f775098fe977004015c6193'\n",
         "failure_message": "Make sure you are getting the complement correctly. Also, check the Sign representation.",
         "hidden": false,
         "locked": false,
         "points": 0.75
        },
        {
         "code": ">>> \n>>> # Test Sign\n>>> assert get_hash(int(BinaryComplement(binary='01111111',representation='Sign'))) == 'bb8a6de218bc9d8045e4cc5f62d7c32d'\n",
         "failure_message": "For Sign representation, 10000000 represents -128",
         "hidden": false,
         "locked": false,
         "points": 0.25
        },
        {
         "code": ">>> \n>>> # Test TC\n>>> assert get_hash(int(BinaryComplement(binary='01111110',representation='TC'))) == '21b1992fa1b053b03c6b149ef2d9a8a8'\n>>> assert get_hash(int(BinaryComplement(binary='00000000',representation='TC'))) == '6bb61e3b7bce0931da574d19d1d82c88'\n>>> assert get_hash(int(BinaryComplement(binary='11111111',representation='TC'))) == 'cfcd208495d565ef66e7dff9f98764da'\n>>> assert get_hash(int(BinaryComplement(binary='10000001',representation='TC'))) == '069059b7ef840f0c74a814ec9237b6ec'\n>>> assert get_hash(int(BinaryComplement(binary='10101010',representation='TC'))) == '3ef815416f775098fe977004015c6193'\n>>> assert get_hash(int(BinaryComplement(binary='01010101',representation='TC'))) == 'aa21e5886910db5cf181502a9dabc5ac'\n",
         "failure_message": "Make sure you are getting the complement correctly. Also, check the TC representation.",
         "hidden": false,
         "locked": false,
         "points": 1
        }
       ],
       "scored": true,
       "setup": "",
       "teardown": "",
       "type": "doctest"
      }
     ]
    },
    "q3.0": {
     "name": "q3.0",
     "points": 3,
     "suites": [
      {
       "cases": [
        {
         "code": ">>> \n>>> # Check students tested the function (type is not ellipsis)\n>>> assert get_hash(type(q3_0)) != '14e736438b115821cbb9b7ac0ba79034'\n",
         "failure_message": "Make sure to test your function!",
         "hidden": false,
         "locked": false,
         "points": 0.25
        },
        {
         "code": ">>> \n>>> # Test formatting of output\n>>> assert get_hash(type(CompareFloats(0,0,0))) == '22b3afce62075c7012f8e5041adfee16'\n>>> assert get_hash(type(CompareFloats(0,0,0)[0])) == '781f5f2052cfb496fa73d70ea1fbdaa8'\n>>> assert get_hash(type(CompareFloats(0,0,0)[1])) == '781f5f2052cfb496fa73d70ea1fbdaa8'\n",
         "failure_message": "Check output format. The output should be a tuple of two boolean values.",
         "hidden": false,
         "locked": false,
         "points": 0
        },
        {
         "code": ">>> \n>>> # Test exact\n>>> assert get_hash(CompareFloats(x=1,y=1,tol=1e-3)[0]) == 'f827cf462f62848df37c5e1e94a4da74'\n>>> assert get_hash(CompareFloats(x=1,y=2,tol=1e-3)[0]) == 'f8320b26d30ab433c5a54546d21f414c'\n>>> assert get_hash(CompareFloats(x=0+5,y=5,tol=1e-3)[0]) == 'f827cf462f62848df37c5e1e94a4da74'\n",
         "failure_message": "Check exact comparison.",
         "hidden": false,
         "locked": false,
         "points": 0.75
        },
        {
         "code": ">>> \n>>> # Test approx\n>>> assert get_hash(CompareFloats(x=1,y=1,tol=1e-3)[1]) == 'f827cf462f62848df37c5e1e94a4da74'\n>>> assert get_hash(CompareFloats(x=1,y=2,tol=1e-3)[1]) == 'f8320b26d30ab433c5a54546d21f414c'\n>>> assert get_hash(CompareFloats(x=1e-4,y=1e-5,tol=1e-4)[1]) == 'f827cf462f62848df37c5e1e94a4da74'\n>>> assert get_hash(CompareFloats(x=1e-4,y=1e-5,tol=1e-5)[1]) == 'f8320b26d30ab433c5a54546d21f414c'\n>>> assert get_hash(CompareFloats(x=-1e-4,y=0,tol=1e-4)[1]) == 'f827cf462f62848df37c5e1e94a4da74'\n>>> assert get_hash(CompareFloats(x=-1e-4,y=0,tol=1e-5)[1]) == 'f8320b26d30ab433c5a54546d21f414c'\n",
         "failure_message": "Check approximate comparison.",
         "hidden": false,
         "locked": false,
         "points": 1.5
        },
        {
         "code": ">>> \n>>> # Tests default values and variable names\n>>> assert get_hash(CompareFloats(1e-8,1.1e-8)[1]) == 'f827cf462f62848df37c5e1e94a4da74'\n>>> assert get_hash(CompareFloats(tol=1e-7,x=2e-6,y=2.01e-6)[0]) == 'f8320b26d30ab433c5a54546d21f414c'\n>>> assert get_hash(CompareFloats(tol=1e-7,x=2e-6,y=2.01e-6)[1]) == 'f827cf462f62848df37c5e1e94a4da74'\n",
         "failure_message": "Check default argument value.",
         "hidden": false,
         "locked": false,
         "points": 0.5
        }
       ],
       "scored": true,
       "setup": "",
       "teardown": "",
       "type": "doctest"
      }
     ]
    },
    "q3.1": {
     "name": "q3.1",
     "points": 7,
     "suites": [
      {
       "cases": [
        {
         "code": ">>> \n>>> # Check students tested the function (type is not ellipsis)\n>>> assert get_hash(type(q3_1)) != '14e736438b115821cbb9b7ac0ba79034', \"Make sure to test your function!\"\n",
         "failure_message": "Make sure to test your function!",
         "hidden": false,
         "locked": false,
         "points": 0.25
        },
        {
         "code": ">>> \n>>> # Test general case\n>>> assert get_hash(round(Single2Decimal('10111110000101010101110101100101'),15)) == '23739091b887b8f9fc4c9fe4e02436b2' \n>>> assert get_hash(round(Single2Decimal('10111110010101010101010101010101'),15)) == '9f60bfac8758d685ffd2e316ce568f7c'\n>>> assert get_hash(round(Single2Decimal('10111110001010101010101010101010'),15)) == 'cdef8ac4c13a0ae15e0fd43092e87dcb' \n>>> assert get_hash(round(Single2Decimal('00111110010101010101010101010101'),15)) == '7d3a7c924518ecd45ba72d83c1150478'\n>>> assert get_hash(round(Single2Decimal('00111110011111111111111111111111'),15)) == 'b3b8565ff58ee0679dbda39277f1274f'\n>>> assert get_hash(round(Single2Decimal('10111110000000000000000000000000'),15)) == 'f4ad12ca28d7185d06e97196e2e1cf36' \n>>> assert get_hash(round(float(Single2Decimal('11111111000000000000000000000000')),15)) == '0df947f284405c162ee14421cd47f061'\n>>> assert get_hash(round(float(Single2Decimal('01111111000000000000000000000000')),15)) == 'e8774d69bf49c6173d037382f2b2a748'\n>>> assert get_hash(round(float(Single2Decimal('00111111100000000000000000000000')),15)) == 'e4c2e8edac362acab7123654b9e73432'\n>>> assert get_hash(round(Single2Decimal('00111111111111111111111111111111'),15)) == '24570d1da2ec0afc011253668e27af0d'\n>>> assert get_hash(round(float(Single2Decimal('01010101000000000000000000000000')),15)) == '08a104b5fcc816f3500f32d0892440e2'\n>>> assert get_hash(round(Single2Decimal('00101010100000000000000000000000'),15)) == '7b5090a6b0a72cb37ff7d77629cfab32'\n",
         "failure_message": "Check the general equation when e!=0 and e!=255.",
         "hidden": false,
         "locked": false,
         "points": 3.75
        },
        {
         "code": ">>> \n>>> # Test 0\n>>> assert get_hash(float(Single2Decimal('10000000000000000000000000000000'))) == '30565a8911a6bb487e3745c0ea3c8224'\n>>> assert get_hash(float(Single2Decimal('00000000000000000000000000000000'))) == '30565a8911a6bb487e3745c0ea3c8224'\n",
         "failure_message": "Check when e=0 and f=0.",
         "hidden": false,
         "locked": false,
         "points": 0.5
        },
        {
         "code": ">>> \n>>> # Test inf\n>>> assert get_hash(Single2Decimal('11111111100000000000000000000000')) == '9c41dab8e025b5db402b00cface5d381'\n>>> assert get_hash(Single2Decimal('01111111100000000000000000000000')) == 'ee7b630995e7a36b6420696989441e2d'\n",
         "failure_message": "Check when e=255 and f=0.",
         "hidden": false,
         "locked": false,
         "points": 0.5
        },
        {
         "code": ">>> \n>>> # Test NaN\n>>> assert get_hash(Single2Decimal('11111111100000000000000000000001')) == 'a3d2de7675556553a5f08e4c88d2c228'\n>>> assert get_hash(Single2Decimal('01111111100000000000000000000001')) == 'a3d2de7675556553a5f08e4c88d2c228'\n>>> assert get_hash(Single2Decimal('11111111100110010000010000010001')) == 'a3d2de7675556553a5f08e4c88d2c228'\n",
         "failure_message": "Check when e=255 and f!=0.",
         "hidden": false,
         "locked": false,
         "points": 0.5
        },
        {
         "code": ">>> \n>>> # Test Denormalized \n>>> assert get_hash(round(math.log(Single2Decimal('00000000011101010101110101100101')))) == '3bc0d1e12f5876caa954e3abf1fd85ac'\n>>> assert get_hash(round(Single2Decimal('00000000011101010101110101100101')\\\n...       /10**(round(math.log10(Single2Decimal('00000000011101010101110101100101')))),15)) == '678c1ce283c6ffd2588c31c49d565873'\n",
         "failure_message": "Check order of magnitude when e=0 and f!=0",
         "hidden": false,
         "locked": false,
         "points": 1.5
        }
       ],
       "scored": true,
       "setup": "",
       "teardown": "",
       "type": "doctest"
      }
     ]
    }
   }
  }
 },
 "nbformat": 4,
 "nbformat_minor": 4
}
