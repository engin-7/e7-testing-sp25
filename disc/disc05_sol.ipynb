{
 "cells": [
  {
   "cell_type": "markdown",
   "id": "f133acb3",
   "metadata": {
    "id": "f133acb3"
   },
   "source": [
    "# E7 Discussion 5: Coding Challenge"
   ]
  },
  {
   "cell_type": "markdown",
   "id": "95b59811",
   "metadata": {
    "id": "95b59811"
   },
   "source": [
    "You are allowed to exchange ideas and work together with your discussion partner. The problems are designed to be challenging so do not feel discouraged if they take some time! The solution will be posted next week."
   ]
  },
  {
   "cell_type": "markdown",
   "id": "f13e4332",
   "metadata": {},
   "source": [
    "## Question 1: Number Mountain!\n",
    "\n",
    "Write a function <code>pyramid(n)</code> that takes as input a positive integer <code>n</code> and prints every integer up to the given number <code>n</code> such that each integer is repeated a number of times equal to its value.\n",
    "\n",
    "**Examples:**\n",
    "\n",
    "```\n",
    ">>> pyramid(4)\n",
    "1\n",
    "22\n",
    "333\n",
    "4444\n",
    "```\n",
    "\n",
    "\n",
    "```\n",
    ">>> pyramid(10)\n",
    "1\n",
    "22\n",
    "333\n",
    "4444\n",
    "55555\n",
    "666666\n",
    "7777777\n",
    "88888888\n",
    "999999999\n",
    "10101010101010101010\n",
    "```"
   ]
  },
  {
   "cell_type": "code",
   "execution_count": null,
   "id": "41b1c7c4",
   "metadata": {},
   "outputs": [],
   "source": [
    "# Solution\n",
    "\n",
    "def pyramid(n):\n",
    "    for i in range(1, n+1):\n",
    "        print(str(i)*i)\n",
    "\n",
    "pyramid(25)"
   ]
  },
  {
   "cell_type": "markdown",
   "id": "f599d2cb-f030-493e-a668-c1e6c67fd117",
   "metadata": {},
   "source": [
    "## Question 2: Streak Seeker – Finding the Longest Run\n",
    "\n",
    "A consecutive run is a list of adjacent, consecutive integers. This list can be either increasing or decreasing. For example, `[5, 6, 7, 8, 9]` is a consecutive run of length 5, `[5, 4, 3]` is a consecutive run of length 3, whereas `[3, 5, 7, 10, 15]` is not a consecutive run. If we consider the list `[3, 4, 5, 7, 14, 15]`, it has two consecutive runs: `[3, 4, 5]` and `[14, 15]`, where `[3, 4, 5]` is the longest consecutive run with length 3.\n",
    "\n",
    "Write a function `run(lst)` that finds the longest consecutive run in a list of numbers `lst`, which can be either in ascending or descending order, and returns its length.\n",
    "\n",
    "*Note that you can have both increasing and decreasing numbers in the same consecutive run, as long as they are consecutive integers.*\n",
    "\n",
    "**Examples:**\n",
    "\n",
    "```\n",
    ">>> run([1, 2, 3, 5, 6, 7, 8, 9]) # Two consecutive runs: [1, 2, 3] and [5, 6, 7, 8, 9] (longest)\n",
    "5\n",
    "```\n",
    "\n",
    "\n",
    "```\n",
    ">>> run([5, 4, 2, 1]) # Two consecutive runs of the same length: [5, 4] and [2, 1]\n",
    "2\n",
    "```\n",
    "\n",
    "```\n",
    ">>> run([3, 5, 7, 10, 15]) # No consecutive runs, so return 1\n",
    "1\n",
    "```\n",
    "\n",
    "```\n",
    ">>> run([1, 2, 3, 2, 1]) # One consecutive run with both increasing and decreasing numbers\n",
    "5\n",
    "```"
   ]
  },
  {
   "cell_type": "code",
   "execution_count": null,
   "id": "2236b2f8-a7c3-4db0-860d-bcb6a4d62c5d",
   "metadata": {},
   "outputs": [],
   "source": [
    "# Solution\n",
    "\n",
    "def run(lst):\n",
    "    \n",
    "    max_run = 1  # Initialize the maximum run length to 1.\n",
    "    current_run = 1  # Initialize the current run length to 1.\n",
    "    \n",
    "    # Iterate through the list starting from the second element.\n",
    "    for i in range(1, len(lst)):\n",
    "        # Check if the current number is consecutive to the previous number (ascending or descending).\n",
    "        if lst[i] == lst[i - 1] + 1 or lst[i] == lst[i - 1] - 1:\n",
    "            current_run += 1  # Increment the current run length.\n",
    "        else:\n",
    "            # If the current number is not consecutive, update the maximum run length if needed.\n",
    "            max_run_ = max(max_run, current_run)\n",
    "            current_run = 1  # Reset the current run length to 1.\n",
    "    \n",
    "    # After the loop, return the maximum run length found.\n",
    "    return max(max_run, current_run)\n",
    "\n",
    "run([1, 2, 3, 2, 1])"
   ]
  },
  {
   "cell_type": "markdown",
   "id": "7120eea2-04fd-468c-ad15-87f75931af21",
   "metadata": {},
   "source": [
    "## Question 3: Palindrome\n",
    "\n",
    "A palindrome is a word or number that reads the same backward or forward. Here are some examples:\n",
    "\n",
    "- `\"racecar\"`\n",
    "- `\"level\"`\n",
    "- `\"12321\"`\n",
    "- `\"1881\"`\n",
    "\n",
    "Write a **recursive** function that checks if a given `string` is a palindrome.\n",
    "\n",
    "Hints:\n",
    "- Your function should return `True` if the input is a palindrome and `False` if it is not.\n",
    "- Consider strings with 1 element to be a palindrome.\n",
    "- Negative indexing might be helpful!"
   ]
  },
  {
   "cell_type": "code",
   "execution_count": null,
   "id": "85dee279-c108-4505-800b-257a4488fa68",
   "metadata": {},
   "outputs": [],
   "source": [
    "# Solution\n",
    "\n",
    "def is_palindrome(string):\n",
    "    if len(string) <= 1:\n",
    "        return True\n",
    "    if string[0] != string[-1]:\n",
    "        return False\n",
    "    return is_palindrome(string[1:-1])\n",
    "\n",
    "\n",
    "is_palindrome('level')"
   ]
  }
 ],
 "metadata": {
  "kernelspec": {
   "display_name": "Python 3 (ipykernel)",
   "language": "python",
   "name": "python3"
  },
  "language_info": {
   "codemirror_mode": {
    "name": "ipython",
    "version": 3
   },
   "file_extension": ".py",
   "mimetype": "text/x-python",
   "name": "python",
   "nbconvert_exporter": "python",
   "pygments_lexer": "ipython3",
   "version": "3.11.9"
  }
 },
 "nbformat": 4,
 "nbformat_minor": 5
}
