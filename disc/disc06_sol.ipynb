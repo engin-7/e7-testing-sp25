{
 "cells": [
  {
   "cell_type": "markdown",
   "id": "f133acb3",
   "metadata": {
    "id": "f133acb3"
   },
   "source": [
    "# E7 Discussion 6: Coding Challenge"
   ]
  },
  {
   "cell_type": "markdown",
   "id": "95b59811",
   "metadata": {
    "id": "95b59811"
   },
   "source": [
    "You are allowed to exchange ideas and work together with your discussion partner. The problems are designed to be challenging so do not feel discouraged if they take some time! The solution will be posted next week."
   ]
  },
  {
   "cell_type": "markdown",
   "id": "f13e4332",
   "metadata": {},
   "source": [
    "## Question 1: Unsigned Binary to Decimal\n",
    "\n",
    "Write a function <code>binary_to_decimal(binary_str)</code> that takes as input a string representing an <b>unsigned</b> binary number and returns an integer of its decimal equivalent without using built-in conversion functions.\n",
    "\n",
    "**Examples:**\n",
    "\n",
    "```\n",
    ">>> binary_to_decimal(\"10\")\n",
    "2\n",
    "```\n",
    "\n",
    "\n",
    "```\n",
    ">>> binary_to_decimal(\"101010\")\n",
    "42\n",
    "```"
   ]
  },
  {
   "cell_type": "code",
   "execution_count": null,
   "id": "d653e043-e8b7-4ae1-b72f-0a7aea2102e3",
   "metadata": {},
   "outputs": [],
   "source": []
  },
  {
   "cell_type": "code",
   "execution_count": null,
   "id": "41b1c7c4",
   "metadata": {},
   "outputs": [],
   "source": [
    "# Solution 1\n",
    "\n",
    "def binary_to_decimal(binary_str):\n",
    "    decimal_num = 0\n",
    "    for i in range(len(binary_str)-1, -1, -1):\n",
    "        if binary_str[i] == '1':\n",
    "            decimal_num += 2**(len(binary_str) - 1 - i)\n",
    "    return decimal_num\n",
    "\n",
    "binary_to_decimal(\"101010\")"
   ]
  },
  {
   "cell_type": "code",
   "execution_count": null,
   "id": "4eb79ad9-818f-405e-a629-4ec98c4ea181",
   "metadata": {},
   "outputs": [],
   "source": [
    "# Solution 2\n",
    "\n",
    "def binary_to_decimal(binary_str):\n",
    "    decimal_num = 0\n",
    "    for i in range(len(binary_str)):\n",
    "        if binary_str[len(binary_str)-1-i] == '1':\n",
    "            decimal_num += 2**i\n",
    "    return decimal_num\n",
    "\n",
    "binary_to_decimal(\"101010\")"
   ]
  },
  {
   "cell_type": "code",
   "execution_count": null,
   "id": "1f2b21c1-3824-4074-ace2-088f9f5041a8",
   "metadata": {},
   "outputs": [],
   "source": [
    "# Solution 3\n",
    "\n",
    "binary_to_decimal = lambda binary_str: sum([2**(len(binary_str)-1-i) if d=='1' else 0 for i,d in enumerate(binary_str)])\n",
    "\n",
    "binary_to_decimal(\"101010\")"
   ]
  },
  {
   "cell_type": "markdown",
   "id": "f599d2cb-f030-493e-a668-c1e6c67fd117",
   "metadata": {},
   "source": [
    "## Question 2: Decimal to Unsigned Binary\n",
    "\n",
    "Write a function <code>decimal_to_binary(decimal_num)</code> that takes as input an integer representing a number in decimal representation and returns a string of its <b>unsigned</b> binary representation without using built-in conversion functions.\n",
    "\n",
    "**Examples:**\n",
    "\n",
    "```\n",
    ">>> binary_to_decimal(2)\n",
    "'10'\n",
    "```\n",
    "\n",
    "\n",
    "```\n",
    ">>> binary_to_decimal(42)\n",
    "'101010'\n",
    "```"
   ]
  },
  {
   "cell_type": "code",
   "execution_count": null,
   "id": "307ccc22-c355-4a75-8f05-31dac2dd1244",
   "metadata": {},
   "outputs": [],
   "source": []
  },
  {
   "cell_type": "code",
   "execution_count": null,
   "id": "2236b2f8-a7c3-4db0-860d-bcb6a4d62c5d",
   "metadata": {},
   "outputs": [],
   "source": [
    "# Solution\n",
    "\n",
    "def decimal_to_binary(decimal_num):\n",
    "    if decimal_num == 0:\n",
    "        return \"0\"\n",
    "    binary_str = \"\"\n",
    "    while decimal_num > 0:\n",
    "        remainder = decimal_num % 2\n",
    "        binary_str = str(remainder) + binary_str\n",
    "        decimal_num //= 2\n",
    "    return binary_str\n",
    "\n",
    "decimal_to_binary(42)"
   ]
  }
 ],
 "metadata": {
  "kernelspec": {
   "display_name": "Python 3 (ipykernel)",
   "language": "python",
   "name": "python3"
  },
  "language_info": {
   "codemirror_mode": {
    "name": "ipython",
    "version": 3
   },
   "file_extension": ".py",
   "mimetype": "text/x-python",
   "name": "python",
   "nbconvert_exporter": "python",
   "pygments_lexer": "ipython3",
   "version": "3.12.4"
  }
 },
 "nbformat": 4,
 "nbformat_minor": 5
}
